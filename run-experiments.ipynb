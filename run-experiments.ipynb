{
 "cells": [
  {
   "cell_type": "code",
   "execution_count": 2,
   "metadata": {},
   "outputs": [],
   "source": [
    "import configparser\n",
    "import os\n",
    "import subprocess"
   ]
  },
  {
   "cell_type": "code",
   "execution_count": 6,
   "metadata": {},
   "outputs": [
    {
     "name": "stdout",
     "output_type": "stream",
     "text": [
      "Experiment 1 succeeded!\n",
      "Experiment 2 succeeded!\n"
     ]
    }
   ],
   "source": [
    "experiments = {\n",
    "    1: {\n",
    "        \"args\": {\n",
    "            \"dataset\": \"dna\",\n",
    "            \"random_seed\": 42,\n",
    "        },\n",
    "        \"changes-to-params\": {\n",
    "            \"default\": {},\n",
    "            \"dna\": {\n",
    "                \"n_trials\": 2,\n",
    "                \"budget\": 5,\n",
    "                \"model_name\": \"SVM\"\n",
    "            }\n",
    "        }\n",
    "    },\n",
    "    2: {\n",
    "        \"args\": {\n",
    "            \"dataset\": \"dna\",\n",
    "            \"random_seed\": 101,\n",
    "        },\n",
    "        \"changes-to-params\": {\n",
    "            \"default\": {},\n",
    "            \"dna\": {\n",
    "                \"n_trials\": 1,\n",
    "                \"budget\": 5,\n",
    "                \"model_name\": \"MLR\"\n",
    "            }\n",
    "        }\n",
    "    },\n",
    "    # U can add more experiments here. For example:\n",
    "    # 3: {...}\n",
    "}\n",
    "\n",
    "for number, experiment in experiments.items():\n",
    "    args = experiment[\"args\"]\n",
    "    changes_to_params = experiment[\"changes-to-params\"]\n",
    "    # Run experiment here\n",
    "    try:\n",
    "        dataset_name = args['dataset']\n",
    "        random_seed = args['random_seed']\n",
    "        # Load the configuration file\n",
    "        config = configparser.ConfigParser()\n",
    "        root_dir = os.getcwd()\n",
    "        params_path = os.path.join(root_dir, 'params.ini')\n",
    "        params_path = os.path.normpath(params_path)\n",
    "        config.read(params_path)\n",
    "        # Update the desired configurations in DEFAULT section\n",
    "        for key, value in changes_to_params['default'].items():\n",
    "            config['DEFAULT'][key] = str(value)\n",
    "        for key, value in changes_to_params[dataset_name].items():\n",
    "            config[dataset_name.upper()][key] = str(value)\n",
    "        # Save the changes back to the file\n",
    "        with open(params_path, 'w') as configfile:\n",
    "            config.write(configfile)\n",
    "        # Run the experiment\n",
    "        # Command to run the Python file with arguments\n",
    "        command = f\"python main.py --r {random_seed} --d {dataset_name}\"\n",
    "        # Execute the command in the terminal\n",
    "        subprocess.run(command, shell=True)\n",
    "        print(f\"Experiment {number} succeeded!\")\n",
    "    except Exception as e:\n",
    "        print(f\"Experiment {number} failed with error: {e}\")"
   ]
  },
  {
   "cell_type": "code",
   "execution_count": null,
   "metadata": {},
   "outputs": [],
   "source": []
  }
 ],
 "metadata": {
  "kernelspec": {
   "display_name": "ml_lab_venv",
   "language": "python",
   "name": "python3"
  },
  "language_info": {
   "codemirror_mode": {
    "name": "ipython",
    "version": 3
   },
   "file_extension": ".py",
   "mimetype": "text/x-python",
   "name": "python",
   "nbconvert_exporter": "python",
   "pygments_lexer": "ipython3",
   "version": "3.11.3"
  }
 },
 "nbformat": 4,
 "nbformat_minor": 2
}
