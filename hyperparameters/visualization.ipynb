{
 "cells": [
  {
   "cell_type": "code",
   "execution_count": 52,
   "metadata": {},
   "outputs": [],
   "source": [
    "import pandas as pd\n",
    "import numpy as np\n",
    "import matplotlib.pyplot as plt\n",
    "import plotly.express as px\n",
    "import plotly.graph_objects as go\n",
    "import plotly.io as pio\n",
    "from plotly.subplots import make_subplots\n",
    "import math\n",
    "from scipy.stats import norm"
   ]
  },
  {
   "cell_type": "code",
   "execution_count": 53,
   "metadata": {},
   "outputs": [
    {
     "data": {
      "text/html": [
       "<div>\n",
       "<style scoped>\n",
       "    .dataframe tbody tr th:only-of-type {\n",
       "        vertical-align: middle;\n",
       "    }\n",
       "\n",
       "    .dataframe tbody tr th {\n",
       "        vertical-align: top;\n",
       "    }\n",
       "\n",
       "    .dataframe thead th {\n",
       "        text-align: right;\n",
       "    }\n",
       "</style>\n",
       "<table border=\"1\" class=\"dataframe\">\n",
       "  <thead>\n",
       "    <tr style=\"text-align: right;\">\n",
       "      <th></th>\n",
       "      <th>dataset_name</th>\n",
       "      <th>reg_type</th>\n",
       "      <th>reg_val</th>\n",
       "      <th>loss</th>\n",
       "      <th>seed</th>\n",
       "      <th>data_size_pct</th>\n",
       "      <th>val_acc</th>\n",
       "      <th>lr</th>\n",
       "    </tr>\n",
       "  </thead>\n",
       "  <tbody>\n",
       "    <tr>\n",
       "      <th>0</th>\n",
       "      <td>twomoons</td>\n",
       "      <td>dropout</td>\n",
       "      <td>0.0</td>\n",
       "      <td>0.337536</td>\n",
       "      <td>1</td>\n",
       "      <td>1</td>\n",
       "      <td>0.817708</td>\n",
       "      <td>0.0001</td>\n",
       "    </tr>\n",
       "    <tr>\n",
       "      <th>1</th>\n",
       "      <td>twomoons</td>\n",
       "      <td>dropout</td>\n",
       "      <td>0.0</td>\n",
       "      <td>0.335610</td>\n",
       "      <td>1</td>\n",
       "      <td>2</td>\n",
       "      <td>0.801809</td>\n",
       "      <td>0.0100</td>\n",
       "    </tr>\n",
       "    <tr>\n",
       "      <th>2</th>\n",
       "      <td>twomoons</td>\n",
       "      <td>dropout</td>\n",
       "      <td>0.0</td>\n",
       "      <td>0.301896</td>\n",
       "      <td>1</td>\n",
       "      <td>3</td>\n",
       "      <td>0.871711</td>\n",
       "      <td>0.0010</td>\n",
       "    </tr>\n",
       "    <tr>\n",
       "      <th>3</th>\n",
       "      <td>twomoons</td>\n",
       "      <td>dropout</td>\n",
       "      <td>0.0</td>\n",
       "      <td>0.120785</td>\n",
       "      <td>1</td>\n",
       "      <td>4</td>\n",
       "      <td>0.929002</td>\n",
       "      <td>0.0010</td>\n",
       "    </tr>\n",
       "    <tr>\n",
       "      <th>4</th>\n",
       "      <td>twomoons</td>\n",
       "      <td>dropout</td>\n",
       "      <td>0.0</td>\n",
       "      <td>0.210344</td>\n",
       "      <td>1</td>\n",
       "      <td>5</td>\n",
       "      <td>0.947094</td>\n",
       "      <td>0.0100</td>\n",
       "    </tr>\n",
       "  </tbody>\n",
       "</table>\n",
       "</div>"
      ],
      "text/plain": [
       "  dataset_name reg_type  reg_val      loss  seed  data_size_pct   val_acc  \\\n",
       "0     twomoons  dropout      0.0  0.337536     1              1  0.817708   \n",
       "1     twomoons  dropout      0.0  0.335610     1              2  0.801809   \n",
       "2     twomoons  dropout      0.0  0.301896     1              3  0.871711   \n",
       "3     twomoons  dropout      0.0  0.120785     1              4  0.929002   \n",
       "4     twomoons  dropout      0.0  0.210344     1              5  0.947094   \n",
       "\n",
       "       lr  \n",
       "0  0.0001  \n",
       "1  0.0100  \n",
       "2  0.0010  \n",
       "3  0.0010  \n",
       "4  0.0100  "
      ]
     },
     "execution_count": 53,
     "metadata": {},
     "output_type": "execute_result"
    }
   ],
   "source": [
    "# df = pd.read_csv(\"C:\\\\Users\\\\Amir Hossein\\\\Downloads\\\\cres\\\\splice_l2_results.csv\", header=0, index_col=None)\n",
    "# df = pd.read_csv(\"C:\\\\Users\\\\Amir Hossein\\\\Downloads\\\\cres\\\\splice_dropout_results.csv\", header=0, index_col=None)\n",
    "\n",
    "# df = pd.read_csv(\"C:\\\\Users\\\\Amir Hossein\\\\Downloads\\\\cres\\\\dna_l2_results.csv\", header=0, index_col=None)\n",
    "# df = pd.read_csv(\"C:\\\\Users\\\\Amir Hossein\\\\Downloads\\\\cres\\\\dna_dropout_results.csv\", header=0, index_col=None)\n",
    "\n",
    "# df = pd.read_csv(\"C:\\\\Users\\\\Amir Hossein\\\\Downloads\\\\cres\\\\twomoons_l2_results.csv\", header=0, index_col=None)\n",
    "df = pd.read_csv(\"C:\\\\Users\\\\Amir Hossein\\\\Downloads\\\\cres\\\\twomoons_dropout_results.csv\", header=0, index_col=None)\n",
    "\n",
    "dataset = df.loc[df.groupby([\"dataset_name\", \"reg_type\", \"reg_val\", \"seed\", \"data_size_pct\"])[\"loss\"].idxmin()].reset_index(drop=True)\n",
    "dataset.head()"
   ]
  },
  {
   "cell_type": "markdown",
   "metadata": {},
   "source": [
    "### visualization"
   ]
  },
  {
   "cell_type": "code",
   "execution_count": 54,
   "metadata": {},
   "outputs": [],
   "source": [
    "dataset_name = dataset['dataset_name'].unique().item()\n",
    "# print(dataset_name)\n",
    "\n",
    "if dataset['reg_type'].unique().item() == 'l2':\n",
    "    reg_type = 'l2'\n",
    "    log_scale = True\n",
    "    \n",
    "else:\n",
    "    reg_type = 'dropout'\n",
    "    log_scale = False"
   ]
  },
  {
   "cell_type": "code",
   "execution_count": 55,
   "metadata": {},
   "outputs": [],
   "source": [
    "def plot_3d_surface_with_avg(dataset, x_col, y_col, z_col, log_x=False, log_y=False, log_z=False):\n",
    "    # Group by x and y and compute the mean of the z column\n",
    "    df_grouped = dataset.groupby([x_col, y_col])[[z_col, \"lr\"]].mean().reset_index()\n",
    "\n",
    "    # Pivot the grouped data to get the correct format for the surface plot\n",
    "    df_pivot = df_grouped.pivot(index=y_col, columns=x_col, values=z_col)\n",
    "\n",
    "    # Create x, y, z values for the surface plot\n",
    "    x_vals = df_pivot.columns\n",
    "    y_vals = df_pivot.index\n",
    "    z_vals = df_pivot.values\n",
    "\n",
    "    # Create a 3D surface plot with opacity set to 0.6 and contours on the z-axis\n",
    "    surface = go.Surface(\n",
    "        z=z_vals, \n",
    "        x=x_vals, \n",
    "        y=y_vals, \n",
    "        opacity=0.9, \n",
    "        colorscale='Jet',\n",
    "        contours={\n",
    "            \"z\": {\n",
    "                \"show\": True,  # Enable contour lines on the z-axis\n",
    "                # \"project\": {\"z\": True},  # Project contour lines onto the z-plane\n",
    "                \"color\": \"black\",  # Color of the contour lines\n",
    "                \"width\": 2  # Thickness of the contour lines\n",
    "            }\n",
    "        }\n",
    "    )\n",
    "\n",
    "    # Add a 3D scatter plot with the same data points\n",
    "    scatter_data = go.Scatter3d(\n",
    "        x=df_grouped[x_col], \n",
    "        y=df_grouped[y_col], \n",
    "        z=df_grouped[z_col],\n",
    "        mode='markers',\n",
    "        marker=dict(size=5, color=df_grouped[z_col], colorscale='Jet', opacity=0.9),\n",
    "        hovertext=[\n",
    "            f\"{x_col}: {x}<br>{y_col}: {y}<br>{z_col}: {z}<br>Learning Rate: {lr}\"\n",
    "            for x, y, z, lr in zip(df_grouped[x_col], df_grouped[y_col], df_grouped[z_col], df_grouped[\"lr\"])\n",
    "        ],\n",
    "        hoverinfo=\"text\"\n",
    "    )\n",
    "\n",
    "    # Identify the row with the minimum z_col value\n",
    "    min_row = df_grouped.loc[df_grouped[z_col].idxmin()]\n",
    "\n",
    "    # Create a separate scatter trace for the minimum loss point with a black marker\n",
    "    min_scatter = go.Scatter3d(\n",
    "        x=[min_row[x_col]],\n",
    "        y=[min_row[y_col]],\n",
    "        z=[min_row[z_col]],\n",
    "        mode='markers',\n",
    "        marker=dict(size=8, color='red'),\n",
    "        hovertext=f\"Minimum {z_col}: {min_row[z_col]}<br>{x_col}: {min_row[x_col]}<br>{y_col}: {min_row[y_col]}<br>Learning Rate: {min_row['lr']}\",\n",
    "        hoverinfo=\"text\"\n",
    "        # name='Minimum Loss'\n",
    "    )\n",
    "\n",
    "    # Create the figure and add the surface, scatter plot, and min scatter plot\n",
    "    fig = go.Figure(data=[surface, scatter_data, min_scatter])\n",
    "\n",
    "    # Update axis types to logarithmic if requested\n",
    "    axis_settings = dict(\n",
    "        xaxis=dict(title=x_col, type='log' if log_x else 'linear'),\n",
    "        yaxis=dict(title=y_col, type='log' if log_y else 'linear'),\n",
    "        zaxis=dict(title=z_col, type='log' if log_z else 'linear')\n",
    "    )\n",
    "\n",
    "    # Update the layout for better visualization\n",
    "    fig.update_layout(\n",
    "        width=800,\n",
    "        height=600,\n",
    "        scene=dict(\n",
    "            aspectratio=dict(x=1.25, y=1, z=1),\n",
    "            xaxis=axis_settings['xaxis'],\n",
    "            yaxis=axis_settings['yaxis'],\n",
    "            zaxis=axis_settings['zaxis']\n",
    "        ),\n",
    "        margin=dict(l=0.5, r=0.5, b=50, t=50),\n",
    "        title=f'{dataset_name.upper()}. {reg_type.upper()}. {z_col} as a function of {x_col} and {y_col})' \n",
    "    )\n",
    "\n",
    "    # Show the plot\n",
    "    fig.show()\n",
    "    return fig\n",
    "\n"
   ]
  },
  {
   "cell_type": "code",
   "execution_count": 56,
   "metadata": {},
   "outputs": [
    {
     "data": {
      "application/vnd.plotly.v1+json": {
       "config": {
        "plotlyServerURL": "https://plot.ly"
       },
       "data": [
        {
         "colorscale": [
          [
           0,
           "rgb(0,0,131)"
          ],
          [
           0.2,
           "rgb(0,60,170)"
          ],
          [
           0.4,
           "rgb(5,255,255)"
          ],
          [
           0.6,
           "rgb(255,255,0)"
          ],
          [
           0.8,
           "rgb(250,0,0)"
          ],
          [
           1,
           "rgb(128,0,0)"
          ]
         ],
         "contours": {
          "z": {
           "color": "black",
           "show": true,
           "width": 2
          }
         },
         "opacity": 0.9,
         "type": "surface",
         "x": [
          1,
          2,
          3,
          4,
          5,
          6,
          7,
          8,
          9,
          10,
          20,
          30,
          40,
          50,
          60,
          70,
          80,
          90,
          100
         ],
         "y": [
          0,
          0.1,
          0.3,
          0.5,
          0.6,
          0.7,
          0.8
         ],
         "z": [
          [
           0.3449069579180918,
           0.29227248091708147,
           0.2660505767821808,
           0.22876261630403938,
           0.230414863525514,
           0.21178034031355195,
           0.17356953335795222,
           0.11503423973917955,
           0.11910526910469979,
           0.11645971656319468,
           0.0885187165558403,
           0.08669912310055732,
           0.08481200908621146,
           0.0840116439223812,
           0.08192123684607311,
           0.08118025562562567,
           0.08068004639639531,
           0.08032230735070216,
           0.0808774284234172
          ],
          [
           0.3472520126323951,
           0.30527383564857014,
           0.26464012561921485,
           0.21585090030965048,
           0.2273503901322552,
           0.21024198126243915,
           0.18838421915608797,
           0.10985173191221656,
           0.12519789443498375,
           0.11689296763864129,
           0.08956461708518886,
           0.08735948049120208,
           0.08503723437407687,
           0.08342090659333684,
           0.0824191223266289,
           0.08199997004856792,
           0.08084554377240696,
           0.080648108519483,
           0.08040090513807766
          ],
          [
           0.3427889386551422,
           0.29949371602974434,
           0.2793227759434988,
           0.2514276706205125,
           0.25838213627014245,
           0.24570315963866415,
           0.241895454213546,
           0.1236909779785364,
           0.14229784562628256,
           0.13823347388554294,
           0.09558020398559927,
           0.08902961747034596,
           0.08537313730063793,
           0.08442975140438133,
           0.08295268947095198,
           0.08169611759173369,
           0.08130608638911913,
           0.08079487497738574,
           0.07999513140601805
          ],
          [
           0.3697574505419062,
           0.3023370553265538,
           0.29005884962123735,
           0.2726693048288948,
           0.2835237092877689,
           0.2760309468628021,
           0.27524534767134146,
           0.20033505150492772,
           0.18947047123260663,
           0.19544516934506723,
           0.10280618520061431,
           0.09285342651174251,
           0.08909044246058581,
           0.08466125909288066,
           0.08285481724234521,
           0.0832598740390191,
           0.0820457267534118,
           0.0818103794253578,
           0.08095466735233597
          ],
          [
           0.41487027140040145,
           0.3402175267276011,
           0.3172692771020688,
           0.2889564472593759,
           0.2870172238402199,
           0.2897010404289814,
           0.28656301568997533,
           0.23924731399145038,
           0.23681804139101711,
           0.2451895345721328,
           0.12283626329153771,
           0.10083324829149136,
           0.09219326224145392,
           0.08981393719288075,
           0.08771831381641193,
           0.08653306394831779,
           0.08416080776553007,
           0.08287491902725343,
           0.08386548493841757
          ],
          [
           0.6015439757129603,
           0.4307564999450717,
           0.34976991015045267,
           0.33561505432191646,
           0.33093522158369676,
           0.31970332547237995,
           0.3240566819121963,
           0.2828072718360968,
           0.27820076207842737,
           0.2791993138037229,
           0.21816044706001614,
           0.14630996614956013,
           0.11836792455430613,
           0.10503326173414258,
           0.0975601897509605,
           0.09664707735932444,
           0.09464972660337619,
           0.09241590453801966,
           0.09033277829488114
          ],
          [
           0.6898214799270296,
           0.6854731556616331,
           0.6476002869375965,
           0.6780168225890713,
           0.6734072497016506,
           0.6781034425162432,
           0.682260062558609,
           0.544791298869409,
           0.5593013880022786,
           0.567463772181879,
           0.39391525531547106,
           0.33680088452079837,
           0.33919145023090796,
           0.33457508369495986,
           0.3327809377459057,
           0.32598242192414767,
           0.3311785263189098,
           0.32240725081217914,
           0.3150051157202637
          ]
         ]
        },
        {
         "hoverinfo": "text",
         "hovertext": [
          "data_size_pct: 1<br>reg_val: 0.0<br>loss: 0.3449069579180918<br>Learning Rate: 0.00421",
          "data_size_pct: 1<br>reg_val: 0.1<br>loss: 0.3472520126323951<br>Learning Rate: 0.007690000000000001",
          "data_size_pct: 1<br>reg_val: 0.3<br>loss: 0.3427889386551422<br>Learning Rate: 0.0051400000000000005",
          "data_size_pct: 1<br>reg_val: 0.5<br>loss: 0.3697574505419062<br>Learning Rate: 0.005169999999999999",
          "data_size_pct: 1<br>reg_val: 0.6<br>loss: 0.41487027140040145<br>Learning Rate: 0.0073",
          "data_size_pct: 1<br>reg_val: 0.7<br>loss: 0.6015439757129603<br>Learning Rate: 0.00694",
          "data_size_pct: 1<br>reg_val: 0.8<br>loss: 0.6898214799270296<br>Learning Rate: 0.004801",
          "data_size_pct: 2<br>reg_val: 0.0<br>loss: 0.29227248091708147<br>Learning Rate: 0.00283",
          "data_size_pct: 2<br>reg_val: 0.1<br>loss: 0.30527383564857014<br>Learning Rate: 0.00436",
          "data_size_pct: 2<br>reg_val: 0.3<br>loss: 0.29949371602974434<br>Learning Rate: 0.0041800000000000006",
          "data_size_pct: 2<br>reg_val: 0.5<br>loss: 0.3023370553265538<br>Learning Rate: 0.0049",
          "data_size_pct: 2<br>reg_val: 0.6<br>loss: 0.3402175267276011<br>Learning Rate: 0.0037",
          "data_size_pct: 2<br>reg_val: 0.7<br>loss: 0.4307564999450717<br>Learning Rate: 0.0049",
          "data_size_pct: 2<br>reg_val: 0.8<br>loss: 0.6854731556616331<br>Learning Rate: 0.0094",
          "data_size_pct: 3<br>reg_val: 0.0<br>loss: 0.2660505767821808<br>Learning Rate: 0.00412",
          "data_size_pct: 3<br>reg_val: 0.1<br>loss: 0.26464012561921485<br>Learning Rate: 0.00448",
          "data_size_pct: 3<br>reg_val: 0.3<br>loss: 0.2793227759434988<br>Learning Rate: 0.00487",
          "data_size_pct: 3<br>reg_val: 0.5<br>loss: 0.29005884962123735<br>Learning Rate: 0.0049",
          "data_size_pct: 3<br>reg_val: 0.6<br>loss: 0.3172692771020688<br>Learning Rate: 0.0031",
          "data_size_pct: 3<br>reg_val: 0.7<br>loss: 0.34976991015045267<br>Learning Rate: 0.0034000000000000002",
          "data_size_pct: 3<br>reg_val: 0.8<br>loss: 0.6476002869375965<br>Learning Rate: 0.0127",
          "data_size_pct: 4<br>reg_val: 0.0<br>loss: 0.22876261630403938<br>Learning Rate: 0.004960000000000001",
          "data_size_pct: 4<br>reg_val: 0.1<br>loss: 0.21585090030965048<br>Learning Rate: 0.0041800000000000006",
          "data_size_pct: 4<br>reg_val: 0.3<br>loss: 0.2514276706205125<br>Learning Rate: 0.0052",
          "data_size_pct: 4<br>reg_val: 0.5<br>loss: 0.2726693048288948<br>Learning Rate: 0.0019",
          "data_size_pct: 4<br>reg_val: 0.6<br>loss: 0.2889564472593759<br>Learning Rate: 0.0016",
          "data_size_pct: 4<br>reg_val: 0.7<br>loss: 0.33561505432191646<br>Learning Rate: 0.0028",
          "data_size_pct: 4<br>reg_val: 0.8<br>loss: 0.6780168225890713<br>Learning Rate: 0.011500000000000002",
          "data_size_pct: 5<br>reg_val: 0.0<br>loss: 0.230414863525514<br>Learning Rate: 0.004390000000000001",
          "data_size_pct: 5<br>reg_val: 0.1<br>loss: 0.2273503901322552<br>Learning Rate: 0.00481",
          "data_size_pct: 5<br>reg_val: 0.3<br>loss: 0.25838213627014245<br>Learning Rate: 0.00421",
          "data_size_pct: 5<br>reg_val: 0.5<br>loss: 0.2835237092877689<br>Learning Rate: 0.0028",
          "data_size_pct: 5<br>reg_val: 0.6<br>loss: 0.2870172238402199<br>Learning Rate: 0.0028",
          "data_size_pct: 5<br>reg_val: 0.7<br>loss: 0.33093522158369676<br>Learning Rate: 0.0016",
          "data_size_pct: 5<br>reg_val: 0.8<br>loss: 0.6734072497016506<br>Learning Rate: 0.0085",
          "data_size_pct: 6<br>reg_val: 0.0<br>loss: 0.21178034031355195<br>Learning Rate: 0.0044199999999999995",
          "data_size_pct: 6<br>reg_val: 0.1<br>loss: 0.21024198126243915<br>Learning Rate: 0.00481",
          "data_size_pct: 6<br>reg_val: 0.3<br>loss: 0.24570315963866415<br>Learning Rate: 0.00517",
          "data_size_pct: 6<br>reg_val: 0.5<br>loss: 0.2760309468628021<br>Learning Rate: 0.0018700000000000001",
          "data_size_pct: 6<br>reg_val: 0.6<br>loss: 0.2897010404289814<br>Learning Rate: 0.0022",
          "data_size_pct: 6<br>reg_val: 0.7<br>loss: 0.31970332547237995<br>Learning Rate: 0.0025",
          "data_size_pct: 6<br>reg_val: 0.8<br>loss: 0.6781034425162432<br>Learning Rate: 0.013600000000000001",
          "data_size_pct: 7<br>reg_val: 0.0<br>loss: 0.17356953335795222<br>Learning Rate: 0.00511",
          "data_size_pct: 7<br>reg_val: 0.1<br>loss: 0.18838421915608797<br>Learning Rate: 0.00394",
          "data_size_pct: 7<br>reg_val: 0.3<br>loss: 0.241895454213546<br>Learning Rate: 0.0034",
          "data_size_pct: 7<br>reg_val: 0.5<br>loss: 0.27524534767134146<br>Learning Rate: 0.0028",
          "data_size_pct: 7<br>reg_val: 0.6<br>loss: 0.28656301568997533<br>Learning Rate: 0.0013",
          "data_size_pct: 7<br>reg_val: 0.7<br>loss: 0.3240566819121963<br>Learning Rate: 0.0019",
          "data_size_pct: 7<br>reg_val: 0.8<br>loss: 0.682260062558609<br>Learning Rate: 0.014470000000000002",
          "data_size_pct: 8<br>reg_val: 0.0<br>loss: 0.11503423973917955<br>Learning Rate: 0.0030700000000000002",
          "data_size_pct: 8<br>reg_val: 0.1<br>loss: 0.10985173191221656<br>Learning Rate: 0.0043",
          "data_size_pct: 8<br>reg_val: 0.3<br>loss: 0.1236909779785364<br>Learning Rate: 0.00097",
          "data_size_pct: 8<br>reg_val: 0.5<br>loss: 0.20033505150492772<br>Learning Rate: 0.001",
          "data_size_pct: 8<br>reg_val: 0.6<br>loss: 0.23924731399145038<br>Learning Rate: 0.001",
          "data_size_pct: 8<br>reg_val: 0.7<br>loss: 0.2828072718360968<br>Learning Rate: 0.001",
          "data_size_pct: 8<br>reg_val: 0.8<br>loss: 0.544791298869409<br>Learning Rate: 0.0049",
          "data_size_pct: 9<br>reg_val: 0.0<br>loss: 0.11910526910469979<br>Learning Rate: 0.0043",
          "data_size_pct: 9<br>reg_val: 0.1<br>loss: 0.12519789443498375<br>Learning Rate: 0.0025",
          "data_size_pct: 9<br>reg_val: 0.3<br>loss: 0.14229784562628256<br>Learning Rate: 0.0019",
          "data_size_pct: 9<br>reg_val: 0.5<br>loss: 0.18947047123260663<br>Learning Rate: 0.0013",
          "data_size_pct: 9<br>reg_val: 0.6<br>loss: 0.23681804139101711<br>Learning Rate: 0.001",
          "data_size_pct: 9<br>reg_val: 0.7<br>loss: 0.27820076207842737<br>Learning Rate: 0.001",
          "data_size_pct: 9<br>reg_val: 0.8<br>loss: 0.5593013880022786<br>Learning Rate: 0.0103",
          "data_size_pct: 10<br>reg_val: 0.0<br>loss: 0.11645971656319468<br>Learning Rate: 0.0031",
          "data_size_pct: 10<br>reg_val: 0.1<br>loss: 0.11689296763864129<br>Learning Rate: 0.00367",
          "data_size_pct: 10<br>reg_val: 0.3<br>loss: 0.13823347388554294<br>Learning Rate: 0.0019",
          "data_size_pct: 10<br>reg_val: 0.5<br>loss: 0.19544516934506723<br>Learning Rate: 0.0013",
          "data_size_pct: 10<br>reg_val: 0.6<br>loss: 0.2451895345721328<br>Learning Rate: 0.001",
          "data_size_pct: 10<br>reg_val: 0.7<br>loss: 0.2791993138037229<br>Learning Rate: 0.001",
          "data_size_pct: 10<br>reg_val: 0.8<br>loss: 0.567463772181879<br>Learning Rate: 0.007570000000000001",
          "data_size_pct: 20<br>reg_val: 0.0<br>loss: 0.0885187165558403<br>Learning Rate: 0.0029500000000000004",
          "data_size_pct: 20<br>reg_val: 0.1<br>loss: 0.08956461708518886<br>Learning Rate: 0.0023200000000000004",
          "data_size_pct: 20<br>reg_val: 0.3<br>loss: 0.09558020398559927<br>Learning Rate: 0.00097",
          "data_size_pct: 20<br>reg_val: 0.5<br>loss: 0.10280618520061431<br>Learning Rate: 0.001",
          "data_size_pct: 20<br>reg_val: 0.6<br>loss: 0.12283626329153771<br>Learning Rate: 0.001",
          "data_size_pct: 20<br>reg_val: 0.7<br>loss: 0.21816044706001614<br>Learning Rate: 0.001",
          "data_size_pct: 20<br>reg_val: 0.8<br>loss: 0.39391525531547106<br>Learning Rate: 0.004567",
          "data_size_pct: 30<br>reg_val: 0.0<br>loss: 0.08669912310055732<br>Learning Rate: 0.00463",
          "data_size_pct: 30<br>reg_val: 0.1<br>loss: 0.08735948049120208<br>Learning Rate: 0.00088",
          "data_size_pct: 30<br>reg_val: 0.3<br>loss: 0.08902961747034596<br>Learning Rate: 0.00082",
          "data_size_pct: 30<br>reg_val: 0.5<br>loss: 0.09285342651174251<br>Learning Rate: 0.001",
          "data_size_pct: 30<br>reg_val: 0.6<br>loss: 0.10083324829149136<br>Learning Rate: 0.001",
          "data_size_pct: 30<br>reg_val: 0.7<br>loss: 0.14630996614956013<br>Learning Rate: 0.001",
          "data_size_pct: 30<br>reg_val: 0.8<br>loss: 0.33680088452079837<br>Learning Rate: 0.001",
          "data_size_pct: 40<br>reg_val: 0.0<br>loss: 0.08481200908621146<br>Learning Rate: 0.0049",
          "data_size_pct: 40<br>reg_val: 0.1<br>loss: 0.08503723437407687<br>Learning Rate: 0.00172",
          "data_size_pct: 40<br>reg_val: 0.3<br>loss: 0.08537313730063793<br>Learning Rate: 0.00091",
          "data_size_pct: 40<br>reg_val: 0.5<br>loss: 0.08909044246058581<br>Learning Rate: 0.001",
          "data_size_pct: 40<br>reg_val: 0.6<br>loss: 0.09219326224145392<br>Learning Rate: 0.001",
          "data_size_pct: 40<br>reg_val: 0.7<br>loss: 0.11836792455430613<br>Learning Rate: 0.001",
          "data_size_pct: 40<br>reg_val: 0.8<br>loss: 0.33919145023090796<br>Learning Rate: 0.001",
          "data_size_pct: 50<br>reg_val: 0.0<br>loss: 0.0840116439223812<br>Learning Rate: 0.00274",
          "data_size_pct: 50<br>reg_val: 0.1<br>loss: 0.08342090659333684<br>Learning Rate: 0.00229",
          "data_size_pct: 50<br>reg_val: 0.3<br>loss: 0.08442975140438133<br>Learning Rate: 0.00082",
          "data_size_pct: 50<br>reg_val: 0.5<br>loss: 0.08466125909288066<br>Learning Rate: 0.00097",
          "data_size_pct: 50<br>reg_val: 0.6<br>loss: 0.08981393719288075<br>Learning Rate: 0.001",
          "data_size_pct: 50<br>reg_val: 0.7<br>loss: 0.10503326173414258<br>Learning Rate: 0.001",
          "data_size_pct: 50<br>reg_val: 0.8<br>loss: 0.33457508369495986<br>Learning Rate: 0.001",
          "data_size_pct: 60<br>reg_val: 0.0<br>loss: 0.08192123684607311<br>Learning Rate: 0.0018700000000000001",
          "data_size_pct: 60<br>reg_val: 0.1<br>loss: 0.0824191223266289<br>Learning Rate: 0.00157",
          "data_size_pct: 60<br>reg_val: 0.3<br>loss: 0.08295268947095198<br>Learning Rate: 0.00082",
          "data_size_pct: 60<br>reg_val: 0.5<br>loss: 0.08285481724234521<br>Learning Rate: 0.00097",
          "data_size_pct: 60<br>reg_val: 0.6<br>loss: 0.08771831381641193<br>Learning Rate: 0.001",
          "data_size_pct: 60<br>reg_val: 0.7<br>loss: 0.0975601897509605<br>Learning Rate: 0.001",
          "data_size_pct: 60<br>reg_val: 0.8<br>loss: 0.3327809377459057<br>Learning Rate: 0.001",
          "data_size_pct: 70<br>reg_val: 0.0<br>loss: 0.08118025562562567<br>Learning Rate: 0.00373",
          "data_size_pct: 70<br>reg_val: 0.1<br>loss: 0.08199997004856792<br>Learning Rate: 0.00097",
          "data_size_pct: 70<br>reg_val: 0.3<br>loss: 0.08169611759173369<br>Learning Rate: 0.00079",
          "data_size_pct: 70<br>reg_val: 0.5<br>loss: 0.0832598740390191<br>Learning Rate: 0.00094",
          "data_size_pct: 70<br>reg_val: 0.6<br>loss: 0.08653306394831779<br>Learning Rate: 0.001",
          "data_size_pct: 70<br>reg_val: 0.7<br>loss: 0.09664707735932444<br>Learning Rate: 0.001",
          "data_size_pct: 70<br>reg_val: 0.8<br>loss: 0.32598242192414767<br>Learning Rate: 0.001",
          "data_size_pct: 80<br>reg_val: 0.0<br>loss: 0.08068004639639531<br>Learning Rate: 0.0034300000000000003",
          "data_size_pct: 80<br>reg_val: 0.1<br>loss: 0.08084554377240696<br>Learning Rate: 0.00142",
          "data_size_pct: 80<br>reg_val: 0.3<br>loss: 0.08130608638911913<br>Learning Rate: 0.00079",
          "data_size_pct: 80<br>reg_val: 0.5<br>loss: 0.0820457267534118<br>Learning Rate: 0.00088",
          "data_size_pct: 80<br>reg_val: 0.6<br>loss: 0.08416080776553007<br>Learning Rate: 0.001",
          "data_size_pct: 80<br>reg_val: 0.7<br>loss: 0.09464972660337619<br>Learning Rate: 0.001",
          "data_size_pct: 80<br>reg_val: 0.8<br>loss: 0.3311785263189098<br>Learning Rate: 0.001",
          "data_size_pct: 90<br>reg_val: 0.0<br>loss: 0.08032230735070216<br>Learning Rate: 0.00232",
          "data_size_pct: 90<br>reg_val: 0.1<br>loss: 0.080648108519483<br>Learning Rate: 0.00163",
          "data_size_pct: 90<br>reg_val: 0.3<br>loss: 0.08079487497738574<br>Learning Rate: 0.0007900000000000001",
          "data_size_pct: 90<br>reg_val: 0.5<br>loss: 0.0818103794253578<br>Learning Rate: 0.0007900000000000001",
          "data_size_pct: 90<br>reg_val: 0.6<br>loss: 0.08287491902725343<br>Learning Rate: 0.00097",
          "data_size_pct: 90<br>reg_val: 0.7<br>loss: 0.09241590453801966<br>Learning Rate: 0.001",
          "data_size_pct: 90<br>reg_val: 0.8<br>loss: 0.32240725081217914<br>Learning Rate: 0.001",
          "data_size_pct: 100<br>reg_val: 0.0<br>loss: 0.0808774284234172<br>Learning Rate: 0.002287",
          "data_size_pct: 100<br>reg_val: 0.1<br>loss: 0.08040090513807766<br>Learning Rate: 0.00163",
          "data_size_pct: 100<br>reg_val: 0.3<br>loss: 0.07999513140601805<br>Learning Rate: 0.00088",
          "data_size_pct: 100<br>reg_val: 0.5<br>loss: 0.08095466735233597<br>Learning Rate: 0.00082",
          "data_size_pct: 100<br>reg_val: 0.6<br>loss: 0.08386548493841757<br>Learning Rate: 0.001",
          "data_size_pct: 100<br>reg_val: 0.7<br>loss: 0.09033277829488114<br>Learning Rate: 0.001",
          "data_size_pct: 100<br>reg_val: 0.8<br>loss: 0.3150051157202637<br>Learning Rate: 0.001"
         ],
         "marker": {
          "color": [
           0.3449069579180918,
           0.3472520126323951,
           0.3427889386551422,
           0.3697574505419062,
           0.41487027140040145,
           0.6015439757129603,
           0.6898214799270296,
           0.29227248091708147,
           0.30527383564857014,
           0.29949371602974434,
           0.3023370553265538,
           0.3402175267276011,
           0.4307564999450717,
           0.6854731556616331,
           0.2660505767821808,
           0.26464012561921485,
           0.2793227759434988,
           0.29005884962123735,
           0.3172692771020688,
           0.34976991015045267,
           0.6476002869375965,
           0.22876261630403938,
           0.21585090030965048,
           0.2514276706205125,
           0.2726693048288948,
           0.2889564472593759,
           0.33561505432191646,
           0.6780168225890713,
           0.230414863525514,
           0.2273503901322552,
           0.25838213627014245,
           0.2835237092877689,
           0.2870172238402199,
           0.33093522158369676,
           0.6734072497016506,
           0.21178034031355195,
           0.21024198126243915,
           0.24570315963866415,
           0.2760309468628021,
           0.2897010404289814,
           0.31970332547237995,
           0.6781034425162432,
           0.17356953335795222,
           0.18838421915608797,
           0.241895454213546,
           0.27524534767134146,
           0.28656301568997533,
           0.3240566819121963,
           0.682260062558609,
           0.11503423973917955,
           0.10985173191221656,
           0.1236909779785364,
           0.20033505150492772,
           0.23924731399145038,
           0.2828072718360968,
           0.544791298869409,
           0.11910526910469979,
           0.12519789443498375,
           0.14229784562628256,
           0.18947047123260663,
           0.23681804139101711,
           0.27820076207842737,
           0.5593013880022786,
           0.11645971656319468,
           0.11689296763864129,
           0.13823347388554294,
           0.19544516934506723,
           0.2451895345721328,
           0.2791993138037229,
           0.567463772181879,
           0.0885187165558403,
           0.08956461708518886,
           0.09558020398559927,
           0.10280618520061431,
           0.12283626329153771,
           0.21816044706001614,
           0.39391525531547106,
           0.08669912310055732,
           0.08735948049120208,
           0.08902961747034596,
           0.09285342651174251,
           0.10083324829149136,
           0.14630996614956013,
           0.33680088452079837,
           0.08481200908621146,
           0.08503723437407687,
           0.08537313730063793,
           0.08909044246058581,
           0.09219326224145392,
           0.11836792455430613,
           0.33919145023090796,
           0.0840116439223812,
           0.08342090659333684,
           0.08442975140438133,
           0.08466125909288066,
           0.08981393719288075,
           0.10503326173414258,
           0.33457508369495986,
           0.08192123684607311,
           0.0824191223266289,
           0.08295268947095198,
           0.08285481724234521,
           0.08771831381641193,
           0.0975601897509605,
           0.3327809377459057,
           0.08118025562562567,
           0.08199997004856792,
           0.08169611759173369,
           0.0832598740390191,
           0.08653306394831779,
           0.09664707735932444,
           0.32598242192414767,
           0.08068004639639531,
           0.08084554377240696,
           0.08130608638911913,
           0.0820457267534118,
           0.08416080776553007,
           0.09464972660337619,
           0.3311785263189098,
           0.08032230735070216,
           0.080648108519483,
           0.08079487497738574,
           0.0818103794253578,
           0.08287491902725343,
           0.09241590453801966,
           0.32240725081217914,
           0.0808774284234172,
           0.08040090513807766,
           0.07999513140601805,
           0.08095466735233597,
           0.08386548493841757,
           0.09033277829488114,
           0.3150051157202637
          ],
          "colorscale": [
           [
            0,
            "rgb(0,0,131)"
           ],
           [
            0.2,
            "rgb(0,60,170)"
           ],
           [
            0.4,
            "rgb(5,255,255)"
           ],
           [
            0.6,
            "rgb(255,255,0)"
           ],
           [
            0.8,
            "rgb(250,0,0)"
           ],
           [
            1,
            "rgb(128,0,0)"
           ]
          ],
          "opacity": 0.9,
          "size": 5
         },
         "mode": "markers",
         "type": "scatter3d",
         "x": [
          1,
          1,
          1,
          1,
          1,
          1,
          1,
          2,
          2,
          2,
          2,
          2,
          2,
          2,
          3,
          3,
          3,
          3,
          3,
          3,
          3,
          4,
          4,
          4,
          4,
          4,
          4,
          4,
          5,
          5,
          5,
          5,
          5,
          5,
          5,
          6,
          6,
          6,
          6,
          6,
          6,
          6,
          7,
          7,
          7,
          7,
          7,
          7,
          7,
          8,
          8,
          8,
          8,
          8,
          8,
          8,
          9,
          9,
          9,
          9,
          9,
          9,
          9,
          10,
          10,
          10,
          10,
          10,
          10,
          10,
          20,
          20,
          20,
          20,
          20,
          20,
          20,
          30,
          30,
          30,
          30,
          30,
          30,
          30,
          40,
          40,
          40,
          40,
          40,
          40,
          40,
          50,
          50,
          50,
          50,
          50,
          50,
          50,
          60,
          60,
          60,
          60,
          60,
          60,
          60,
          70,
          70,
          70,
          70,
          70,
          70,
          70,
          80,
          80,
          80,
          80,
          80,
          80,
          80,
          90,
          90,
          90,
          90,
          90,
          90,
          90,
          100,
          100,
          100,
          100,
          100,
          100,
          100
         ],
         "y": [
          0,
          0.1,
          0.3,
          0.5,
          0.6,
          0.7,
          0.8,
          0,
          0.1,
          0.3,
          0.5,
          0.6,
          0.7,
          0.8,
          0,
          0.1,
          0.3,
          0.5,
          0.6,
          0.7,
          0.8,
          0,
          0.1,
          0.3,
          0.5,
          0.6,
          0.7,
          0.8,
          0,
          0.1,
          0.3,
          0.5,
          0.6,
          0.7,
          0.8,
          0,
          0.1,
          0.3,
          0.5,
          0.6,
          0.7,
          0.8,
          0,
          0.1,
          0.3,
          0.5,
          0.6,
          0.7,
          0.8,
          0,
          0.1,
          0.3,
          0.5,
          0.6,
          0.7,
          0.8,
          0,
          0.1,
          0.3,
          0.5,
          0.6,
          0.7,
          0.8,
          0,
          0.1,
          0.3,
          0.5,
          0.6,
          0.7,
          0.8,
          0,
          0.1,
          0.3,
          0.5,
          0.6,
          0.7,
          0.8,
          0,
          0.1,
          0.3,
          0.5,
          0.6,
          0.7,
          0.8,
          0,
          0.1,
          0.3,
          0.5,
          0.6,
          0.7,
          0.8,
          0,
          0.1,
          0.3,
          0.5,
          0.6,
          0.7,
          0.8,
          0,
          0.1,
          0.3,
          0.5,
          0.6,
          0.7,
          0.8,
          0,
          0.1,
          0.3,
          0.5,
          0.6,
          0.7,
          0.8,
          0,
          0.1,
          0.3,
          0.5,
          0.6,
          0.7,
          0.8,
          0,
          0.1,
          0.3,
          0.5,
          0.6,
          0.7,
          0.8,
          0,
          0.1,
          0.3,
          0.5,
          0.6,
          0.7,
          0.8
         ],
         "z": [
          0.3449069579180918,
          0.3472520126323951,
          0.3427889386551422,
          0.3697574505419062,
          0.41487027140040145,
          0.6015439757129603,
          0.6898214799270296,
          0.29227248091708147,
          0.30527383564857014,
          0.29949371602974434,
          0.3023370553265538,
          0.3402175267276011,
          0.4307564999450717,
          0.6854731556616331,
          0.2660505767821808,
          0.26464012561921485,
          0.2793227759434988,
          0.29005884962123735,
          0.3172692771020688,
          0.34976991015045267,
          0.6476002869375965,
          0.22876261630403938,
          0.21585090030965048,
          0.2514276706205125,
          0.2726693048288948,
          0.2889564472593759,
          0.33561505432191646,
          0.6780168225890713,
          0.230414863525514,
          0.2273503901322552,
          0.25838213627014245,
          0.2835237092877689,
          0.2870172238402199,
          0.33093522158369676,
          0.6734072497016506,
          0.21178034031355195,
          0.21024198126243915,
          0.24570315963866415,
          0.2760309468628021,
          0.2897010404289814,
          0.31970332547237995,
          0.6781034425162432,
          0.17356953335795222,
          0.18838421915608797,
          0.241895454213546,
          0.27524534767134146,
          0.28656301568997533,
          0.3240566819121963,
          0.682260062558609,
          0.11503423973917955,
          0.10985173191221656,
          0.1236909779785364,
          0.20033505150492772,
          0.23924731399145038,
          0.2828072718360968,
          0.544791298869409,
          0.11910526910469979,
          0.12519789443498375,
          0.14229784562628256,
          0.18947047123260663,
          0.23681804139101711,
          0.27820076207842737,
          0.5593013880022786,
          0.11645971656319468,
          0.11689296763864129,
          0.13823347388554294,
          0.19544516934506723,
          0.2451895345721328,
          0.2791993138037229,
          0.567463772181879,
          0.0885187165558403,
          0.08956461708518886,
          0.09558020398559927,
          0.10280618520061431,
          0.12283626329153771,
          0.21816044706001614,
          0.39391525531547106,
          0.08669912310055732,
          0.08735948049120208,
          0.08902961747034596,
          0.09285342651174251,
          0.10083324829149136,
          0.14630996614956013,
          0.33680088452079837,
          0.08481200908621146,
          0.08503723437407687,
          0.08537313730063793,
          0.08909044246058581,
          0.09219326224145392,
          0.11836792455430613,
          0.33919145023090796,
          0.0840116439223812,
          0.08342090659333684,
          0.08442975140438133,
          0.08466125909288066,
          0.08981393719288075,
          0.10503326173414258,
          0.33457508369495986,
          0.08192123684607311,
          0.0824191223266289,
          0.08295268947095198,
          0.08285481724234521,
          0.08771831381641193,
          0.0975601897509605,
          0.3327809377459057,
          0.08118025562562567,
          0.08199997004856792,
          0.08169611759173369,
          0.0832598740390191,
          0.08653306394831779,
          0.09664707735932444,
          0.32598242192414767,
          0.08068004639639531,
          0.08084554377240696,
          0.08130608638911913,
          0.0820457267534118,
          0.08416080776553007,
          0.09464972660337619,
          0.3311785263189098,
          0.08032230735070216,
          0.080648108519483,
          0.08079487497738574,
          0.0818103794253578,
          0.08287491902725343,
          0.09241590453801966,
          0.32240725081217914,
          0.0808774284234172,
          0.08040090513807766,
          0.07999513140601805,
          0.08095466735233597,
          0.08386548493841757,
          0.09033277829488114,
          0.3150051157202637
         ]
        },
        {
         "hoverinfo": "text",
         "hovertext": "Minimum loss: 0.07999513140601805<br>data_size_pct: 100.0<br>reg_val: 0.3<br>Learning Rate: 0.00088",
         "marker": {
          "color": "red",
          "size": 8
         },
         "mode": "markers",
         "type": "scatter3d",
         "x": [
          100
         ],
         "y": [
          0.3
         ],
         "z": [
          0.07999513140601805
         ]
        }
       ],
       "layout": {
        "height": 600,
        "margin": {
         "b": 50,
         "l": 0.5,
         "r": 0.5,
         "t": 50
        },
        "scene": {
         "aspectratio": {
          "x": 1.25,
          "y": 1,
          "z": 1
         },
         "xaxis": {
          "title": {
           "text": "data_size_pct"
          },
          "type": "linear"
         },
         "yaxis": {
          "title": {
           "text": "reg_val"
          },
          "type": "linear"
         },
         "zaxis": {
          "title": {
           "text": "loss"
          },
          "type": "linear"
         }
        },
        "template": {
         "data": {
          "bar": [
           {
            "error_x": {
             "color": "#2a3f5f"
            },
            "error_y": {
             "color": "#2a3f5f"
            },
            "marker": {
             "line": {
              "color": "#E5ECF6",
              "width": 0.5
             },
             "pattern": {
              "fillmode": "overlay",
              "size": 10,
              "solidity": 0.2
             }
            },
            "type": "bar"
           }
          ],
          "barpolar": [
           {
            "marker": {
             "line": {
              "color": "#E5ECF6",
              "width": 0.5
             },
             "pattern": {
              "fillmode": "overlay",
              "size": 10,
              "solidity": 0.2
             }
            },
            "type": "barpolar"
           }
          ],
          "carpet": [
           {
            "aaxis": {
             "endlinecolor": "#2a3f5f",
             "gridcolor": "white",
             "linecolor": "white",
             "minorgridcolor": "white",
             "startlinecolor": "#2a3f5f"
            },
            "baxis": {
             "endlinecolor": "#2a3f5f",
             "gridcolor": "white",
             "linecolor": "white",
             "minorgridcolor": "white",
             "startlinecolor": "#2a3f5f"
            },
            "type": "carpet"
           }
          ],
          "choropleth": [
           {
            "colorbar": {
             "outlinewidth": 0,
             "ticks": ""
            },
            "type": "choropleth"
           }
          ],
          "contour": [
           {
            "colorbar": {
             "outlinewidth": 0,
             "ticks": ""
            },
            "colorscale": [
             [
              0,
              "#0d0887"
             ],
             [
              0.1111111111111111,
              "#46039f"
             ],
             [
              0.2222222222222222,
              "#7201a8"
             ],
             [
              0.3333333333333333,
              "#9c179e"
             ],
             [
              0.4444444444444444,
              "#bd3786"
             ],
             [
              0.5555555555555556,
              "#d8576b"
             ],
             [
              0.6666666666666666,
              "#ed7953"
             ],
             [
              0.7777777777777778,
              "#fb9f3a"
             ],
             [
              0.8888888888888888,
              "#fdca26"
             ],
             [
              1,
              "#f0f921"
             ]
            ],
            "type": "contour"
           }
          ],
          "contourcarpet": [
           {
            "colorbar": {
             "outlinewidth": 0,
             "ticks": ""
            },
            "type": "contourcarpet"
           }
          ],
          "heatmap": [
           {
            "colorbar": {
             "outlinewidth": 0,
             "ticks": ""
            },
            "colorscale": [
             [
              0,
              "#0d0887"
             ],
             [
              0.1111111111111111,
              "#46039f"
             ],
             [
              0.2222222222222222,
              "#7201a8"
             ],
             [
              0.3333333333333333,
              "#9c179e"
             ],
             [
              0.4444444444444444,
              "#bd3786"
             ],
             [
              0.5555555555555556,
              "#d8576b"
             ],
             [
              0.6666666666666666,
              "#ed7953"
             ],
             [
              0.7777777777777778,
              "#fb9f3a"
             ],
             [
              0.8888888888888888,
              "#fdca26"
             ],
             [
              1,
              "#f0f921"
             ]
            ],
            "type": "heatmap"
           }
          ],
          "heatmapgl": [
           {
            "colorbar": {
             "outlinewidth": 0,
             "ticks": ""
            },
            "colorscale": [
             [
              0,
              "#0d0887"
             ],
             [
              0.1111111111111111,
              "#46039f"
             ],
             [
              0.2222222222222222,
              "#7201a8"
             ],
             [
              0.3333333333333333,
              "#9c179e"
             ],
             [
              0.4444444444444444,
              "#bd3786"
             ],
             [
              0.5555555555555556,
              "#d8576b"
             ],
             [
              0.6666666666666666,
              "#ed7953"
             ],
             [
              0.7777777777777778,
              "#fb9f3a"
             ],
             [
              0.8888888888888888,
              "#fdca26"
             ],
             [
              1,
              "#f0f921"
             ]
            ],
            "type": "heatmapgl"
           }
          ],
          "histogram": [
           {
            "marker": {
             "pattern": {
              "fillmode": "overlay",
              "size": 10,
              "solidity": 0.2
             }
            },
            "type": "histogram"
           }
          ],
          "histogram2d": [
           {
            "colorbar": {
             "outlinewidth": 0,
             "ticks": ""
            },
            "colorscale": [
             [
              0,
              "#0d0887"
             ],
             [
              0.1111111111111111,
              "#46039f"
             ],
             [
              0.2222222222222222,
              "#7201a8"
             ],
             [
              0.3333333333333333,
              "#9c179e"
             ],
             [
              0.4444444444444444,
              "#bd3786"
             ],
             [
              0.5555555555555556,
              "#d8576b"
             ],
             [
              0.6666666666666666,
              "#ed7953"
             ],
             [
              0.7777777777777778,
              "#fb9f3a"
             ],
             [
              0.8888888888888888,
              "#fdca26"
             ],
             [
              1,
              "#f0f921"
             ]
            ],
            "type": "histogram2d"
           }
          ],
          "histogram2dcontour": [
           {
            "colorbar": {
             "outlinewidth": 0,
             "ticks": ""
            },
            "colorscale": [
             [
              0,
              "#0d0887"
             ],
             [
              0.1111111111111111,
              "#46039f"
             ],
             [
              0.2222222222222222,
              "#7201a8"
             ],
             [
              0.3333333333333333,
              "#9c179e"
             ],
             [
              0.4444444444444444,
              "#bd3786"
             ],
             [
              0.5555555555555556,
              "#d8576b"
             ],
             [
              0.6666666666666666,
              "#ed7953"
             ],
             [
              0.7777777777777778,
              "#fb9f3a"
             ],
             [
              0.8888888888888888,
              "#fdca26"
             ],
             [
              1,
              "#f0f921"
             ]
            ],
            "type": "histogram2dcontour"
           }
          ],
          "mesh3d": [
           {
            "colorbar": {
             "outlinewidth": 0,
             "ticks": ""
            },
            "type": "mesh3d"
           }
          ],
          "parcoords": [
           {
            "line": {
             "colorbar": {
              "outlinewidth": 0,
              "ticks": ""
             }
            },
            "type": "parcoords"
           }
          ],
          "pie": [
           {
            "automargin": true,
            "type": "pie"
           }
          ],
          "scatter": [
           {
            "fillpattern": {
             "fillmode": "overlay",
             "size": 10,
             "solidity": 0.2
            },
            "type": "scatter"
           }
          ],
          "scatter3d": [
           {
            "line": {
             "colorbar": {
              "outlinewidth": 0,
              "ticks": ""
             }
            },
            "marker": {
             "colorbar": {
              "outlinewidth": 0,
              "ticks": ""
             }
            },
            "type": "scatter3d"
           }
          ],
          "scattercarpet": [
           {
            "marker": {
             "colorbar": {
              "outlinewidth": 0,
              "ticks": ""
             }
            },
            "type": "scattercarpet"
           }
          ],
          "scattergeo": [
           {
            "marker": {
             "colorbar": {
              "outlinewidth": 0,
              "ticks": ""
             }
            },
            "type": "scattergeo"
           }
          ],
          "scattergl": [
           {
            "marker": {
             "colorbar": {
              "outlinewidth": 0,
              "ticks": ""
             }
            },
            "type": "scattergl"
           }
          ],
          "scattermapbox": [
           {
            "marker": {
             "colorbar": {
              "outlinewidth": 0,
              "ticks": ""
             }
            },
            "type": "scattermapbox"
           }
          ],
          "scatterpolar": [
           {
            "marker": {
             "colorbar": {
              "outlinewidth": 0,
              "ticks": ""
             }
            },
            "type": "scatterpolar"
           }
          ],
          "scatterpolargl": [
           {
            "marker": {
             "colorbar": {
              "outlinewidth": 0,
              "ticks": ""
             }
            },
            "type": "scatterpolargl"
           }
          ],
          "scatterternary": [
           {
            "marker": {
             "colorbar": {
              "outlinewidth": 0,
              "ticks": ""
             }
            },
            "type": "scatterternary"
           }
          ],
          "surface": [
           {
            "colorbar": {
             "outlinewidth": 0,
             "ticks": ""
            },
            "colorscale": [
             [
              0,
              "#0d0887"
             ],
             [
              0.1111111111111111,
              "#46039f"
             ],
             [
              0.2222222222222222,
              "#7201a8"
             ],
             [
              0.3333333333333333,
              "#9c179e"
             ],
             [
              0.4444444444444444,
              "#bd3786"
             ],
             [
              0.5555555555555556,
              "#d8576b"
             ],
             [
              0.6666666666666666,
              "#ed7953"
             ],
             [
              0.7777777777777778,
              "#fb9f3a"
             ],
             [
              0.8888888888888888,
              "#fdca26"
             ],
             [
              1,
              "#f0f921"
             ]
            ],
            "type": "surface"
           }
          ],
          "table": [
           {
            "cells": {
             "fill": {
              "color": "#EBF0F8"
             },
             "line": {
              "color": "white"
             }
            },
            "header": {
             "fill": {
              "color": "#C8D4E3"
             },
             "line": {
              "color": "white"
             }
            },
            "type": "table"
           }
          ]
         },
         "layout": {
          "annotationdefaults": {
           "arrowcolor": "#2a3f5f",
           "arrowhead": 0,
           "arrowwidth": 1
          },
          "autotypenumbers": "strict",
          "coloraxis": {
           "colorbar": {
            "outlinewidth": 0,
            "ticks": ""
           }
          },
          "colorscale": {
           "diverging": [
            [
             0,
             "#8e0152"
            ],
            [
             0.1,
             "#c51b7d"
            ],
            [
             0.2,
             "#de77ae"
            ],
            [
             0.3,
             "#f1b6da"
            ],
            [
             0.4,
             "#fde0ef"
            ],
            [
             0.5,
             "#f7f7f7"
            ],
            [
             0.6,
             "#e6f5d0"
            ],
            [
             0.7,
             "#b8e186"
            ],
            [
             0.8,
             "#7fbc41"
            ],
            [
             0.9,
             "#4d9221"
            ],
            [
             1,
             "#276419"
            ]
           ],
           "sequential": [
            [
             0,
             "#0d0887"
            ],
            [
             0.1111111111111111,
             "#46039f"
            ],
            [
             0.2222222222222222,
             "#7201a8"
            ],
            [
             0.3333333333333333,
             "#9c179e"
            ],
            [
             0.4444444444444444,
             "#bd3786"
            ],
            [
             0.5555555555555556,
             "#d8576b"
            ],
            [
             0.6666666666666666,
             "#ed7953"
            ],
            [
             0.7777777777777778,
             "#fb9f3a"
            ],
            [
             0.8888888888888888,
             "#fdca26"
            ],
            [
             1,
             "#f0f921"
            ]
           ],
           "sequentialminus": [
            [
             0,
             "#0d0887"
            ],
            [
             0.1111111111111111,
             "#46039f"
            ],
            [
             0.2222222222222222,
             "#7201a8"
            ],
            [
             0.3333333333333333,
             "#9c179e"
            ],
            [
             0.4444444444444444,
             "#bd3786"
            ],
            [
             0.5555555555555556,
             "#d8576b"
            ],
            [
             0.6666666666666666,
             "#ed7953"
            ],
            [
             0.7777777777777778,
             "#fb9f3a"
            ],
            [
             0.8888888888888888,
             "#fdca26"
            ],
            [
             1,
             "#f0f921"
            ]
           ]
          },
          "colorway": [
           "#636efa",
           "#EF553B",
           "#00cc96",
           "#ab63fa",
           "#FFA15A",
           "#19d3f3",
           "#FF6692",
           "#B6E880",
           "#FF97FF",
           "#FECB52"
          ],
          "font": {
           "color": "#2a3f5f"
          },
          "geo": {
           "bgcolor": "white",
           "lakecolor": "white",
           "landcolor": "#E5ECF6",
           "showlakes": true,
           "showland": true,
           "subunitcolor": "white"
          },
          "hoverlabel": {
           "align": "left"
          },
          "hovermode": "closest",
          "mapbox": {
           "style": "light"
          },
          "paper_bgcolor": "white",
          "plot_bgcolor": "#E5ECF6",
          "polar": {
           "angularaxis": {
            "gridcolor": "white",
            "linecolor": "white",
            "ticks": ""
           },
           "bgcolor": "#E5ECF6",
           "radialaxis": {
            "gridcolor": "white",
            "linecolor": "white",
            "ticks": ""
           }
          },
          "scene": {
           "xaxis": {
            "backgroundcolor": "#E5ECF6",
            "gridcolor": "white",
            "gridwidth": 2,
            "linecolor": "white",
            "showbackground": true,
            "ticks": "",
            "zerolinecolor": "white"
           },
           "yaxis": {
            "backgroundcolor": "#E5ECF6",
            "gridcolor": "white",
            "gridwidth": 2,
            "linecolor": "white",
            "showbackground": true,
            "ticks": "",
            "zerolinecolor": "white"
           },
           "zaxis": {
            "backgroundcolor": "#E5ECF6",
            "gridcolor": "white",
            "gridwidth": 2,
            "linecolor": "white",
            "showbackground": true,
            "ticks": "",
            "zerolinecolor": "white"
           }
          },
          "shapedefaults": {
           "line": {
            "color": "#2a3f5f"
           }
          },
          "ternary": {
           "aaxis": {
            "gridcolor": "white",
            "linecolor": "white",
            "ticks": ""
           },
           "baxis": {
            "gridcolor": "white",
            "linecolor": "white",
            "ticks": ""
           },
           "bgcolor": "#E5ECF6",
           "caxis": {
            "gridcolor": "white",
            "linecolor": "white",
            "ticks": ""
           }
          },
          "title": {
           "x": 0.05
          },
          "xaxis": {
           "automargin": true,
           "gridcolor": "white",
           "linecolor": "white",
           "ticks": "",
           "title": {
            "standoff": 15
           },
           "zerolinecolor": "white",
           "zerolinewidth": 2
          },
          "yaxis": {
           "automargin": true,
           "gridcolor": "white",
           "linecolor": "white",
           "ticks": "",
           "title": {
            "standoff": 15
           },
           "zerolinecolor": "white",
           "zerolinewidth": 2
          }
         }
        },
        "title": {
         "text": "TWOMOONS. DROPOUT. loss as a function of data_size_pct and reg_val)"
        },
        "width": 800
       }
      }
     },
     "metadata": {},
     "output_type": "display_data"
    }
   ],
   "source": [
    "plot_3d = plot_3d_surface_with_avg(dataset, 'data_size_pct', 'reg_val', 'loss', log_x=False, log_y=log_scale, log_z=False)"
   ]
  },
  {
   "cell_type": "code",
   "execution_count": 57,
   "metadata": {},
   "outputs": [],
   "source": [
    "def plot_mean_loss(df, x_axis='data_size_pct', group_by='reg_val', log_x=False):\n",
    "    \"\"\"\n",
    "    Plots the mean loss as a function of x_axis for each unique group_by value using Plotly subplots.\n",
    "    Each marker in the scatter plot is accompanied by an error bar representing the spread of the data.\n",
    "\n",
    "    Parameters:\n",
    "    - df: pandas DataFrame containing the data.\n",
    "    - x_axis: column name to use for the x-axis ('data_size_pct' or 'reg_val').\n",
    "    - group_by: column name to group the data by ('reg_val' or 'data_size_pct').\n",
    "    - log_x: boolean indicating whether to use a log scale for the x-axis.\n",
    "\n",
    "    Returns:\n",
    "    - Plotly Figure object.\n",
    "    \"\"\"\n",
    "\n",
    "    # Validate inputs\n",
    "    if x_axis not in df.columns:\n",
    "        raise ValueError(f\"x_axis '{x_axis}' not found in DataFrame columns.\")\n",
    "    if group_by not in df.columns:\n",
    "        raise ValueError(f\"group_by '{group_by}' not found in DataFrame columns.\")\n",
    "    if x_axis == group_by:\n",
    "        raise ValueError(\"x_axis and group_by must be different columns.\")\n",
    "\n",
    "    # Make a copy of the DataFrame to avoid modifying the original data\n",
    "    df_plot = df.copy()\n",
    "\n",
    "    # Option 2: Adjust x_axis to be positive by shifting if log_x is True\n",
    "    shift_value = 0  # Initialize shift value\n",
    "    if log_x:\n",
    "        min_x = df_plot[x_axis].min()\n",
    "        if min_x <= 0:\n",
    "            shift_value = abs(min_x) + 1e-6  # Small constant to ensure positivity\n",
    "            df_plot[x_axis] = df_plot[x_axis] + shift_value\n",
    "            print(f\"Shifted '{x_axis}' by {shift_value} to make all values positive for log scale.\")\n",
    "\n",
    "    # Compute mean and standard deviation of loss grouped by 'group_by' and 'x_axis'\n",
    "    grouped = df_plot.groupby([group_by, x_axis])[['loss', 'lr']].agg({'loss': ['mean', 'std'], 'lr': 'mean'}).reset_index()\n",
    "    grouped.columns = [group_by, x_axis, 'loss_mean', 'loss_std', 'lr_mean']\n",
    "\n",
    "\n",
    "    # Get unique groups\n",
    "    unique_groups = sorted(grouped[group_by].unique())\n",
    "\n",
    "    # Determine number of subplots (n rows x 2 columns)\n",
    "    n = len(unique_groups)\n",
    "    cols = 2\n",
    "    rows = math.ceil(n / cols)\n",
    "\n",
    "    # Create subplot titles\n",
    "    subplot_titles = [f\"{group_by} = {g}\" for g in unique_groups]\n",
    "\n",
    "    # Create subplots\n",
    "    fig = make_subplots(rows=rows, cols=cols, subplot_titles=subplot_titles)\n",
    "\n",
    "    # Determine global x and y ranges\n",
    "    x_min = grouped[x_axis].min()\n",
    "    x_max = grouped[x_axis].max()\n",
    "    y_min = grouped['loss_mean'].min()\n",
    "    y_max = grouped['loss_mean'].max()\n",
    "\n",
    "    # Add padding (5% of the range on each side for x, 15% for y)\n",
    "    x_padding = (x_max - x_min) * 0.05 if x_max != x_min else 1\n",
    "    y_padding = (y_max - y_min) * 0.15 if y_max != y_min else 1\n",
    "\n",
    "    # Calculate final ranges\n",
    "    if log_x:\n",
    "        # For log scales, padding should be multiplicative\n",
    "        x_range = [x_min / 1.1, x_max * 1.1]\n",
    "    else:\n",
    "        x_range = [x_min - x_padding, x_max + x_padding]\n",
    "    y_range = [y_min - y_padding, y_max + y_padding]\n",
    "\n",
    "    for i, group in enumerate(unique_groups):\n",
    "        row = i // cols + 1\n",
    "        col = i % cols + 1\n",
    "        df_group = grouped[grouped[group_by] == group].sort_values(by=x_axis)\n",
    "        fig.add_trace(\n",
    "            go.Scatter(\n",
    "                x=df_group[x_axis],\n",
    "                y=df_group['loss_mean'],\n",
    "                mode='lines+markers',\n",
    "                name=str(group),\n",
    "                error_y=dict(\n",
    "                    type='data',\n",
    "                    array=df_group['loss_std'],\n",
    "                    visible=True\n",
    "                ),\n",
    "                hovertext=[\n",
    "                    f\"{x_axis}: {x}<br>Mean Loss: {loss}<br>Avg Learning Rate: {lr}\"\n",
    "                    for x, loss, lr in zip(df_group[x_axis], df_group['loss_mean'], df_group['lr_mean'])\n",
    "                ],\n",
    "                hoverinfo=\"text\"\n",
    "            ),\n",
    "            row=row,\n",
    "            col=col\n",
    "        )\n",
    "\n",
    "\n",
    "        # Set x-axis to log if needed, ensuring x_range values are positive for log scale\n",
    "        if log_x:\n",
    "            if x_range[0] > 0 and x_range[1] > 0:\n",
    "                fig.update_xaxes(\n",
    "                    type='log',\n",
    "                    range=[math.log10(x_range[0]), math.log10(x_range[1])],\n",
    "                    row=row,\n",
    "                    col=col\n",
    "                )\n",
    "            else:\n",
    "                raise ValueError(\"Cannot apply log scale to non-positive x_range values after shifting.\")\n",
    "        else:\n",
    "            fig.update_xaxes(range=x_range, row=row, col=col)\n",
    "\n",
    "        # Set y-axis range\n",
    "        fig.update_yaxes(range=y_range, row=row, col=col)\n",
    "\n",
    "        # Set axis titles\n",
    "        fig.update_yaxes(title_text=\"Mean Loss\", row=row, col=col)\n",
    "        # Adjust x-axis title if shifted\n",
    "        if log_x and shift_value != 0:\n",
    "            fig.update_xaxes(title_text=f\"{x_axis} + {shift_value:.2e}\", row=row, col=col)\n",
    "        else:\n",
    "            fig.update_xaxes(title_text=x_axis, row=row, col=col)\n",
    "\n",
    "    # If there are empty subplots, remove their annotations\n",
    "    total_subplots = rows * cols\n",
    "    existing_annotations = len(fig.layout.annotations)\n",
    "    if n < total_subplots:\n",
    "        for i in range(n, total_subplots):\n",
    "            if i < existing_annotations:\n",
    "                fig.layout.annotations[i].text = ''\n",
    "\n",
    "    fig.update_layout(\n",
    "        height=320*rows, \n",
    "        width=1000, \n",
    "        title_text=f\"Mean Loss vs {x_axis} grouped by {group_by}\",\n",
    "        showlegend=False\n",
    "    )\n",
    "    fig.show()\n",
    "    return fig\n"
   ]
  },
  {
   "cell_type": "code",
   "execution_count": 58,
   "metadata": {},
   "outputs": [
    {
     "data": {
      "application/vnd.plotly.v1+json": {
       "config": {
        "plotlyServerURL": "https://plot.ly"
       },
       "data": [
        {
         "error_y": {
          "array": [
           0.05472968064935721,
           0.05314760577424332,
           0.05451362638138272,
           0.07099208547600006,
           0.06774631558525081,
           0.06899572764727974,
           0.06796610842711705,
           0.03613862387694329,
           0.04554118850541829,
           0.03654216963470398,
           0.006162682353357095,
           0.005875967941873689,
           0.003523413515269023,
           0.004386292111443001,
           0.0033874525823681862,
           0.0031060201303291122,
           0.0022671971097775606,
           0.0024591007308432523,
           0.0018736746947661555
          ],
          "type": "data",
          "visible": true
         },
         "hoverinfo": "text",
         "hovertext": [
          "data_size_pct: 1<br>Mean Loss: 0.3449069579180918<br>Avg Learning Rate: 0.00421",
          "data_size_pct: 2<br>Mean Loss: 0.29227248091708147<br>Avg Learning Rate: 0.00283",
          "data_size_pct: 3<br>Mean Loss: 0.2660505767821808<br>Avg Learning Rate: 0.00412",
          "data_size_pct: 4<br>Mean Loss: 0.22876261630403938<br>Avg Learning Rate: 0.004960000000000001",
          "data_size_pct: 5<br>Mean Loss: 0.230414863525514<br>Avg Learning Rate: 0.004390000000000001",
          "data_size_pct: 6<br>Mean Loss: 0.21178034031355195<br>Avg Learning Rate: 0.0044199999999999995",
          "data_size_pct: 7<br>Mean Loss: 0.17356953335795222<br>Avg Learning Rate: 0.00511",
          "data_size_pct: 8<br>Mean Loss: 0.11503423973917955<br>Avg Learning Rate: 0.0030700000000000002",
          "data_size_pct: 9<br>Mean Loss: 0.11910526910469979<br>Avg Learning Rate: 0.0043",
          "data_size_pct: 10<br>Mean Loss: 0.11645971656319468<br>Avg Learning Rate: 0.0031",
          "data_size_pct: 20<br>Mean Loss: 0.0885187165558403<br>Avg Learning Rate: 0.0029500000000000004",
          "data_size_pct: 30<br>Mean Loss: 0.08669912310055732<br>Avg Learning Rate: 0.00463",
          "data_size_pct: 40<br>Mean Loss: 0.08481200908621146<br>Avg Learning Rate: 0.0049",
          "data_size_pct: 50<br>Mean Loss: 0.0840116439223812<br>Avg Learning Rate: 0.00274",
          "data_size_pct: 60<br>Mean Loss: 0.08192123684607311<br>Avg Learning Rate: 0.0018700000000000001",
          "data_size_pct: 70<br>Mean Loss: 0.08118025562562567<br>Avg Learning Rate: 0.00373",
          "data_size_pct: 80<br>Mean Loss: 0.08068004639639531<br>Avg Learning Rate: 0.0034300000000000003",
          "data_size_pct: 90<br>Mean Loss: 0.08032230735070216<br>Avg Learning Rate: 0.00232",
          "data_size_pct: 100<br>Mean Loss: 0.0808774284234172<br>Avg Learning Rate: 0.002287"
         ],
         "mode": "lines+markers",
         "name": "0.0",
         "type": "scatter",
         "x": [
          1,
          2,
          3,
          4,
          5,
          6,
          7,
          8,
          9,
          10,
          20,
          30,
          40,
          50,
          60,
          70,
          80,
          90,
          100
         ],
         "xaxis": "x",
         "y": [
          0.3449069579180918,
          0.29227248091708147,
          0.2660505767821808,
          0.22876261630403938,
          0.230414863525514,
          0.21178034031355195,
          0.17356953335795222,
          0.11503423973917955,
          0.11910526910469979,
          0.11645971656319468,
          0.0885187165558403,
          0.08669912310055732,
          0.08481200908621146,
          0.0840116439223812,
          0.08192123684607311,
          0.08118025562562567,
          0.08068004639639531,
          0.08032230735070216,
          0.0808774284234172
         ],
         "yaxis": "y"
        },
        {
         "error_y": {
          "array": [
           0.07339128811194946,
           0.055804985278751905,
           0.05226599140309987,
           0.07144273147229492,
           0.06818180599293644,
           0.07250590227202636,
           0.066880065837574,
           0.019794769030320656,
           0.046413150812681866,
           0.03143856554446533,
           0.007668423960873245,
           0.0060235809252340445,
           0.003978771415223182,
           0.004044025541734616,
           0.003200920646185125,
           0.0032366729281982447,
           0.0022621714277038453,
           0.0022681540764340575,
           0.0019469835883860224
          ],
          "type": "data",
          "visible": true
         },
         "hoverinfo": "text",
         "hovertext": [
          "data_size_pct: 1<br>Mean Loss: 0.3472520126323951<br>Avg Learning Rate: 0.007690000000000001",
          "data_size_pct: 2<br>Mean Loss: 0.30527383564857014<br>Avg Learning Rate: 0.00436",
          "data_size_pct: 3<br>Mean Loss: 0.26464012561921485<br>Avg Learning Rate: 0.00448",
          "data_size_pct: 4<br>Mean Loss: 0.21585090030965048<br>Avg Learning Rate: 0.0041800000000000006",
          "data_size_pct: 5<br>Mean Loss: 0.2273503901322552<br>Avg Learning Rate: 0.00481",
          "data_size_pct: 6<br>Mean Loss: 0.21024198126243915<br>Avg Learning Rate: 0.00481",
          "data_size_pct: 7<br>Mean Loss: 0.18838421915608797<br>Avg Learning Rate: 0.00394",
          "data_size_pct: 8<br>Mean Loss: 0.10985173191221656<br>Avg Learning Rate: 0.0043",
          "data_size_pct: 9<br>Mean Loss: 0.12519789443498375<br>Avg Learning Rate: 0.0025",
          "data_size_pct: 10<br>Mean Loss: 0.11689296763864129<br>Avg Learning Rate: 0.00367",
          "data_size_pct: 20<br>Mean Loss: 0.08956461708518886<br>Avg Learning Rate: 0.0023200000000000004",
          "data_size_pct: 30<br>Mean Loss: 0.08735948049120208<br>Avg Learning Rate: 0.00088",
          "data_size_pct: 40<br>Mean Loss: 0.08503723437407687<br>Avg Learning Rate: 0.00172",
          "data_size_pct: 50<br>Mean Loss: 0.08342090659333684<br>Avg Learning Rate: 0.00229",
          "data_size_pct: 60<br>Mean Loss: 0.0824191223266289<br>Avg Learning Rate: 0.00157",
          "data_size_pct: 70<br>Mean Loss: 0.08199997004856792<br>Avg Learning Rate: 0.00097",
          "data_size_pct: 80<br>Mean Loss: 0.08084554377240696<br>Avg Learning Rate: 0.00142",
          "data_size_pct: 90<br>Mean Loss: 0.080648108519483<br>Avg Learning Rate: 0.00163",
          "data_size_pct: 100<br>Mean Loss: 0.08040090513807766<br>Avg Learning Rate: 0.00163"
         ],
         "mode": "lines+markers",
         "name": "0.1",
         "type": "scatter",
         "x": [
          1,
          2,
          3,
          4,
          5,
          6,
          7,
          8,
          9,
          10,
          20,
          30,
          40,
          50,
          60,
          70,
          80,
          90,
          100
         ],
         "xaxis": "x2",
         "y": [
          0.3472520126323951,
          0.30527383564857014,
          0.26464012561921485,
          0.21585090030965048,
          0.2273503901322552,
          0.21024198126243915,
          0.18838421915608797,
          0.10985173191221656,
          0.12519789443498375,
          0.11689296763864129,
          0.08956461708518886,
          0.08735948049120208,
          0.08503723437407687,
          0.08342090659333684,
          0.0824191223266289,
          0.08199997004856792,
          0.08084554377240696,
          0.080648108519483,
          0.08040090513807766
         ],
         "yaxis": "y2"
        },
        {
         "error_y": {
          "array": [
           0.05707402061763216,
           0.032264180444688845,
           0.03604002027803801,
           0.048240470559270075,
           0.047001443135573376,
           0.04917808805313848,
           0.04195372153102341,
           0.03634158886670676,
           0.048764493485253045,
           0.05064395338219848,
           0.010829119156967413,
           0.005587165450514655,
           0.005028137895744993,
           0.004487507051990008,
           0.0039640882700744005,
           0.0022704540054374325,
           0.002560837747491777,
           0.002815990475623519,
           0.0015064559274327468
          ],
          "type": "data",
          "visible": true
         },
         "hoverinfo": "text",
         "hovertext": [
          "data_size_pct: 1<br>Mean Loss: 0.3427889386551422<br>Avg Learning Rate: 0.0051400000000000005",
          "data_size_pct: 2<br>Mean Loss: 0.29949371602974434<br>Avg Learning Rate: 0.0041800000000000006",
          "data_size_pct: 3<br>Mean Loss: 0.2793227759434988<br>Avg Learning Rate: 0.00487",
          "data_size_pct: 4<br>Mean Loss: 0.2514276706205125<br>Avg Learning Rate: 0.0052",
          "data_size_pct: 5<br>Mean Loss: 0.25838213627014245<br>Avg Learning Rate: 0.00421",
          "data_size_pct: 6<br>Mean Loss: 0.24570315963866415<br>Avg Learning Rate: 0.00517",
          "data_size_pct: 7<br>Mean Loss: 0.241895454213546<br>Avg Learning Rate: 0.0034",
          "data_size_pct: 8<br>Mean Loss: 0.1236909779785364<br>Avg Learning Rate: 0.00097",
          "data_size_pct: 9<br>Mean Loss: 0.14229784562628256<br>Avg Learning Rate: 0.0019",
          "data_size_pct: 10<br>Mean Loss: 0.13823347388554294<br>Avg Learning Rate: 0.0019",
          "data_size_pct: 20<br>Mean Loss: 0.09558020398559927<br>Avg Learning Rate: 0.00097",
          "data_size_pct: 30<br>Mean Loss: 0.08902961747034596<br>Avg Learning Rate: 0.00082",
          "data_size_pct: 40<br>Mean Loss: 0.08537313730063793<br>Avg Learning Rate: 0.00091",
          "data_size_pct: 50<br>Mean Loss: 0.08442975140438133<br>Avg Learning Rate: 0.00082",
          "data_size_pct: 60<br>Mean Loss: 0.08295268947095198<br>Avg Learning Rate: 0.00082",
          "data_size_pct: 70<br>Mean Loss: 0.08169611759173369<br>Avg Learning Rate: 0.00079",
          "data_size_pct: 80<br>Mean Loss: 0.08130608638911913<br>Avg Learning Rate: 0.00079",
          "data_size_pct: 90<br>Mean Loss: 0.08079487497738574<br>Avg Learning Rate: 0.0007900000000000001",
          "data_size_pct: 100<br>Mean Loss: 0.07999513140601805<br>Avg Learning Rate: 0.00088"
         ],
         "mode": "lines+markers",
         "name": "0.3",
         "type": "scatter",
         "x": [
          1,
          2,
          3,
          4,
          5,
          6,
          7,
          8,
          9,
          10,
          20,
          30,
          40,
          50,
          60,
          70,
          80,
          90,
          100
         ],
         "xaxis": "x3",
         "y": [
          0.3427889386551422,
          0.29949371602974434,
          0.2793227759434988,
          0.2514276706205125,
          0.25838213627014245,
          0.24570315963866415,
          0.241895454213546,
          0.1236909779785364,
          0.14229784562628256,
          0.13823347388554294,
          0.09558020398559927,
          0.08902961747034596,
          0.08537313730063793,
          0.08442975140438133,
          0.08295268947095198,
          0.08169611759173369,
          0.08130608638911913,
          0.08079487497738574,
          0.07999513140601805
         ],
         "yaxis": "y3"
        },
        {
         "error_y": {
          "array": [
           0.07865506103225547,
           0.027632048620466955,
           0.021463972947247757,
           0.024416979863828014,
           0.03673130517648842,
           0.027635645673289484,
           0.02267381761997752,
           0.050220239298290906,
           0.04926966178818476,
           0.04830602807813803,
           0.017366102498832785,
           0.005812567653512132,
           0.005250467607233044,
           0.005535263927089527,
           0.0028867386883528524,
           0.003447097746853494,
           0.0022165913483955,
           0.002254036106639888,
           0.002214590088720439
          ],
          "type": "data",
          "visible": true
         },
         "hoverinfo": "text",
         "hovertext": [
          "data_size_pct: 1<br>Mean Loss: 0.3697574505419062<br>Avg Learning Rate: 0.005169999999999999",
          "data_size_pct: 2<br>Mean Loss: 0.3023370553265538<br>Avg Learning Rate: 0.0049",
          "data_size_pct: 3<br>Mean Loss: 0.29005884962123735<br>Avg Learning Rate: 0.0049",
          "data_size_pct: 4<br>Mean Loss: 0.2726693048288948<br>Avg Learning Rate: 0.0019",
          "data_size_pct: 5<br>Mean Loss: 0.2835237092877689<br>Avg Learning Rate: 0.0028",
          "data_size_pct: 6<br>Mean Loss: 0.2760309468628021<br>Avg Learning Rate: 0.0018700000000000001",
          "data_size_pct: 7<br>Mean Loss: 0.27524534767134146<br>Avg Learning Rate: 0.0028",
          "data_size_pct: 8<br>Mean Loss: 0.20033505150492772<br>Avg Learning Rate: 0.001",
          "data_size_pct: 9<br>Mean Loss: 0.18947047123260663<br>Avg Learning Rate: 0.0013",
          "data_size_pct: 10<br>Mean Loss: 0.19544516934506723<br>Avg Learning Rate: 0.0013",
          "data_size_pct: 20<br>Mean Loss: 0.10280618520061431<br>Avg Learning Rate: 0.001",
          "data_size_pct: 30<br>Mean Loss: 0.09285342651174251<br>Avg Learning Rate: 0.001",
          "data_size_pct: 40<br>Mean Loss: 0.08909044246058581<br>Avg Learning Rate: 0.001",
          "data_size_pct: 50<br>Mean Loss: 0.08466125909288066<br>Avg Learning Rate: 0.00097",
          "data_size_pct: 60<br>Mean Loss: 0.08285481724234521<br>Avg Learning Rate: 0.00097",
          "data_size_pct: 70<br>Mean Loss: 0.0832598740390191<br>Avg Learning Rate: 0.00094",
          "data_size_pct: 80<br>Mean Loss: 0.0820457267534118<br>Avg Learning Rate: 0.00088",
          "data_size_pct: 90<br>Mean Loss: 0.0818103794253578<br>Avg Learning Rate: 0.0007900000000000001",
          "data_size_pct: 100<br>Mean Loss: 0.08095466735233597<br>Avg Learning Rate: 0.00082"
         ],
         "mode": "lines+markers",
         "name": "0.5",
         "type": "scatter",
         "x": [
          1,
          2,
          3,
          4,
          5,
          6,
          7,
          8,
          9,
          10,
          20,
          30,
          40,
          50,
          60,
          70,
          80,
          90,
          100
         ],
         "xaxis": "x4",
         "y": [
          0.3697574505419062,
          0.3023370553265538,
          0.29005884962123735,
          0.2726693048288948,
          0.2835237092877689,
          0.2760309468628021,
          0.27524534767134146,
          0.20033505150492772,
          0.18947047123260663,
          0.19544516934506723,
          0.10280618520061431,
          0.09285342651174251,
          0.08909044246058581,
          0.08466125909288066,
          0.08285481724234521,
          0.0832598740390191,
          0.0820457267534118,
          0.0818103794253578,
          0.08095466735233597
         ],
         "yaxis": "y4"
        },
        {
         "error_y": {
          "array": [
           0.11094572868995062,
           0.06304763795041712,
           0.06112403618497648,
           0.02783039491976003,
           0.017375758787958655,
           0.023620635845526285,
           0.02094568416690521,
           0.026813081589337987,
           0.023346657429957507,
           0.02559584450610939,
           0.024814061768561765,
           0.008588352305291723,
           0.006510996766266128,
           0.005948583055177967,
           0.005072549409774215,
           0.004543587409779331,
           0.0031924378865451917,
           0.0034118532572880106,
           0.002647719742345909
          ],
          "type": "data",
          "visible": true
         },
         "hoverinfo": "text",
         "hovertext": [
          "data_size_pct: 1<br>Mean Loss: 0.41487027140040145<br>Avg Learning Rate: 0.0073",
          "data_size_pct: 2<br>Mean Loss: 0.3402175267276011<br>Avg Learning Rate: 0.0037",
          "data_size_pct: 3<br>Mean Loss: 0.3172692771020688<br>Avg Learning Rate: 0.0031",
          "data_size_pct: 4<br>Mean Loss: 0.2889564472593759<br>Avg Learning Rate: 0.0016",
          "data_size_pct: 5<br>Mean Loss: 0.2870172238402199<br>Avg Learning Rate: 0.0028",
          "data_size_pct: 6<br>Mean Loss: 0.2897010404289814<br>Avg Learning Rate: 0.0022",
          "data_size_pct: 7<br>Mean Loss: 0.28656301568997533<br>Avg Learning Rate: 0.0013",
          "data_size_pct: 8<br>Mean Loss: 0.23924731399145038<br>Avg Learning Rate: 0.001",
          "data_size_pct: 9<br>Mean Loss: 0.23681804139101711<br>Avg Learning Rate: 0.001",
          "data_size_pct: 10<br>Mean Loss: 0.2451895345721328<br>Avg Learning Rate: 0.001",
          "data_size_pct: 20<br>Mean Loss: 0.12283626329153771<br>Avg Learning Rate: 0.001",
          "data_size_pct: 30<br>Mean Loss: 0.10083324829149136<br>Avg Learning Rate: 0.001",
          "data_size_pct: 40<br>Mean Loss: 0.09219326224145392<br>Avg Learning Rate: 0.001",
          "data_size_pct: 50<br>Mean Loss: 0.08981393719288075<br>Avg Learning Rate: 0.001",
          "data_size_pct: 60<br>Mean Loss: 0.08771831381641193<br>Avg Learning Rate: 0.001",
          "data_size_pct: 70<br>Mean Loss: 0.08653306394831779<br>Avg Learning Rate: 0.001",
          "data_size_pct: 80<br>Mean Loss: 0.08416080776553007<br>Avg Learning Rate: 0.001",
          "data_size_pct: 90<br>Mean Loss: 0.08287491902725343<br>Avg Learning Rate: 0.00097",
          "data_size_pct: 100<br>Mean Loss: 0.08386548493841757<br>Avg Learning Rate: 0.001"
         ],
         "mode": "lines+markers",
         "name": "0.6",
         "type": "scatter",
         "x": [
          1,
          2,
          3,
          4,
          5,
          6,
          7,
          8,
          9,
          10,
          20,
          30,
          40,
          50,
          60,
          70,
          80,
          90,
          100
         ],
         "xaxis": "x5",
         "y": [
          0.41487027140040145,
          0.3402175267276011,
          0.3172692771020688,
          0.2889564472593759,
          0.2870172238402199,
          0.2897010404289814,
          0.28656301568997533,
          0.23924731399145038,
          0.23681804139101711,
          0.2451895345721328,
          0.12283626329153771,
          0.10083324829149136,
          0.09219326224145392,
          0.08981393719288075,
          0.08771831381641193,
          0.08653306394831779,
          0.08416080776553007,
          0.08287491902725343,
          0.08386548493841757
         ],
         "yaxis": "y5"
        },
        {
         "error_y": {
          "array": [
           0.11112455112675053,
           0.11127351723600765,
           0.04309451955030321,
           0.04861585627689789,
           0.04186431265999739,
           0.032998849372943354,
           0.03192690468509253,
           0.023491281287994607,
           0.018562438222467323,
           0.02560324034242681,
           0.028387027390225937,
           0.02282250249163197,
           0.014377083351585277,
           0.00919665596380965,
           0.008741877597272464,
           0.008292619337830109,
           0.007853424281007928,
           0.005589938193037662,
           0.006004721735367347
          ],
          "type": "data",
          "visible": true
         },
         "hoverinfo": "text",
         "hovertext": [
          "data_size_pct: 1<br>Mean Loss: 0.6015439757129603<br>Avg Learning Rate: 0.00694",
          "data_size_pct: 2<br>Mean Loss: 0.4307564999450717<br>Avg Learning Rate: 0.0049",
          "data_size_pct: 3<br>Mean Loss: 0.34976991015045267<br>Avg Learning Rate: 0.0034000000000000002",
          "data_size_pct: 4<br>Mean Loss: 0.33561505432191646<br>Avg Learning Rate: 0.0028",
          "data_size_pct: 5<br>Mean Loss: 0.33093522158369676<br>Avg Learning Rate: 0.0016",
          "data_size_pct: 6<br>Mean Loss: 0.31970332547237995<br>Avg Learning Rate: 0.0025",
          "data_size_pct: 7<br>Mean Loss: 0.3240566819121963<br>Avg Learning Rate: 0.0019",
          "data_size_pct: 8<br>Mean Loss: 0.2828072718360968<br>Avg Learning Rate: 0.001",
          "data_size_pct: 9<br>Mean Loss: 0.27820076207842737<br>Avg Learning Rate: 0.001",
          "data_size_pct: 10<br>Mean Loss: 0.2791993138037229<br>Avg Learning Rate: 0.001",
          "data_size_pct: 20<br>Mean Loss: 0.21816044706001614<br>Avg Learning Rate: 0.001",
          "data_size_pct: 30<br>Mean Loss: 0.14630996614956013<br>Avg Learning Rate: 0.001",
          "data_size_pct: 40<br>Mean Loss: 0.11836792455430613<br>Avg Learning Rate: 0.001",
          "data_size_pct: 50<br>Mean Loss: 0.10503326173414258<br>Avg Learning Rate: 0.001",
          "data_size_pct: 60<br>Mean Loss: 0.0975601897509605<br>Avg Learning Rate: 0.001",
          "data_size_pct: 70<br>Mean Loss: 0.09664707735932444<br>Avg Learning Rate: 0.001",
          "data_size_pct: 80<br>Mean Loss: 0.09464972660337619<br>Avg Learning Rate: 0.001",
          "data_size_pct: 90<br>Mean Loss: 0.09241590453801966<br>Avg Learning Rate: 0.001",
          "data_size_pct: 100<br>Mean Loss: 0.09033277829488114<br>Avg Learning Rate: 0.001"
         ],
         "mode": "lines+markers",
         "name": "0.7",
         "type": "scatter",
         "x": [
          1,
          2,
          3,
          4,
          5,
          6,
          7,
          8,
          9,
          10,
          20,
          30,
          40,
          50,
          60,
          70,
          80,
          90,
          100
         ],
         "xaxis": "x6",
         "y": [
          0.6015439757129603,
          0.4307564999450717,
          0.34976991015045267,
          0.33561505432191646,
          0.33093522158369676,
          0.31970332547237995,
          0.3240566819121963,
          0.2828072718360968,
          0.27820076207842737,
          0.2791993138037229,
          0.21816044706001614,
          0.14630996614956013,
          0.11836792455430613,
          0.10503326173414258,
          0.0975601897509605,
          0.09664707735932444,
          0.09464972660337619,
          0.09241590453801966,
          0.09033277829488114
         ],
         "yaxis": "y6"
        },
        {
         "error_y": {
          "array": [
           0.004897087462861355,
           0.010735074559813746,
           0.06325981537322894,
           0.033692097682320614,
           0.052452869976614906,
           0.037248392585809476,
           0.0330719876459584,
           0.14262015070061548,
           0.13423261325267852,
           0.12827517603734342,
           0.12142443298319065,
           0.017449619271066346,
           0.02453791019411907,
           0.020488661346534886,
           0.02832697523901629,
           0.02519346914948981,
           0.013657529324008336,
           0.026479993746213248,
           0.03776559785951745
          ],
          "type": "data",
          "visible": true
         },
         "hoverinfo": "text",
         "hovertext": [
          "data_size_pct: 1<br>Mean Loss: 0.6898214799270296<br>Avg Learning Rate: 0.004801",
          "data_size_pct: 2<br>Mean Loss: 0.6854731556616331<br>Avg Learning Rate: 0.0094",
          "data_size_pct: 3<br>Mean Loss: 0.6476002869375965<br>Avg Learning Rate: 0.0127",
          "data_size_pct: 4<br>Mean Loss: 0.6780168225890713<br>Avg Learning Rate: 0.011500000000000002",
          "data_size_pct: 5<br>Mean Loss: 0.6734072497016506<br>Avg Learning Rate: 0.0085",
          "data_size_pct: 6<br>Mean Loss: 0.6781034425162432<br>Avg Learning Rate: 0.013600000000000001",
          "data_size_pct: 7<br>Mean Loss: 0.682260062558609<br>Avg Learning Rate: 0.014470000000000002",
          "data_size_pct: 8<br>Mean Loss: 0.544791298869409<br>Avg Learning Rate: 0.0049",
          "data_size_pct: 9<br>Mean Loss: 0.5593013880022786<br>Avg Learning Rate: 0.0103",
          "data_size_pct: 10<br>Mean Loss: 0.567463772181879<br>Avg Learning Rate: 0.007570000000000001",
          "data_size_pct: 20<br>Mean Loss: 0.39391525531547106<br>Avg Learning Rate: 0.004567",
          "data_size_pct: 30<br>Mean Loss: 0.33680088452079837<br>Avg Learning Rate: 0.001",
          "data_size_pct: 40<br>Mean Loss: 0.33919145023090796<br>Avg Learning Rate: 0.001",
          "data_size_pct: 50<br>Mean Loss: 0.33457508369495986<br>Avg Learning Rate: 0.001",
          "data_size_pct: 60<br>Mean Loss: 0.3327809377459057<br>Avg Learning Rate: 0.001",
          "data_size_pct: 70<br>Mean Loss: 0.32598242192414767<br>Avg Learning Rate: 0.001",
          "data_size_pct: 80<br>Mean Loss: 0.3311785263189098<br>Avg Learning Rate: 0.001",
          "data_size_pct: 90<br>Mean Loss: 0.32240725081217914<br>Avg Learning Rate: 0.001",
          "data_size_pct: 100<br>Mean Loss: 0.3150051157202637<br>Avg Learning Rate: 0.001"
         ],
         "mode": "lines+markers",
         "name": "0.8",
         "type": "scatter",
         "x": [
          1,
          2,
          3,
          4,
          5,
          6,
          7,
          8,
          9,
          10,
          20,
          30,
          40,
          50,
          60,
          70,
          80,
          90,
          100
         ],
         "xaxis": "x7",
         "y": [
          0.6898214799270296,
          0.6854731556616331,
          0.6476002869375965,
          0.6780168225890713,
          0.6734072497016506,
          0.6781034425162432,
          0.682260062558609,
          0.544791298869409,
          0.5593013880022786,
          0.567463772181879,
          0.39391525531547106,
          0.33680088452079837,
          0.33919145023090796,
          0.33457508369495986,
          0.3327809377459057,
          0.32598242192414767,
          0.3311785263189098,
          0.32240725081217914,
          0.3150051157202637
         ],
         "yaxis": "y7"
        }
       ],
       "layout": {
        "annotations": [
         {
          "font": {
           "size": 16
          },
          "showarrow": false,
          "text": "reg_val = 0.0",
          "x": 0.225,
          "xanchor": "center",
          "xref": "paper",
          "y": 1,
          "yanchor": "bottom",
          "yref": "paper"
         },
         {
          "font": {
           "size": 16
          },
          "showarrow": false,
          "text": "reg_val = 0.1",
          "x": 0.775,
          "xanchor": "center",
          "xref": "paper",
          "y": 1,
          "yanchor": "bottom",
          "yref": "paper"
         },
         {
          "font": {
           "size": 16
          },
          "showarrow": false,
          "text": "reg_val = 0.3",
          "x": 0.225,
          "xanchor": "center",
          "xref": "paper",
          "y": 0.71875,
          "yanchor": "bottom",
          "yref": "paper"
         },
         {
          "font": {
           "size": 16
          },
          "showarrow": false,
          "text": "reg_val = 0.5",
          "x": 0.775,
          "xanchor": "center",
          "xref": "paper",
          "y": 0.71875,
          "yanchor": "bottom",
          "yref": "paper"
         },
         {
          "font": {
           "size": 16
          },
          "showarrow": false,
          "text": "reg_val = 0.6",
          "x": 0.225,
          "xanchor": "center",
          "xref": "paper",
          "y": 0.4375,
          "yanchor": "bottom",
          "yref": "paper"
         },
         {
          "font": {
           "size": 16
          },
          "showarrow": false,
          "text": "reg_val = 0.7",
          "x": 0.775,
          "xanchor": "center",
          "xref": "paper",
          "y": 0.4375,
          "yanchor": "bottom",
          "yref": "paper"
         },
         {
          "font": {
           "size": 16
          },
          "showarrow": false,
          "text": "reg_val = 0.8",
          "x": 0.225,
          "xanchor": "center",
          "xref": "paper",
          "y": 0.15625,
          "yanchor": "bottom",
          "yref": "paper"
         }
        ],
        "height": 1280,
        "showlegend": false,
        "template": {
         "data": {
          "bar": [
           {
            "error_x": {
             "color": "#2a3f5f"
            },
            "error_y": {
             "color": "#2a3f5f"
            },
            "marker": {
             "line": {
              "color": "#E5ECF6",
              "width": 0.5
             },
             "pattern": {
              "fillmode": "overlay",
              "size": 10,
              "solidity": 0.2
             }
            },
            "type": "bar"
           }
          ],
          "barpolar": [
           {
            "marker": {
             "line": {
              "color": "#E5ECF6",
              "width": 0.5
             },
             "pattern": {
              "fillmode": "overlay",
              "size": 10,
              "solidity": 0.2
             }
            },
            "type": "barpolar"
           }
          ],
          "carpet": [
           {
            "aaxis": {
             "endlinecolor": "#2a3f5f",
             "gridcolor": "white",
             "linecolor": "white",
             "minorgridcolor": "white",
             "startlinecolor": "#2a3f5f"
            },
            "baxis": {
             "endlinecolor": "#2a3f5f",
             "gridcolor": "white",
             "linecolor": "white",
             "minorgridcolor": "white",
             "startlinecolor": "#2a3f5f"
            },
            "type": "carpet"
           }
          ],
          "choropleth": [
           {
            "colorbar": {
             "outlinewidth": 0,
             "ticks": ""
            },
            "type": "choropleth"
           }
          ],
          "contour": [
           {
            "colorbar": {
             "outlinewidth": 0,
             "ticks": ""
            },
            "colorscale": [
             [
              0,
              "#0d0887"
             ],
             [
              0.1111111111111111,
              "#46039f"
             ],
             [
              0.2222222222222222,
              "#7201a8"
             ],
             [
              0.3333333333333333,
              "#9c179e"
             ],
             [
              0.4444444444444444,
              "#bd3786"
             ],
             [
              0.5555555555555556,
              "#d8576b"
             ],
             [
              0.6666666666666666,
              "#ed7953"
             ],
             [
              0.7777777777777778,
              "#fb9f3a"
             ],
             [
              0.8888888888888888,
              "#fdca26"
             ],
             [
              1,
              "#f0f921"
             ]
            ],
            "type": "contour"
           }
          ],
          "contourcarpet": [
           {
            "colorbar": {
             "outlinewidth": 0,
             "ticks": ""
            },
            "type": "contourcarpet"
           }
          ],
          "heatmap": [
           {
            "colorbar": {
             "outlinewidth": 0,
             "ticks": ""
            },
            "colorscale": [
             [
              0,
              "#0d0887"
             ],
             [
              0.1111111111111111,
              "#46039f"
             ],
             [
              0.2222222222222222,
              "#7201a8"
             ],
             [
              0.3333333333333333,
              "#9c179e"
             ],
             [
              0.4444444444444444,
              "#bd3786"
             ],
             [
              0.5555555555555556,
              "#d8576b"
             ],
             [
              0.6666666666666666,
              "#ed7953"
             ],
             [
              0.7777777777777778,
              "#fb9f3a"
             ],
             [
              0.8888888888888888,
              "#fdca26"
             ],
             [
              1,
              "#f0f921"
             ]
            ],
            "type": "heatmap"
           }
          ],
          "heatmapgl": [
           {
            "colorbar": {
             "outlinewidth": 0,
             "ticks": ""
            },
            "colorscale": [
             [
              0,
              "#0d0887"
             ],
             [
              0.1111111111111111,
              "#46039f"
             ],
             [
              0.2222222222222222,
              "#7201a8"
             ],
             [
              0.3333333333333333,
              "#9c179e"
             ],
             [
              0.4444444444444444,
              "#bd3786"
             ],
             [
              0.5555555555555556,
              "#d8576b"
             ],
             [
              0.6666666666666666,
              "#ed7953"
             ],
             [
              0.7777777777777778,
              "#fb9f3a"
             ],
             [
              0.8888888888888888,
              "#fdca26"
             ],
             [
              1,
              "#f0f921"
             ]
            ],
            "type": "heatmapgl"
           }
          ],
          "histogram": [
           {
            "marker": {
             "pattern": {
              "fillmode": "overlay",
              "size": 10,
              "solidity": 0.2
             }
            },
            "type": "histogram"
           }
          ],
          "histogram2d": [
           {
            "colorbar": {
             "outlinewidth": 0,
             "ticks": ""
            },
            "colorscale": [
             [
              0,
              "#0d0887"
             ],
             [
              0.1111111111111111,
              "#46039f"
             ],
             [
              0.2222222222222222,
              "#7201a8"
             ],
             [
              0.3333333333333333,
              "#9c179e"
             ],
             [
              0.4444444444444444,
              "#bd3786"
             ],
             [
              0.5555555555555556,
              "#d8576b"
             ],
             [
              0.6666666666666666,
              "#ed7953"
             ],
             [
              0.7777777777777778,
              "#fb9f3a"
             ],
             [
              0.8888888888888888,
              "#fdca26"
             ],
             [
              1,
              "#f0f921"
             ]
            ],
            "type": "histogram2d"
           }
          ],
          "histogram2dcontour": [
           {
            "colorbar": {
             "outlinewidth": 0,
             "ticks": ""
            },
            "colorscale": [
             [
              0,
              "#0d0887"
             ],
             [
              0.1111111111111111,
              "#46039f"
             ],
             [
              0.2222222222222222,
              "#7201a8"
             ],
             [
              0.3333333333333333,
              "#9c179e"
             ],
             [
              0.4444444444444444,
              "#bd3786"
             ],
             [
              0.5555555555555556,
              "#d8576b"
             ],
             [
              0.6666666666666666,
              "#ed7953"
             ],
             [
              0.7777777777777778,
              "#fb9f3a"
             ],
             [
              0.8888888888888888,
              "#fdca26"
             ],
             [
              1,
              "#f0f921"
             ]
            ],
            "type": "histogram2dcontour"
           }
          ],
          "mesh3d": [
           {
            "colorbar": {
             "outlinewidth": 0,
             "ticks": ""
            },
            "type": "mesh3d"
           }
          ],
          "parcoords": [
           {
            "line": {
             "colorbar": {
              "outlinewidth": 0,
              "ticks": ""
             }
            },
            "type": "parcoords"
           }
          ],
          "pie": [
           {
            "automargin": true,
            "type": "pie"
           }
          ],
          "scatter": [
           {
            "fillpattern": {
             "fillmode": "overlay",
             "size": 10,
             "solidity": 0.2
            },
            "type": "scatter"
           }
          ],
          "scatter3d": [
           {
            "line": {
             "colorbar": {
              "outlinewidth": 0,
              "ticks": ""
             }
            },
            "marker": {
             "colorbar": {
              "outlinewidth": 0,
              "ticks": ""
             }
            },
            "type": "scatter3d"
           }
          ],
          "scattercarpet": [
           {
            "marker": {
             "colorbar": {
              "outlinewidth": 0,
              "ticks": ""
             }
            },
            "type": "scattercarpet"
           }
          ],
          "scattergeo": [
           {
            "marker": {
             "colorbar": {
              "outlinewidth": 0,
              "ticks": ""
             }
            },
            "type": "scattergeo"
           }
          ],
          "scattergl": [
           {
            "marker": {
             "colorbar": {
              "outlinewidth": 0,
              "ticks": ""
             }
            },
            "type": "scattergl"
           }
          ],
          "scattermapbox": [
           {
            "marker": {
             "colorbar": {
              "outlinewidth": 0,
              "ticks": ""
             }
            },
            "type": "scattermapbox"
           }
          ],
          "scatterpolar": [
           {
            "marker": {
             "colorbar": {
              "outlinewidth": 0,
              "ticks": ""
             }
            },
            "type": "scatterpolar"
           }
          ],
          "scatterpolargl": [
           {
            "marker": {
             "colorbar": {
              "outlinewidth": 0,
              "ticks": ""
             }
            },
            "type": "scatterpolargl"
           }
          ],
          "scatterternary": [
           {
            "marker": {
             "colorbar": {
              "outlinewidth": 0,
              "ticks": ""
             }
            },
            "type": "scatterternary"
           }
          ],
          "surface": [
           {
            "colorbar": {
             "outlinewidth": 0,
             "ticks": ""
            },
            "colorscale": [
             [
              0,
              "#0d0887"
             ],
             [
              0.1111111111111111,
              "#46039f"
             ],
             [
              0.2222222222222222,
              "#7201a8"
             ],
             [
              0.3333333333333333,
              "#9c179e"
             ],
             [
              0.4444444444444444,
              "#bd3786"
             ],
             [
              0.5555555555555556,
              "#d8576b"
             ],
             [
              0.6666666666666666,
              "#ed7953"
             ],
             [
              0.7777777777777778,
              "#fb9f3a"
             ],
             [
              0.8888888888888888,
              "#fdca26"
             ],
             [
              1,
              "#f0f921"
             ]
            ],
            "type": "surface"
           }
          ],
          "table": [
           {
            "cells": {
             "fill": {
              "color": "#EBF0F8"
             },
             "line": {
              "color": "white"
             }
            },
            "header": {
             "fill": {
              "color": "#C8D4E3"
             },
             "line": {
              "color": "white"
             }
            },
            "type": "table"
           }
          ]
         },
         "layout": {
          "annotationdefaults": {
           "arrowcolor": "#2a3f5f",
           "arrowhead": 0,
           "arrowwidth": 1
          },
          "autotypenumbers": "strict",
          "coloraxis": {
           "colorbar": {
            "outlinewidth": 0,
            "ticks": ""
           }
          },
          "colorscale": {
           "diverging": [
            [
             0,
             "#8e0152"
            ],
            [
             0.1,
             "#c51b7d"
            ],
            [
             0.2,
             "#de77ae"
            ],
            [
             0.3,
             "#f1b6da"
            ],
            [
             0.4,
             "#fde0ef"
            ],
            [
             0.5,
             "#f7f7f7"
            ],
            [
             0.6,
             "#e6f5d0"
            ],
            [
             0.7,
             "#b8e186"
            ],
            [
             0.8,
             "#7fbc41"
            ],
            [
             0.9,
             "#4d9221"
            ],
            [
             1,
             "#276419"
            ]
           ],
           "sequential": [
            [
             0,
             "#0d0887"
            ],
            [
             0.1111111111111111,
             "#46039f"
            ],
            [
             0.2222222222222222,
             "#7201a8"
            ],
            [
             0.3333333333333333,
             "#9c179e"
            ],
            [
             0.4444444444444444,
             "#bd3786"
            ],
            [
             0.5555555555555556,
             "#d8576b"
            ],
            [
             0.6666666666666666,
             "#ed7953"
            ],
            [
             0.7777777777777778,
             "#fb9f3a"
            ],
            [
             0.8888888888888888,
             "#fdca26"
            ],
            [
             1,
             "#f0f921"
            ]
           ],
           "sequentialminus": [
            [
             0,
             "#0d0887"
            ],
            [
             0.1111111111111111,
             "#46039f"
            ],
            [
             0.2222222222222222,
             "#7201a8"
            ],
            [
             0.3333333333333333,
             "#9c179e"
            ],
            [
             0.4444444444444444,
             "#bd3786"
            ],
            [
             0.5555555555555556,
             "#d8576b"
            ],
            [
             0.6666666666666666,
             "#ed7953"
            ],
            [
             0.7777777777777778,
             "#fb9f3a"
            ],
            [
             0.8888888888888888,
             "#fdca26"
            ],
            [
             1,
             "#f0f921"
            ]
           ]
          },
          "colorway": [
           "#636efa",
           "#EF553B",
           "#00cc96",
           "#ab63fa",
           "#FFA15A",
           "#19d3f3",
           "#FF6692",
           "#B6E880",
           "#FF97FF",
           "#FECB52"
          ],
          "font": {
           "color": "#2a3f5f"
          },
          "geo": {
           "bgcolor": "white",
           "lakecolor": "white",
           "landcolor": "#E5ECF6",
           "showlakes": true,
           "showland": true,
           "subunitcolor": "white"
          },
          "hoverlabel": {
           "align": "left"
          },
          "hovermode": "closest",
          "mapbox": {
           "style": "light"
          },
          "paper_bgcolor": "white",
          "plot_bgcolor": "#E5ECF6",
          "polar": {
           "angularaxis": {
            "gridcolor": "white",
            "linecolor": "white",
            "ticks": ""
           },
           "bgcolor": "#E5ECF6",
           "radialaxis": {
            "gridcolor": "white",
            "linecolor": "white",
            "ticks": ""
           }
          },
          "scene": {
           "xaxis": {
            "backgroundcolor": "#E5ECF6",
            "gridcolor": "white",
            "gridwidth": 2,
            "linecolor": "white",
            "showbackground": true,
            "ticks": "",
            "zerolinecolor": "white"
           },
           "yaxis": {
            "backgroundcolor": "#E5ECF6",
            "gridcolor": "white",
            "gridwidth": 2,
            "linecolor": "white",
            "showbackground": true,
            "ticks": "",
            "zerolinecolor": "white"
           },
           "zaxis": {
            "backgroundcolor": "#E5ECF6",
            "gridcolor": "white",
            "gridwidth": 2,
            "linecolor": "white",
            "showbackground": true,
            "ticks": "",
            "zerolinecolor": "white"
           }
          },
          "shapedefaults": {
           "line": {
            "color": "#2a3f5f"
           }
          },
          "ternary": {
           "aaxis": {
            "gridcolor": "white",
            "linecolor": "white",
            "ticks": ""
           },
           "baxis": {
            "gridcolor": "white",
            "linecolor": "white",
            "ticks": ""
           },
           "bgcolor": "#E5ECF6",
           "caxis": {
            "gridcolor": "white",
            "linecolor": "white",
            "ticks": ""
           }
          },
          "title": {
           "x": 0.05
          },
          "xaxis": {
           "automargin": true,
           "gridcolor": "white",
           "linecolor": "white",
           "ticks": "",
           "title": {
            "standoff": 15
           },
           "zerolinecolor": "white",
           "zerolinewidth": 2
          },
          "yaxis": {
           "automargin": true,
           "gridcolor": "white",
           "linecolor": "white",
           "ticks": "",
           "title": {
            "standoff": 15
           },
           "zerolinecolor": "white",
           "zerolinewidth": 2
          }
         }
        },
        "title": {
         "text": "Mean Loss vs data_size_pct grouped by reg_val"
        },
        "width": 1000,
        "xaxis": {
         "anchor": "y",
         "domain": [
          0,
          0.45
         ],
         "range": [
          -3.95,
          104.95
         ],
         "title": {
          "text": "data_size_pct"
         }
        },
        "xaxis2": {
         "anchor": "y2",
         "domain": [
          0.55,
          1
         ],
         "range": [
          -3.95,
          104.95
         ],
         "title": {
          "text": "data_size_pct"
         }
        },
        "xaxis3": {
         "anchor": "y3",
         "domain": [
          0,
          0.45
         ],
         "range": [
          -3.95,
          104.95
         ],
         "title": {
          "text": "data_size_pct"
         }
        },
        "xaxis4": {
         "anchor": "y4",
         "domain": [
          0.55,
          1
         ],
         "range": [
          -3.95,
          104.95
         ],
         "title": {
          "text": "data_size_pct"
         }
        },
        "xaxis5": {
         "anchor": "y5",
         "domain": [
          0,
          0.45
         ],
         "range": [
          -3.95,
          104.95
         ],
         "title": {
          "text": "data_size_pct"
         }
        },
        "xaxis6": {
         "anchor": "y6",
         "domain": [
          0.55,
          1
         ],
         "range": [
          -3.95,
          104.95
         ],
         "title": {
          "text": "data_size_pct"
         }
        },
        "xaxis7": {
         "anchor": "y7",
         "domain": [
          0,
          0.45
         ],
         "range": [
          -3.95,
          104.95
         ],
         "title": {
          "text": "data_size_pct"
         }
        },
        "xaxis8": {
         "anchor": "y8",
         "domain": [
          0.55,
          1
         ]
        },
        "yaxis": {
         "anchor": "x",
         "domain": [
          0.84375,
          1
         ],
         "range": [
          -0.011478820872133685,
          0.7812954322051813
         ],
         "title": {
          "text": "Mean Loss"
         }
        },
        "yaxis2": {
         "anchor": "x2",
         "domain": [
          0.84375,
          1
         ],
         "range": [
          -0.011478820872133685,
          0.7812954322051813
         ],
         "title": {
          "text": "Mean Loss"
         }
        },
        "yaxis3": {
         "anchor": "x3",
         "domain": [
          0.5625,
          0.71875
         ],
         "range": [
          -0.011478820872133685,
          0.7812954322051813
         ],
         "title": {
          "text": "Mean Loss"
         }
        },
        "yaxis4": {
         "anchor": "x4",
         "domain": [
          0.5625,
          0.71875
         ],
         "range": [
          -0.011478820872133685,
          0.7812954322051813
         ],
         "title": {
          "text": "Mean Loss"
         }
        },
        "yaxis5": {
         "anchor": "x5",
         "domain": [
          0.28125,
          0.4375
         ],
         "range": [
          -0.011478820872133685,
          0.7812954322051813
         ],
         "title": {
          "text": "Mean Loss"
         }
        },
        "yaxis6": {
         "anchor": "x6",
         "domain": [
          0.28125,
          0.4375
         ],
         "range": [
          -0.011478820872133685,
          0.7812954322051813
         ],
         "title": {
          "text": "Mean Loss"
         }
        },
        "yaxis7": {
         "anchor": "x7",
         "domain": [
          0,
          0.15625
         ],
         "range": [
          -0.011478820872133685,
          0.7812954322051813
         ],
         "title": {
          "text": "Mean Loss"
         }
        },
        "yaxis8": {
         "anchor": "x8",
         "domain": [
          0,
          0.15625
         ]
        }
       }
      }
     },
     "metadata": {},
     "output_type": "display_data"
    }
   ],
   "source": [
    "plot_reg_val = plot_mean_loss(dataset, x_axis='data_size_pct', group_by='reg_val', log_x=False)"
   ]
  },
  {
   "cell_type": "code",
   "execution_count": 59,
   "metadata": {},
   "outputs": [
    {
     "data": {
      "application/vnd.plotly.v1+json": {
       "config": {
        "plotlyServerURL": "https://plot.ly"
       },
       "data": [
        {
         "error_y": {
          "array": [
           0.05472968064935721,
           0.07339128811194946,
           0.05707402061763216,
           0.07865506103225547,
           0.11094572868995062,
           0.11112455112675053,
           0.004897087462861355
          ],
          "type": "data",
          "visible": true
         },
         "hoverinfo": "text",
         "hovertext": [
          "reg_val: 0.0<br>Mean Loss: 0.3449069579180918<br>Avg Learning Rate: 0.00421",
          "reg_val: 0.1<br>Mean Loss: 0.3472520126323951<br>Avg Learning Rate: 0.007690000000000001",
          "reg_val: 0.3<br>Mean Loss: 0.3427889386551422<br>Avg Learning Rate: 0.0051400000000000005",
          "reg_val: 0.5<br>Mean Loss: 0.3697574505419062<br>Avg Learning Rate: 0.005169999999999999",
          "reg_val: 0.6<br>Mean Loss: 0.41487027140040145<br>Avg Learning Rate: 0.0073",
          "reg_val: 0.7<br>Mean Loss: 0.6015439757129603<br>Avg Learning Rate: 0.00694",
          "reg_val: 0.8<br>Mean Loss: 0.6898214799270296<br>Avg Learning Rate: 0.004801"
         ],
         "mode": "lines+markers",
         "name": "1",
         "type": "scatter",
         "x": [
          0,
          0.1,
          0.3,
          0.5,
          0.6,
          0.7,
          0.8
         ],
         "xaxis": "x",
         "y": [
          0.3449069579180918,
          0.3472520126323951,
          0.3427889386551422,
          0.3697574505419062,
          0.41487027140040145,
          0.6015439757129603,
          0.6898214799270296
         ],
         "yaxis": "y"
        },
        {
         "error_y": {
          "array": [
           0.05314760577424332,
           0.055804985278751905,
           0.032264180444688845,
           0.027632048620466955,
           0.06304763795041712,
           0.11127351723600765,
           0.010735074559813746
          ],
          "type": "data",
          "visible": true
         },
         "hoverinfo": "text",
         "hovertext": [
          "reg_val: 0.0<br>Mean Loss: 0.29227248091708147<br>Avg Learning Rate: 0.00283",
          "reg_val: 0.1<br>Mean Loss: 0.30527383564857014<br>Avg Learning Rate: 0.00436",
          "reg_val: 0.3<br>Mean Loss: 0.29949371602974434<br>Avg Learning Rate: 0.0041800000000000006",
          "reg_val: 0.5<br>Mean Loss: 0.3023370553265538<br>Avg Learning Rate: 0.0049",
          "reg_val: 0.6<br>Mean Loss: 0.3402175267276011<br>Avg Learning Rate: 0.0037",
          "reg_val: 0.7<br>Mean Loss: 0.4307564999450717<br>Avg Learning Rate: 0.0049",
          "reg_val: 0.8<br>Mean Loss: 0.6854731556616331<br>Avg Learning Rate: 0.0094"
         ],
         "mode": "lines+markers",
         "name": "2",
         "type": "scatter",
         "x": [
          0,
          0.1,
          0.3,
          0.5,
          0.6,
          0.7,
          0.8
         ],
         "xaxis": "x2",
         "y": [
          0.29227248091708147,
          0.30527383564857014,
          0.29949371602974434,
          0.3023370553265538,
          0.3402175267276011,
          0.4307564999450717,
          0.6854731556616331
         ],
         "yaxis": "y2"
        },
        {
         "error_y": {
          "array": [
           0.05451362638138272,
           0.05226599140309987,
           0.03604002027803801,
           0.021463972947247757,
           0.06112403618497648,
           0.04309451955030321,
           0.06325981537322894
          ],
          "type": "data",
          "visible": true
         },
         "hoverinfo": "text",
         "hovertext": [
          "reg_val: 0.0<br>Mean Loss: 0.2660505767821808<br>Avg Learning Rate: 0.00412",
          "reg_val: 0.1<br>Mean Loss: 0.26464012561921485<br>Avg Learning Rate: 0.00448",
          "reg_val: 0.3<br>Mean Loss: 0.2793227759434988<br>Avg Learning Rate: 0.00487",
          "reg_val: 0.5<br>Mean Loss: 0.29005884962123735<br>Avg Learning Rate: 0.0049",
          "reg_val: 0.6<br>Mean Loss: 0.3172692771020688<br>Avg Learning Rate: 0.0031",
          "reg_val: 0.7<br>Mean Loss: 0.34976991015045267<br>Avg Learning Rate: 0.0034000000000000002",
          "reg_val: 0.8<br>Mean Loss: 0.6476002869375965<br>Avg Learning Rate: 0.0127"
         ],
         "mode": "lines+markers",
         "name": "3",
         "type": "scatter",
         "x": [
          0,
          0.1,
          0.3,
          0.5,
          0.6,
          0.7,
          0.8
         ],
         "xaxis": "x3",
         "y": [
          0.2660505767821808,
          0.26464012561921485,
          0.2793227759434988,
          0.29005884962123735,
          0.3172692771020688,
          0.34976991015045267,
          0.6476002869375965
         ],
         "yaxis": "y3"
        },
        {
         "error_y": {
          "array": [
           0.07099208547600006,
           0.07144273147229492,
           0.048240470559270075,
           0.024416979863828014,
           0.02783039491976003,
           0.04861585627689789,
           0.033692097682320614
          ],
          "type": "data",
          "visible": true
         },
         "hoverinfo": "text",
         "hovertext": [
          "reg_val: 0.0<br>Mean Loss: 0.22876261630403938<br>Avg Learning Rate: 0.004960000000000001",
          "reg_val: 0.1<br>Mean Loss: 0.21585090030965048<br>Avg Learning Rate: 0.0041800000000000006",
          "reg_val: 0.3<br>Mean Loss: 0.2514276706205125<br>Avg Learning Rate: 0.0052",
          "reg_val: 0.5<br>Mean Loss: 0.2726693048288948<br>Avg Learning Rate: 0.0019",
          "reg_val: 0.6<br>Mean Loss: 0.2889564472593759<br>Avg Learning Rate: 0.0016",
          "reg_val: 0.7<br>Mean Loss: 0.33561505432191646<br>Avg Learning Rate: 0.0028",
          "reg_val: 0.8<br>Mean Loss: 0.6780168225890713<br>Avg Learning Rate: 0.011500000000000002"
         ],
         "mode": "lines+markers",
         "name": "4",
         "type": "scatter",
         "x": [
          0,
          0.1,
          0.3,
          0.5,
          0.6,
          0.7,
          0.8
         ],
         "xaxis": "x4",
         "y": [
          0.22876261630403938,
          0.21585090030965048,
          0.2514276706205125,
          0.2726693048288948,
          0.2889564472593759,
          0.33561505432191646,
          0.6780168225890713
         ],
         "yaxis": "y4"
        },
        {
         "error_y": {
          "array": [
           0.06774631558525081,
           0.06818180599293644,
           0.047001443135573376,
           0.03673130517648842,
           0.017375758787958655,
           0.04186431265999739,
           0.052452869976614906
          ],
          "type": "data",
          "visible": true
         },
         "hoverinfo": "text",
         "hovertext": [
          "reg_val: 0.0<br>Mean Loss: 0.230414863525514<br>Avg Learning Rate: 0.004390000000000001",
          "reg_val: 0.1<br>Mean Loss: 0.2273503901322552<br>Avg Learning Rate: 0.00481",
          "reg_val: 0.3<br>Mean Loss: 0.25838213627014245<br>Avg Learning Rate: 0.00421",
          "reg_val: 0.5<br>Mean Loss: 0.2835237092877689<br>Avg Learning Rate: 0.0028",
          "reg_val: 0.6<br>Mean Loss: 0.2870172238402199<br>Avg Learning Rate: 0.0028",
          "reg_val: 0.7<br>Mean Loss: 0.33093522158369676<br>Avg Learning Rate: 0.0016",
          "reg_val: 0.8<br>Mean Loss: 0.6734072497016506<br>Avg Learning Rate: 0.0085"
         ],
         "mode": "lines+markers",
         "name": "5",
         "type": "scatter",
         "x": [
          0,
          0.1,
          0.3,
          0.5,
          0.6,
          0.7,
          0.8
         ],
         "xaxis": "x5",
         "y": [
          0.230414863525514,
          0.2273503901322552,
          0.25838213627014245,
          0.2835237092877689,
          0.2870172238402199,
          0.33093522158369676,
          0.6734072497016506
         ],
         "yaxis": "y5"
        },
        {
         "error_y": {
          "array": [
           0.06899572764727974,
           0.07250590227202636,
           0.04917808805313848,
           0.027635645673289484,
           0.023620635845526285,
           0.032998849372943354,
           0.037248392585809476
          ],
          "type": "data",
          "visible": true
         },
         "hoverinfo": "text",
         "hovertext": [
          "reg_val: 0.0<br>Mean Loss: 0.21178034031355195<br>Avg Learning Rate: 0.0044199999999999995",
          "reg_val: 0.1<br>Mean Loss: 0.21024198126243915<br>Avg Learning Rate: 0.00481",
          "reg_val: 0.3<br>Mean Loss: 0.24570315963866415<br>Avg Learning Rate: 0.00517",
          "reg_val: 0.5<br>Mean Loss: 0.2760309468628021<br>Avg Learning Rate: 0.0018700000000000001",
          "reg_val: 0.6<br>Mean Loss: 0.2897010404289814<br>Avg Learning Rate: 0.0022",
          "reg_val: 0.7<br>Mean Loss: 0.31970332547237995<br>Avg Learning Rate: 0.0025",
          "reg_val: 0.8<br>Mean Loss: 0.6781034425162432<br>Avg Learning Rate: 0.013600000000000001"
         ],
         "mode": "lines+markers",
         "name": "6",
         "type": "scatter",
         "x": [
          0,
          0.1,
          0.3,
          0.5,
          0.6,
          0.7,
          0.8
         ],
         "xaxis": "x6",
         "y": [
          0.21178034031355195,
          0.21024198126243915,
          0.24570315963866415,
          0.2760309468628021,
          0.2897010404289814,
          0.31970332547237995,
          0.6781034425162432
         ],
         "yaxis": "y6"
        },
        {
         "error_y": {
          "array": [
           0.06796610842711705,
           0.066880065837574,
           0.04195372153102341,
           0.02267381761997752,
           0.02094568416690521,
           0.03192690468509253,
           0.0330719876459584
          ],
          "type": "data",
          "visible": true
         },
         "hoverinfo": "text",
         "hovertext": [
          "reg_val: 0.0<br>Mean Loss: 0.17356953335795222<br>Avg Learning Rate: 0.00511",
          "reg_val: 0.1<br>Mean Loss: 0.18838421915608797<br>Avg Learning Rate: 0.00394",
          "reg_val: 0.3<br>Mean Loss: 0.241895454213546<br>Avg Learning Rate: 0.0034",
          "reg_val: 0.5<br>Mean Loss: 0.27524534767134146<br>Avg Learning Rate: 0.0028",
          "reg_val: 0.6<br>Mean Loss: 0.28656301568997533<br>Avg Learning Rate: 0.0013",
          "reg_val: 0.7<br>Mean Loss: 0.3240566819121963<br>Avg Learning Rate: 0.0019",
          "reg_val: 0.8<br>Mean Loss: 0.682260062558609<br>Avg Learning Rate: 0.014470000000000002"
         ],
         "mode": "lines+markers",
         "name": "7",
         "type": "scatter",
         "x": [
          0,
          0.1,
          0.3,
          0.5,
          0.6,
          0.7,
          0.8
         ],
         "xaxis": "x7",
         "y": [
          0.17356953335795222,
          0.18838421915608797,
          0.241895454213546,
          0.27524534767134146,
          0.28656301568997533,
          0.3240566819121963,
          0.682260062558609
         ],
         "yaxis": "y7"
        },
        {
         "error_y": {
          "array": [
           0.03613862387694329,
           0.019794769030320656,
           0.03634158886670676,
           0.050220239298290906,
           0.026813081589337987,
           0.023491281287994607,
           0.14262015070061548
          ],
          "type": "data",
          "visible": true
         },
         "hoverinfo": "text",
         "hovertext": [
          "reg_val: 0.0<br>Mean Loss: 0.11503423973917955<br>Avg Learning Rate: 0.0030700000000000002",
          "reg_val: 0.1<br>Mean Loss: 0.10985173191221656<br>Avg Learning Rate: 0.0043",
          "reg_val: 0.3<br>Mean Loss: 0.1236909779785364<br>Avg Learning Rate: 0.00097",
          "reg_val: 0.5<br>Mean Loss: 0.20033505150492772<br>Avg Learning Rate: 0.001",
          "reg_val: 0.6<br>Mean Loss: 0.23924731399145038<br>Avg Learning Rate: 0.001",
          "reg_val: 0.7<br>Mean Loss: 0.2828072718360968<br>Avg Learning Rate: 0.001",
          "reg_val: 0.8<br>Mean Loss: 0.544791298869409<br>Avg Learning Rate: 0.0049"
         ],
         "mode": "lines+markers",
         "name": "8",
         "type": "scatter",
         "x": [
          0,
          0.1,
          0.3,
          0.5,
          0.6,
          0.7,
          0.8
         ],
         "xaxis": "x8",
         "y": [
          0.11503423973917955,
          0.10985173191221656,
          0.1236909779785364,
          0.20033505150492772,
          0.23924731399145038,
          0.2828072718360968,
          0.544791298869409
         ],
         "yaxis": "y8"
        },
        {
         "error_y": {
          "array": [
           0.04554118850541829,
           0.046413150812681866,
           0.048764493485253045,
           0.04926966178818476,
           0.023346657429957507,
           0.018562438222467323,
           0.13423261325267852
          ],
          "type": "data",
          "visible": true
         },
         "hoverinfo": "text",
         "hovertext": [
          "reg_val: 0.0<br>Mean Loss: 0.11910526910469979<br>Avg Learning Rate: 0.0043",
          "reg_val: 0.1<br>Mean Loss: 0.12519789443498375<br>Avg Learning Rate: 0.0025",
          "reg_val: 0.3<br>Mean Loss: 0.14229784562628256<br>Avg Learning Rate: 0.0019",
          "reg_val: 0.5<br>Mean Loss: 0.18947047123260663<br>Avg Learning Rate: 0.0013",
          "reg_val: 0.6<br>Mean Loss: 0.23681804139101711<br>Avg Learning Rate: 0.001",
          "reg_val: 0.7<br>Mean Loss: 0.27820076207842737<br>Avg Learning Rate: 0.001",
          "reg_val: 0.8<br>Mean Loss: 0.5593013880022786<br>Avg Learning Rate: 0.0103"
         ],
         "mode": "lines+markers",
         "name": "9",
         "type": "scatter",
         "x": [
          0,
          0.1,
          0.3,
          0.5,
          0.6,
          0.7,
          0.8
         ],
         "xaxis": "x9",
         "y": [
          0.11910526910469979,
          0.12519789443498375,
          0.14229784562628256,
          0.18947047123260663,
          0.23681804139101711,
          0.27820076207842737,
          0.5593013880022786
         ],
         "yaxis": "y9"
        },
        {
         "error_y": {
          "array": [
           0.03654216963470398,
           0.03143856554446533,
           0.05064395338219848,
           0.04830602807813803,
           0.02559584450610939,
           0.02560324034242681,
           0.12827517603734342
          ],
          "type": "data",
          "visible": true
         },
         "hoverinfo": "text",
         "hovertext": [
          "reg_val: 0.0<br>Mean Loss: 0.11645971656319468<br>Avg Learning Rate: 0.0031",
          "reg_val: 0.1<br>Mean Loss: 0.11689296763864129<br>Avg Learning Rate: 0.00367",
          "reg_val: 0.3<br>Mean Loss: 0.13823347388554294<br>Avg Learning Rate: 0.0019",
          "reg_val: 0.5<br>Mean Loss: 0.19544516934506723<br>Avg Learning Rate: 0.0013",
          "reg_val: 0.6<br>Mean Loss: 0.2451895345721328<br>Avg Learning Rate: 0.001",
          "reg_val: 0.7<br>Mean Loss: 0.2791993138037229<br>Avg Learning Rate: 0.001",
          "reg_val: 0.8<br>Mean Loss: 0.567463772181879<br>Avg Learning Rate: 0.007570000000000001"
         ],
         "mode": "lines+markers",
         "name": "10",
         "type": "scatter",
         "x": [
          0,
          0.1,
          0.3,
          0.5,
          0.6,
          0.7,
          0.8
         ],
         "xaxis": "x10",
         "y": [
          0.11645971656319468,
          0.11689296763864129,
          0.13823347388554294,
          0.19544516934506723,
          0.2451895345721328,
          0.2791993138037229,
          0.567463772181879
         ],
         "yaxis": "y10"
        },
        {
         "error_y": {
          "array": [
           0.006162682353357095,
           0.007668423960873245,
           0.010829119156967413,
           0.017366102498832785,
           0.024814061768561765,
           0.028387027390225937,
           0.12142443298319065
          ],
          "type": "data",
          "visible": true
         },
         "hoverinfo": "text",
         "hovertext": [
          "reg_val: 0.0<br>Mean Loss: 0.0885187165558403<br>Avg Learning Rate: 0.0029500000000000004",
          "reg_val: 0.1<br>Mean Loss: 0.08956461708518886<br>Avg Learning Rate: 0.0023200000000000004",
          "reg_val: 0.3<br>Mean Loss: 0.09558020398559927<br>Avg Learning Rate: 0.00097",
          "reg_val: 0.5<br>Mean Loss: 0.10280618520061431<br>Avg Learning Rate: 0.001",
          "reg_val: 0.6<br>Mean Loss: 0.12283626329153771<br>Avg Learning Rate: 0.001",
          "reg_val: 0.7<br>Mean Loss: 0.21816044706001614<br>Avg Learning Rate: 0.001",
          "reg_val: 0.8<br>Mean Loss: 0.39391525531547106<br>Avg Learning Rate: 0.004567"
         ],
         "mode": "lines+markers",
         "name": "20",
         "type": "scatter",
         "x": [
          0,
          0.1,
          0.3,
          0.5,
          0.6,
          0.7,
          0.8
         ],
         "xaxis": "x11",
         "y": [
          0.0885187165558403,
          0.08956461708518886,
          0.09558020398559927,
          0.10280618520061431,
          0.12283626329153771,
          0.21816044706001614,
          0.39391525531547106
         ],
         "yaxis": "y11"
        },
        {
         "error_y": {
          "array": [
           0.005875967941873689,
           0.0060235809252340445,
           0.005587165450514655,
           0.005812567653512132,
           0.008588352305291723,
           0.02282250249163197,
           0.017449619271066346
          ],
          "type": "data",
          "visible": true
         },
         "hoverinfo": "text",
         "hovertext": [
          "reg_val: 0.0<br>Mean Loss: 0.08669912310055732<br>Avg Learning Rate: 0.00463",
          "reg_val: 0.1<br>Mean Loss: 0.08735948049120208<br>Avg Learning Rate: 0.00088",
          "reg_val: 0.3<br>Mean Loss: 0.08902961747034596<br>Avg Learning Rate: 0.00082",
          "reg_val: 0.5<br>Mean Loss: 0.09285342651174251<br>Avg Learning Rate: 0.001",
          "reg_val: 0.6<br>Mean Loss: 0.10083324829149136<br>Avg Learning Rate: 0.001",
          "reg_val: 0.7<br>Mean Loss: 0.14630996614956013<br>Avg Learning Rate: 0.001",
          "reg_val: 0.8<br>Mean Loss: 0.33680088452079837<br>Avg Learning Rate: 0.001"
         ],
         "mode": "lines+markers",
         "name": "30",
         "type": "scatter",
         "x": [
          0,
          0.1,
          0.3,
          0.5,
          0.6,
          0.7,
          0.8
         ],
         "xaxis": "x12",
         "y": [
          0.08669912310055732,
          0.08735948049120208,
          0.08902961747034596,
          0.09285342651174251,
          0.10083324829149136,
          0.14630996614956013,
          0.33680088452079837
         ],
         "yaxis": "y12"
        },
        {
         "error_y": {
          "array": [
           0.003523413515269023,
           0.003978771415223182,
           0.005028137895744993,
           0.005250467607233044,
           0.006510996766266128,
           0.014377083351585277,
           0.02453791019411907
          ],
          "type": "data",
          "visible": true
         },
         "hoverinfo": "text",
         "hovertext": [
          "reg_val: 0.0<br>Mean Loss: 0.08481200908621146<br>Avg Learning Rate: 0.0049",
          "reg_val: 0.1<br>Mean Loss: 0.08503723437407687<br>Avg Learning Rate: 0.00172",
          "reg_val: 0.3<br>Mean Loss: 0.08537313730063793<br>Avg Learning Rate: 0.00091",
          "reg_val: 0.5<br>Mean Loss: 0.08909044246058581<br>Avg Learning Rate: 0.001",
          "reg_val: 0.6<br>Mean Loss: 0.09219326224145392<br>Avg Learning Rate: 0.001",
          "reg_val: 0.7<br>Mean Loss: 0.11836792455430613<br>Avg Learning Rate: 0.001",
          "reg_val: 0.8<br>Mean Loss: 0.33919145023090796<br>Avg Learning Rate: 0.001"
         ],
         "mode": "lines+markers",
         "name": "40",
         "type": "scatter",
         "x": [
          0,
          0.1,
          0.3,
          0.5,
          0.6,
          0.7,
          0.8
         ],
         "xaxis": "x13",
         "y": [
          0.08481200908621146,
          0.08503723437407687,
          0.08537313730063793,
          0.08909044246058581,
          0.09219326224145392,
          0.11836792455430613,
          0.33919145023090796
         ],
         "yaxis": "y13"
        },
        {
         "error_y": {
          "array": [
           0.004386292111443001,
           0.004044025541734616,
           0.004487507051990008,
           0.005535263927089527,
           0.005948583055177967,
           0.00919665596380965,
           0.020488661346534886
          ],
          "type": "data",
          "visible": true
         },
         "hoverinfo": "text",
         "hovertext": [
          "reg_val: 0.0<br>Mean Loss: 0.0840116439223812<br>Avg Learning Rate: 0.00274",
          "reg_val: 0.1<br>Mean Loss: 0.08342090659333684<br>Avg Learning Rate: 0.00229",
          "reg_val: 0.3<br>Mean Loss: 0.08442975140438133<br>Avg Learning Rate: 0.00082",
          "reg_val: 0.5<br>Mean Loss: 0.08466125909288066<br>Avg Learning Rate: 0.00097",
          "reg_val: 0.6<br>Mean Loss: 0.08981393719288075<br>Avg Learning Rate: 0.001",
          "reg_val: 0.7<br>Mean Loss: 0.10503326173414258<br>Avg Learning Rate: 0.001",
          "reg_val: 0.8<br>Mean Loss: 0.33457508369495986<br>Avg Learning Rate: 0.001"
         ],
         "mode": "lines+markers",
         "name": "50",
         "type": "scatter",
         "x": [
          0,
          0.1,
          0.3,
          0.5,
          0.6,
          0.7,
          0.8
         ],
         "xaxis": "x14",
         "y": [
          0.0840116439223812,
          0.08342090659333684,
          0.08442975140438133,
          0.08466125909288066,
          0.08981393719288075,
          0.10503326173414258,
          0.33457508369495986
         ],
         "yaxis": "y14"
        },
        {
         "error_y": {
          "array": [
           0.0033874525823681862,
           0.003200920646185125,
           0.0039640882700744005,
           0.0028867386883528524,
           0.005072549409774215,
           0.008741877597272464,
           0.02832697523901629
          ],
          "type": "data",
          "visible": true
         },
         "hoverinfo": "text",
         "hovertext": [
          "reg_val: 0.0<br>Mean Loss: 0.08192123684607311<br>Avg Learning Rate: 0.0018700000000000001",
          "reg_val: 0.1<br>Mean Loss: 0.0824191223266289<br>Avg Learning Rate: 0.00157",
          "reg_val: 0.3<br>Mean Loss: 0.08295268947095198<br>Avg Learning Rate: 0.00082",
          "reg_val: 0.5<br>Mean Loss: 0.08285481724234521<br>Avg Learning Rate: 0.00097",
          "reg_val: 0.6<br>Mean Loss: 0.08771831381641193<br>Avg Learning Rate: 0.001",
          "reg_val: 0.7<br>Mean Loss: 0.0975601897509605<br>Avg Learning Rate: 0.001",
          "reg_val: 0.8<br>Mean Loss: 0.3327809377459057<br>Avg Learning Rate: 0.001"
         ],
         "mode": "lines+markers",
         "name": "60",
         "type": "scatter",
         "x": [
          0,
          0.1,
          0.3,
          0.5,
          0.6,
          0.7,
          0.8
         ],
         "xaxis": "x15",
         "y": [
          0.08192123684607311,
          0.0824191223266289,
          0.08295268947095198,
          0.08285481724234521,
          0.08771831381641193,
          0.0975601897509605,
          0.3327809377459057
         ],
         "yaxis": "y15"
        },
        {
         "error_y": {
          "array": [
           0.0031060201303291122,
           0.0032366729281982447,
           0.0022704540054374325,
           0.003447097746853494,
           0.004543587409779331,
           0.008292619337830109,
           0.02519346914948981
          ],
          "type": "data",
          "visible": true
         },
         "hoverinfo": "text",
         "hovertext": [
          "reg_val: 0.0<br>Mean Loss: 0.08118025562562567<br>Avg Learning Rate: 0.00373",
          "reg_val: 0.1<br>Mean Loss: 0.08199997004856792<br>Avg Learning Rate: 0.00097",
          "reg_val: 0.3<br>Mean Loss: 0.08169611759173369<br>Avg Learning Rate: 0.00079",
          "reg_val: 0.5<br>Mean Loss: 0.0832598740390191<br>Avg Learning Rate: 0.00094",
          "reg_val: 0.6<br>Mean Loss: 0.08653306394831779<br>Avg Learning Rate: 0.001",
          "reg_val: 0.7<br>Mean Loss: 0.09664707735932444<br>Avg Learning Rate: 0.001",
          "reg_val: 0.8<br>Mean Loss: 0.32598242192414767<br>Avg Learning Rate: 0.001"
         ],
         "mode": "lines+markers",
         "name": "70",
         "type": "scatter",
         "x": [
          0,
          0.1,
          0.3,
          0.5,
          0.6,
          0.7,
          0.8
         ],
         "xaxis": "x16",
         "y": [
          0.08118025562562567,
          0.08199997004856792,
          0.08169611759173369,
          0.0832598740390191,
          0.08653306394831779,
          0.09664707735932444,
          0.32598242192414767
         ],
         "yaxis": "y16"
        },
        {
         "error_y": {
          "array": [
           0.0022671971097775606,
           0.0022621714277038453,
           0.002560837747491777,
           0.0022165913483955,
           0.0031924378865451917,
           0.007853424281007928,
           0.013657529324008336
          ],
          "type": "data",
          "visible": true
         },
         "hoverinfo": "text",
         "hovertext": [
          "reg_val: 0.0<br>Mean Loss: 0.08068004639639531<br>Avg Learning Rate: 0.0034300000000000003",
          "reg_val: 0.1<br>Mean Loss: 0.08084554377240696<br>Avg Learning Rate: 0.00142",
          "reg_val: 0.3<br>Mean Loss: 0.08130608638911913<br>Avg Learning Rate: 0.00079",
          "reg_val: 0.5<br>Mean Loss: 0.0820457267534118<br>Avg Learning Rate: 0.00088",
          "reg_val: 0.6<br>Mean Loss: 0.08416080776553007<br>Avg Learning Rate: 0.001",
          "reg_val: 0.7<br>Mean Loss: 0.09464972660337619<br>Avg Learning Rate: 0.001",
          "reg_val: 0.8<br>Mean Loss: 0.3311785263189098<br>Avg Learning Rate: 0.001"
         ],
         "mode": "lines+markers",
         "name": "80",
         "type": "scatter",
         "x": [
          0,
          0.1,
          0.3,
          0.5,
          0.6,
          0.7,
          0.8
         ],
         "xaxis": "x17",
         "y": [
          0.08068004639639531,
          0.08084554377240696,
          0.08130608638911913,
          0.0820457267534118,
          0.08416080776553007,
          0.09464972660337619,
          0.3311785263189098
         ],
         "yaxis": "y17"
        },
        {
         "error_y": {
          "array": [
           0.0024591007308432523,
           0.0022681540764340575,
           0.002815990475623519,
           0.002254036106639888,
           0.0034118532572880106,
           0.005589938193037662,
           0.026479993746213248
          ],
          "type": "data",
          "visible": true
         },
         "hoverinfo": "text",
         "hovertext": [
          "reg_val: 0.0<br>Mean Loss: 0.08032230735070216<br>Avg Learning Rate: 0.00232",
          "reg_val: 0.1<br>Mean Loss: 0.080648108519483<br>Avg Learning Rate: 0.00163",
          "reg_val: 0.3<br>Mean Loss: 0.08079487497738574<br>Avg Learning Rate: 0.0007900000000000001",
          "reg_val: 0.5<br>Mean Loss: 0.0818103794253578<br>Avg Learning Rate: 0.0007900000000000001",
          "reg_val: 0.6<br>Mean Loss: 0.08287491902725343<br>Avg Learning Rate: 0.00097",
          "reg_val: 0.7<br>Mean Loss: 0.09241590453801966<br>Avg Learning Rate: 0.001",
          "reg_val: 0.8<br>Mean Loss: 0.32240725081217914<br>Avg Learning Rate: 0.001"
         ],
         "mode": "lines+markers",
         "name": "90",
         "type": "scatter",
         "x": [
          0,
          0.1,
          0.3,
          0.5,
          0.6,
          0.7,
          0.8
         ],
         "xaxis": "x18",
         "y": [
          0.08032230735070216,
          0.080648108519483,
          0.08079487497738574,
          0.0818103794253578,
          0.08287491902725343,
          0.09241590453801966,
          0.32240725081217914
         ],
         "yaxis": "y18"
        },
        {
         "error_y": {
          "array": [
           0.0018736746947661555,
           0.0019469835883860224,
           0.0015064559274327468,
           0.002214590088720439,
           0.002647719742345909,
           0.006004721735367347,
           0.03776559785951745
          ],
          "type": "data",
          "visible": true
         },
         "hoverinfo": "text",
         "hovertext": [
          "reg_val: 0.0<br>Mean Loss: 0.0808774284234172<br>Avg Learning Rate: 0.002287",
          "reg_val: 0.1<br>Mean Loss: 0.08040090513807766<br>Avg Learning Rate: 0.00163",
          "reg_val: 0.3<br>Mean Loss: 0.07999513140601805<br>Avg Learning Rate: 0.00088",
          "reg_val: 0.5<br>Mean Loss: 0.08095466735233597<br>Avg Learning Rate: 0.00082",
          "reg_val: 0.6<br>Mean Loss: 0.08386548493841757<br>Avg Learning Rate: 0.001",
          "reg_val: 0.7<br>Mean Loss: 0.09033277829488114<br>Avg Learning Rate: 0.001",
          "reg_val: 0.8<br>Mean Loss: 0.3150051157202637<br>Avg Learning Rate: 0.001"
         ],
         "mode": "lines+markers",
         "name": "100",
         "type": "scatter",
         "x": [
          0,
          0.1,
          0.3,
          0.5,
          0.6,
          0.7,
          0.8
         ],
         "xaxis": "x19",
         "y": [
          0.0808774284234172,
          0.08040090513807766,
          0.07999513140601805,
          0.08095466735233597,
          0.08386548493841757,
          0.09033277829488114,
          0.3150051157202637
         ],
         "yaxis": "y19"
        }
       ],
       "layout": {
        "annotations": [
         {
          "font": {
           "size": 16
          },
          "showarrow": false,
          "text": "data_size_pct = 1",
          "x": 0.225,
          "xanchor": "center",
          "xref": "paper",
          "y": 1,
          "yanchor": "bottom",
          "yref": "paper"
         },
         {
          "font": {
           "size": 16
          },
          "showarrow": false,
          "text": "data_size_pct = 2",
          "x": 0.775,
          "xanchor": "center",
          "xref": "paper",
          "y": 1,
          "yanchor": "bottom",
          "yref": "paper"
         },
         {
          "font": {
           "size": 16
          },
          "showarrow": false,
          "text": "data_size_pct = 3",
          "x": 0.225,
          "xanchor": "center",
          "xref": "paper",
          "y": 0.8950000000000001,
          "yanchor": "bottom",
          "yref": "paper"
         },
         {
          "font": {
           "size": 16
          },
          "showarrow": false,
          "text": "data_size_pct = 4",
          "x": 0.775,
          "xanchor": "center",
          "xref": "paper",
          "y": 0.8950000000000001,
          "yanchor": "bottom",
          "yref": "paper"
         },
         {
          "font": {
           "size": 16
          },
          "showarrow": false,
          "text": "data_size_pct = 5",
          "x": 0.225,
          "xanchor": "center",
          "xref": "paper",
          "y": 0.7900000000000001,
          "yanchor": "bottom",
          "yref": "paper"
         },
         {
          "font": {
           "size": 16
          },
          "showarrow": false,
          "text": "data_size_pct = 6",
          "x": 0.775,
          "xanchor": "center",
          "xref": "paper",
          "y": 0.7900000000000001,
          "yanchor": "bottom",
          "yref": "paper"
         },
         {
          "font": {
           "size": 16
          },
          "showarrow": false,
          "text": "data_size_pct = 7",
          "x": 0.225,
          "xanchor": "center",
          "xref": "paper",
          "y": 0.6850000000000002,
          "yanchor": "bottom",
          "yref": "paper"
         },
         {
          "font": {
           "size": 16
          },
          "showarrow": false,
          "text": "data_size_pct = 8",
          "x": 0.775,
          "xanchor": "center",
          "xref": "paper",
          "y": 0.6850000000000002,
          "yanchor": "bottom",
          "yref": "paper"
         },
         {
          "font": {
           "size": 16
          },
          "showarrow": false,
          "text": "data_size_pct = 9",
          "x": 0.225,
          "xanchor": "center",
          "xref": "paper",
          "y": 0.5800000000000001,
          "yanchor": "bottom",
          "yref": "paper"
         },
         {
          "font": {
           "size": 16
          },
          "showarrow": false,
          "text": "data_size_pct = 10",
          "x": 0.775,
          "xanchor": "center",
          "xref": "paper",
          "y": 0.5800000000000001,
          "yanchor": "bottom",
          "yref": "paper"
         },
         {
          "font": {
           "size": 16
          },
          "showarrow": false,
          "text": "data_size_pct = 20",
          "x": 0.225,
          "xanchor": "center",
          "xref": "paper",
          "y": 0.47500000000000003,
          "yanchor": "bottom",
          "yref": "paper"
         },
         {
          "font": {
           "size": 16
          },
          "showarrow": false,
          "text": "data_size_pct = 30",
          "x": 0.775,
          "xanchor": "center",
          "xref": "paper",
          "y": 0.47500000000000003,
          "yanchor": "bottom",
          "yref": "paper"
         },
         {
          "font": {
           "size": 16
          },
          "showarrow": false,
          "text": "data_size_pct = 40",
          "x": 0.225,
          "xanchor": "center",
          "xref": "paper",
          "y": 0.37000000000000005,
          "yanchor": "bottom",
          "yref": "paper"
         },
         {
          "font": {
           "size": 16
          },
          "showarrow": false,
          "text": "data_size_pct = 50",
          "x": 0.775,
          "xanchor": "center",
          "xref": "paper",
          "y": 0.37000000000000005,
          "yanchor": "bottom",
          "yref": "paper"
         },
         {
          "font": {
           "size": 16
          },
          "showarrow": false,
          "text": "data_size_pct = 60",
          "x": 0.225,
          "xanchor": "center",
          "xref": "paper",
          "y": 0.265,
          "yanchor": "bottom",
          "yref": "paper"
         },
         {
          "font": {
           "size": 16
          },
          "showarrow": false,
          "text": "data_size_pct = 70",
          "x": 0.775,
          "xanchor": "center",
          "xref": "paper",
          "y": 0.265,
          "yanchor": "bottom",
          "yref": "paper"
         },
         {
          "font": {
           "size": 16
          },
          "showarrow": false,
          "text": "data_size_pct = 80",
          "x": 0.225,
          "xanchor": "center",
          "xref": "paper",
          "y": 0.16000000000000003,
          "yanchor": "bottom",
          "yref": "paper"
         },
         {
          "font": {
           "size": 16
          },
          "showarrow": false,
          "text": "data_size_pct = 90",
          "x": 0.775,
          "xanchor": "center",
          "xref": "paper",
          "y": 0.16000000000000003,
          "yanchor": "bottom",
          "yref": "paper"
         },
         {
          "font": {
           "size": 16
          },
          "showarrow": false,
          "text": "data_size_pct = 100",
          "x": 0.225,
          "xanchor": "center",
          "xref": "paper",
          "y": 0.05500000000000001,
          "yanchor": "bottom",
          "yref": "paper"
         }
        ],
        "height": 3200,
        "showlegend": false,
        "template": {
         "data": {
          "bar": [
           {
            "error_x": {
             "color": "#2a3f5f"
            },
            "error_y": {
             "color": "#2a3f5f"
            },
            "marker": {
             "line": {
              "color": "#E5ECF6",
              "width": 0.5
             },
             "pattern": {
              "fillmode": "overlay",
              "size": 10,
              "solidity": 0.2
             }
            },
            "type": "bar"
           }
          ],
          "barpolar": [
           {
            "marker": {
             "line": {
              "color": "#E5ECF6",
              "width": 0.5
             },
             "pattern": {
              "fillmode": "overlay",
              "size": 10,
              "solidity": 0.2
             }
            },
            "type": "barpolar"
           }
          ],
          "carpet": [
           {
            "aaxis": {
             "endlinecolor": "#2a3f5f",
             "gridcolor": "white",
             "linecolor": "white",
             "minorgridcolor": "white",
             "startlinecolor": "#2a3f5f"
            },
            "baxis": {
             "endlinecolor": "#2a3f5f",
             "gridcolor": "white",
             "linecolor": "white",
             "minorgridcolor": "white",
             "startlinecolor": "#2a3f5f"
            },
            "type": "carpet"
           }
          ],
          "choropleth": [
           {
            "colorbar": {
             "outlinewidth": 0,
             "ticks": ""
            },
            "type": "choropleth"
           }
          ],
          "contour": [
           {
            "colorbar": {
             "outlinewidth": 0,
             "ticks": ""
            },
            "colorscale": [
             [
              0,
              "#0d0887"
             ],
             [
              0.1111111111111111,
              "#46039f"
             ],
             [
              0.2222222222222222,
              "#7201a8"
             ],
             [
              0.3333333333333333,
              "#9c179e"
             ],
             [
              0.4444444444444444,
              "#bd3786"
             ],
             [
              0.5555555555555556,
              "#d8576b"
             ],
             [
              0.6666666666666666,
              "#ed7953"
             ],
             [
              0.7777777777777778,
              "#fb9f3a"
             ],
             [
              0.8888888888888888,
              "#fdca26"
             ],
             [
              1,
              "#f0f921"
             ]
            ],
            "type": "contour"
           }
          ],
          "contourcarpet": [
           {
            "colorbar": {
             "outlinewidth": 0,
             "ticks": ""
            },
            "type": "contourcarpet"
           }
          ],
          "heatmap": [
           {
            "colorbar": {
             "outlinewidth": 0,
             "ticks": ""
            },
            "colorscale": [
             [
              0,
              "#0d0887"
             ],
             [
              0.1111111111111111,
              "#46039f"
             ],
             [
              0.2222222222222222,
              "#7201a8"
             ],
             [
              0.3333333333333333,
              "#9c179e"
             ],
             [
              0.4444444444444444,
              "#bd3786"
             ],
             [
              0.5555555555555556,
              "#d8576b"
             ],
             [
              0.6666666666666666,
              "#ed7953"
             ],
             [
              0.7777777777777778,
              "#fb9f3a"
             ],
             [
              0.8888888888888888,
              "#fdca26"
             ],
             [
              1,
              "#f0f921"
             ]
            ],
            "type": "heatmap"
           }
          ],
          "heatmapgl": [
           {
            "colorbar": {
             "outlinewidth": 0,
             "ticks": ""
            },
            "colorscale": [
             [
              0,
              "#0d0887"
             ],
             [
              0.1111111111111111,
              "#46039f"
             ],
             [
              0.2222222222222222,
              "#7201a8"
             ],
             [
              0.3333333333333333,
              "#9c179e"
             ],
             [
              0.4444444444444444,
              "#bd3786"
             ],
             [
              0.5555555555555556,
              "#d8576b"
             ],
             [
              0.6666666666666666,
              "#ed7953"
             ],
             [
              0.7777777777777778,
              "#fb9f3a"
             ],
             [
              0.8888888888888888,
              "#fdca26"
             ],
             [
              1,
              "#f0f921"
             ]
            ],
            "type": "heatmapgl"
           }
          ],
          "histogram": [
           {
            "marker": {
             "pattern": {
              "fillmode": "overlay",
              "size": 10,
              "solidity": 0.2
             }
            },
            "type": "histogram"
           }
          ],
          "histogram2d": [
           {
            "colorbar": {
             "outlinewidth": 0,
             "ticks": ""
            },
            "colorscale": [
             [
              0,
              "#0d0887"
             ],
             [
              0.1111111111111111,
              "#46039f"
             ],
             [
              0.2222222222222222,
              "#7201a8"
             ],
             [
              0.3333333333333333,
              "#9c179e"
             ],
             [
              0.4444444444444444,
              "#bd3786"
             ],
             [
              0.5555555555555556,
              "#d8576b"
             ],
             [
              0.6666666666666666,
              "#ed7953"
             ],
             [
              0.7777777777777778,
              "#fb9f3a"
             ],
             [
              0.8888888888888888,
              "#fdca26"
             ],
             [
              1,
              "#f0f921"
             ]
            ],
            "type": "histogram2d"
           }
          ],
          "histogram2dcontour": [
           {
            "colorbar": {
             "outlinewidth": 0,
             "ticks": ""
            },
            "colorscale": [
             [
              0,
              "#0d0887"
             ],
             [
              0.1111111111111111,
              "#46039f"
             ],
             [
              0.2222222222222222,
              "#7201a8"
             ],
             [
              0.3333333333333333,
              "#9c179e"
             ],
             [
              0.4444444444444444,
              "#bd3786"
             ],
             [
              0.5555555555555556,
              "#d8576b"
             ],
             [
              0.6666666666666666,
              "#ed7953"
             ],
             [
              0.7777777777777778,
              "#fb9f3a"
             ],
             [
              0.8888888888888888,
              "#fdca26"
             ],
             [
              1,
              "#f0f921"
             ]
            ],
            "type": "histogram2dcontour"
           }
          ],
          "mesh3d": [
           {
            "colorbar": {
             "outlinewidth": 0,
             "ticks": ""
            },
            "type": "mesh3d"
           }
          ],
          "parcoords": [
           {
            "line": {
             "colorbar": {
              "outlinewidth": 0,
              "ticks": ""
             }
            },
            "type": "parcoords"
           }
          ],
          "pie": [
           {
            "automargin": true,
            "type": "pie"
           }
          ],
          "scatter": [
           {
            "fillpattern": {
             "fillmode": "overlay",
             "size": 10,
             "solidity": 0.2
            },
            "type": "scatter"
           }
          ],
          "scatter3d": [
           {
            "line": {
             "colorbar": {
              "outlinewidth": 0,
              "ticks": ""
             }
            },
            "marker": {
             "colorbar": {
              "outlinewidth": 0,
              "ticks": ""
             }
            },
            "type": "scatter3d"
           }
          ],
          "scattercarpet": [
           {
            "marker": {
             "colorbar": {
              "outlinewidth": 0,
              "ticks": ""
             }
            },
            "type": "scattercarpet"
           }
          ],
          "scattergeo": [
           {
            "marker": {
             "colorbar": {
              "outlinewidth": 0,
              "ticks": ""
             }
            },
            "type": "scattergeo"
           }
          ],
          "scattergl": [
           {
            "marker": {
             "colorbar": {
              "outlinewidth": 0,
              "ticks": ""
             }
            },
            "type": "scattergl"
           }
          ],
          "scattermapbox": [
           {
            "marker": {
             "colorbar": {
              "outlinewidth": 0,
              "ticks": ""
             }
            },
            "type": "scattermapbox"
           }
          ],
          "scatterpolar": [
           {
            "marker": {
             "colorbar": {
              "outlinewidth": 0,
              "ticks": ""
             }
            },
            "type": "scatterpolar"
           }
          ],
          "scatterpolargl": [
           {
            "marker": {
             "colorbar": {
              "outlinewidth": 0,
              "ticks": ""
             }
            },
            "type": "scatterpolargl"
           }
          ],
          "scatterternary": [
           {
            "marker": {
             "colorbar": {
              "outlinewidth": 0,
              "ticks": ""
             }
            },
            "type": "scatterternary"
           }
          ],
          "surface": [
           {
            "colorbar": {
             "outlinewidth": 0,
             "ticks": ""
            },
            "colorscale": [
             [
              0,
              "#0d0887"
             ],
             [
              0.1111111111111111,
              "#46039f"
             ],
             [
              0.2222222222222222,
              "#7201a8"
             ],
             [
              0.3333333333333333,
              "#9c179e"
             ],
             [
              0.4444444444444444,
              "#bd3786"
             ],
             [
              0.5555555555555556,
              "#d8576b"
             ],
             [
              0.6666666666666666,
              "#ed7953"
             ],
             [
              0.7777777777777778,
              "#fb9f3a"
             ],
             [
              0.8888888888888888,
              "#fdca26"
             ],
             [
              1,
              "#f0f921"
             ]
            ],
            "type": "surface"
           }
          ],
          "table": [
           {
            "cells": {
             "fill": {
              "color": "#EBF0F8"
             },
             "line": {
              "color": "white"
             }
            },
            "header": {
             "fill": {
              "color": "#C8D4E3"
             },
             "line": {
              "color": "white"
             }
            },
            "type": "table"
           }
          ]
         },
         "layout": {
          "annotationdefaults": {
           "arrowcolor": "#2a3f5f",
           "arrowhead": 0,
           "arrowwidth": 1
          },
          "autotypenumbers": "strict",
          "coloraxis": {
           "colorbar": {
            "outlinewidth": 0,
            "ticks": ""
           }
          },
          "colorscale": {
           "diverging": [
            [
             0,
             "#8e0152"
            ],
            [
             0.1,
             "#c51b7d"
            ],
            [
             0.2,
             "#de77ae"
            ],
            [
             0.3,
             "#f1b6da"
            ],
            [
             0.4,
             "#fde0ef"
            ],
            [
             0.5,
             "#f7f7f7"
            ],
            [
             0.6,
             "#e6f5d0"
            ],
            [
             0.7,
             "#b8e186"
            ],
            [
             0.8,
             "#7fbc41"
            ],
            [
             0.9,
             "#4d9221"
            ],
            [
             1,
             "#276419"
            ]
           ],
           "sequential": [
            [
             0,
             "#0d0887"
            ],
            [
             0.1111111111111111,
             "#46039f"
            ],
            [
             0.2222222222222222,
             "#7201a8"
            ],
            [
             0.3333333333333333,
             "#9c179e"
            ],
            [
             0.4444444444444444,
             "#bd3786"
            ],
            [
             0.5555555555555556,
             "#d8576b"
            ],
            [
             0.6666666666666666,
             "#ed7953"
            ],
            [
             0.7777777777777778,
             "#fb9f3a"
            ],
            [
             0.8888888888888888,
             "#fdca26"
            ],
            [
             1,
             "#f0f921"
            ]
           ],
           "sequentialminus": [
            [
             0,
             "#0d0887"
            ],
            [
             0.1111111111111111,
             "#46039f"
            ],
            [
             0.2222222222222222,
             "#7201a8"
            ],
            [
             0.3333333333333333,
             "#9c179e"
            ],
            [
             0.4444444444444444,
             "#bd3786"
            ],
            [
             0.5555555555555556,
             "#d8576b"
            ],
            [
             0.6666666666666666,
             "#ed7953"
            ],
            [
             0.7777777777777778,
             "#fb9f3a"
            ],
            [
             0.8888888888888888,
             "#fdca26"
            ],
            [
             1,
             "#f0f921"
            ]
           ]
          },
          "colorway": [
           "#636efa",
           "#EF553B",
           "#00cc96",
           "#ab63fa",
           "#FFA15A",
           "#19d3f3",
           "#FF6692",
           "#B6E880",
           "#FF97FF",
           "#FECB52"
          ],
          "font": {
           "color": "#2a3f5f"
          },
          "geo": {
           "bgcolor": "white",
           "lakecolor": "white",
           "landcolor": "#E5ECF6",
           "showlakes": true,
           "showland": true,
           "subunitcolor": "white"
          },
          "hoverlabel": {
           "align": "left"
          },
          "hovermode": "closest",
          "mapbox": {
           "style": "light"
          },
          "paper_bgcolor": "white",
          "plot_bgcolor": "#E5ECF6",
          "polar": {
           "angularaxis": {
            "gridcolor": "white",
            "linecolor": "white",
            "ticks": ""
           },
           "bgcolor": "#E5ECF6",
           "radialaxis": {
            "gridcolor": "white",
            "linecolor": "white",
            "ticks": ""
           }
          },
          "scene": {
           "xaxis": {
            "backgroundcolor": "#E5ECF6",
            "gridcolor": "white",
            "gridwidth": 2,
            "linecolor": "white",
            "showbackground": true,
            "ticks": "",
            "zerolinecolor": "white"
           },
           "yaxis": {
            "backgroundcolor": "#E5ECF6",
            "gridcolor": "white",
            "gridwidth": 2,
            "linecolor": "white",
            "showbackground": true,
            "ticks": "",
            "zerolinecolor": "white"
           },
           "zaxis": {
            "backgroundcolor": "#E5ECF6",
            "gridcolor": "white",
            "gridwidth": 2,
            "linecolor": "white",
            "showbackground": true,
            "ticks": "",
            "zerolinecolor": "white"
           }
          },
          "shapedefaults": {
           "line": {
            "color": "#2a3f5f"
           }
          },
          "ternary": {
           "aaxis": {
            "gridcolor": "white",
            "linecolor": "white",
            "ticks": ""
           },
           "baxis": {
            "gridcolor": "white",
            "linecolor": "white",
            "ticks": ""
           },
           "bgcolor": "#E5ECF6",
           "caxis": {
            "gridcolor": "white",
            "linecolor": "white",
            "ticks": ""
           }
          },
          "title": {
           "x": 0.05
          },
          "xaxis": {
           "automargin": true,
           "gridcolor": "white",
           "linecolor": "white",
           "ticks": "",
           "title": {
            "standoff": 15
           },
           "zerolinecolor": "white",
           "zerolinewidth": 2
          },
          "yaxis": {
           "automargin": true,
           "gridcolor": "white",
           "linecolor": "white",
           "ticks": "",
           "title": {
            "standoff": 15
           },
           "zerolinecolor": "white",
           "zerolinewidth": 2
          }
         }
        },
        "title": {
         "text": "Mean Loss vs reg_val grouped by data_size_pct"
        },
        "width": 1000,
        "xaxis": {
         "anchor": "y",
         "domain": [
          0,
          0.45
         ],
         "range": [
          -0.04000000000000001,
          0.8400000000000001
         ],
         "title": {
          "text": "reg_val"
         }
        },
        "xaxis10": {
         "anchor": "y10",
         "domain": [
          0.55,
          1
         ],
         "range": [
          -0.04000000000000001,
          0.8400000000000001
         ],
         "title": {
          "text": "reg_val"
         }
        },
        "xaxis11": {
         "anchor": "y11",
         "domain": [
          0,
          0.45
         ],
         "range": [
          -0.04000000000000001,
          0.8400000000000001
         ],
         "title": {
          "text": "reg_val"
         }
        },
        "xaxis12": {
         "anchor": "y12",
         "domain": [
          0.55,
          1
         ],
         "range": [
          -0.04000000000000001,
          0.8400000000000001
         ],
         "title": {
          "text": "reg_val"
         }
        },
        "xaxis13": {
         "anchor": "y13",
         "domain": [
          0,
          0.45
         ],
         "range": [
          -0.04000000000000001,
          0.8400000000000001
         ],
         "title": {
          "text": "reg_val"
         }
        },
        "xaxis14": {
         "anchor": "y14",
         "domain": [
          0.55,
          1
         ],
         "range": [
          -0.04000000000000001,
          0.8400000000000001
         ],
         "title": {
          "text": "reg_val"
         }
        },
        "xaxis15": {
         "anchor": "y15",
         "domain": [
          0,
          0.45
         ],
         "range": [
          -0.04000000000000001,
          0.8400000000000001
         ],
         "title": {
          "text": "reg_val"
         }
        },
        "xaxis16": {
         "anchor": "y16",
         "domain": [
          0.55,
          1
         ],
         "range": [
          -0.04000000000000001,
          0.8400000000000001
         ],
         "title": {
          "text": "reg_val"
         }
        },
        "xaxis17": {
         "anchor": "y17",
         "domain": [
          0,
          0.45
         ],
         "range": [
          -0.04000000000000001,
          0.8400000000000001
         ],
         "title": {
          "text": "reg_val"
         }
        },
        "xaxis18": {
         "anchor": "y18",
         "domain": [
          0.55,
          1
         ],
         "range": [
          -0.04000000000000001,
          0.8400000000000001
         ],
         "title": {
          "text": "reg_val"
         }
        },
        "xaxis19": {
         "anchor": "y19",
         "domain": [
          0,
          0.45
         ],
         "range": [
          -0.04000000000000001,
          0.8400000000000001
         ],
         "title": {
          "text": "reg_val"
         }
        },
        "xaxis2": {
         "anchor": "y2",
         "domain": [
          0.55,
          1
         ],
         "range": [
          -0.04000000000000001,
          0.8400000000000001
         ],
         "title": {
          "text": "reg_val"
         }
        },
        "xaxis20": {
         "anchor": "y20",
         "domain": [
          0.55,
          1
         ]
        },
        "xaxis3": {
         "anchor": "y3",
         "domain": [
          0,
          0.45
         ],
         "range": [
          -0.04000000000000001,
          0.8400000000000001
         ],
         "title": {
          "text": "reg_val"
         }
        },
        "xaxis4": {
         "anchor": "y4",
         "domain": [
          0.55,
          1
         ],
         "range": [
          -0.04000000000000001,
          0.8400000000000001
         ],
         "title": {
          "text": "reg_val"
         }
        },
        "xaxis5": {
         "anchor": "y5",
         "domain": [
          0,
          0.45
         ],
         "range": [
          -0.04000000000000001,
          0.8400000000000001
         ],
         "title": {
          "text": "reg_val"
         }
        },
        "xaxis6": {
         "anchor": "y6",
         "domain": [
          0.55,
          1
         ],
         "range": [
          -0.04000000000000001,
          0.8400000000000001
         ],
         "title": {
          "text": "reg_val"
         }
        },
        "xaxis7": {
         "anchor": "y7",
         "domain": [
          0,
          0.45
         ],
         "range": [
          -0.04000000000000001,
          0.8400000000000001
         ],
         "title": {
          "text": "reg_val"
         }
        },
        "xaxis8": {
         "anchor": "y8",
         "domain": [
          0.55,
          1
         ],
         "range": [
          -0.04000000000000001,
          0.8400000000000001
         ],
         "title": {
          "text": "reg_val"
         }
        },
        "xaxis9": {
         "anchor": "y9",
         "domain": [
          0,
          0.45
         ],
         "range": [
          -0.04000000000000001,
          0.8400000000000001
         ],
         "title": {
          "text": "reg_val"
         }
        },
        "yaxis": {
         "anchor": "x",
         "domain": [
          0.9450000000000001,
          1
         ],
         "range": [
          -0.011478820872133685,
          0.7812954322051813
         ],
         "title": {
          "text": "Mean Loss"
         }
        },
        "yaxis10": {
         "anchor": "x10",
         "domain": [
          0.525,
          0.5800000000000001
         ],
         "range": [
          -0.011478820872133685,
          0.7812954322051813
         ],
         "title": {
          "text": "Mean Loss"
         }
        },
        "yaxis11": {
         "anchor": "x11",
         "domain": [
          0.42000000000000004,
          0.47500000000000003
         ],
         "range": [
          -0.011478820872133685,
          0.7812954322051813
         ],
         "title": {
          "text": "Mean Loss"
         }
        },
        "yaxis12": {
         "anchor": "x12",
         "domain": [
          0.42000000000000004,
          0.47500000000000003
         ],
         "range": [
          -0.011478820872133685,
          0.7812954322051813
         ],
         "title": {
          "text": "Mean Loss"
         }
        },
        "yaxis13": {
         "anchor": "x13",
         "domain": [
          0.31500000000000006,
          0.37000000000000005
         ],
         "range": [
          -0.011478820872133685,
          0.7812954322051813
         ],
         "title": {
          "text": "Mean Loss"
         }
        },
        "yaxis14": {
         "anchor": "x14",
         "domain": [
          0.31500000000000006,
          0.37000000000000005
         ],
         "range": [
          -0.011478820872133685,
          0.7812954322051813
         ],
         "title": {
          "text": "Mean Loss"
         }
        },
        "yaxis15": {
         "anchor": "x15",
         "domain": [
          0.21000000000000002,
          0.265
         ],
         "range": [
          -0.011478820872133685,
          0.7812954322051813
         ],
         "title": {
          "text": "Mean Loss"
         }
        },
        "yaxis16": {
         "anchor": "x16",
         "domain": [
          0.21000000000000002,
          0.265
         ],
         "range": [
          -0.011478820872133685,
          0.7812954322051813
         ],
         "title": {
          "text": "Mean Loss"
         }
        },
        "yaxis17": {
         "anchor": "x17",
         "domain": [
          0.10500000000000001,
          0.16000000000000003
         ],
         "range": [
          -0.011478820872133685,
          0.7812954322051813
         ],
         "title": {
          "text": "Mean Loss"
         }
        },
        "yaxis18": {
         "anchor": "x18",
         "domain": [
          0.10500000000000001,
          0.16000000000000003
         ],
         "range": [
          -0.011478820872133685,
          0.7812954322051813
         ],
         "title": {
          "text": "Mean Loss"
         }
        },
        "yaxis19": {
         "anchor": "x19",
         "domain": [
          0,
          0.05500000000000001
         ],
         "range": [
          -0.011478820872133685,
          0.7812954322051813
         ],
         "title": {
          "text": "Mean Loss"
         }
        },
        "yaxis2": {
         "anchor": "x2",
         "domain": [
          0.9450000000000001,
          1
         ],
         "range": [
          -0.011478820872133685,
          0.7812954322051813
         ],
         "title": {
          "text": "Mean Loss"
         }
        },
        "yaxis20": {
         "anchor": "x20",
         "domain": [
          0,
          0.05500000000000001
         ]
        },
        "yaxis3": {
         "anchor": "x3",
         "domain": [
          0.8400000000000001,
          0.8950000000000001
         ],
         "range": [
          -0.011478820872133685,
          0.7812954322051813
         ],
         "title": {
          "text": "Mean Loss"
         }
        },
        "yaxis4": {
         "anchor": "x4",
         "domain": [
          0.8400000000000001,
          0.8950000000000001
         ],
         "range": [
          -0.011478820872133685,
          0.7812954322051813
         ],
         "title": {
          "text": "Mean Loss"
         }
        },
        "yaxis5": {
         "anchor": "x5",
         "domain": [
          0.7350000000000001,
          0.7900000000000001
         ],
         "range": [
          -0.011478820872133685,
          0.7812954322051813
         ],
         "title": {
          "text": "Mean Loss"
         }
        },
        "yaxis6": {
         "anchor": "x6",
         "domain": [
          0.7350000000000001,
          0.7900000000000001
         ],
         "range": [
          -0.011478820872133685,
          0.7812954322051813
         ],
         "title": {
          "text": "Mean Loss"
         }
        },
        "yaxis7": {
         "anchor": "x7",
         "domain": [
          0.6300000000000001,
          0.6850000000000002
         ],
         "range": [
          -0.011478820872133685,
          0.7812954322051813
         ],
         "title": {
          "text": "Mean Loss"
         }
        },
        "yaxis8": {
         "anchor": "x8",
         "domain": [
          0.6300000000000001,
          0.6850000000000002
         ],
         "range": [
          -0.011478820872133685,
          0.7812954322051813
         ],
         "title": {
          "text": "Mean Loss"
         }
        },
        "yaxis9": {
         "anchor": "x9",
         "domain": [
          0.525,
          0.5800000000000001
         ],
         "range": [
          -0.011478820872133685,
          0.7812954322051813
         ],
         "title": {
          "text": "Mean Loss"
         }
        }
       }
      }
     },
     "metadata": {},
     "output_type": "display_data"
    }
   ],
   "source": [
    "plot_data_size_pct = plot_mean_loss(dataset, x_axis='reg_val', group_by='data_size_pct', log_x=log_scale)"
   ]
  },
  {
   "cell_type": "code",
   "execution_count": 60,
   "metadata": {},
   "outputs": [],
   "source": [
    "def save_plots_to_html(plot_list, file_name):\n",
    "    \"\"\"\n",
    "    Saves multiple Plotly plots into a single HTML file.\n",
    "\n",
    "    Parameters:\n",
    "    - plot_list: A list of variable names (strings) that refer to Plotly plot objects.\n",
    "    - file_name: The name of the HTML file to save the plots.\n",
    "    \"\"\"\n",
    "    # Initialize an empty list to store the HTML content of each plot\n",
    "    html_content = []\n",
    "\n",
    "    # Loop through the list of plot variables, render the plot and append its HTML content\n",
    "    for plot_var in plot_list:\n",
    "        plot = eval(plot_var)  # Evaluate the string to get the actual plot object\n",
    "        html_content.append(pio.to_html(plot, full_html=False))\n",
    "\n",
    "    # Concatenate all plots into a single HTML string\n",
    "    full_html = \"<html><head></head><body>\" + \"\".join(html_content) + \"</body></html>\"\n",
    "\n",
    "    # Save the HTML content to the file\n",
    "    with open(file_name, \"w\", encoding='utf-8') as f:\n",
    "        f.write(full_html)\n",
    "\n",
    "    print(f\"Plots saved to {file_name}\")\n"
   ]
  },
  {
   "cell_type": "code",
   "execution_count": 61,
   "metadata": {},
   "outputs": [
    {
     "name": "stdout",
     "output_type": "stream",
     "text": [
      "Plots saved to TWOMOONS_dropout_plots.html\n"
     ]
    }
   ],
   "source": [
    "plot_list = ['plot_3d', 'plot_reg_val', 'plot_data_size_pct']\n",
    "html_filename = f'{dataset_name.upper()}_{reg_type}_plots.html'\n",
    "save_plots_to_html(plot_list, html_filename)"
   ]
  },
  {
   "cell_type": "code",
   "execution_count": null,
   "metadata": {},
   "outputs": [],
   "source": []
  }
 ],
 "metadata": {
  "kernelspec": {
   "display_name": "ml_lab_venv",
   "language": "python",
   "name": "python3"
  },
  "language_info": {
   "codemirror_mode": {
    "name": "ipython",
    "version": 3
   },
   "file_extension": ".py",
   "mimetype": "text/x-python",
   "name": "python",
   "nbconvert_exporter": "python",
   "pygments_lexer": "ipython3",
   "version": "3.11.3"
  }
 },
 "nbformat": 4,
 "nbformat_minor": 2
}
