{
 "cells": [
  {
   "cell_type": "code",
   "execution_count": 1,
   "metadata": {},
   "outputs": [],
   "source": [
    "import pandas as pd\n",
    "import numpy as np\n",
    "import matplotlib.pyplot as plt\n",
    "import plotly.express as px\n",
    "import plotly.graph_objects as go\n",
    "import plotly.io as pio\n",
    "from plotly.subplots import make_subplots\n",
    "import math\n",
    "from scipy.stats import norm"
   ]
  },
  {
   "cell_type": "markdown",
   "metadata": {},
   "source": [
    "### HPO of the architectures"
   ]
  },
  {
   "cell_type": "code",
   "execution_count": 50,
   "metadata": {},
   "outputs": [
    {
     "ename": "FileNotFoundError",
     "evalue": "[Errno 2] No such file or directory: '../protein_ARCH_HPO_results.csv'",
     "output_type": "error",
     "traceback": [
      "\u001b[1;31m---------------------------------------------------------------------------\u001b[0m",
      "\u001b[1;31mFileNotFoundError\u001b[0m                         Traceback (most recent call last)",
      "Cell \u001b[1;32mIn[50], line 26\u001b[0m\n\u001b[0;32m     24\u001b[0m     d_name \u001b[38;5;241m=\u001b[39m \u001b[38;5;124m\"\u001b[39m\u001b[38;5;124mtwomoons\u001b[39m\u001b[38;5;124m\"\u001b[39m\n\u001b[0;32m     25\u001b[0m     no_params \u001b[38;5;241m=\u001b[39m \u001b[38;5;241m1314560\u001b[39m \u001b[38;5;241m+\u001b[39m \u001b[38;5;241m1024\u001b[39m\u001b[38;5;241m*\u001b[39mno_features \u001b[38;5;241m+\u001b[39m \u001b[38;5;241m256\u001b[39m\u001b[38;5;241m*\u001b[39mno_classes\n\u001b[1;32m---> 26\u001b[0m df \u001b[38;5;241m=\u001b[39m \u001b[43mpd\u001b[49m\u001b[38;5;241;43m.\u001b[39;49m\u001b[43mread_csv\u001b[49m\u001b[43m(\u001b[49m\u001b[43mfile_path\u001b[49m\u001b[43m,\u001b[49m\u001b[43m \u001b[49m\u001b[43mindex_col\u001b[49m\u001b[38;5;241;43m=\u001b[39;49m\u001b[38;5;28;43;01mNone\u001b[39;49;00m\u001b[43m,\u001b[49m\u001b[43m \u001b[49m\u001b[43mheader\u001b[49m\u001b[38;5;241;43m=\u001b[39;49m\u001b[38;5;241;43m0\u001b[39;49m\u001b[43m)\u001b[49m\n\u001b[0;32m     27\u001b[0m df[\u001b[38;5;124m'\u001b[39m\u001b[38;5;124mno_params\u001b[39m\u001b[38;5;124m'\u001b[39m] \u001b[38;5;241m=\u001b[39m (df[\u001b[38;5;124m'\u001b[39m\u001b[38;5;124mparams_no_blocks\u001b[39m\u001b[38;5;124m'\u001b[39m] \u001b[38;5;241m-\u001b[39m \u001b[38;5;241m1\u001b[39m)\u001b[38;5;241m*\u001b[39m(df[\u001b[38;5;124m'\u001b[39m\u001b[38;5;124mparams_small_hidden_size\u001b[39m\u001b[38;5;124m'\u001b[39m]\u001b[38;5;241m*\u001b[39mdf[\u001b[38;5;124m'\u001b[39m\u001b[38;5;124mparams_big_hidden_size\u001b[39m\u001b[38;5;124m'\u001b[39m]\u001b[38;5;241m*\u001b[39m\u001b[38;5;241m2\u001b[39m \u001b[38;5;241m+\u001b[39m df[\u001b[38;5;124m'\u001b[39m\u001b[38;5;124mparams_small_hidden_size\u001b[39m\u001b[38;5;124m'\u001b[39m] \u001b[38;5;241m+\u001b[39m df[\u001b[38;5;124m'\u001b[39m\u001b[38;5;124mparams_big_hidden_size\u001b[39m\u001b[38;5;124m'\u001b[39m])\\\n\u001b[0;32m     28\u001b[0m     \u001b[38;5;241m+\u001b[39m (df[\u001b[38;5;124m'\u001b[39m\u001b[38;5;124mparams_small_hidden_size\u001b[39m\u001b[38;5;124m'\u001b[39m]\u001b[38;5;241m*\u001b[39mdf[\u001b[38;5;124m'\u001b[39m\u001b[38;5;124mparams_big_hidden_size\u001b[39m\u001b[38;5;124m'\u001b[39m] \u001b[38;5;241m+\u001b[39m df[\u001b[38;5;124m'\u001b[39m\u001b[38;5;124mparams_big_hidden_size\u001b[39m\u001b[38;5;124m'\u001b[39m]\u001b[38;5;241m*\u001b[39mno_features \u001b[38;5;241m+\u001b[39m df[\u001b[38;5;124m'\u001b[39m\u001b[38;5;124mparams_small_hidden_size\u001b[39m\u001b[38;5;124m'\u001b[39m] \u001b[38;5;241m+\u001b[39m df[\u001b[38;5;124m'\u001b[39m\u001b[38;5;124mparams_big_hidden_size\u001b[39m\u001b[38;5;124m'\u001b[39m])\\\n\u001b[0;32m     29\u001b[0m     \u001b[38;5;241m+\u001b[39m (df[\u001b[38;5;124m'\u001b[39m\u001b[38;5;124mparams_small_hidden_size\u001b[39m\u001b[38;5;124m'\u001b[39m]\u001b[38;5;241m*\u001b[39mno_classes \u001b[38;5;241m+\u001b[39m no_classes)\n\u001b[0;32m     30\u001b[0m df \u001b[38;5;241m=\u001b[39m df[df[\u001b[38;5;124m'\u001b[39m\u001b[38;5;124mvalue\u001b[39m\u001b[38;5;124m'\u001b[39m]\u001b[38;5;241m<\u001b[39m\u001b[38;5;241m2\u001b[39m]\n",
      "File \u001b[1;32mh:\\Uni\\WiSe 2024\\ML LAB\\ml_lab_venv\\Lib\\site-packages\\pandas\\io\\parsers\\readers.py:948\u001b[0m, in \u001b[0;36mread_csv\u001b[1;34m(filepath_or_buffer, sep, delimiter, header, names, index_col, usecols, dtype, engine, converters, true_values, false_values, skipinitialspace, skiprows, skipfooter, nrows, na_values, keep_default_na, na_filter, verbose, skip_blank_lines, parse_dates, infer_datetime_format, keep_date_col, date_parser, date_format, dayfirst, cache_dates, iterator, chunksize, compression, thousands, decimal, lineterminator, quotechar, quoting, doublequote, escapechar, comment, encoding, encoding_errors, dialect, on_bad_lines, delim_whitespace, low_memory, memory_map, float_precision, storage_options, dtype_backend)\u001b[0m\n\u001b[0;32m    935\u001b[0m kwds_defaults \u001b[38;5;241m=\u001b[39m _refine_defaults_read(\n\u001b[0;32m    936\u001b[0m     dialect,\n\u001b[0;32m    937\u001b[0m     delimiter,\n\u001b[1;32m   (...)\u001b[0m\n\u001b[0;32m    944\u001b[0m     dtype_backend\u001b[38;5;241m=\u001b[39mdtype_backend,\n\u001b[0;32m    945\u001b[0m )\n\u001b[0;32m    946\u001b[0m kwds\u001b[38;5;241m.\u001b[39mupdate(kwds_defaults)\n\u001b[1;32m--> 948\u001b[0m \u001b[38;5;28;01mreturn\u001b[39;00m \u001b[43m_read\u001b[49m\u001b[43m(\u001b[49m\u001b[43mfilepath_or_buffer\u001b[49m\u001b[43m,\u001b[49m\u001b[43m \u001b[49m\u001b[43mkwds\u001b[49m\u001b[43m)\u001b[49m\n",
      "File \u001b[1;32mh:\\Uni\\WiSe 2024\\ML LAB\\ml_lab_venv\\Lib\\site-packages\\pandas\\io\\parsers\\readers.py:611\u001b[0m, in \u001b[0;36m_read\u001b[1;34m(filepath_or_buffer, kwds)\u001b[0m\n\u001b[0;32m    608\u001b[0m _validate_names(kwds\u001b[38;5;241m.\u001b[39mget(\u001b[38;5;124m\"\u001b[39m\u001b[38;5;124mnames\u001b[39m\u001b[38;5;124m\"\u001b[39m, \u001b[38;5;28;01mNone\u001b[39;00m))\n\u001b[0;32m    610\u001b[0m \u001b[38;5;66;03m# Create the parser.\u001b[39;00m\n\u001b[1;32m--> 611\u001b[0m parser \u001b[38;5;241m=\u001b[39m \u001b[43mTextFileReader\u001b[49m\u001b[43m(\u001b[49m\u001b[43mfilepath_or_buffer\u001b[49m\u001b[43m,\u001b[49m\u001b[43m \u001b[49m\u001b[38;5;241;43m*\u001b[39;49m\u001b[38;5;241;43m*\u001b[39;49m\u001b[43mkwds\u001b[49m\u001b[43m)\u001b[49m\n\u001b[0;32m    613\u001b[0m \u001b[38;5;28;01mif\u001b[39;00m chunksize \u001b[38;5;129;01mor\u001b[39;00m iterator:\n\u001b[0;32m    614\u001b[0m     \u001b[38;5;28;01mreturn\u001b[39;00m parser\n",
      "File \u001b[1;32mh:\\Uni\\WiSe 2024\\ML LAB\\ml_lab_venv\\Lib\\site-packages\\pandas\\io\\parsers\\readers.py:1448\u001b[0m, in \u001b[0;36mTextFileReader.__init__\u001b[1;34m(self, f, engine, **kwds)\u001b[0m\n\u001b[0;32m   1445\u001b[0m     \u001b[38;5;28mself\u001b[39m\u001b[38;5;241m.\u001b[39moptions[\u001b[38;5;124m\"\u001b[39m\u001b[38;5;124mhas_index_names\u001b[39m\u001b[38;5;124m\"\u001b[39m] \u001b[38;5;241m=\u001b[39m kwds[\u001b[38;5;124m\"\u001b[39m\u001b[38;5;124mhas_index_names\u001b[39m\u001b[38;5;124m\"\u001b[39m]\n\u001b[0;32m   1447\u001b[0m \u001b[38;5;28mself\u001b[39m\u001b[38;5;241m.\u001b[39mhandles: IOHandles \u001b[38;5;241m|\u001b[39m \u001b[38;5;28;01mNone\u001b[39;00m \u001b[38;5;241m=\u001b[39m \u001b[38;5;28;01mNone\u001b[39;00m\n\u001b[1;32m-> 1448\u001b[0m \u001b[38;5;28mself\u001b[39m\u001b[38;5;241m.\u001b[39m_engine \u001b[38;5;241m=\u001b[39m \u001b[38;5;28;43mself\u001b[39;49m\u001b[38;5;241;43m.\u001b[39;49m\u001b[43m_make_engine\u001b[49m\u001b[43m(\u001b[49m\u001b[43mf\u001b[49m\u001b[43m,\u001b[49m\u001b[43m \u001b[49m\u001b[38;5;28;43mself\u001b[39;49m\u001b[38;5;241;43m.\u001b[39;49m\u001b[43mengine\u001b[49m\u001b[43m)\u001b[49m\n",
      "File \u001b[1;32mh:\\Uni\\WiSe 2024\\ML LAB\\ml_lab_venv\\Lib\\site-packages\\pandas\\io\\parsers\\readers.py:1705\u001b[0m, in \u001b[0;36mTextFileReader._make_engine\u001b[1;34m(self, f, engine)\u001b[0m\n\u001b[0;32m   1703\u001b[0m     \u001b[38;5;28;01mif\u001b[39;00m \u001b[38;5;124m\"\u001b[39m\u001b[38;5;124mb\u001b[39m\u001b[38;5;124m\"\u001b[39m \u001b[38;5;129;01mnot\u001b[39;00m \u001b[38;5;129;01min\u001b[39;00m mode:\n\u001b[0;32m   1704\u001b[0m         mode \u001b[38;5;241m+\u001b[39m\u001b[38;5;241m=\u001b[39m \u001b[38;5;124m\"\u001b[39m\u001b[38;5;124mb\u001b[39m\u001b[38;5;124m\"\u001b[39m\n\u001b[1;32m-> 1705\u001b[0m \u001b[38;5;28mself\u001b[39m\u001b[38;5;241m.\u001b[39mhandles \u001b[38;5;241m=\u001b[39m \u001b[43mget_handle\u001b[49m\u001b[43m(\u001b[49m\n\u001b[0;32m   1706\u001b[0m \u001b[43m    \u001b[49m\u001b[43mf\u001b[49m\u001b[43m,\u001b[49m\n\u001b[0;32m   1707\u001b[0m \u001b[43m    \u001b[49m\u001b[43mmode\u001b[49m\u001b[43m,\u001b[49m\n\u001b[0;32m   1708\u001b[0m \u001b[43m    \u001b[49m\u001b[43mencoding\u001b[49m\u001b[38;5;241;43m=\u001b[39;49m\u001b[38;5;28;43mself\u001b[39;49m\u001b[38;5;241;43m.\u001b[39;49m\u001b[43moptions\u001b[49m\u001b[38;5;241;43m.\u001b[39;49m\u001b[43mget\u001b[49m\u001b[43m(\u001b[49m\u001b[38;5;124;43m\"\u001b[39;49m\u001b[38;5;124;43mencoding\u001b[39;49m\u001b[38;5;124;43m\"\u001b[39;49m\u001b[43m,\u001b[49m\u001b[43m \u001b[49m\u001b[38;5;28;43;01mNone\u001b[39;49;00m\u001b[43m)\u001b[49m\u001b[43m,\u001b[49m\n\u001b[0;32m   1709\u001b[0m \u001b[43m    \u001b[49m\u001b[43mcompression\u001b[49m\u001b[38;5;241;43m=\u001b[39;49m\u001b[38;5;28;43mself\u001b[39;49m\u001b[38;5;241;43m.\u001b[39;49m\u001b[43moptions\u001b[49m\u001b[38;5;241;43m.\u001b[39;49m\u001b[43mget\u001b[49m\u001b[43m(\u001b[49m\u001b[38;5;124;43m\"\u001b[39;49m\u001b[38;5;124;43mcompression\u001b[39;49m\u001b[38;5;124;43m\"\u001b[39;49m\u001b[43m,\u001b[49m\u001b[43m \u001b[49m\u001b[38;5;28;43;01mNone\u001b[39;49;00m\u001b[43m)\u001b[49m\u001b[43m,\u001b[49m\n\u001b[0;32m   1710\u001b[0m \u001b[43m    \u001b[49m\u001b[43mmemory_map\u001b[49m\u001b[38;5;241;43m=\u001b[39;49m\u001b[38;5;28;43mself\u001b[39;49m\u001b[38;5;241;43m.\u001b[39;49m\u001b[43moptions\u001b[49m\u001b[38;5;241;43m.\u001b[39;49m\u001b[43mget\u001b[49m\u001b[43m(\u001b[49m\u001b[38;5;124;43m\"\u001b[39;49m\u001b[38;5;124;43mmemory_map\u001b[39;49m\u001b[38;5;124;43m\"\u001b[39;49m\u001b[43m,\u001b[49m\u001b[43m \u001b[49m\u001b[38;5;28;43;01mFalse\u001b[39;49;00m\u001b[43m)\u001b[49m\u001b[43m,\u001b[49m\n\u001b[0;32m   1711\u001b[0m \u001b[43m    \u001b[49m\u001b[43mis_text\u001b[49m\u001b[38;5;241;43m=\u001b[39;49m\u001b[43mis_text\u001b[49m\u001b[43m,\u001b[49m\n\u001b[0;32m   1712\u001b[0m \u001b[43m    \u001b[49m\u001b[43merrors\u001b[49m\u001b[38;5;241;43m=\u001b[39;49m\u001b[38;5;28;43mself\u001b[39;49m\u001b[38;5;241;43m.\u001b[39;49m\u001b[43moptions\u001b[49m\u001b[38;5;241;43m.\u001b[39;49m\u001b[43mget\u001b[49m\u001b[43m(\u001b[49m\u001b[38;5;124;43m\"\u001b[39;49m\u001b[38;5;124;43mencoding_errors\u001b[39;49m\u001b[38;5;124;43m\"\u001b[39;49m\u001b[43m,\u001b[49m\u001b[43m \u001b[49m\u001b[38;5;124;43m\"\u001b[39;49m\u001b[38;5;124;43mstrict\u001b[39;49m\u001b[38;5;124;43m\"\u001b[39;49m\u001b[43m)\u001b[49m\u001b[43m,\u001b[49m\n\u001b[0;32m   1713\u001b[0m \u001b[43m    \u001b[49m\u001b[43mstorage_options\u001b[49m\u001b[38;5;241;43m=\u001b[39;49m\u001b[38;5;28;43mself\u001b[39;49m\u001b[38;5;241;43m.\u001b[39;49m\u001b[43moptions\u001b[49m\u001b[38;5;241;43m.\u001b[39;49m\u001b[43mget\u001b[49m\u001b[43m(\u001b[49m\u001b[38;5;124;43m\"\u001b[39;49m\u001b[38;5;124;43mstorage_options\u001b[39;49m\u001b[38;5;124;43m\"\u001b[39;49m\u001b[43m,\u001b[49m\u001b[43m \u001b[49m\u001b[38;5;28;43;01mNone\u001b[39;49;00m\u001b[43m)\u001b[49m\u001b[43m,\u001b[49m\n\u001b[0;32m   1714\u001b[0m \u001b[43m\u001b[49m\u001b[43m)\u001b[49m\n\u001b[0;32m   1715\u001b[0m \u001b[38;5;28;01massert\u001b[39;00m \u001b[38;5;28mself\u001b[39m\u001b[38;5;241m.\u001b[39mhandles \u001b[38;5;129;01mis\u001b[39;00m \u001b[38;5;129;01mnot\u001b[39;00m \u001b[38;5;28;01mNone\u001b[39;00m\n\u001b[0;32m   1716\u001b[0m f \u001b[38;5;241m=\u001b[39m \u001b[38;5;28mself\u001b[39m\u001b[38;5;241m.\u001b[39mhandles\u001b[38;5;241m.\u001b[39mhandle\n",
      "File \u001b[1;32mh:\\Uni\\WiSe 2024\\ML LAB\\ml_lab_venv\\Lib\\site-packages\\pandas\\io\\common.py:863\u001b[0m, in \u001b[0;36mget_handle\u001b[1;34m(path_or_buf, mode, encoding, compression, memory_map, is_text, errors, storage_options)\u001b[0m\n\u001b[0;32m    858\u001b[0m \u001b[38;5;28;01melif\u001b[39;00m \u001b[38;5;28misinstance\u001b[39m(handle, \u001b[38;5;28mstr\u001b[39m):\n\u001b[0;32m    859\u001b[0m     \u001b[38;5;66;03m# Check whether the filename is to be opened in binary mode.\u001b[39;00m\n\u001b[0;32m    860\u001b[0m     \u001b[38;5;66;03m# Binary mode does not support 'encoding' and 'newline'.\u001b[39;00m\n\u001b[0;32m    861\u001b[0m     \u001b[38;5;28;01mif\u001b[39;00m ioargs\u001b[38;5;241m.\u001b[39mencoding \u001b[38;5;129;01mand\u001b[39;00m \u001b[38;5;124m\"\u001b[39m\u001b[38;5;124mb\u001b[39m\u001b[38;5;124m\"\u001b[39m \u001b[38;5;129;01mnot\u001b[39;00m \u001b[38;5;129;01min\u001b[39;00m ioargs\u001b[38;5;241m.\u001b[39mmode:\n\u001b[0;32m    862\u001b[0m         \u001b[38;5;66;03m# Encoding\u001b[39;00m\n\u001b[1;32m--> 863\u001b[0m         handle \u001b[38;5;241m=\u001b[39m \u001b[38;5;28mopen\u001b[39m(\n\u001b[0;32m    864\u001b[0m             handle,\n\u001b[0;32m    865\u001b[0m             ioargs\u001b[38;5;241m.\u001b[39mmode,\n\u001b[0;32m    866\u001b[0m             encoding\u001b[38;5;241m=\u001b[39mioargs\u001b[38;5;241m.\u001b[39mencoding,\n\u001b[0;32m    867\u001b[0m             errors\u001b[38;5;241m=\u001b[39merrors,\n\u001b[0;32m    868\u001b[0m             newline\u001b[38;5;241m=\u001b[39m\u001b[38;5;124m\"\u001b[39m\u001b[38;5;124m\"\u001b[39m,\n\u001b[0;32m    869\u001b[0m         )\n\u001b[0;32m    870\u001b[0m     \u001b[38;5;28;01melse\u001b[39;00m:\n\u001b[0;32m    871\u001b[0m         \u001b[38;5;66;03m# Binary mode\u001b[39;00m\n\u001b[0;32m    872\u001b[0m         handle \u001b[38;5;241m=\u001b[39m \u001b[38;5;28mopen\u001b[39m(handle, ioargs\u001b[38;5;241m.\u001b[39mmode)\n",
      "\u001b[1;31mFileNotFoundError\u001b[0m: [Errno 2] No such file or directory: '../protein_ARCH_HPO_results.csv'"
     ]
    }
   ],
   "source": [
    "import pandas as pd\n",
    "import os\n",
    "\n",
    "file_path = '../protein_ARCH_HPO_results.csv'\n",
    "dataset_name = os.path.splitext(os.path.basename(file_path))[0]\n",
    "if \"dna\" in dataset_name:\n",
    "    no_features = 3\n",
    "    no_classes = 180\n",
    "    d_name = \"dna\"\n",
    "    no_params = 1314560 + 1024*no_features + 256*no_classes\n",
    "elif \"splice\" in dataset_name:\n",
    "    no_features = 2\n",
    "    no_classes = 60\n",
    "    d_name = \"splice\"\n",
    "    no_params = 1314560 + 1024*no_features + 256*no_classes\n",
    "elif \"protein\" in dataset_name:\n",
    "    no_features = 3\n",
    "    no_classes = 357\n",
    "    d_name = \"protein\"\n",
    "    no_params = 1314560 + 1024*no_features + 256*no_classes\n",
    "else:\n",
    "    no_features = 2\n",
    "    no_classes = 2\n",
    "    d_name = \"twomoons\"\n",
    "    no_params = 1314560 + 1024*no_features + 256*no_classes\n",
    "df = pd.read_csv(file_path, index_col=None, header=0)\n",
    "df['no_params'] = (df['params_no_blocks'] - 1)*(df['params_small_hidden_size']*df['params_big_hidden_size']*2 + df['params_small_hidden_size'] + df['params_big_hidden_size'])\\\n",
    "    + (df['params_small_hidden_size']*df['params_big_hidden_size'] + df['params_big_hidden_size']*no_features + df['params_small_hidden_size'] + df['params_big_hidden_size'])\\\n",
    "    + (df['params_small_hidden_size']*no_classes + no_classes)\n",
    "df = df[df['value']<2]\n"
   ]
  },
  {
   "cell_type": "code",
   "execution_count": 51,
   "metadata": {},
   "outputs": [
    {
     "data": {
      "text/plain": [
       "number                                             460\n",
       "value                                         0.698212\n",
       "datetime_start              2024-12-05 01:40:24.432816\n",
       "datetime_complete           2024-12-05 01:40:37.243407\n",
       "duration                        0 days 00:00:12.810591\n",
       "params_big_hidden_size                               9\n",
       "params_learning_rate                          0.002277\n",
       "params_no_blocks                                     1\n",
       "params_small_hidden_size                             6\n",
       "state                                         COMPLETE\n",
       "no_params                                         2595\n",
       "Name: 460, dtype: object"
      ]
     },
     "execution_count": 51,
     "metadata": {},
     "output_type": "execute_result"
    }
   ],
   "source": [
    "df.iloc[df.idxmin()['value']]"
   ]
  },
  {
   "cell_type": "code",
   "execution_count": 49,
   "metadata": {},
   "outputs": [
    {
     "data": {
      "image/png": "[encoded data removed]",
      "text/plain": [
       "<Figure size 640x480 with 1 Axes>"
      ]
     },
     "metadata": {},
     "output_type": "display_data"
    }
   ],
   "source": [
    "import matplotlib.pyplot as plt\n",
    "\n",
    "fig, ax = plt.subplots()\n",
    "ax.scatter(df['no_params'], df['value'], c='blue')\n",
    "ax.set_xlabel('Number of parameters')\n",
    "ax.set_ylabel('Validation Loss')\n",
    "ax.set_title(f'{d_name} - our model no. of parameters: {no_params}')\n",
    "best_no_params = df.iloc[df.idxmin()['value']]['no_params']\n",
    "# Adjust the layout to make room for the caption\n",
    "plt.subplots_adjust(bottom=0.2)\n",
    "caption = (f'No. of parameters of our model: {no_params:,}. Best model\\'s no. of parameters: {best_no_params:,}')\n",
    "fig.text(0.5, 0.01, caption, ha='center', fontsize=10)\n",
    "plt.show()"
   ]
  },
  {
   "cell_type": "markdown",
   "metadata": {},
   "source": [
    "### under-fiting thing"
   ]
  },
  {
   "cell_type": "code",
   "execution_count": 16,
   "metadata": {},
   "outputs": [
    {
     "data": {
      "text/html": [
       "<div>\n",
       "<style scoped>\n",
       "    .dataframe tbody tr th:only-of-type {\n",
       "        vertical-align: middle;\n",
       "    }\n",
       "\n",
       "    .dataframe tbody tr th {\n",
       "        vertical-align: top;\n",
       "    }\n",
       "\n",
       "    .dataframe thead th {\n",
       "        text-align: right;\n",
       "    }\n",
       "</style>\n",
       "<table border=\"1\" class=\"dataframe\">\n",
       "  <thead>\n",
       "    <tr style=\"text-align: right;\">\n",
       "      <th></th>\n",
       "      <th>index</th>\n",
       "      <th>0</th>\n",
       "    </tr>\n",
       "  </thead>\n",
       "  <tbody>\n",
       "    <tr>\n",
       "      <th>0</th>\n",
       "      <td>loss</td>\n",
       "      <td>0.275554</td>\n",
       "    </tr>\n",
       "    <tr>\n",
       "      <th>1</th>\n",
       "      <td>val_acc</td>\n",
       "      <td>0.925956</td>\n",
       "    </tr>\n",
       "    <tr>\n",
       "      <th>2</th>\n",
       "      <td>train_loss</td>\n",
       "      <td>0.009643</td>\n",
       "    </tr>\n",
       "    <tr>\n",
       "      <th>3</th>\n",
       "      <td>train_acc</td>\n",
       "      <td>0.996947</td>\n",
       "    </tr>\n",
       "  </tbody>\n",
       "</table>\n",
       "</div>"
      ],
      "text/plain": [
       "        index         0\n",
       "0        loss  0.275554\n",
       "1     val_acc  0.925956\n",
       "2  train_loss  0.009643\n",
       "3   train_acc  0.996947"
      ]
     },
     "execution_count": 16,
     "metadata": {},
     "output_type": "execute_result"
    }
   ],
   "source": [
    "df_dna = pd.read_csv('../dna_l2_results.csv', header=0, index_col=None)\n",
    "df_dna = df_dna.drop(columns=[\n",
    "    \"dataset_name\", \"reg_type\", \"reg_val\", \"data_size_pct\", \"lr\", \"seed\"\n",
    "])\n",
    "df_dna = df_dna.mean().reset_index()\n",
    "df_dna.head()"
   ]
  },
  {
   "cell_type": "code",
   "execution_count": 17,
   "metadata": {},
   "outputs": [
    {
     "data": {
      "text/html": [
       "<div>\n",
       "<style scoped>\n",
       "    .dataframe tbody tr th:only-of-type {\n",
       "        vertical-align: middle;\n",
       "    }\n",
       "\n",
       "    .dataframe tbody tr th {\n",
       "        vertical-align: top;\n",
       "    }\n",
       "\n",
       "    .dataframe thead th {\n",
       "        text-align: right;\n",
       "    }\n",
       "</style>\n",
       "<table border=\"1\" class=\"dataframe\">\n",
       "  <thead>\n",
       "    <tr style=\"text-align: right;\">\n",
       "      <th></th>\n",
       "      <th>index</th>\n",
       "      <th>0</th>\n",
       "    </tr>\n",
       "  </thead>\n",
       "  <tbody>\n",
       "    <tr>\n",
       "      <th>0</th>\n",
       "      <td>loss</td>\n",
       "      <td>0.753087</td>\n",
       "    </tr>\n",
       "    <tr>\n",
       "      <th>1</th>\n",
       "      <td>val_acc</td>\n",
       "      <td>0.670017</td>\n",
       "    </tr>\n",
       "    <tr>\n",
       "      <th>2</th>\n",
       "      <td>train_loss</td>\n",
       "      <td>0.022361</td>\n",
       "    </tr>\n",
       "    <tr>\n",
       "      <th>3</th>\n",
       "      <td>train_acc</td>\n",
       "      <td>0.992660</td>\n",
       "    </tr>\n",
       "  </tbody>\n",
       "</table>\n",
       "</div>"
      ],
      "text/plain": [
       "        index         0\n",
       "0        loss  0.753087\n",
       "1     val_acc  0.670017\n",
       "2  train_loss  0.022361\n",
       "3   train_acc  0.992660"
      ]
     },
     "execution_count": 17,
     "metadata": {},
     "output_type": "execute_result"
    }
   ],
   "source": [
    "df_pro = pd.read_csv('../protein_l2_results.csv', header=0, index_col=None)\n",
    "df_pro = df_pro.drop(columns=[\n",
    "    \"dataset_name\", \"reg_type\", \"reg_val\", \"data_size_pct\", \"lr\", \"seed\"\n",
    "])\n",
    "df_pro = df_pro.mean().reset_index()\n",
    "df_pro.head()"
   ]
  },
  {
   "cell_type": "code",
   "execution_count": 18,
   "metadata": {},
   "outputs": [
    {
     "data": {
      "text/html": [
       "<div>\n",
       "<style scoped>\n",
       "    .dataframe tbody tr th:only-of-type {\n",
       "        vertical-align: middle;\n",
       "    }\n",
       "\n",
       "    .dataframe tbody tr th {\n",
       "        vertical-align: top;\n",
       "    }\n",
       "\n",
       "    .dataframe thead th {\n",
       "        text-align: right;\n",
       "    }\n",
       "</style>\n",
       "<table border=\"1\" class=\"dataframe\">\n",
       "  <thead>\n",
       "    <tr style=\"text-align: right;\">\n",
       "      <th></th>\n",
       "      <th>index</th>\n",
       "      <th>0</th>\n",
       "    </tr>\n",
       "  </thead>\n",
       "  <tbody>\n",
       "    <tr>\n",
       "      <th>0</th>\n",
       "      <td>loss</td>\n",
       "      <td>0.295323</td>\n",
       "    </tr>\n",
       "    <tr>\n",
       "      <th>1</th>\n",
       "      <td>val_acc</td>\n",
       "      <td>0.890792</td>\n",
       "    </tr>\n",
       "    <tr>\n",
       "      <th>2</th>\n",
       "      <td>train_loss</td>\n",
       "      <td>0.026847</td>\n",
       "    </tr>\n",
       "    <tr>\n",
       "      <th>3</th>\n",
       "      <td>train_acc</td>\n",
       "      <td>0.991020</td>\n",
       "    </tr>\n",
       "  </tbody>\n",
       "</table>\n",
       "</div>"
      ],
      "text/plain": [
       "        index         0\n",
       "0        loss  0.295323\n",
       "1     val_acc  0.890792\n",
       "2  train_loss  0.026847\n",
       "3   train_acc  0.991020"
      ]
     },
     "execution_count": 18,
     "metadata": {},
     "output_type": "execute_result"
    }
   ],
   "source": [
    "df_spli = pd.read_csv('../splice_l2_results.csv', header=0, index_col=None)\n",
    "df_spli = df_spli.drop(columns=[\n",
    "    \"dataset_name\", \"reg_type\", \"reg_val\", \"data_size_pct\", \"lr\", \"seed\"\n",
    "])\n",
    "df_spli = df_spli.mean().reset_index()\n",
    "df_spli.head()"
   ]
  },
  {
   "cell_type": "code",
   "execution_count": 19,
   "metadata": {},
   "outputs": [
    {
     "data": {
      "text/html": [
       "<div>\n",
       "<style scoped>\n",
       "    .dataframe tbody tr th:only-of-type {\n",
       "        vertical-align: middle;\n",
       "    }\n",
       "\n",
       "    .dataframe tbody tr th {\n",
       "        vertical-align: top;\n",
       "    }\n",
       "\n",
       "    .dataframe thead th {\n",
       "        text-align: right;\n",
       "    }\n",
       "</style>\n",
       "<table border=\"1\" class=\"dataframe\">\n",
       "  <thead>\n",
       "    <tr style=\"text-align: right;\">\n",
       "      <th></th>\n",
       "      <th>index</th>\n",
       "      <th>0</th>\n",
       "    </tr>\n",
       "  </thead>\n",
       "  <tbody>\n",
       "    <tr>\n",
       "      <th>0</th>\n",
       "      <td>loss</td>\n",
       "      <td>0.082095</td>\n",
       "    </tr>\n",
       "    <tr>\n",
       "      <th>1</th>\n",
       "      <td>val_acc</td>\n",
       "      <td>0.965369</td>\n",
       "    </tr>\n",
       "    <tr>\n",
       "      <th>2</th>\n",
       "      <td>train_loss</td>\n",
       "      <td>0.083126</td>\n",
       "    </tr>\n",
       "    <tr>\n",
       "      <th>3</th>\n",
       "      <td>train_acc</td>\n",
       "      <td>0.968378</td>\n",
       "    </tr>\n",
       "  </tbody>\n",
       "</table>\n",
       "</div>"
      ],
      "text/plain": [
       "        index         0\n",
       "0        loss  0.082095\n",
       "1     val_acc  0.965369\n",
       "2  train_loss  0.083126\n",
       "3   train_acc  0.968378"
      ]
     },
     "execution_count": 19,
     "metadata": {},
     "output_type": "execute_result"
    }
   ],
   "source": [
    "df_moon = pd.read_csv('../twomoons_l2_results.csv', header=0, index_col=None)\n",
    "df_moon = df_moon.drop(columns=[\n",
    "    \"dataset_name\", \"reg_type\", \"reg_val\", \"data_size_pct\", \"lr\", \"seed\"\n",
    "])\n",
    "df_moon = df_moon.mean().reset_index()\n",
    "df_moon.head()"
   ]
  },
  {
   "cell_type": "code",
   "execution_count": 21,
   "metadata": {},
   "outputs": [
    {
     "data": {
      "image/png": "[encoded data removed]",
      "text/plain": [
       "<Figure size 1400x600 with 2 Axes>"
      ]
     },
     "metadata": {},
     "output_type": "display_data"
    }
   ],
   "source": [
    "# Extract the loss and accuracy data from each dataframe\n",
    "loss_data = {\n",
    "    'Dataset': ['DNA', 'Protein', 'Splice', 'Two Moons'],\n",
    "    'Validation Loss': [df_dna.loc[df_dna['index'] == 'loss', 0].values[0],\n",
    "                        df_pro.loc[df_pro['index'] == 'loss', 0].values[0],\n",
    "                        df_spli.loc[df_spli['index'] == 'loss', 0].values[0],\n",
    "                        df_moon.loc[df_moon['index'] == 'loss', 0].values[0]],\n",
    "    'Training Loss': [df_dna.loc[df_dna['index'] == 'train_loss', 0].values[0],\n",
    "                    df_pro.loc[df_pro['index'] == 'train_loss', 0].values[0],\n",
    "                    df_spli.loc[df_spli['index'] == 'train_loss', 0].values[0],\n",
    "                    df_moon.loc[df_moon['index'] == 'train_loss', 0].values[0]]\n",
    "}\n",
    "\n",
    "acc_data = {\n",
    "    'Dataset': ['DNA', 'Protein', 'Splice', 'Two Moons'],\n",
    "    'Validation Accuracy': [df_dna.loc[df_dna['index'] == 'val_acc', 0].values[0],\n",
    "                            df_pro.loc[df_pro['index'] == 'val_acc', 0].values[0],\n",
    "                            df_spli.loc[df_spli['index'] == 'val_acc', 0].values[0],\n",
    "                            df_moon.loc[df_moon['index'] == 'val_acc', 0].values[0]],\n",
    "    'Training Accuracy': [df_dna.loc[df_dna['index'] == 'train_acc', 0].values[0],\n",
    "                        df_pro.loc[df_pro['index'] == 'train_acc', 0].values[0],\n",
    "                        df_spli.loc[df_spli['index'] == 'train_acc', 0].values[0],\n",
    "                        df_moon.loc[df_moon['index'] == 'train_acc', 0].values[0]]\n",
    "}\n",
    "\n",
    "# Convert to DataFrames\n",
    "df_loss = pd.DataFrame(loss_data)\n",
    "df_acc = pd.DataFrame(acc_data)\n",
    "\n",
    "# Plotting\n",
    "fig, ax = plt.subplots(1, 2, figsize=(14, 6))\n",
    "\n",
    "# Loss plot\n",
    "ax[0].plot(df_loss['Dataset'], df_loss['Validation Loss'], label='Validation Loss', color='blue', marker='o')\n",
    "ax[0].plot(df_loss['Dataset'], df_loss['Training Loss'], label='Training Loss', color='red', marker='o')\n",
    "ax[0].set_title('Loss Comparison')\n",
    "ax[0].set_xlabel('Dataset')\n",
    "ax[0].set_ylabel('Loss')\n",
    "ax[0].legend()\n",
    "\n",
    "# Accuracy plot\n",
    "ax[1].plot(df_acc['Dataset'], df_acc['Validation Accuracy'], label='Validation Accuracy', color='blue', marker='o')\n",
    "ax[1].plot(df_acc['Dataset'], df_acc['Training Accuracy'], label='Training Accuracy', color='red', marker='o')\n",
    "ax[1].set_title('Accuracy Comparison')\n",
    "ax[1].set_xlabel('Dataset')\n",
    "ax[1].set_ylabel('Accuracy')\n",
    "ax[1].legend()\n",
    "\n",
    "plt.tight_layout()\n",
    "plt.show()"
   ]
  },
  {
   "cell_type": "markdown",
   "metadata": {},
   "source": [
    "### results plotting"
   ]
  },
  {
   "cell_type": "code",
   "execution_count": 12,
   "metadata": {},
   "outputs": [
    {
     "data": {
      "text/html": [
       "<div>\n",
       "<style scoped>\n",
       "    .dataframe tbody tr th:only-of-type {\n",
       "        vertical-align: middle;\n",
       "    }\n",
       "\n",
       "    .dataframe tbody tr th {\n",
       "        vertical-align: top;\n",
       "    }\n",
       "\n",
       "    .dataframe thead th {\n",
       "        text-align: right;\n",
       "    }\n",
       "</style>\n",
       "<table border=\"1\" class=\"dataframe\">\n",
       "  <thead>\n",
       "    <tr style=\"text-align: right;\">\n",
       "      <th></th>\n",
       "      <th>dataset_name</th>\n",
       "      <th>reg_type</th>\n",
       "      <th>reg_val</th>\n",
       "      <th>loss</th>\n",
       "      <th>seed</th>\n",
       "      <th>data_size_pct</th>\n",
       "      <th>val_acc</th>\n",
       "      <th>lr</th>\n",
       "    </tr>\n",
       "  </thead>\n",
       "  <tbody>\n",
       "    <tr>\n",
       "      <th>0</th>\n",
       "      <td>protein</td>\n",
       "      <td>dropout</td>\n",
       "      <td>0.0</td>\n",
       "      <td>1.027901</td>\n",
       "      <td>1</td>\n",
       "      <td>1</td>\n",
       "      <td>0.511300</td>\n",
       "      <td>0.0100</td>\n",
       "    </tr>\n",
       "    <tr>\n",
       "      <th>1</th>\n",
       "      <td>protein</td>\n",
       "      <td>dropout</td>\n",
       "      <td>0.0</td>\n",
       "      <td>1.041631</td>\n",
       "      <td>1</td>\n",
       "      <td>2</td>\n",
       "      <td>0.516091</td>\n",
       "      <td>0.0010</td>\n",
       "    </tr>\n",
       "    <tr>\n",
       "      <th>2</th>\n",
       "      <td>protein</td>\n",
       "      <td>dropout</td>\n",
       "      <td>0.0</td>\n",
       "      <td>1.021365</td>\n",
       "      <td>1</td>\n",
       "      <td>3</td>\n",
       "      <td>0.530145</td>\n",
       "      <td>0.0001</td>\n",
       "    </tr>\n",
       "    <tr>\n",
       "      <th>3</th>\n",
       "      <td>protein</td>\n",
       "      <td>dropout</td>\n",
       "      <td>0.0</td>\n",
       "      <td>1.008877</td>\n",
       "      <td>1</td>\n",
       "      <td>4</td>\n",
       "      <td>0.548686</td>\n",
       "      <td>0.0001</td>\n",
       "    </tr>\n",
       "    <tr>\n",
       "      <th>4</th>\n",
       "      <td>protein</td>\n",
       "      <td>dropout</td>\n",
       "      <td>0.0</td>\n",
       "      <td>1.024840</td>\n",
       "      <td>1</td>\n",
       "      <td>5</td>\n",
       "      <td>0.451081</td>\n",
       "      <td>0.0100</td>\n",
       "    </tr>\n",
       "  </tbody>\n",
       "</table>\n",
       "</div>"
      ],
      "text/plain": [
       "  dataset_name reg_type  reg_val      loss  seed  data_size_pct   val_acc  \\\n",
       "0      protein  dropout      0.0  1.027901     1              1  0.511300   \n",
       "1      protein  dropout      0.0  1.041631     1              2  0.516091   \n",
       "2      protein  dropout      0.0  1.021365     1              3  0.530145   \n",
       "3      protein  dropout      0.0  1.008877     1              4  0.548686   \n",
       "4      protein  dropout      0.0  1.024840     1              5  0.451081   \n",
       "\n",
       "       lr  \n",
       "0  0.0100  \n",
       "1  0.0010  \n",
       "2  0.0001  \n",
       "3  0.0001  \n",
       "4  0.0100  "
      ]
     },
     "execution_count": 12,
     "metadata": {},
     "output_type": "execute_result"
    }
   ],
   "source": [
    "# df = pd.read_csv(\"C:\\\\Users\\\\Amir Hossein\\\\Downloads\\\\cres\\\\splice_l2_results.csv\", header=0, index_col=None)\n",
    "# df = pd.read_csv(\"C:\\\\Users\\\\Amir Hossein\\\\Downloads\\\\cres\\\\splice_dropout_results.csv\", header=0, index_col=None)\n",
    "\n",
    "# df = pd.read_csv(\"C:\\\\Users\\\\Amir Hossein\\\\Downloads\\\\cres\\\\dna_l2_results.csv\", header=0, index_col=None)\n",
    "# df = pd.read_csv(\"C:\\\\Users\\\\Amir Hossein\\\\Downloads\\\\cres\\\\dna_dropout_results.csv\", header=0, index_col=None)\n",
    "\n",
    "# df = pd.read_csv(\"C:\\\\Users\\\\Amir Hossein\\\\Downloads\\\\cres\\\\twomoons_l2_results.csv\", header=0, index_col=None)\n",
    "# df = pd.read_csv(\"C:\\\\Users\\\\Amir Hossein\\\\Downloads\\\\cres\\\\twomoons_dropout_results.csv\", header=0, index_col=None)\n",
    "\n",
    "# df = pd.read_csv(\"C:\\\\Users\\\\Amir Hossein\\\\Downloads\\\\cres\\\\protein_l2_results.csv\", header=0, index_col=None)\n",
    "df = pd.read_csv(\"C:\\\\Users\\\\Amir Hossein\\\\Downloads\\\\cres\\\\protein_dropout_results.csv\", header=0, index_col=None)\n",
    "\n",
    "\n",
    "dataset = df.loc[df.groupby([\"dataset_name\", \"reg_type\", \"reg_val\", \"seed\", \"data_size_pct\"])[\"loss\"].idxmin()].reset_index(drop=True)\n",
    "dataset.head()"
   ]
  },
  {
   "cell_type": "markdown",
   "metadata": {},
   "source": [
    "### visualization"
   ]
  },
  {
   "cell_type": "code",
   "execution_count": 13,
   "metadata": {},
   "outputs": [],
   "source": [
    "dataset_name = dataset['dataset_name'].unique().item()\n",
    "# print(dataset_name)\n",
    "\n",
    "if dataset['reg_type'].unique().item() == 'l2':\n",
    "    reg_type = 'l2'\n",
    "    log_scale = True\n",
    "    \n",
    "else:\n",
    "    reg_type = 'dropout'\n",
    "    log_scale = False"
   ]
  },
  {
   "cell_type": "code",
   "execution_count": 14,
   "metadata": {},
   "outputs": [],
   "source": [
    "def plot_3d_surface_with_avg(dataset, x_col, y_col, z_col, log_x=False, log_y=False, log_z=False):\n",
    "    # Group by x and y and compute the mean of the z column\n",
    "    df_grouped = dataset.groupby([x_col, y_col])[[z_col, \"lr\"]].mean().reset_index()\n",
    "\n",
    "    # Pivot the grouped data to get the correct format for the surface plot\n",
    "    df_pivot = df_grouped.pivot(index=y_col, columns=x_col, values=z_col)\n",
    "\n",
    "    # Create x, y, z values for the surface plot\n",
    "    x_vals = df_pivot.columns\n",
    "    y_vals = df_pivot.index\n",
    "    z_vals = df_pivot.values\n",
    "\n",
    "    # Create a 3D surface plot with opacity set to 0.6 and contours on the z-axis\n",
    "    surface = go.Surface(\n",
    "        z=z_vals, \n",
    "        x=x_vals, \n",
    "        y=y_vals, \n",
    "        opacity=0.9, \n",
    "        colorscale='Jet',\n",
    "        contours={\n",
    "            \"z\": {\n",
    "                \"show\": True,  # Enable contour lines on the z-axis\n",
    "                # \"project\": {\"z\": True},  # Project contour lines onto the z-plane\n",
    "                \"color\": \"black\",  # Color of the contour lines\n",
    "                \"width\": 2  # Thickness of the contour lines\n",
    "            }\n",
    "        }\n",
    "    )\n",
    "\n",
    "    # Add a 3D scatter plot with the same data points\n",
    "    scatter_data = go.Scatter3d(\n",
    "        x=df_grouped[x_col], \n",
    "        y=df_grouped[y_col], \n",
    "        z=df_grouped[z_col],\n",
    "        mode='markers',\n",
    "        marker=dict(size=5, color=df_grouped[z_col], colorscale='Jet', opacity=0.9),\n",
    "        hovertext=[\n",
    "            f\"{x_col}: {x}<br>{y_col}: {y}<br>{z_col}: {z}<br>Learning Rate: {lr}\"\n",
    "            for x, y, z, lr in zip(df_grouped[x_col], df_grouped[y_col], df_grouped[z_col], df_grouped[\"lr\"])\n",
    "        ],\n",
    "        hoverinfo=\"text\"\n",
    "    )\n",
    "\n",
    "    # Identify the row with the minimum z_col value\n",
    "    min_row = df_grouped.loc[df_grouped[z_col].idxmin()]\n",
    "\n",
    "    # Create a separate scatter trace for the minimum loss point with a black marker\n",
    "    min_scatter = go.Scatter3d(\n",
    "        x=[min_row[x_col]],\n",
    "        y=[min_row[y_col]],\n",
    "        z=[min_row[z_col]],\n",
    "        mode='markers',\n",
    "        marker=dict(size=8, color='red'),\n",
    "        hovertext=f\"Minimum {z_col}: {min_row[z_col]}<br>{x_col}: {min_row[x_col]}<br>{y_col}: {min_row[y_col]}<br>Learning Rate: {min_row['lr']}\",\n",
    "        hoverinfo=\"text\"\n",
    "        # name='Minimum Loss'\n",
    "    )\n",
    "\n",
    "    # Create the figure and add the surface, scatter plot, and min scatter plot\n",
    "    fig = go.Figure(data=[surface, scatter_data, min_scatter])\n",
    "\n",
    "    # Update axis types to logarithmic if requested\n",
    "    axis_settings = dict(\n",
    "        xaxis=dict(title=x_col, type='log' if log_x else 'linear'),\n",
    "        yaxis=dict(title=y_col, type='log' if log_y else 'linear'),\n",
    "        zaxis=dict(title=z_col, type='log' if log_z else 'linear')\n",
    "    )\n",
    "\n",
    "    # Update the layout for better visualization\n",
    "    fig.update_layout(\n",
    "        width=800,\n",
    "        height=600,\n",
    "        scene=dict(\n",
    "            aspectratio=dict(x=1.25, y=1, z=1),\n",
    "            xaxis=axis_settings['xaxis'],\n",
    "            yaxis=axis_settings['yaxis'],\n",
    "            zaxis=axis_settings['zaxis']\n",
    "        ),\n",
    "        margin=dict(l=0.5, r=0.5, b=50, t=50),\n",
    "        title=f'{dataset_name.upper()}. {reg_type.upper()}. {z_col} as a function of {x_col} and {y_col})' \n",
    "    )\n",
    "\n",
    "    # Show the plot\n",
    "    fig.show()\n",
    "    return fig\n",
    "\n"
   ]
  },
  {
   "cell_type": "code",
   "execution_count": 15,
   "metadata": {},
   "outputs": [
    {
     "data": {
      "application/vnd.plotly.v1+json": {
       "config": {
        "plotlyServerURL": "https://plot.ly"
       },
       "data": [
        {
         "colorscale": [
          [
           0,
           "rgb(0,0,131)"
          ],
          [
           0.2,
           "rgb(0,60,170)"
          ],
          [
           0.4,
           "rgb(5,255,255)"
          ],
          [
           0.6,
           "rgb(255,255,0)"
          ],
          [
           0.8,
           "rgb(250,0,0)"
          ],
          [
           1,
           "rgb(128,0,0)"
          ]
         ],
         "contours": {
          "z": {
           "color": "black",
           "show": true,
           "width": 2
          }
         },
         "opacity": 0.9,
         "type": "surface",
         "x": [
          1,
          2,
          3,
          4,
          5,
          6,
          7,
          8,
          9,
          10,
          20,
          30,
          40,
          50,
          60,
          70,
          80,
          90,
          100
         ],
         "y": [
          0,
          0.1,
          0.3,
          0.5,
          0.6,
          0.7,
          0.8
         ],
         "z": [
          [
           1.043706883960988,
           1.030915457268298,
           1.0217771186973108,
           1.0106708720906987,
           1.0027414618116437,
           0.996606044903462,
           0.9896433346199267,
           0.9839377063693422,
           0.977407024510495,
           0.9690602672822547,
           0.9170003509624696,
           0.8721958774508851,
           0.8195057468754905,
           0.7877338982763745,
           0.7729573987263105,
           0.7617744628743176,
           0.7526520383048366,
           0.7473454875863476,
           0.7417836506645401
          ],
          [
           1.0436181947008356,
           1.0363332032125234,
           1.0207612487660858,
           1.0137295159168573,
           1.005989105025411,
           0.995982536557433,
           0.9926484278012148,
           0.9870818259396079,
           0.9791924738522731,
           0.975967156345194,
           0.9343859687254026,
           0.8914981815722082,
           0.8385124794848553,
           0.7962310503829609,
           0.777501863602436,
           0.7656801022492447,
           0.7557873964309693,
           0.7478020696412949,
           0.7415596347608608
          ],
          [
           1.0441424318206258,
           1.032114679292167,
           1.0164953034677546,
           1.0062294532468308,
           0.9996849847820414,
           0.9933622290045668,
           0.9910750015731498,
           0.9817454209575406,
           0.9740547706296433,
           0.9755278332408889,
           0.9296834726612289,
           0.8973930779989664,
           0.8742439107719437,
           0.8296020569481375,
           0.7977442470721868,
           0.7766837308159122,
           0.7633451811678997,
           0.7520029835112683,
           0.7448505693441861
          ],
          [
           1.0361043082945274,
           1.0237324346711625,
           1.0087041499810818,
           1.0016745612734839,
           0.9921805869965327,
           0.9881720218565557,
           0.9815663782291082,
           0.9780534643115419,
           0.9714677679332304,
           0.9700621282383478,
           0.941946142911911,
           0.9136743942380467,
           0.8889248835576046,
           0.8546920892996189,
           0.8227092728470311,
           0.7938060463506939,
           0.7738450792444733,
           0.7622280529051116,
           0.7484893152208039
          ],
          [
           1.0351684627078828,
           1.0179437977411014,
           1.0073360284685573,
           0.9973181224488593,
           0.9925932996974879,
           0.9845677238522155,
           0.9816549302695634,
           0.9758200842838782,
           0.9711998861331445,
           0.9709109550688689,
           0.9473585418550482,
           0.9236140881781971,
           0.90238138274713,
           0.8758009837561356,
           0.8412016419105199,
           0.8060918015319031,
           0.7830952550683702,
           0.7717460972922189,
           0.756815115301124
          ],
          [
           1.036556966557647,
           1.0149145629498866,
           1.0052685697873434,
           0.9992654351186959,
           0.9943310628463695,
           0.9907551219453027,
           0.9842673261960347,
           0.9791722940676141,
           0.9757883755675643,
           0.9754686950863182,
           0.953265086629174,
           0.9317084210259574,
           0.9186455791904813,
           0.9031237423419952,
           0.8965860542280849,
           0.8726407109916984,
           0.863580457240472,
           0.831637964129964,
           0.8119664406363581
          ],
          [
           1.0558047872601135,
           1.0537450580885916,
           1.0529009726398435,
           1.0496331960349887,
           1.0460059212657797,
           1.0411648518853374,
           1.017587735694208,
           1.0077351392605602,
           1.0057034175633353,
           1.0035546544826393,
           0.9948536474725385,
           0.9961123347024381,
           0.9989664976989036,
           0.9942927509159236,
           0.9970383107146144,
           1.0003321502373848,
           1.005055231397802,
           1.0012504058224814,
           1.0021546888403046
          ]
         ]
        },
        {
         "hoverinfo": "text",
         "hovertext": [
          "data_size_pct: 1<br>reg_val: 0.0<br>loss: 1.043706883960988<br>Learning Rate: 0.00466",
          "data_size_pct: 1<br>reg_val: 0.1<br>loss: 1.0436181947008356<br>Learning Rate: 0.00598",
          "data_size_pct: 1<br>reg_val: 0.3<br>loss: 1.0441424318206258<br>Learning Rate: 0.007209999999999999",
          "data_size_pct: 1<br>reg_val: 0.5<br>loss: 1.0361043082945274<br>Learning Rate: 0.0094",
          "data_size_pct: 1<br>reg_val: 0.6<br>loss: 1.0351684627078828<br>Learning Rate: 0.0085",
          "data_size_pct: 1<br>reg_val: 0.7<br>loss: 1.036556966557647<br>Learning Rate: 0.007000000000000001",
          "data_size_pct: 1<br>reg_val: 0.8<br>loss: 1.0558047872601135<br>Learning Rate: 0.0334",
          "data_size_pct: 2<br>reg_val: 0.0<br>loss: 1.030915457268298<br>Learning Rate: 0.00466",
          "data_size_pct: 2<br>reg_val: 0.1<br>loss: 1.0363332032125234<br>Learning Rate: 0.0030700000000000002",
          "data_size_pct: 2<br>reg_val: 0.3<br>loss: 1.032114679292167<br>Learning Rate: 0.0043300000000000005",
          "data_size_pct: 2<br>reg_val: 0.5<br>loss: 1.0237324346711625<br>Learning Rate: 0.00451",
          "data_size_pct: 2<br>reg_val: 0.6<br>loss: 1.0179437977411014<br>Learning Rate: 0.0037",
          "data_size_pct: 2<br>reg_val: 0.7<br>loss: 1.0149145629498866<br>Learning Rate: 0.0013",
          "data_size_pct: 2<br>reg_val: 0.8<br>loss: 1.0537450580885916<br>Learning Rate: 0.0808",
          "data_size_pct: 3<br>reg_val: 0.0<br>loss: 1.0217771186973108<br>Learning Rate: 0.0024100000000000002",
          "data_size_pct: 3<br>reg_val: 0.1<br>loss: 1.0207612487660858<br>Learning Rate: 0.00337",
          "data_size_pct: 3<br>reg_val: 0.3<br>loss: 1.0164953034677546<br>Learning Rate: 0.0031",
          "data_size_pct: 3<br>reg_val: 0.5<br>loss: 1.0087041499810818<br>Learning Rate: 0.0029800000000000004",
          "data_size_pct: 3<br>reg_val: 0.6<br>loss: 1.0073360284685573<br>Learning Rate: 0.00235",
          "data_size_pct: 3<br>reg_val: 0.7<br>loss: 1.0052685697873434<br>Learning Rate: 0.001",
          "data_size_pct: 3<br>reg_val: 0.8<br>loss: 1.0529009726398435<br>Learning Rate: 0.07840000000000001",
          "data_size_pct: 4<br>reg_val: 0.0<br>loss: 1.0106708720906987<br>Learning Rate: 0.0027099999999999997",
          "data_size_pct: 4<br>reg_val: 0.1<br>loss: 1.0137295159168573<br>Learning Rate: 0.00226",
          "data_size_pct: 4<br>reg_val: 0.3<br>loss: 1.0062294532468308<br>Learning Rate: 0.00268",
          "data_size_pct: 4<br>reg_val: 0.5<br>loss: 1.0016745612734839<br>Learning Rate: 0.00187",
          "data_size_pct: 4<br>reg_val: 0.6<br>loss: 0.9973181224488593<br>Learning Rate: 0.00169",
          "data_size_pct: 4<br>reg_val: 0.7<br>loss: 0.9992654351186959<br>Learning Rate: 0.001",
          "data_size_pct: 4<br>reg_val: 0.8<br>loss: 1.0496331960349887<br>Learning Rate: 0.0664",
          "data_size_pct: 5<br>reg_val: 0.0<br>loss: 1.0027414618116437<br>Learning Rate: 0.00283",
          "data_size_pct: 5<br>reg_val: 0.1<br>loss: 1.005989105025411<br>Learning Rate: 0.00226",
          "data_size_pct: 5<br>reg_val: 0.3<br>loss: 0.9996849847820414<br>Learning Rate: 0.0041800000000000006",
          "data_size_pct: 5<br>reg_val: 0.5<br>loss: 0.9921805869965327<br>Learning Rate: 0.00346",
          "data_size_pct: 5<br>reg_val: 0.6<br>loss: 0.9925932996974879<br>Learning Rate: 0.00064",
          "data_size_pct: 5<br>reg_val: 0.7<br>loss: 0.9943310628463695<br>Learning Rate: 0.001",
          "data_size_pct: 5<br>reg_val: 0.8<br>loss: 1.0460059212657797<br>Learning Rate: 0.059500000000000004",
          "data_size_pct: 6<br>reg_val: 0.0<br>loss: 0.996606044903462<br>Learning Rate: 0.0019",
          "data_size_pct: 6<br>reg_val: 0.1<br>loss: 0.995982536557433<br>Learning Rate: 0.0022",
          "data_size_pct: 6<br>reg_val: 0.3<br>loss: 0.9933622290045668<br>Learning Rate: 0.00292",
          "data_size_pct: 6<br>reg_val: 0.5<br>loss: 0.9881720218565557<br>Learning Rate: 0.0022",
          "data_size_pct: 6<br>reg_val: 0.6<br>loss: 0.9845677238522155<br>Learning Rate: 0.00058",
          "data_size_pct: 6<br>reg_val: 0.7<br>loss: 0.9907551219453027<br>Learning Rate: 0.00097",
          "data_size_pct: 6<br>reg_val: 0.8<br>loss: 1.0411648518853374<br>Learning Rate: 0.052300000000000006",
          "data_size_pct: 7<br>reg_val: 0.0<br>loss: 0.9896433346199267<br>Learning Rate: 0.0028899999999999998",
          "data_size_pct: 7<br>reg_val: 0.1<br>loss: 0.9926484278012148<br>Learning Rate: 0.00334",
          "data_size_pct: 7<br>reg_val: 0.3<br>loss: 0.9910750015731498<br>Learning Rate: 0.00313",
          "data_size_pct: 7<br>reg_val: 0.5<br>loss: 0.9815663782291082<br>Learning Rate: 0.00415",
          "data_size_pct: 7<br>reg_val: 0.6<br>loss: 0.9816549302695634<br>Learning Rate: 0.00046",
          "data_size_pct: 7<br>reg_val: 0.7<br>loss: 0.9842673261960347<br>Learning Rate: 0.0004",
          "data_size_pct: 7<br>reg_val: 0.8<br>loss: 1.017587735694208<br>Learning Rate: 0.011500000000000002",
          "data_size_pct: 8<br>reg_val: 0.0<br>loss: 0.9839377063693422<br>Learning Rate: 0.0025",
          "data_size_pct: 8<br>reg_val: 0.1<br>loss: 0.9870818259396079<br>Learning Rate: 0.0032500000000000003",
          "data_size_pct: 8<br>reg_val: 0.3<br>loss: 0.9817454209575406<br>Learning Rate: 0.00445",
          "data_size_pct: 8<br>reg_val: 0.5<br>loss: 0.9780534643115419<br>Learning Rate: 0.0027700000000000003",
          "data_size_pct: 8<br>reg_val: 0.6<br>loss: 0.9758200842838782<br>Learning Rate: 0.00076",
          "data_size_pct: 8<br>reg_val: 0.7<br>loss: 0.9791722940676141<br>Learning Rate: 0.00031",
          "data_size_pct: 8<br>reg_val: 0.8<br>loss: 1.0077351392605602<br>Learning Rate: 0.001",
          "data_size_pct: 9<br>reg_val: 0.0<br>loss: 0.977407024510495<br>Learning Rate: 0.0024490000000000002",
          "data_size_pct: 9<br>reg_val: 0.1<br>loss: 0.9791924738522731<br>Learning Rate: 0.005107",
          "data_size_pct: 9<br>reg_val: 0.3<br>loss: 0.9740547706296433<br>Learning Rate: 0.004390000000000001",
          "data_size_pct: 9<br>reg_val: 0.5<br>loss: 0.9714677679332304<br>Learning Rate: 0.0024100000000000002",
          "data_size_pct: 9<br>reg_val: 0.6<br>loss: 0.9711998861331445<br>Learning Rate: 0.00082",
          "data_size_pct: 9<br>reg_val: 0.7<br>loss: 0.9757883755675643<br>Learning Rate: 0.00022",
          "data_size_pct: 9<br>reg_val: 0.8<br>loss: 1.0057034175633353<br>Learning Rate: 0.0043",
          "data_size_pct: 10<br>reg_val: 0.0<br>loss: 0.9690602672822547<br>Learning Rate: 0.0033940000000000003",
          "data_size_pct: 10<br>reg_val: 0.1<br>loss: 0.975967156345194<br>Learning Rate: 0.003781",
          "data_size_pct: 10<br>reg_val: 0.3<br>loss: 0.9755278332408889<br>Learning Rate: 0.00424",
          "data_size_pct: 10<br>reg_val: 0.5<br>loss: 0.9700621282383478<br>Learning Rate: 0.0057399999999999994",
          "data_size_pct: 10<br>reg_val: 0.6<br>loss: 0.9709109550688689<br>Learning Rate: 0.00046",
          "data_size_pct: 10<br>reg_val: 0.7<br>loss: 0.9754686950863182<br>Learning Rate: 0.00034",
          "data_size_pct: 10<br>reg_val: 0.8<br>loss: 1.0035546544826393<br>Learning Rate: 0.001",
          "data_size_pct: 20<br>reg_val: 0.0<br>loss: 0.9170003509624696<br>Learning Rate: 0.003751",
          "data_size_pct: 20<br>reg_val: 0.1<br>loss: 0.9343859687254026<br>Learning Rate: 0.005371",
          "data_size_pct: 20<br>reg_val: 0.3<br>loss: 0.9296834726612289<br>Learning Rate: 0.007768",
          "data_size_pct: 20<br>reg_val: 0.5<br>loss: 0.941946142911911<br>Learning Rate: 0.00469",
          "data_size_pct: 20<br>reg_val: 0.6<br>loss: 0.9473585418550482<br>Learning Rate: 0.0005200000000000001",
          "data_size_pct: 20<br>reg_val: 0.7<br>loss: 0.953265086629174<br>Learning Rate: 0.00073",
          "data_size_pct: 20<br>reg_val: 0.8<br>loss: 0.9948536474725385<br>Learning Rate: 0.001",
          "data_size_pct: 30<br>reg_val: 0.0<br>loss: 0.8721958774508851<br>Learning Rate: 0.0021969999999999997",
          "data_size_pct: 30<br>reg_val: 0.1<br>loss: 0.8914981815722082<br>Learning Rate: 0.0055179999999999995",
          "data_size_pct: 30<br>reg_val: 0.3<br>loss: 0.8973930779989664<br>Learning Rate: 0.0075699999999999995",
          "data_size_pct: 30<br>reg_val: 0.5<br>loss: 0.9136743942380467<br>Learning Rate: 0.001",
          "data_size_pct: 30<br>reg_val: 0.6<br>loss: 0.9236140881781971<br>Learning Rate: 0.0008500000000000001",
          "data_size_pct: 30<br>reg_val: 0.7<br>loss: 0.9317084210259574<br>Learning Rate: 0.00097",
          "data_size_pct: 30<br>reg_val: 0.8<br>loss: 0.9961123347024381<br>Learning Rate: 0.001",
          "data_size_pct: 40<br>reg_val: 0.0<br>loss: 0.8195057468754905<br>Learning Rate: 0.00118",
          "data_size_pct: 40<br>reg_val: 0.1<br>loss: 0.8385124794848553<br>Learning Rate: 0.001582",
          "data_size_pct: 40<br>reg_val: 0.3<br>loss: 0.8742439107719437<br>Learning Rate: 0.00505",
          "data_size_pct: 40<br>reg_val: 0.5<br>loss: 0.8889248835576046<br>Learning Rate: 0.001",
          "data_size_pct: 40<br>reg_val: 0.6<br>loss: 0.90238138274713<br>Learning Rate: 0.001",
          "data_size_pct: 40<br>reg_val: 0.7<br>loss: 0.9186455791904813<br>Learning Rate: 0.00097",
          "data_size_pct: 40<br>reg_val: 0.8<br>loss: 0.9989664976989036<br>Learning Rate: 0.00097",
          "data_size_pct: 50<br>reg_val: 0.0<br>loss: 0.7877338982763745<br>Learning Rate: 0.000808",
          "data_size_pct: 50<br>reg_val: 0.1<br>loss: 0.7962310503829609<br>Learning Rate: 5.8e-05",
          "data_size_pct: 50<br>reg_val: 0.3<br>loss: 0.8296020569481375<br>Learning Rate: 0.0022",
          "data_size_pct: 50<br>reg_val: 0.5<br>loss: 0.8546920892996189<br>Learning Rate: 0.001",
          "data_size_pct: 50<br>reg_val: 0.6<br>loss: 0.8758009837561356<br>Learning Rate: 0.00094",
          "data_size_pct: 50<br>reg_val: 0.7<br>loss: 0.9031237423419952<br>Learning Rate: 0.001",
          "data_size_pct: 50<br>reg_val: 0.8<br>loss: 0.9942927509159236<br>Learning Rate: 0.001",
          "data_size_pct: 60<br>reg_val: 0.0<br>loss: 0.7729573987263105<br>Learning Rate: 0.000196",
          "data_size_pct: 60<br>reg_val: 0.1<br>loss: 0.777501863602436<br>Learning Rate: 0.00015700000000000002",
          "data_size_pct: 60<br>reg_val: 0.3<br>loss: 0.7977442470721868<br>Learning Rate: 0.00124",
          "data_size_pct: 60<br>reg_val: 0.5<br>loss: 0.8227092728470311<br>Learning Rate: 0.00097",
          "data_size_pct: 60<br>reg_val: 0.6<br>loss: 0.8412016419105199<br>Learning Rate: 0.001",
          "data_size_pct: 60<br>reg_val: 0.7<br>loss: 0.8965860542280849<br>Learning Rate: 0.00097",
          "data_size_pct: 60<br>reg_val: 0.8<br>loss: 0.9970383107146144<br>Learning Rate: 0.001",
          "data_size_pct: 70<br>reg_val: 0.0<br>loss: 0.7617744628743176<br>Learning Rate: 0.000124",
          "data_size_pct: 70<br>reg_val: 0.1<br>loss: 0.7656801022492447<br>Learning Rate: 0.000112",
          "data_size_pct: 70<br>reg_val: 0.3<br>loss: 0.7766837308159122<br>Learning Rate: 0.000451",
          "data_size_pct: 70<br>reg_val: 0.5<br>loss: 0.7938060463506939<br>Learning Rate: 0.001",
          "data_size_pct: 70<br>reg_val: 0.6<br>loss: 0.8060918015319031<br>Learning Rate: 0.001",
          "data_size_pct: 70<br>reg_val: 0.7<br>loss: 0.8726407109916984<br>Learning Rate: 0.001",
          "data_size_pct: 70<br>reg_val: 0.8<br>loss: 1.0003321502373848<br>Learning Rate: 0.00097",
          "data_size_pct: 80<br>reg_val: 0.0<br>loss: 0.7526520383048366<br>Learning Rate: 0.00013000000000000002",
          "data_size_pct: 80<br>reg_val: 0.1<br>loss: 0.7557873964309693<br>Learning Rate: 0.000196",
          "data_size_pct: 80<br>reg_val: 0.3<br>loss: 0.7633451811678997<br>Learning Rate: 0.00064",
          "data_size_pct: 80<br>reg_val: 0.5<br>loss: 0.7738450792444733<br>Learning Rate: 0.00097",
          "data_size_pct: 80<br>reg_val: 0.6<br>loss: 0.7830952550683702<br>Learning Rate: 0.001",
          "data_size_pct: 80<br>reg_val: 0.7<br>loss: 0.863580457240472<br>Learning Rate: 0.001",
          "data_size_pct: 80<br>reg_val: 0.8<br>loss: 1.005055231397802<br>Learning Rate: 0.001",
          "data_size_pct: 90<br>reg_val: 0.0<br>loss: 0.7473454875863476<br>Learning Rate: 0.00021700000000000002",
          "data_size_pct: 90<br>reg_val: 0.1<br>loss: 0.7478020696412949<br>Learning Rate: 0.000358",
          "data_size_pct: 90<br>reg_val: 0.3<br>loss: 0.7520029835112683<br>Learning Rate: 0.000571",
          "data_size_pct: 90<br>reg_val: 0.5<br>loss: 0.7622280529051116<br>Learning Rate: 0.00097",
          "data_size_pct: 90<br>reg_val: 0.6<br>loss: 0.7717460972922189<br>Learning Rate: 0.001",
          "data_size_pct: 90<br>reg_val: 0.7<br>loss: 0.831637964129964<br>Learning Rate: 0.001",
          "data_size_pct: 90<br>reg_val: 0.8<br>loss: 1.0012504058224814<br>Learning Rate: 0.00094",
          "data_size_pct: 100<br>reg_val: 0.0<br>loss: 0.7417836506645401<br>Learning Rate: 0.00028900000000000003",
          "data_size_pct: 100<br>reg_val: 0.1<br>loss: 0.7415596347608608<br>Learning Rate: 0.00038800000000000005",
          "data_size_pct: 100<br>reg_val: 0.3<br>loss: 0.7448505693441861<br>Learning Rate: 0.00048699999999999997",
          "data_size_pct: 100<br>reg_val: 0.5<br>loss: 0.7484893152208039<br>Learning Rate: 0.001",
          "data_size_pct: 100<br>reg_val: 0.6<br>loss: 0.756815115301124<br>Learning Rate: 0.001",
          "data_size_pct: 100<br>reg_val: 0.7<br>loss: 0.8119664406363581<br>Learning Rate: 0.001",
          "data_size_pct: 100<br>reg_val: 0.8<br>loss: 1.0021546888403046<br>Learning Rate: 0.0008500000000000001"
         ],
         "marker": {
          "color": [
           1.043706883960988,
           1.0436181947008356,
           1.0441424318206258,
           1.0361043082945274,
           1.0351684627078828,
           1.036556966557647,
           1.0558047872601135,
           1.030915457268298,
           1.0363332032125234,
           1.032114679292167,
           1.0237324346711625,
           1.0179437977411014,
           1.0149145629498866,
           1.0537450580885916,
           1.0217771186973108,
           1.0207612487660858,
           1.0164953034677546,
           1.0087041499810818,
           1.0073360284685573,
           1.0052685697873434,
           1.0529009726398435,
           1.0106708720906987,
           1.0137295159168573,
           1.0062294532468308,
           1.0016745612734839,
           0.9973181224488593,
           0.9992654351186959,
           1.0496331960349887,
           1.0027414618116437,
           1.005989105025411,
           0.9996849847820414,
           0.9921805869965327,
           0.9925932996974879,
           0.9943310628463695,
           1.0460059212657797,
           0.996606044903462,
           0.995982536557433,
           0.9933622290045668,
           0.9881720218565557,
           0.9845677238522155,
           0.9907551219453027,
           1.0411648518853374,
           0.9896433346199267,
           0.9926484278012148,
           0.9910750015731498,
           0.9815663782291082,
           0.9816549302695634,
           0.9842673261960347,
           1.017587735694208,
           0.9839377063693422,
           0.9870818259396079,
           0.9817454209575406,
           0.9780534643115419,
           0.9758200842838782,
           0.9791722940676141,
           1.0077351392605602,
           0.977407024510495,
           0.9791924738522731,
           0.9740547706296433,
           0.9714677679332304,
           0.9711998861331445,
           0.9757883755675643,
           1.0057034175633353,
           0.9690602672822547,
           0.975967156345194,
           0.9755278332408889,
           0.9700621282383478,
           0.9709109550688689,
           0.9754686950863182,
           1.0035546544826393,
           0.9170003509624696,
           0.9343859687254026,
           0.9296834726612289,
           0.941946142911911,
           0.9473585418550482,
           0.953265086629174,
           0.9948536474725385,
           0.8721958774508851,
           0.8914981815722082,
           0.8973930779989664,
           0.9136743942380467,
           0.9236140881781971,
           0.9317084210259574,
           0.9961123347024381,
           0.8195057468754905,
           0.8385124794848553,
           0.8742439107719437,
           0.8889248835576046,
           0.90238138274713,
           0.9186455791904813,
           0.9989664976989036,
           0.7877338982763745,
           0.7962310503829609,
           0.8296020569481375,
           0.8546920892996189,
           0.8758009837561356,
           0.9031237423419952,
           0.9942927509159236,
           0.7729573987263105,
           0.777501863602436,
           0.7977442470721868,
           0.8227092728470311,
           0.8412016419105199,
           0.8965860542280849,
           0.9970383107146144,
           0.7617744628743176,
           0.7656801022492447,
           0.7766837308159122,
           0.7938060463506939,
           0.8060918015319031,
           0.8726407109916984,
           1.0003321502373848,
           0.7526520383048366,
           0.7557873964309693,
           0.7633451811678997,
           0.7738450792444733,
           0.7830952550683702,
           0.863580457240472,
           1.005055231397802,
           0.7473454875863476,
           0.7478020696412949,
           0.7520029835112683,
           0.7622280529051116,
           0.7717460972922189,
           0.831637964129964,
           1.0012504058224814,
           0.7417836506645401,
           0.7415596347608608,
           0.7448505693441861,
           0.7484893152208039,
           0.756815115301124,
           0.8119664406363581,
           1.0021546888403046
          ],
          "colorscale": [
           [
            0,
            "rgb(0,0,131)"
           ],
           [
            0.2,
            "rgb(0,60,170)"
           ],
           [
            0.4,
            "rgb(5,255,255)"
           ],
           [
            0.6,
            "rgb(255,255,0)"
           ],
           [
            0.8,
            "rgb(250,0,0)"
           ],
           [
            1,
            "rgb(128,0,0)"
           ]
          ],
          "opacity": 0.9,
          "size": 5
         },
         "mode": "markers",
         "type": "scatter3d",
         "x": [
          1,
          1,
          1,
          1,
          1,
          1,
          1,
          2,
          2,
          2,
          2,
          2,
          2,
          2,
          3,
          3,
          3,
          3,
          3,
          3,
          3,
          4,
          4,
          4,
          4,
          4,
          4,
          4,
          5,
          5,
          5,
          5,
          5,
          5,
          5,
          6,
          6,
          6,
          6,
          6,
          6,
          6,
          7,
          7,
          7,
          7,
          7,
          7,
          7,
          8,
          8,
          8,
          8,
          8,
          8,
          8,
          9,
          9,
          9,
          9,
          9,
          9,
          9,
          10,
          10,
          10,
          10,
          10,
          10,
          10,
          20,
          20,
          20,
          20,
          20,
          20,
          20,
          30,
          30,
          30,
          30,
          30,
          30,
          30,
          40,
          40,
          40,
          40,
          40,
          40,
          40,
          50,
          50,
          50,
          50,
          50,
          50,
          50,
          60,
          60,
          60,
          60,
          60,
          60,
          60,
          70,
          70,
          70,
          70,
          70,
          70,
          70,
          80,
          80,
          80,
          80,
          80,
          80,
          80,
          90,
          90,
          90,
          90,
          90,
          90,
          90,
          100,
          100,
          100,
          100,
          100,
          100,
          100
         ],
         "y": [
          0,
          0.1,
          0.3,
          0.5,
          0.6,
          0.7,
          0.8,
          0,
          0.1,
          0.3,
          0.5,
          0.6,
          0.7,
          0.8,
          0,
          0.1,
          0.3,
          0.5,
          0.6,
          0.7,
          0.8,
          0,
          0.1,
          0.3,
          0.5,
          0.6,
          0.7,
          0.8,
          0,
          0.1,
          0.3,
          0.5,
          0.6,
          0.7,
          0.8,
          0,
          0.1,
          0.3,
          0.5,
          0.6,
          0.7,
          0.8,
          0,
          0.1,
          0.3,
          0.5,
          0.6,
          0.7,
          0.8,
          0,
          0.1,
          0.3,
          0.5,
          0.6,
          0.7,
          0.8,
          0,
          0.1,
          0.3,
          0.5,
          0.6,
          0.7,
          0.8,
          0,
          0.1,
          0.3,
          0.5,
          0.6,
          0.7,
          0.8,
          0,
          0.1,
          0.3,
          0.5,
          0.6,
          0.7,
          0.8,
          0,
          0.1,
          0.3,
          0.5,
          0.6,
          0.7,
          0.8,
          0,
          0.1,
          0.3,
          0.5,
          0.6,
          0.7,
          0.8,
          0,
          0.1,
          0.3,
          0.5,
          0.6,
          0.7,
          0.8,
          0,
          0.1,
          0.3,
          0.5,
          0.6,
          0.7,
          0.8,
          0,
          0.1,
          0.3,
          0.5,
          0.6,
          0.7,
          0.8,
          0,
          0.1,
          0.3,
          0.5,
          0.6,
          0.7,
          0.8,
          0,
          0.1,
          0.3,
          0.5,
          0.6,
          0.7,
          0.8,
          0,
          0.1,
          0.3,
          0.5,
          0.6,
          0.7,
          0.8
         ],
         "z": [
          1.043706883960988,
          1.0436181947008356,
          1.0441424318206258,
          1.0361043082945274,
          1.0351684627078828,
          1.036556966557647,
          1.0558047872601135,
          1.030915457268298,
          1.0363332032125234,
          1.032114679292167,
          1.0237324346711625,
          1.0179437977411014,
          1.0149145629498866,
          1.0537450580885916,
          1.0217771186973108,
          1.0207612487660858,
          1.0164953034677546,
          1.0087041499810818,
          1.0073360284685573,
          1.0052685697873434,
          1.0529009726398435,
          1.0106708720906987,
          1.0137295159168573,
          1.0062294532468308,
          1.0016745612734839,
          0.9973181224488593,
          0.9992654351186959,
          1.0496331960349887,
          1.0027414618116437,
          1.005989105025411,
          0.9996849847820414,
          0.9921805869965327,
          0.9925932996974879,
          0.9943310628463695,
          1.0460059212657797,
          0.996606044903462,
          0.995982536557433,
          0.9933622290045668,
          0.9881720218565557,
          0.9845677238522155,
          0.9907551219453027,
          1.0411648518853374,
          0.9896433346199267,
          0.9926484278012148,
          0.9910750015731498,
          0.9815663782291082,
          0.9816549302695634,
          0.9842673261960347,
          1.017587735694208,
          0.9839377063693422,
          0.9870818259396079,
          0.9817454209575406,
          0.9780534643115419,
          0.9758200842838782,
          0.9791722940676141,
          1.0077351392605602,
          0.977407024510495,
          0.9791924738522731,
          0.9740547706296433,
          0.9714677679332304,
          0.9711998861331445,
          0.9757883755675643,
          1.0057034175633353,
          0.9690602672822547,
          0.975967156345194,
          0.9755278332408889,
          0.9700621282383478,
          0.9709109550688689,
          0.9754686950863182,
          1.0035546544826393,
          0.9170003509624696,
          0.9343859687254026,
          0.9296834726612289,
          0.941946142911911,
          0.9473585418550482,
          0.953265086629174,
          0.9948536474725385,
          0.8721958774508851,
          0.8914981815722082,
          0.8973930779989664,
          0.9136743942380467,
          0.9236140881781971,
          0.9317084210259574,
          0.9961123347024381,
          0.8195057468754905,
          0.8385124794848553,
          0.8742439107719437,
          0.8889248835576046,
          0.90238138274713,
          0.9186455791904813,
          0.9989664976989036,
          0.7877338982763745,
          0.7962310503829609,
          0.8296020569481375,
          0.8546920892996189,
          0.8758009837561356,
          0.9031237423419952,
          0.9942927509159236,
          0.7729573987263105,
          0.777501863602436,
          0.7977442470721868,
          0.8227092728470311,
          0.8412016419105199,
          0.8965860542280849,
          0.9970383107146144,
          0.7617744628743176,
          0.7656801022492447,
          0.7766837308159122,
          0.7938060463506939,
          0.8060918015319031,
          0.8726407109916984,
          1.0003321502373848,
          0.7526520383048366,
          0.7557873964309693,
          0.7633451811678997,
          0.7738450792444733,
          0.7830952550683702,
          0.863580457240472,
          1.005055231397802,
          0.7473454875863476,
          0.7478020696412949,
          0.7520029835112683,
          0.7622280529051116,
          0.7717460972922189,
          0.831637964129964,
          1.0012504058224814,
          0.7417836506645401,
          0.7415596347608608,
          0.7448505693441861,
          0.7484893152208039,
          0.756815115301124,
          0.8119664406363581,
          1.0021546888403046
         ]
        },
        {
         "hoverinfo": "text",
         "hovertext": "Minimum loss: 0.7415596347608608<br>data_size_pct: 100.0<br>reg_val: 0.1<br>Learning Rate: 0.00038800000000000005",
         "marker": {
          "color": "red",
          "size": 8
         },
         "mode": "markers",
         "type": "scatter3d",
         "x": [
          100
         ],
         "y": [
          0.1
         ],
         "z": [
          0.7415596347608608
         ]
        }
       ],
       "layout": {
        "height": 600,
        "margin": {
         "b": 50,
         "l": 0.5,
         "r": 0.5,
         "t": 50
        },
        "scene": {
         "aspectratio": {
          "x": 1.25,
          "y": 1,
          "z": 1
         },
         "xaxis": {
          "title": {
           "text": "data_size_pct"
          },
          "type": "linear"
         },
         "yaxis": {
          "title": {
           "text": "reg_val"
          },
          "type": "linear"
         },
         "zaxis": {
          "title": {
           "text": "loss"
          },
          "type": "linear"
         }
        },
        "template": {
         "data": {
          "bar": [
           {
            "error_x": {
             "color": "#2a3f5f"
            },
            "error_y": {
             "color": "#2a3f5f"
            },
            "marker": {
             "line": {
              "color": "#E5ECF6",
              "width": 0.5
             },
             "pattern": {
              "fillmode": "overlay",
              "size": 10,
              "solidity": 0.2
             }
            },
            "type": "bar"
           }
          ],
          "barpolar": [
           {
            "marker": {
             "line": {
              "color": "#E5ECF6",
              "width": 0.5
             },
             "pattern": {
              "fillmode": "overlay",
              "size": 10,
              "solidity": 0.2
             }
            },
            "type": "barpolar"
           }
          ],
          "carpet": [
           {
            "aaxis": {
             "endlinecolor": "#2a3f5f",
             "gridcolor": "white",
             "linecolor": "white",
             "minorgridcolor": "white",
             "startlinecolor": "#2a3f5f"
            },
            "baxis": {
             "endlinecolor": "#2a3f5f",
             "gridcolor": "white",
             "linecolor": "white",
             "minorgridcolor": "white",
             "startlinecolor": "#2a3f5f"
            },
            "type": "carpet"
           }
          ],
          "choropleth": [
           {
            "colorbar": {
             "outlinewidth": 0,
             "ticks": ""
            },
            "type": "choropleth"
           }
          ],
          "contour": [
           {
            "colorbar": {
             "outlinewidth": 0,
             "ticks": ""
            },
            "colorscale": [
             [
              0,
              "#0d0887"
             ],
             [
              0.1111111111111111,
              "#46039f"
             ],
             [
              0.2222222222222222,
              "#7201a8"
             ],
             [
              0.3333333333333333,
              "#9c179e"
             ],
             [
              0.4444444444444444,
              "#bd3786"
             ],
             [
              0.5555555555555556,
              "#d8576b"
             ],
             [
              0.6666666666666666,
              "#ed7953"
             ],
             [
              0.7777777777777778,
              "#fb9f3a"
             ],
             [
              0.8888888888888888,
              "#fdca26"
             ],
             [
              1,
              "#f0f921"
             ]
            ],
            "type": "contour"
           }
          ],
          "contourcarpet": [
           {
            "colorbar": {
             "outlinewidth": 0,
             "ticks": ""
            },
            "type": "contourcarpet"
           }
          ],
          "heatmap": [
           {
            "colorbar": {
             "outlinewidth": 0,
             "ticks": ""
            },
            "colorscale": [
             [
              0,
              "#0d0887"
             ],
             [
              0.1111111111111111,
              "#46039f"
             ],
             [
              0.2222222222222222,
              "#7201a8"
             ],
             [
              0.3333333333333333,
              "#9c179e"
             ],
             [
              0.4444444444444444,
              "#bd3786"
             ],
             [
              0.5555555555555556,
              "#d8576b"
             ],
             [
              0.6666666666666666,
              "#ed7953"
             ],
             [
              0.7777777777777778,
              "#fb9f3a"
             ],
             [
              0.8888888888888888,
              "#fdca26"
             ],
             [
              1,
              "#f0f921"
             ]
            ],
            "type": "heatmap"
           }
          ],
          "heatmapgl": [
           {
            "colorbar": {
             "outlinewidth": 0,
             "ticks": ""
            },
            "colorscale": [
             [
              0,
              "#0d0887"
             ],
             [
              0.1111111111111111,
              "#46039f"
             ],
             [
              0.2222222222222222,
              "#7201a8"
             ],
             [
              0.3333333333333333,
              "#9c179e"
             ],
             [
              0.4444444444444444,
              "#bd3786"
             ],
             [
              0.5555555555555556,
              "#d8576b"
             ],
             [
              0.6666666666666666,
              "#ed7953"
             ],
             [
              0.7777777777777778,
              "#fb9f3a"
             ],
             [
              0.8888888888888888,
              "#fdca26"
             ],
             [
              1,
              "#f0f921"
             ]
            ],
            "type": "heatmapgl"
           }
          ],
          "histogram": [
           {
            "marker": {
             "pattern": {
              "fillmode": "overlay",
              "size": 10,
              "solidity": 0.2
             }
            },
            "type": "histogram"
           }
          ],
          "histogram2d": [
           {
            "colorbar": {
             "outlinewidth": 0,
             "ticks": ""
            },
            "colorscale": [
             [
              0,
              "#0d0887"
             ],
             [
              0.1111111111111111,
              "#46039f"
             ],
             [
              0.2222222222222222,
              "#7201a8"
             ],
             [
              0.3333333333333333,
              "#9c179e"
             ],
             [
              0.4444444444444444,
              "#bd3786"
             ],
             [
              0.5555555555555556,
              "#d8576b"
             ],
             [
              0.6666666666666666,
              "#ed7953"
             ],
             [
              0.7777777777777778,
              "#fb9f3a"
             ],
             [
              0.8888888888888888,
              "#fdca26"
             ],
             [
              1,
              "#f0f921"
             ]
            ],
            "type": "histogram2d"
           }
          ],
          "histogram2dcontour": [
           {
            "colorbar": {
             "outlinewidth": 0,
             "ticks": ""
            },
            "colorscale": [
             [
              0,
              "#0d0887"
             ],
             [
              0.1111111111111111,
              "#46039f"
             ],
             [
              0.2222222222222222,
              "#7201a8"
             ],
             [
              0.3333333333333333,
              "#9c179e"
             ],
             [
              0.4444444444444444,
              "#bd3786"
             ],
             [
              0.5555555555555556,
              "#d8576b"
             ],
             [
              0.6666666666666666,
              "#ed7953"
             ],
             [
              0.7777777777777778,
              "#fb9f3a"
             ],
             [
              0.8888888888888888,
              "#fdca26"
             ],
             [
              1,
              "#f0f921"
             ]
            ],
            "type": "histogram2dcontour"
           }
          ],
          "mesh3d": [
           {
            "colorbar": {
             "outlinewidth": 0,
             "ticks": ""
            },
            "type": "mesh3d"
           }
          ],
          "parcoords": [
           {
            "line": {
             "colorbar": {
              "outlinewidth": 0,
              "ticks": ""
             }
            },
            "type": "parcoords"
           }
          ],
          "pie": [
           {
            "automargin": true,
            "type": "pie"
           }
          ],
          "scatter": [
           {
            "fillpattern": {
             "fillmode": "overlay",
             "size": 10,
             "solidity": 0.2
            },
            "type": "scatter"
           }
          ],
          "scatter3d": [
           {
            "line": {
             "colorbar": {
              "outlinewidth": 0,
              "ticks": ""
             }
            },
            "marker": {
             "colorbar": {
              "outlinewidth": 0,
              "ticks": ""
             }
            },
            "type": "scatter3d"
           }
          ],
          "scattercarpet": [
           {
            "marker": {
             "colorbar": {
              "outlinewidth": 0,
              "ticks": ""
             }
            },
            "type": "scattercarpet"
           }
          ],
          "scattergeo": [
           {
            "marker": {
             "colorbar": {
              "outlinewidth": 0,
              "ticks": ""
             }
            },
            "type": "scattergeo"
           }
          ],
          "scattergl": [
           {
            "marker": {
             "colorbar": {
              "outlinewidth": 0,
              "ticks": ""
             }
            },
            "type": "scattergl"
           }
          ],
          "scattermapbox": [
           {
            "marker": {
             "colorbar": {
              "outlinewidth": 0,
              "ticks": ""
             }
            },
            "type": "scattermapbox"
           }
          ],
          "scatterpolar": [
           {
            "marker": {
             "colorbar": {
              "outlinewidth": 0,
              "ticks": ""
             }
            },
            "type": "scatterpolar"
           }
          ],
          "scatterpolargl": [
           {
            "marker": {
             "colorbar": {
              "outlinewidth": 0,
              "ticks": ""
             }
            },
            "type": "scatterpolargl"
           }
          ],
          "scatterternary": [
           {
            "marker": {
             "colorbar": {
              "outlinewidth": 0,
              "ticks": ""
             }
            },
            "type": "scatterternary"
           }
          ],
          "surface": [
           {
            "colorbar": {
             "outlinewidth": 0,
             "ticks": ""
            },
            "colorscale": [
             [
              0,
              "#0d0887"
             ],
             [
              0.1111111111111111,
              "#46039f"
             ],
             [
              0.2222222222222222,
              "#7201a8"
             ],
             [
              0.3333333333333333,
              "#9c179e"
             ],
             [
              0.4444444444444444,
              "#bd3786"
             ],
             [
              0.5555555555555556,
              "#d8576b"
             ],
             [
              0.6666666666666666,
              "#ed7953"
             ],
             [
              0.7777777777777778,
              "#fb9f3a"
             ],
             [
              0.8888888888888888,
              "#fdca26"
             ],
             [
              1,
              "#f0f921"
             ]
            ],
            "type": "surface"
           }
          ],
          "table": [
           {
            "cells": {
             "fill": {
              "color": "#EBF0F8"
             },
             "line": {
              "color": "white"
             }
            },
            "header": {
             "fill": {
              "color": "#C8D4E3"
             },
             "line": {
              "color": "white"
             }
            },
            "type": "table"
           }
          ]
         },
         "layout": {
          "annotationdefaults": {
           "arrowcolor": "#2a3f5f",
           "arrowhead": 0,
           "arrowwidth": 1
          },
          "autotypenumbers": "strict",
          "coloraxis": {
           "colorbar": {
            "outlinewidth": 0,
            "ticks": ""
           }
          },
          "colorscale": {
           "diverging": [
            [
             0,
             "#8e0152"
            ],
            [
             0.1,
             "#c51b7d"
            ],
            [
             0.2,
             "#de77ae"
            ],
            [
             0.3,
             "#f1b6da"
            ],
            [
             0.4,
             "#fde0ef"
            ],
            [
             0.5,
             "#f7f7f7"
            ],
            [
             0.6,
             "#e6f5d0"
            ],
            [
             0.7,
             "#b8e186"
            ],
            [
             0.8,
             "#7fbc41"
            ],
            [
             0.9,
             "#4d9221"
            ],
            [
             1,
             "#276419"
            ]
           ],
           "sequential": [
            [
             0,
             "#0d0887"
            ],
            [
             0.1111111111111111,
             "#46039f"
            ],
            [
             0.2222222222222222,
             "#7201a8"
            ],
            [
             0.3333333333333333,
             "#9c179e"
            ],
            [
             0.4444444444444444,
             "#bd3786"
            ],
            [
             0.5555555555555556,
             "#d8576b"
            ],
            [
             0.6666666666666666,
             "#ed7953"
            ],
            [
             0.7777777777777778,
             "#fb9f3a"
            ],
            [
             0.8888888888888888,
             "#fdca26"
            ],
            [
             1,
             "#f0f921"
            ]
           ],
           "sequentialminus": [
            [
             0,
             "#0d0887"
            ],
            [
             0.1111111111111111,
             "#46039f"
            ],
            [
             0.2222222222222222,
             "#7201a8"
            ],
            [
             0.3333333333333333,
             "#9c179e"
            ],
            [
             0.4444444444444444,
             "#bd3786"
            ],
            [
             0.5555555555555556,
             "#d8576b"
            ],
            [
             0.6666666666666666,
             "#ed7953"
            ],
            [
             0.7777777777777778,
             "#fb9f3a"
            ],
            [
             0.8888888888888888,
             "#fdca26"
            ],
            [
             1,
             "#f0f921"
            ]
           ]
          },
          "colorway": [
           "#636efa",
           "#EF553B",
           "#00cc96",
           "#ab63fa",
           "#FFA15A",
           "#19d3f3",
           "#FF6692",
           "#B6E880",
           "#FF97FF",
           "#FECB52"
          ],
          "font": {
           "color": "#2a3f5f"
          },
          "geo": {
           "bgcolor": "white",
           "lakecolor": "white",
           "landcolor": "#E5ECF6",
           "showlakes": true,
           "showland": true,
           "subunitcolor": "white"
          },
          "hoverlabel": {
           "align": "left"
          },
          "hovermode": "closest",
          "mapbox": {
           "style": "light"
          },
          "paper_bgcolor": "white",
          "plot_bgcolor": "#E5ECF6",
          "polar": {
           "angularaxis": {
            "gridcolor": "white",
            "linecolor": "white",
            "ticks": ""
           },
           "bgcolor": "#E5ECF6",
           "radialaxis": {
            "gridcolor": "white",
            "linecolor": "white",
            "ticks": ""
           }
          },
          "scene": {
           "xaxis": {
            "backgroundcolor": "#E5ECF6",
            "gridcolor": "white",
            "gridwidth": 2,
            "linecolor": "white",
            "showbackground": true,
            "ticks": "",
            "zerolinecolor": "white"
           },
           "yaxis": {
            "backgroundcolor": "#E5ECF6",
            "gridcolor": "white",
            "gridwidth": 2,
            "linecolor": "white",
            "showbackground": true,
            "ticks": "",
            "zerolinecolor": "white"
           },
           "zaxis": {
            "backgroundcolor": "#E5ECF6",
            "gridcolor": "white",
            "gridwidth": 2,
            "linecolor": "white",
            "showbackground": true,
            "ticks": "",
            "zerolinecolor": "white"
           }
          },
          "shapedefaults": {
           "line": {
            "color": "#2a3f5f"
           }
          },
          "ternary": {
           "aaxis": {
            "gridcolor": "white",
            "linecolor": "white",
            "ticks": ""
           },
           "baxis": {
            "gridcolor": "white",
            "linecolor": "white",
            "ticks": ""
           },
           "bgcolor": "#E5ECF6",
           "caxis": {
            "gridcolor": "white",
            "linecolor": "white",
            "ticks": ""
           }
          },
          "title": {
           "x": 0.05
          },
          "xaxis": {
           "automargin": true,
           "gridcolor": "white",
           "linecolor": "white",
           "ticks": "",
           "title": {
            "standoff": 15
           },
           "zerolinecolor": "white",
           "zerolinewidth": 2
          },
          "yaxis": {
           "automargin": true,
           "gridcolor": "white",
           "linecolor": "white",
           "ticks": "",
           "title": {
            "standoff": 15
           },
           "zerolinecolor": "white",
           "zerolinewidth": 2
          }
         }
        },
        "title": {
         "text": "PROTEIN. DROPOUT. loss as a function of data_size_pct and reg_val)"
        },
        "width": 800
       }
      }
     },
     "metadata": {},
     "output_type": "display_data"
    }
   ],
   "source": [
    "plot_3d = plot_3d_surface_with_avg(dataset, 'data_size_pct', 'reg_val', 'loss', log_x=False, log_y=log_scale, log_z=False)"
   ]
  },
  {
   "cell_type": "code",
   "execution_count": 16,
   "metadata": {},
   "outputs": [],
   "source": [
    "def plot_mean_loss(df, x_axis='data_size_pct', group_by='reg_val', log_x=False):\n",
    "    \"\"\"\n",
    "    Plots the mean loss as a function of x_axis for each unique group_by value using Plotly subplots.\n",
    "    Each marker in the scatter plot is accompanied by an error bar representing the spread of the data.\n",
    "\n",
    "    Parameters:\n",
    "    - df: pandas DataFrame containing the data.\n",
    "    - x_axis: column name to use for the x-axis ('data_size_pct' or 'reg_val').\n",
    "    - group_by: column name to group the data by ('reg_val' or 'data_size_pct').\n",
    "    - log_x: boolean indicating whether to use a log scale for the x-axis.\n",
    "\n",
    "    Returns:\n",
    "    - Plotly Figure object.\n",
    "    \"\"\"\n",
    "\n",
    "    # Validate inputs\n",
    "    if x_axis not in df.columns:\n",
    "        raise ValueError(f\"x_axis '{x_axis}' not found in DataFrame columns.\")\n",
    "    if group_by not in df.columns:\n",
    "        raise ValueError(f\"group_by '{group_by}' not found in DataFrame columns.\")\n",
    "    if x_axis == group_by:\n",
    "        raise ValueError(\"x_axis and group_by must be different columns.\")\n",
    "\n",
    "    # Make a copy of the DataFrame to avoid modifying the original data\n",
    "    df_plot = df.copy()\n",
    "\n",
    "    # Option 2: Adjust x_axis to be positive by shifting if log_x is True\n",
    "    shift_value = 0  # Initialize shift value\n",
    "    if log_x:\n",
    "        min_x = df_plot[x_axis].min()\n",
    "        if min_x <= 0:\n",
    "            shift_value = abs(min_x) + 1e-6  # Small constant to ensure positivity\n",
    "            df_plot[x_axis] = df_plot[x_axis] + shift_value\n",
    "            print(f\"Shifted '{x_axis}' by {shift_value} to make all values positive for log scale.\")\n",
    "\n",
    "    # Compute mean and standard deviation of loss grouped by 'group_by' and 'x_axis'\n",
    "    grouped = df_plot.groupby([group_by, x_axis])[['loss', 'lr']].agg({'loss': ['mean', 'std'], 'lr': 'mean'}).reset_index()\n",
    "    grouped.columns = [group_by, x_axis, 'loss_mean', 'loss_std', 'lr_mean']\n",
    "\n",
    "\n",
    "    # Get unique groups\n",
    "    unique_groups = sorted(grouped[group_by].unique())\n",
    "\n",
    "    # Determine number of subplots (n rows x 2 columns)\n",
    "    n = len(unique_groups)\n",
    "    cols = 2\n",
    "    rows = math.ceil(n / cols)\n",
    "\n",
    "    # Create subplot titles\n",
    "    subplot_titles = [f\"{group_by} = {g}\" for g in unique_groups]\n",
    "\n",
    "    # Create subplots\n",
    "    fig = make_subplots(rows=rows, cols=cols, subplot_titles=subplot_titles)\n",
    "\n",
    "    # Determine global x and y ranges\n",
    "    x_min = grouped[x_axis].min()\n",
    "    x_max = grouped[x_axis].max()\n",
    "    y_min = grouped['loss_mean'].min()\n",
    "    y_max = grouped['loss_mean'].max()\n",
    "\n",
    "    # Add padding (5% of the range on each side for x, 15% for y)\n",
    "    x_padding = (x_max - x_min) * 0.05 if x_max != x_min else 1\n",
    "    y_padding = (y_max - y_min) * 0.15 if y_max != y_min else 1\n",
    "\n",
    "    # Calculate final ranges\n",
    "    if log_x:\n",
    "        # For log scales, padding should be multiplicative\n",
    "        x_range = [x_min / 1.1, x_max * 1.1]\n",
    "    else:\n",
    "        x_range = [x_min - x_padding, x_max + x_padding]\n",
    "    y_range = [y_min - y_padding, y_max + y_padding]\n",
    "\n",
    "    for i, group in enumerate(unique_groups):\n",
    "        row = i // cols + 1\n",
    "        col = i % cols + 1\n",
    "        df_group = grouped[grouped[group_by] == group].sort_values(by=x_axis)\n",
    "        fig.add_trace(\n",
    "            go.Scatter(\n",
    "                x=df_group[x_axis],\n",
    "                y=df_group['loss_mean'],\n",
    "                mode='lines+markers',\n",
    "                name=str(group),\n",
    "                error_y=dict(\n",
    "                    type='data',\n",
    "                    array=df_group['loss_std'],\n",
    "                    visible=True\n",
    "                ),\n",
    "                hovertext=[\n",
    "                    f\"{x_axis}: {x}<br>Mean Loss: {loss}<br>Avg Learning Rate: {lr}\"\n",
    "                    for x, loss, lr in zip(df_group[x_axis], df_group['loss_mean'], df_group['lr_mean'])\n",
    "                ],\n",
    "                hoverinfo=\"text\"\n",
    "            ),\n",
    "            row=row,\n",
    "            col=col\n",
    "        )\n",
    "\n",
    "\n",
    "        # Set x-axis to log if needed, ensuring x_range values are positive for log scale\n",
    "        if log_x:\n",
    "            if x_range[0] > 0 and x_range[1] > 0:\n",
    "                fig.update_xaxes(\n",
    "                    type='log',\n",
    "                    range=[math.log10(x_range[0]), math.log10(x_range[1])],\n",
    "                    row=row,\n",
    "                    col=col\n",
    "                )\n",
    "            else:\n",
    "                raise ValueError(\"Cannot apply log scale to non-positive x_range values after shifting.\")\n",
    "        else:\n",
    "            fig.update_xaxes(range=x_range, row=row, col=col)\n",
    "\n",
    "        # Set y-axis range\n",
    "        fig.update_yaxes(range=y_range, row=row, col=col)\n",
    "\n",
    "        # Set axis titles\n",
    "        fig.update_yaxes(title_text=\"Mean Loss\", row=row, col=col)\n",
    "        # Adjust x-axis title if shifted\n",
    "        if log_x and shift_value != 0:\n",
    "            fig.update_xaxes(title_text=f\"{x_axis} + {shift_value:.2e}\", row=row, col=col)\n",
    "        else:\n",
    "            fig.update_xaxes(title_text=x_axis, row=row, col=col)\n",
    "\n",
    "    # If there are empty subplots, remove their annotations\n",
    "    total_subplots = rows * cols\n",
    "    existing_annotations = len(fig.layout.annotations)\n",
    "    if n < total_subplots:\n",
    "        for i in range(n, total_subplots):\n",
    "            if i < existing_annotations:\n",
    "                fig.layout.annotations[i].text = ''\n",
    "\n",
    "    fig.update_layout(\n",
    "        height=320*rows, \n",
    "        width=1000, \n",
    "        title_text=f\"Mean Loss vs {x_axis} grouped by {group_by}\",\n",
    "        showlegend=False\n",
    "    )\n",
    "    fig.show()\n",
    "    return fig\n"
   ]
  },
  {
   "cell_type": "code",
   "execution_count": 17,
   "metadata": {},
   "outputs": [
    {
     "data": {
      "application/vnd.plotly.v1+json": {
       "config": {
        "plotlyServerURL": "https://plot.ly"
       },
       "data": [
        {
         "error_y": {
          "array": [
           0.009423509784579258,
           0.013198109106053041,
           0.013637706170234276,
           0.012007308407143877,
           0.011738238817275636,
           0.012030945816698271,
           0.012984875249598309,
           0.012159929043588338,
           0.010086007059178835,
           0.014247579368626017,
           0.029064687260369045,
           0.036510321441221114,
           0.030852210326583508,
           0.012914826394770042,
           0.009742146286732603,
           0.007543661699003275,
           0.005176567996692054,
           0.004746663398692629,
           0.003830509513518023
          ],
          "type": "data",
          "visible": true
         },
         "hoverinfo": "text",
         "hovertext": [
          "data_size_pct: 1<br>Mean Loss: 1.043706883960988<br>Avg Learning Rate: 0.00466",
          "data_size_pct: 2<br>Mean Loss: 1.030915457268298<br>Avg Learning Rate: 0.00466",
          "data_size_pct: 3<br>Mean Loss: 1.0217771186973108<br>Avg Learning Rate: 0.0024100000000000002",
          "data_size_pct: 4<br>Mean Loss: 1.0106708720906987<br>Avg Learning Rate: 0.0027099999999999997",
          "data_size_pct: 5<br>Mean Loss: 1.0027414618116437<br>Avg Learning Rate: 0.00283",
          "data_size_pct: 6<br>Mean Loss: 0.996606044903462<br>Avg Learning Rate: 0.0019",
          "data_size_pct: 7<br>Mean Loss: 0.9896433346199267<br>Avg Learning Rate: 0.0028899999999999998",
          "data_size_pct: 8<br>Mean Loss: 0.9839377063693422<br>Avg Learning Rate: 0.0025",
          "data_size_pct: 9<br>Mean Loss: 0.977407024510495<br>Avg Learning Rate: 0.0024490000000000002",
          "data_size_pct: 10<br>Mean Loss: 0.9690602672822547<br>Avg Learning Rate: 0.0033940000000000003",
          "data_size_pct: 20<br>Mean Loss: 0.9170003509624696<br>Avg Learning Rate: 0.003751",
          "data_size_pct: 30<br>Mean Loss: 0.8721958774508851<br>Avg Learning Rate: 0.0021969999999999997",
          "data_size_pct: 40<br>Mean Loss: 0.8195057468754905<br>Avg Learning Rate: 0.00118",
          "data_size_pct: 50<br>Mean Loss: 0.7877338982763745<br>Avg Learning Rate: 0.000808",
          "data_size_pct: 60<br>Mean Loss: 0.7729573987263105<br>Avg Learning Rate: 0.000196",
          "data_size_pct: 70<br>Mean Loss: 0.7617744628743176<br>Avg Learning Rate: 0.000124",
          "data_size_pct: 80<br>Mean Loss: 0.7526520383048366<br>Avg Learning Rate: 0.00013000000000000002",
          "data_size_pct: 90<br>Mean Loss: 0.7473454875863476<br>Avg Learning Rate: 0.00021700000000000002",
          "data_size_pct: 100<br>Mean Loss: 0.7417836506645401<br>Avg Learning Rate: 0.00028900000000000003"
         ],
         "mode": "lines+markers",
         "name": "0.0",
         "type": "scatter",
         "x": [
          1,
          2,
          3,
          4,
          5,
          6,
          7,
          8,
          9,
          10,
          20,
          30,
          40,
          50,
          60,
          70,
          80,
          90,
          100
         ],
         "xaxis": "x",
         "y": [
          1.043706883960988,
          1.030915457268298,
          1.0217771186973108,
          1.0106708720906987,
          1.0027414618116437,
          0.996606044903462,
          0.9896433346199267,
          0.9839377063693422,
          0.977407024510495,
          0.9690602672822547,
          0.9170003509624696,
          0.8721958774508851,
          0.8195057468754905,
          0.7877338982763745,
          0.7729573987263105,
          0.7617744628743176,
          0.7526520383048366,
          0.7473454875863476,
          0.7417836506645401
         ],
         "yaxis": "y"
        },
        {
         "error_y": {
          "array": [
           0.0070104590855121504,
           0.007086807058851327,
           0.009985014443771055,
           0.011168051040026545,
           0.010706236505599551,
           0.0083217641337082,
           0.011686417261348173,
           0.009146712090472839,
           0.01182210263601949,
           0.006859028148490763,
           0.009649448738971647,
           0.02670296449692882,
           0.023007147090781697,
           0.01992847600563962,
           0.01012957976929219,
           0.007111035377388521,
           0.0054866793189362415,
           0.005332402873652746,
           0.004991522326461007
          ],
          "type": "data",
          "visible": true
         },
         "hoverinfo": "text",
         "hovertext": [
          "data_size_pct: 1<br>Mean Loss: 1.0436181947008356<br>Avg Learning Rate: 0.00598",
          "data_size_pct: 2<br>Mean Loss: 1.0363332032125234<br>Avg Learning Rate: 0.0030700000000000002",
          "data_size_pct: 3<br>Mean Loss: 1.0207612487660858<br>Avg Learning Rate: 0.00337",
          "data_size_pct: 4<br>Mean Loss: 1.0137295159168573<br>Avg Learning Rate: 0.00226",
          "data_size_pct: 5<br>Mean Loss: 1.005989105025411<br>Avg Learning Rate: 0.00226",
          "data_size_pct: 6<br>Mean Loss: 0.995982536557433<br>Avg Learning Rate: 0.0022",
          "data_size_pct: 7<br>Mean Loss: 0.9926484278012148<br>Avg Learning Rate: 0.00334",
          "data_size_pct: 8<br>Mean Loss: 0.9870818259396079<br>Avg Learning Rate: 0.0032500000000000003",
          "data_size_pct: 9<br>Mean Loss: 0.9791924738522731<br>Avg Learning Rate: 0.005107",
          "data_size_pct: 10<br>Mean Loss: 0.975967156345194<br>Avg Learning Rate: 0.003781",
          "data_size_pct: 20<br>Mean Loss: 0.9343859687254026<br>Avg Learning Rate: 0.005371",
          "data_size_pct: 30<br>Mean Loss: 0.8914981815722082<br>Avg Learning Rate: 0.0055179999999999995",
          "data_size_pct: 40<br>Mean Loss: 0.8385124794848553<br>Avg Learning Rate: 0.001582",
          "data_size_pct: 50<br>Mean Loss: 0.7962310503829609<br>Avg Learning Rate: 5.8e-05",
          "data_size_pct: 60<br>Mean Loss: 0.777501863602436<br>Avg Learning Rate: 0.00015700000000000002",
          "data_size_pct: 70<br>Mean Loss: 0.7656801022492447<br>Avg Learning Rate: 0.000112",
          "data_size_pct: 80<br>Mean Loss: 0.7557873964309693<br>Avg Learning Rate: 0.000196",
          "data_size_pct: 90<br>Mean Loss: 0.7478020696412949<br>Avg Learning Rate: 0.000358",
          "data_size_pct: 100<br>Mean Loss: 0.7415596347608608<br>Avg Learning Rate: 0.00038800000000000005"
         ],
         "mode": "lines+markers",
         "name": "0.1",
         "type": "scatter",
         "x": [
          1,
          2,
          3,
          4,
          5,
          6,
          7,
          8,
          9,
          10,
          20,
          30,
          40,
          50,
          60,
          70,
          80,
          90,
          100
         ],
         "xaxis": "x2",
         "y": [
          1.0436181947008356,
          1.0363332032125234,
          1.0207612487660858,
          1.0137295159168573,
          1.005989105025411,
          0.995982536557433,
          0.9926484278012148,
          0.9870818259396079,
          0.9791924738522731,
          0.975967156345194,
          0.9343859687254026,
          0.8914981815722082,
          0.8385124794848553,
          0.7962310503829609,
          0.777501863602436,
          0.7656801022492447,
          0.7557873964309693,
          0.7478020696412949,
          0.7415596347608608
         ],
         "yaxis": "y2"
        },
        {
         "error_y": {
          "array": [
           0.00660736794616,
           0.008955529206463721,
           0.010254815727664814,
           0.011000432823512343,
           0.009167329823937552,
           0.006666857634475654,
           0.006892918130781606,
           0.009062455246217042,
           0.011748236299320623,
           0.010158547182871342,
           0.015007140917569283,
           0.019529139256531727,
           0.016420854565215144,
           0.02466130194000916,
           0.019486124119278466,
           0.009786478683258505,
           0.009301970658481451,
           0.007700607927972101,
           0.0055259112032879105
          ],
          "type": "data",
          "visible": true
         },
         "hoverinfo": "text",
         "hovertext": [
          "data_size_pct: 1<br>Mean Loss: 1.0441424318206258<br>Avg Learning Rate: 0.007209999999999999",
          "data_size_pct: 2<br>Mean Loss: 1.032114679292167<br>Avg Learning Rate: 0.0043300000000000005",
          "data_size_pct: 3<br>Mean Loss: 1.0164953034677546<br>Avg Learning Rate: 0.0031",
          "data_size_pct: 4<br>Mean Loss: 1.0062294532468308<br>Avg Learning Rate: 0.00268",
          "data_size_pct: 5<br>Mean Loss: 0.9996849847820414<br>Avg Learning Rate: 0.0041800000000000006",
          "data_size_pct: 6<br>Mean Loss: 0.9933622290045668<br>Avg Learning Rate: 0.00292",
          "data_size_pct: 7<br>Mean Loss: 0.9910750015731498<br>Avg Learning Rate: 0.00313",
          "data_size_pct: 8<br>Mean Loss: 0.9817454209575406<br>Avg Learning Rate: 0.00445",
          "data_size_pct: 9<br>Mean Loss: 0.9740547706296433<br>Avg Learning Rate: 0.004390000000000001",
          "data_size_pct: 10<br>Mean Loss: 0.9755278332408889<br>Avg Learning Rate: 0.00424",
          "data_size_pct: 20<br>Mean Loss: 0.9296834726612289<br>Avg Learning Rate: 0.007768",
          "data_size_pct: 30<br>Mean Loss: 0.8973930779989664<br>Avg Learning Rate: 0.0075699999999999995",
          "data_size_pct: 40<br>Mean Loss: 0.8742439107719437<br>Avg Learning Rate: 0.00505",
          "data_size_pct: 50<br>Mean Loss: 0.8296020569481375<br>Avg Learning Rate: 0.0022",
          "data_size_pct: 60<br>Mean Loss: 0.7977442470721868<br>Avg Learning Rate: 0.00124",
          "data_size_pct: 70<br>Mean Loss: 0.7766837308159122<br>Avg Learning Rate: 0.000451",
          "data_size_pct: 80<br>Mean Loss: 0.7633451811678997<br>Avg Learning Rate: 0.00064",
          "data_size_pct: 90<br>Mean Loss: 0.7520029835112683<br>Avg Learning Rate: 0.000571",
          "data_size_pct: 100<br>Mean Loss: 0.7448505693441861<br>Avg Learning Rate: 0.00048699999999999997"
         ],
         "mode": "lines+markers",
         "name": "0.3",
         "type": "scatter",
         "x": [
          1,
          2,
          3,
          4,
          5,
          6,
          7,
          8,
          9,
          10,
          20,
          30,
          40,
          50,
          60,
          70,
          80,
          90,
          100
         ],
         "xaxis": "x3",
         "y": [
          1.0441424318206258,
          1.032114679292167,
          1.0164953034677546,
          1.0062294532468308,
          0.9996849847820414,
          0.9933622290045668,
          0.9910750015731498,
          0.9817454209575406,
          0.9740547706296433,
          0.9755278332408889,
          0.9296834726612289,
          0.8973930779989664,
          0.8742439107719437,
          0.8296020569481375,
          0.7977442470721868,
          0.7766837308159122,
          0.7633451811678997,
          0.7520029835112683,
          0.7448505693441861
         ],
         "yaxis": "y3"
        },
        {
         "error_y": {
          "array": [
           0.010164717667105564,
           0.010146688189156348,
           0.007701934636111891,
           0.009527595694401066,
           0.009251204502000152,
           0.006282150398378472,
           0.010677321163416631,
           0.006274821221563753,
           0.009565150967132268,
           0.007716932238619903,
           0.009545793864922268,
           0.012359747603244804,
           0.013131387666784787,
           0.01690234424855034,
           0.018157631679087675,
           0.015523304684219487,
           0.011011127720730412,
           0.01181424335253478,
           0.00871774773227718
          ],
          "type": "data",
          "visible": true
         },
         "hoverinfo": "text",
         "hovertext": [
          "data_size_pct: 1<br>Mean Loss: 1.0361043082945274<br>Avg Learning Rate: 0.0094",
          "data_size_pct: 2<br>Mean Loss: 1.0237324346711625<br>Avg Learning Rate: 0.00451",
          "data_size_pct: 3<br>Mean Loss: 1.0087041499810818<br>Avg Learning Rate: 0.0029800000000000004",
          "data_size_pct: 4<br>Mean Loss: 1.0016745612734839<br>Avg Learning Rate: 0.00187",
          "data_size_pct: 5<br>Mean Loss: 0.9921805869965327<br>Avg Learning Rate: 0.00346",
          "data_size_pct: 6<br>Mean Loss: 0.9881720218565557<br>Avg Learning Rate: 0.0022",
          "data_size_pct: 7<br>Mean Loss: 0.9815663782291082<br>Avg Learning Rate: 0.00415",
          "data_size_pct: 8<br>Mean Loss: 0.9780534643115419<br>Avg Learning Rate: 0.0027700000000000003",
          "data_size_pct: 9<br>Mean Loss: 0.9714677679332304<br>Avg Learning Rate: 0.0024100000000000002",
          "data_size_pct: 10<br>Mean Loss: 0.9700621282383478<br>Avg Learning Rate: 0.0057399999999999994",
          "data_size_pct: 20<br>Mean Loss: 0.941946142911911<br>Avg Learning Rate: 0.00469",
          "data_size_pct: 30<br>Mean Loss: 0.9136743942380467<br>Avg Learning Rate: 0.001",
          "data_size_pct: 40<br>Mean Loss: 0.8889248835576046<br>Avg Learning Rate: 0.001",
          "data_size_pct: 50<br>Mean Loss: 0.8546920892996189<br>Avg Learning Rate: 0.001",
          "data_size_pct: 60<br>Mean Loss: 0.8227092728470311<br>Avg Learning Rate: 0.00097",
          "data_size_pct: 70<br>Mean Loss: 0.7938060463506939<br>Avg Learning Rate: 0.001",
          "data_size_pct: 80<br>Mean Loss: 0.7738450792444733<br>Avg Learning Rate: 0.00097",
          "data_size_pct: 90<br>Mean Loss: 0.7622280529051116<br>Avg Learning Rate: 0.00097",
          "data_size_pct: 100<br>Mean Loss: 0.7484893152208039<br>Avg Learning Rate: 0.001"
         ],
         "mode": "lines+markers",
         "name": "0.5",
         "type": "scatter",
         "x": [
          1,
          2,
          3,
          4,
          5,
          6,
          7,
          8,
          9,
          10,
          20,
          30,
          40,
          50,
          60,
          70,
          80,
          90,
          100
         ],
         "xaxis": "x4",
         "y": [
          1.0361043082945274,
          1.0237324346711625,
          1.0087041499810818,
          1.0016745612734839,
          0.9921805869965327,
          0.9881720218565557,
          0.9815663782291082,
          0.9780534643115419,
          0.9714677679332304,
          0.9700621282383478,
          0.941946142911911,
          0.9136743942380467,
          0.8889248835576046,
          0.8546920892996189,
          0.8227092728470311,
          0.7938060463506939,
          0.7738450792444733,
          0.7622280529051116,
          0.7484893152208039
         ],
         "yaxis": "y4"
        },
        {
         "error_y": {
          "array": [
           0.00982830952145343,
           0.005663693476812176,
           0.008008915121652237,
           0.009211109081184868,
           0.008596681263521297,
           0.008021916144286908,
           0.007577789960900719,
           0.006496810258422464,
           0.0058227263773637464,
           0.006224917315335694,
           0.007111999752209969,
           0.00954419946532601,
           0.01110220823045108,
           0.012433769721772483,
           0.01457585145022613,
           0.01284740893862104,
           0.009922485876465654,
           0.010415862788904983,
           0.008149556074691682
          ],
          "type": "data",
          "visible": true
         },
         "hoverinfo": "text",
         "hovertext": [
          "data_size_pct: 1<br>Mean Loss: 1.0351684627078828<br>Avg Learning Rate: 0.0085",
          "data_size_pct: 2<br>Mean Loss: 1.0179437977411014<br>Avg Learning Rate: 0.0037",
          "data_size_pct: 3<br>Mean Loss: 1.0073360284685573<br>Avg Learning Rate: 0.00235",
          "data_size_pct: 4<br>Mean Loss: 0.9973181224488593<br>Avg Learning Rate: 0.00169",
          "data_size_pct: 5<br>Mean Loss: 0.9925932996974879<br>Avg Learning Rate: 0.00064",
          "data_size_pct: 6<br>Mean Loss: 0.9845677238522155<br>Avg Learning Rate: 0.00058",
          "data_size_pct: 7<br>Mean Loss: 0.9816549302695634<br>Avg Learning Rate: 0.00046",
          "data_size_pct: 8<br>Mean Loss: 0.9758200842838782<br>Avg Learning Rate: 0.00076",
          "data_size_pct: 9<br>Mean Loss: 0.9711998861331445<br>Avg Learning Rate: 0.00082",
          "data_size_pct: 10<br>Mean Loss: 0.9709109550688689<br>Avg Learning Rate: 0.00046",
          "data_size_pct: 20<br>Mean Loss: 0.9473585418550482<br>Avg Learning Rate: 0.0005200000000000001",
          "data_size_pct: 30<br>Mean Loss: 0.9236140881781971<br>Avg Learning Rate: 0.0008500000000000001",
          "data_size_pct: 40<br>Mean Loss: 0.90238138274713<br>Avg Learning Rate: 0.001",
          "data_size_pct: 50<br>Mean Loss: 0.8758009837561356<br>Avg Learning Rate: 0.00094",
          "data_size_pct: 60<br>Mean Loss: 0.8412016419105199<br>Avg Learning Rate: 0.001",
          "data_size_pct: 70<br>Mean Loss: 0.8060918015319031<br>Avg Learning Rate: 0.001",
          "data_size_pct: 80<br>Mean Loss: 0.7830952550683702<br>Avg Learning Rate: 0.001",
          "data_size_pct: 90<br>Mean Loss: 0.7717460972922189<br>Avg Learning Rate: 0.001",
          "data_size_pct: 100<br>Mean Loss: 0.756815115301124<br>Avg Learning Rate: 0.001"
         ],
         "mode": "lines+markers",
         "name": "0.6",
         "type": "scatter",
         "x": [
          1,
          2,
          3,
          4,
          5,
          6,
          7,
          8,
          9,
          10,
          20,
          30,
          40,
          50,
          60,
          70,
          80,
          90,
          100
         ],
         "xaxis": "x5",
         "y": [
          1.0351684627078828,
          1.0179437977411014,
          1.0073360284685573,
          0.9973181224488593,
          0.9925932996974879,
          0.9845677238522155,
          0.9816549302695634,
          0.9758200842838782,
          0.9711998861331445,
          0.9709109550688689,
          0.9473585418550482,
          0.9236140881781971,
          0.90238138274713,
          0.8758009837561356,
          0.8412016419105199,
          0.8060918015319031,
          0.7830952550683702,
          0.7717460972922189,
          0.756815115301124
         ],
         "yaxis": "y5"
        },
        {
         "error_y": {
          "array": [
           0.010417866565561925,
           0.007932972870446035,
           0.007607219452406276,
           0.009108902961064598,
           0.007920539547095614,
           0.007748966563259356,
           0.005818651814754904,
           0.005260199110013027,
           0.006515319545491811,
           0.006873105841682134,
           0.008120650681145298,
           0.009706785555401552,
           0.012995282826815115,
           0.009972953106313895,
           0.00908861822890507,
           0.01148972118299102,
           0.016023132573262336,
           0.013760557577717356,
           0.014152743653368919
          ],
          "type": "data",
          "visible": true
         },
         "hoverinfo": "text",
         "hovertext": [
          "data_size_pct: 1<br>Mean Loss: 1.036556966557647<br>Avg Learning Rate: 0.007000000000000001",
          "data_size_pct: 2<br>Mean Loss: 1.0149145629498866<br>Avg Learning Rate: 0.0013",
          "data_size_pct: 3<br>Mean Loss: 1.0052685697873434<br>Avg Learning Rate: 0.001",
          "data_size_pct: 4<br>Mean Loss: 0.9992654351186959<br>Avg Learning Rate: 0.001",
          "data_size_pct: 5<br>Mean Loss: 0.9943310628463695<br>Avg Learning Rate: 0.001",
          "data_size_pct: 6<br>Mean Loss: 0.9907551219453027<br>Avg Learning Rate: 0.00097",
          "data_size_pct: 7<br>Mean Loss: 0.9842673261960347<br>Avg Learning Rate: 0.0004",
          "data_size_pct: 8<br>Mean Loss: 0.9791722940676141<br>Avg Learning Rate: 0.00031",
          "data_size_pct: 9<br>Mean Loss: 0.9757883755675643<br>Avg Learning Rate: 0.00022",
          "data_size_pct: 10<br>Mean Loss: 0.9754686950863182<br>Avg Learning Rate: 0.00034",
          "data_size_pct: 20<br>Mean Loss: 0.953265086629174<br>Avg Learning Rate: 0.00073",
          "data_size_pct: 30<br>Mean Loss: 0.9317084210259574<br>Avg Learning Rate: 0.00097",
          "data_size_pct: 40<br>Mean Loss: 0.9186455791904813<br>Avg Learning Rate: 0.00097",
          "data_size_pct: 50<br>Mean Loss: 0.9031237423419952<br>Avg Learning Rate: 0.001",
          "data_size_pct: 60<br>Mean Loss: 0.8965860542280849<br>Avg Learning Rate: 0.00097",
          "data_size_pct: 70<br>Mean Loss: 0.8726407109916984<br>Avg Learning Rate: 0.001",
          "data_size_pct: 80<br>Mean Loss: 0.863580457240472<br>Avg Learning Rate: 0.001",
          "data_size_pct: 90<br>Mean Loss: 0.831637964129964<br>Avg Learning Rate: 0.001",
          "data_size_pct: 100<br>Mean Loss: 0.8119664406363581<br>Avg Learning Rate: 0.001"
         ],
         "mode": "lines+markers",
         "name": "0.7",
         "type": "scatter",
         "x": [
          1,
          2,
          3,
          4,
          5,
          6,
          7,
          8,
          9,
          10,
          20,
          30,
          40,
          50,
          60,
          70,
          80,
          90,
          100
         ],
         "xaxis": "x6",
         "y": [
          1.036556966557647,
          1.0149145629498866,
          1.0052685697873434,
          0.9992654351186959,
          0.9943310628463695,
          0.9907551219453027,
          0.9842673261960347,
          0.9791722940676141,
          0.9757883755675643,
          0.9754686950863182,
          0.953265086629174,
          0.9317084210259574,
          0.9186455791904813,
          0.9031237423419952,
          0.8965860542280849,
          0.8726407109916984,
          0.863580457240472,
          0.831637964129964,
          0.8119664406363581
         ],
         "yaxis": "y6"
        },
        {
         "error_y": {
          "array": [
           0.004136360103768115,
           0.001821754429956228,
           0.0010658488107758374,
           0.011159063617548976,
           0.015296346994765755,
           0.017859415647162237,
           0.017123685957007608,
           0.007096187175132986,
           0.013875086360917735,
           0.008750939195015522,
           0.012695267669134043,
           0.01082261727691625,
           0.014501752039590619,
           0.013560325888509788,
           0.014355373404396805,
           0.01346743649289906,
           0.013221858442327988,
           0.012336500920824292,
           0.014510094587233607
          ],
          "type": "data",
          "visible": true
         },
         "hoverinfo": "text",
         "hovertext": [
          "data_size_pct: 1<br>Mean Loss: 1.0558047872601135<br>Avg Learning Rate: 0.0334",
          "data_size_pct: 2<br>Mean Loss: 1.0537450580885916<br>Avg Learning Rate: 0.0808",
          "data_size_pct: 3<br>Mean Loss: 1.0529009726398435<br>Avg Learning Rate: 0.07840000000000001",
          "data_size_pct: 4<br>Mean Loss: 1.0496331960349887<br>Avg Learning Rate: 0.0664",
          "data_size_pct: 5<br>Mean Loss: 1.0460059212657797<br>Avg Learning Rate: 0.059500000000000004",
          "data_size_pct: 6<br>Mean Loss: 1.0411648518853374<br>Avg Learning Rate: 0.052300000000000006",
          "data_size_pct: 7<br>Mean Loss: 1.017587735694208<br>Avg Learning Rate: 0.011500000000000002",
          "data_size_pct: 8<br>Mean Loss: 1.0077351392605602<br>Avg Learning Rate: 0.001",
          "data_size_pct: 9<br>Mean Loss: 1.0057034175633353<br>Avg Learning Rate: 0.0043",
          "data_size_pct: 10<br>Mean Loss: 1.0035546544826393<br>Avg Learning Rate: 0.001",
          "data_size_pct: 20<br>Mean Loss: 0.9948536474725385<br>Avg Learning Rate: 0.001",
          "data_size_pct: 30<br>Mean Loss: 0.9961123347024381<br>Avg Learning Rate: 0.001",
          "data_size_pct: 40<br>Mean Loss: 0.9989664976989036<br>Avg Learning Rate: 0.00097",
          "data_size_pct: 50<br>Mean Loss: 0.9942927509159236<br>Avg Learning Rate: 0.001",
          "data_size_pct: 60<br>Mean Loss: 0.9970383107146144<br>Avg Learning Rate: 0.001",
          "data_size_pct: 70<br>Mean Loss: 1.0003321502373848<br>Avg Learning Rate: 0.00097",
          "data_size_pct: 80<br>Mean Loss: 1.005055231397802<br>Avg Learning Rate: 0.001",
          "data_size_pct: 90<br>Mean Loss: 1.0012504058224814<br>Avg Learning Rate: 0.00094",
          "data_size_pct: 100<br>Mean Loss: 1.0021546888403046<br>Avg Learning Rate: 0.0008500000000000001"
         ],
         "mode": "lines+markers",
         "name": "0.8",
         "type": "scatter",
         "x": [
          1,
          2,
          3,
          4,
          5,
          6,
          7,
          8,
          9,
          10,
          20,
          30,
          40,
          50,
          60,
          70,
          80,
          90,
          100
         ],
         "xaxis": "x7",
         "y": [
          1.0558047872601135,
          1.0537450580885916,
          1.0529009726398435,
          1.0496331960349887,
          1.0460059212657797,
          1.0411648518853374,
          1.017587735694208,
          1.0077351392605602,
          1.0057034175633353,
          1.0035546544826393,
          0.9948536474725385,
          0.9961123347024381,
          0.9989664976989036,
          0.9942927509159236,
          0.9970383107146144,
          1.0003321502373848,
          1.005055231397802,
          1.0012504058224814,
          1.0021546888403046
         ],
         "yaxis": "y7"
        }
       ],
       "layout": {
        "annotations": [
         {
          "font": {
           "size": 16
          },
          "showarrow": false,
          "text": "reg_val = 0.0",
          "x": 0.225,
          "xanchor": "center",
          "xref": "paper",
          "y": 1,
          "yanchor": "bottom",
          "yref": "paper"
         },
         {
          "font": {
           "size": 16
          },
          "showarrow": false,
          "text": "reg_val = 0.1",
          "x": 0.775,
          "xanchor": "center",
          "xref": "paper",
          "y": 1,
          "yanchor": "bottom",
          "yref": "paper"
         },
         {
          "font": {
           "size": 16
          },
          "showarrow": false,
          "text": "reg_val = 0.3",
          "x": 0.225,
          "xanchor": "center",
          "xref": "paper",
          "y": 0.71875,
          "yanchor": "bottom",
          "yref": "paper"
         },
         {
          "font": {
           "size": 16
          },
          "showarrow": false,
          "text": "reg_val = 0.5",
          "x": 0.775,
          "xanchor": "center",
          "xref": "paper",
          "y": 0.71875,
          "yanchor": "bottom",
          "yref": "paper"
         },
         {
          "font": {
           "size": 16
          },
          "showarrow": false,
          "text": "reg_val = 0.6",
          "x": 0.225,
          "xanchor": "center",
          "xref": "paper",
          "y": 0.4375,
          "yanchor": "bottom",
          "yref": "paper"
         },
         {
          "font": {
           "size": 16
          },
          "showarrow": false,
          "text": "reg_val = 0.7",
          "x": 0.775,
          "xanchor": "center",
          "xref": "paper",
          "y": 0.4375,
          "yanchor": "bottom",
          "yref": "paper"
         },
         {
          "font": {
           "size": 16
          },
          "showarrow": false,
          "text": "reg_val = 0.8",
          "x": 0.225,
          "xanchor": "center",
          "xref": "paper",
          "y": 0.15625,
          "yanchor": "bottom",
          "yref": "paper"
         }
        ],
        "height": 1280,
        "showlegend": false,
        "template": {
         "data": {
          "bar": [
           {
            "error_x": {
             "color": "#2a3f5f"
            },
            "error_y": {
             "color": "#2a3f5f"
            },
            "marker": {
             "line": {
              "color": "#E5ECF6",
              "width": 0.5
             },
             "pattern": {
              "fillmode": "overlay",
              "size": 10,
              "solidity": 0.2
             }
            },
            "type": "bar"
           }
          ],
          "barpolar": [
           {
            "marker": {
             "line": {
              "color": "#E5ECF6",
              "width": 0.5
             },
             "pattern": {
              "fillmode": "overlay",
              "size": 10,
              "solidity": 0.2
             }
            },
            "type": "barpolar"
           }
          ],
          "carpet": [
           {
            "aaxis": {
             "endlinecolor": "#2a3f5f",
             "gridcolor": "white",
             "linecolor": "white",
             "minorgridcolor": "white",
             "startlinecolor": "#2a3f5f"
            },
            "baxis": {
             "endlinecolor": "#2a3f5f",
             "gridcolor": "white",
             "linecolor": "white",
             "minorgridcolor": "white",
             "startlinecolor": "#2a3f5f"
            },
            "type": "carpet"
           }
          ],
          "choropleth": [
           {
            "colorbar": {
             "outlinewidth": 0,
             "ticks": ""
            },
            "type": "choropleth"
           }
          ],
          "contour": [
           {
            "colorbar": {
             "outlinewidth": 0,
             "ticks": ""
            },
            "colorscale": [
             [
              0,
              "#0d0887"
             ],
             [
              0.1111111111111111,
              "#46039f"
             ],
             [
              0.2222222222222222,
              "#7201a8"
             ],
             [
              0.3333333333333333,
              "#9c179e"
             ],
             [
              0.4444444444444444,
              "#bd3786"
             ],
             [
              0.5555555555555556,
              "#d8576b"
             ],
             [
              0.6666666666666666,
              "#ed7953"
             ],
             [
              0.7777777777777778,
              "#fb9f3a"
             ],
             [
              0.8888888888888888,
              "#fdca26"
             ],
             [
              1,
              "#f0f921"
             ]
            ],
            "type": "contour"
           }
          ],
          "contourcarpet": [
           {
            "colorbar": {
             "outlinewidth": 0,
             "ticks": ""
            },
            "type": "contourcarpet"
           }
          ],
          "heatmap": [
           {
            "colorbar": {
             "outlinewidth": 0,
             "ticks": ""
            },
            "colorscale": [
             [
              0,
              "#0d0887"
             ],
             [
              0.1111111111111111,
              "#46039f"
             ],
             [
              0.2222222222222222,
              "#7201a8"
             ],
             [
              0.3333333333333333,
              "#9c179e"
             ],
             [
              0.4444444444444444,
              "#bd3786"
             ],
             [
              0.5555555555555556,
              "#d8576b"
             ],
             [
              0.6666666666666666,
              "#ed7953"
             ],
             [
              0.7777777777777778,
              "#fb9f3a"
             ],
             [
              0.8888888888888888,
              "#fdca26"
             ],
             [
              1,
              "#f0f921"
             ]
            ],
            "type": "heatmap"
           }
          ],
          "heatmapgl": [
           {
            "colorbar": {
             "outlinewidth": 0,
             "ticks": ""
            },
            "colorscale": [
             [
              0,
              "#0d0887"
             ],
             [
              0.1111111111111111,
              "#46039f"
             ],
             [
              0.2222222222222222,
              "#7201a8"
             ],
             [
              0.3333333333333333,
              "#9c179e"
             ],
             [
              0.4444444444444444,
              "#bd3786"
             ],
             [
              0.5555555555555556,
              "#d8576b"
             ],
             [
              0.6666666666666666,
              "#ed7953"
             ],
             [
              0.7777777777777778,
              "#fb9f3a"
             ],
             [
              0.8888888888888888,
              "#fdca26"
             ],
             [
              1,
              "#f0f921"
             ]
            ],
            "type": "heatmapgl"
           }
          ],
          "histogram": [
           {
            "marker": {
             "pattern": {
              "fillmode": "overlay",
              "size": 10,
              "solidity": 0.2
             }
            },
            "type": "histogram"
           }
          ],
          "histogram2d": [
           {
            "colorbar": {
             "outlinewidth": 0,
             "ticks": ""
            },
            "colorscale": [
             [
              0,
              "#0d0887"
             ],
             [
              0.1111111111111111,
              "#46039f"
             ],
             [
              0.2222222222222222,
              "#7201a8"
             ],
             [
              0.3333333333333333,
              "#9c179e"
             ],
             [
              0.4444444444444444,
              "#bd3786"
             ],
             [
              0.5555555555555556,
              "#d8576b"
             ],
             [
              0.6666666666666666,
              "#ed7953"
             ],
             [
              0.7777777777777778,
              "#fb9f3a"
             ],
             [
              0.8888888888888888,
              "#fdca26"
             ],
             [
              1,
              "#f0f921"
             ]
            ],
            "type": "histogram2d"
           }
          ],
          "histogram2dcontour": [
           {
            "colorbar": {
             "outlinewidth": 0,
             "ticks": ""
            },
            "colorscale": [
             [
              0,
              "#0d0887"
             ],
             [
              0.1111111111111111,
              "#46039f"
             ],
             [
              0.2222222222222222,
              "#7201a8"
             ],
             [
              0.3333333333333333,
              "#9c179e"
             ],
             [
              0.4444444444444444,
              "#bd3786"
             ],
             [
              0.5555555555555556,
              "#d8576b"
             ],
             [
              0.6666666666666666,
              "#ed7953"
             ],
             [
              0.7777777777777778,
              "#fb9f3a"
             ],
             [
              0.8888888888888888,
              "#fdca26"
             ],
             [
              1,
              "#f0f921"
             ]
            ],
            "type": "histogram2dcontour"
           }
          ],
          "mesh3d": [
           {
            "colorbar": {
             "outlinewidth": 0,
             "ticks": ""
            },
            "type": "mesh3d"
           }
          ],
          "parcoords": [
           {
            "line": {
             "colorbar": {
              "outlinewidth": 0,
              "ticks": ""
             }
            },
            "type": "parcoords"
           }
          ],
          "pie": [
           {
            "automargin": true,
            "type": "pie"
           }
          ],
          "scatter": [
           {
            "fillpattern": {
             "fillmode": "overlay",
             "size": 10,
             "solidity": 0.2
            },
            "type": "scatter"
           }
          ],
          "scatter3d": [
           {
            "line": {
             "colorbar": {
              "outlinewidth": 0,
              "ticks": ""
             }
            },
            "marker": {
             "colorbar": {
              "outlinewidth": 0,
              "ticks": ""
             }
            },
            "type": "scatter3d"
           }
          ],
          "scattercarpet": [
           {
            "marker": {
             "colorbar": {
              "outlinewidth": 0,
              "ticks": ""
             }
            },
            "type": "scattercarpet"
           }
          ],
          "scattergeo": [
           {
            "marker": {
             "colorbar": {
              "outlinewidth": 0,
              "ticks": ""
             }
            },
            "type": "scattergeo"
           }
          ],
          "scattergl": [
           {
            "marker": {
             "colorbar": {
              "outlinewidth": 0,
              "ticks": ""
             }
            },
            "type": "scattergl"
           }
          ],
          "scattermapbox": [
           {
            "marker": {
             "colorbar": {
              "outlinewidth": 0,
              "ticks": ""
             }
            },
            "type": "scattermapbox"
           }
          ],
          "scatterpolar": [
           {
            "marker": {
             "colorbar": {
              "outlinewidth": 0,
              "ticks": ""
             }
            },
            "type": "scatterpolar"
           }
          ],
          "scatterpolargl": [
           {
            "marker": {
             "colorbar": {
              "outlinewidth": 0,
              "ticks": ""
             }
            },
            "type": "scatterpolargl"
           }
          ],
          "scatterternary": [
           {
            "marker": {
             "colorbar": {
              "outlinewidth": 0,
              "ticks": ""
             }
            },
            "type": "scatterternary"
           }
          ],
          "surface": [
           {
            "colorbar": {
             "outlinewidth": 0,
             "ticks": ""
            },
            "colorscale": [
             [
              0,
              "#0d0887"
             ],
             [
              0.1111111111111111,
              "#46039f"
             ],
             [
              0.2222222222222222,
              "#7201a8"
             ],
             [
              0.3333333333333333,
              "#9c179e"
             ],
             [
              0.4444444444444444,
              "#bd3786"
             ],
             [
              0.5555555555555556,
              "#d8576b"
             ],
             [
              0.6666666666666666,
              "#ed7953"
             ],
             [
              0.7777777777777778,
              "#fb9f3a"
             ],
             [
              0.8888888888888888,
              "#fdca26"
             ],
             [
              1,
              "#f0f921"
             ]
            ],
            "type": "surface"
           }
          ],
          "table": [
           {
            "cells": {
             "fill": {
              "color": "#EBF0F8"
             },
             "line": {
              "color": "white"
             }
            },
            "header": {
             "fill": {
              "color": "#C8D4E3"
             },
             "line": {
              "color": "white"
             }
            },
            "type": "table"
           }
          ]
         },
         "layout": {
          "annotationdefaults": {
           "arrowcolor": "#2a3f5f",
           "arrowhead": 0,
           "arrowwidth": 1
          },
          "autotypenumbers": "strict",
          "coloraxis": {
           "colorbar": {
            "outlinewidth": 0,
            "ticks": ""
           }
          },
          "colorscale": {
           "diverging": [
            [
             0,
             "#8e0152"
            ],
            [
             0.1,
             "#c51b7d"
            ],
            [
             0.2,
             "#de77ae"
            ],
            [
             0.3,
             "#f1b6da"
            ],
            [
             0.4,
             "#fde0ef"
            ],
            [
             0.5,
             "#f7f7f7"
            ],
            [
             0.6,
             "#e6f5d0"
            ],
            [
             0.7,
             "#b8e186"
            ],
            [
             0.8,
             "#7fbc41"
            ],
            [
             0.9,
             "#4d9221"
            ],
            [
             1,
             "#276419"
            ]
           ],
           "sequential": [
            [
             0,
             "#0d0887"
            ],
            [
             0.1111111111111111,
             "#46039f"
            ],
            [
             0.2222222222222222,
             "#7201a8"
            ],
            [
             0.3333333333333333,
             "#9c179e"
            ],
            [
             0.4444444444444444,
             "#bd3786"
            ],
            [
             0.5555555555555556,
             "#d8576b"
            ],
            [
             0.6666666666666666,
             "#ed7953"
            ],
            [
             0.7777777777777778,
             "#fb9f3a"
            ],
            [
             0.8888888888888888,
             "#fdca26"
            ],
            [
             1,
             "#f0f921"
            ]
           ],
           "sequentialminus": [
            [
             0,
             "#0d0887"
            ],
            [
             0.1111111111111111,
             "#46039f"
            ],
            [
             0.2222222222222222,
             "#7201a8"
            ],
            [
             0.3333333333333333,
             "#9c179e"
            ],
            [
             0.4444444444444444,
             "#bd3786"
            ],
            [
             0.5555555555555556,
             "#d8576b"
            ],
            [
             0.6666666666666666,
             "#ed7953"
            ],
            [
             0.7777777777777778,
             "#fb9f3a"
            ],
            [
             0.8888888888888888,
             "#fdca26"
            ],
            [
             1,
             "#f0f921"
            ]
           ]
          },
          "colorway": [
           "#636efa",
           "#EF553B",
           "#00cc96",
           "#ab63fa",
           "#FFA15A",
           "#19d3f3",
           "#FF6692",
           "#B6E880",
           "#FF97FF",
           "#FECB52"
          ],
          "font": {
           "color": "#2a3f5f"
          },
          "geo": {
           "bgcolor": "white",
           "lakecolor": "white",
           "landcolor": "#E5ECF6",
           "showlakes": true,
           "showland": true,
           "subunitcolor": "white"
          },
          "hoverlabel": {
           "align": "left"
          },
          "hovermode": "closest",
          "mapbox": {
           "style": "light"
          },
          "paper_bgcolor": "white",
          "plot_bgcolor": "#E5ECF6",
          "polar": {
           "angularaxis": {
            "gridcolor": "white",
            "linecolor": "white",
            "ticks": ""
           },
           "bgcolor": "#E5ECF6",
           "radialaxis": {
            "gridcolor": "white",
            "linecolor": "white",
            "ticks": ""
           }
          },
          "scene": {
           "xaxis": {
            "backgroundcolor": "#E5ECF6",
            "gridcolor": "white",
            "gridwidth": 2,
            "linecolor": "white",
            "showbackground": true,
            "ticks": "",
            "zerolinecolor": "white"
           },
           "yaxis": {
            "backgroundcolor": "#E5ECF6",
            "gridcolor": "white",
            "gridwidth": 2,
            "linecolor": "white",
            "showbackground": true,
            "ticks": "",
            "zerolinecolor": "white"
           },
           "zaxis": {
            "backgroundcolor": "#E5ECF6",
            "gridcolor": "white",
            "gridwidth": 2,
            "linecolor": "white",
            "showbackground": true,
            "ticks": "",
            "zerolinecolor": "white"
           }
          },
          "shapedefaults": {
           "line": {
            "color": "#2a3f5f"
           }
          },
          "ternary": {
           "aaxis": {
            "gridcolor": "white",
            "linecolor": "white",
            "ticks": ""
           },
           "baxis": {
            "gridcolor": "white",
            "linecolor": "white",
            "ticks": ""
           },
           "bgcolor": "#E5ECF6",
           "caxis": {
            "gridcolor": "white",
            "linecolor": "white",
            "ticks": ""
           }
          },
          "title": {
           "x": 0.05
          },
          "xaxis": {
           "automargin": true,
           "gridcolor": "white",
           "linecolor": "white",
           "ticks": "",
           "title": {
            "standoff": 15
           },
           "zerolinecolor": "white",
           "zerolinewidth": 2
          },
          "yaxis": {
           "automargin": true,
           "gridcolor": "white",
           "linecolor": "white",
           "ticks": "",
           "title": {
            "standoff": 15
           },
           "zerolinecolor": "white",
           "zerolinewidth": 2
          }
         }
        },
        "title": {
         "text": "Mean Loss vs data_size_pct grouped by reg_val"
        },
        "width": 1000,
        "xaxis": {
         "anchor": "y",
         "domain": [
          0,
          0.45
         ],
         "range": [
          -3.95,
          104.95
         ],
         "title": {
          "text": "data_size_pct"
         }
        },
        "xaxis2": {
         "anchor": "y2",
         "domain": [
          0.55,
          1
         ],
         "range": [
          -3.95,
          104.95
         ],
         "title": {
          "text": "data_size_pct"
         }
        },
        "xaxis3": {
         "anchor": "y3",
         "domain": [
          0,
          0.45
         ],
         "range": [
          -3.95,
          104.95
         ],
         "title": {
          "text": "data_size_pct"
         }
        },
        "xaxis4": {
         "anchor": "y4",
         "domain": [
          0.55,
          1
         ],
         "range": [
          -3.95,
          104.95
         ],
         "title": {
          "text": "data_size_pct"
         }
        },
        "xaxis5": {
         "anchor": "y5",
         "domain": [
          0,
          0.45
         ],
         "range": [
          -3.95,
          104.95
         ],
         "title": {
          "text": "data_size_pct"
         }
        },
        "xaxis6": {
         "anchor": "y6",
         "domain": [
          0.55,
          1
         ],
         "range": [
          -3.95,
          104.95
         ],
         "title": {
          "text": "data_size_pct"
         }
        },
        "xaxis7": {
         "anchor": "y7",
         "domain": [
          0,
          0.45
         ],
         "range": [
          -3.95,
          104.95
         ],
         "title": {
          "text": "data_size_pct"
         }
        },
        "xaxis8": {
         "anchor": "y8",
         "domain": [
          0.55,
          1
         ]
        },
        "yaxis": {
         "anchor": "x",
         "domain": [
          0.84375,
          1
         ],
         "range": [
          0.6944228618859729,
          1.1029415601350014
         ],
         "title": {
          "text": "Mean Loss"
         }
        },
        "yaxis2": {
         "anchor": "x2",
         "domain": [
          0.84375,
          1
         ],
         "range": [
          0.6944228618859729,
          1.1029415601350014
         ],
         "title": {
          "text": "Mean Loss"
         }
        },
        "yaxis3": {
         "anchor": "x3",
         "domain": [
          0.5625,
          0.71875
         ],
         "range": [
          0.6944228618859729,
          1.1029415601350014
         ],
         "title": {
          "text": "Mean Loss"
         }
        },
        "yaxis4": {
         "anchor": "x4",
         "domain": [
          0.5625,
          0.71875
         ],
         "range": [
          0.6944228618859729,
          1.1029415601350014
         ],
         "title": {
          "text": "Mean Loss"
         }
        },
        "yaxis5": {
         "anchor": "x5",
         "domain": [
          0.28125,
          0.4375
         ],
         "range": [
          0.6944228618859729,
          1.1029415601350014
         ],
         "title": {
          "text": "Mean Loss"
         }
        },
        "yaxis6": {
         "anchor": "x6",
         "domain": [
          0.28125,
          0.4375
         ],
         "range": [
          0.6944228618859729,
          1.1029415601350014
         ],
         "title": {
          "text": "Mean Loss"
         }
        },
        "yaxis7": {
         "anchor": "x7",
         "domain": [
          0,
          0.15625
         ],
         "range": [
          0.6944228618859729,
          1.1029415601350014
         ],
         "title": {
          "text": "Mean Loss"
         }
        },
        "yaxis8": {
         "anchor": "x8",
         "domain": [
          0,
          0.15625
         ]
        }
       }
      }
     },
     "metadata": {},
     "output_type": "display_data"
    }
   ],
   "source": [
    "plot_reg_val = plot_mean_loss(dataset, x_axis='data_size_pct', group_by='reg_val', log_x=False)"
   ]
  },
  {
   "cell_type": "code",
   "execution_count": 18,
   "metadata": {},
   "outputs": [
    {
     "data": {
      "application/vnd.plotly.v1+json": {
       "config": {
        "plotlyServerURL": "https://plot.ly"
       },
       "data": [
        {
         "error_y": {
          "array": [
           0.009423509784579258,
           0.0070104590855121504,
           0.00660736794616,
           0.010164717667105564,
           0.00982830952145343,
           0.010417866565561925,
           0.004136360103768115
          ],
          "type": "data",
          "visible": true
         },
         "hoverinfo": "text",
         "hovertext": [
          "reg_val: 0.0<br>Mean Loss: 1.043706883960988<br>Avg Learning Rate: 0.00466",
          "reg_val: 0.1<br>Mean Loss: 1.0436181947008356<br>Avg Learning Rate: 0.00598",
          "reg_val: 0.3<br>Mean Loss: 1.0441424318206258<br>Avg Learning Rate: 0.007209999999999999",
          "reg_val: 0.5<br>Mean Loss: 1.0361043082945274<br>Avg Learning Rate: 0.0094",
          "reg_val: 0.6<br>Mean Loss: 1.0351684627078828<br>Avg Learning Rate: 0.0085",
          "reg_val: 0.7<br>Mean Loss: 1.036556966557647<br>Avg Learning Rate: 0.007000000000000001",
          "reg_val: 0.8<br>Mean Loss: 1.0558047872601135<br>Avg Learning Rate: 0.0334"
         ],
         "mode": "lines+markers",
         "name": "1",
         "type": "scatter",
         "x": [
          0,
          0.1,
          0.3,
          0.5,
          0.6,
          0.7,
          0.8
         ],
         "xaxis": "x",
         "y": [
          1.043706883960988,
          1.0436181947008356,
          1.0441424318206258,
          1.0361043082945274,
          1.0351684627078828,
          1.036556966557647,
          1.0558047872601135
         ],
         "yaxis": "y"
        },
        {
         "error_y": {
          "array": [
           0.013198109106053041,
           0.007086807058851327,
           0.008955529206463721,
           0.010146688189156348,
           0.005663693476812176,
           0.007932972870446035,
           0.001821754429956228
          ],
          "type": "data",
          "visible": true
         },
         "hoverinfo": "text",
         "hovertext": [
          "reg_val: 0.0<br>Mean Loss: 1.030915457268298<br>Avg Learning Rate: 0.00466",
          "reg_val: 0.1<br>Mean Loss: 1.0363332032125234<br>Avg Learning Rate: 0.0030700000000000002",
          "reg_val: 0.3<br>Mean Loss: 1.032114679292167<br>Avg Learning Rate: 0.0043300000000000005",
          "reg_val: 0.5<br>Mean Loss: 1.0237324346711625<br>Avg Learning Rate: 0.00451",
          "reg_val: 0.6<br>Mean Loss: 1.0179437977411014<br>Avg Learning Rate: 0.0037",
          "reg_val: 0.7<br>Mean Loss: 1.0149145629498866<br>Avg Learning Rate: 0.0013",
          "reg_val: 0.8<br>Mean Loss: 1.0537450580885916<br>Avg Learning Rate: 0.0808"
         ],
         "mode": "lines+markers",
         "name": "2",
         "type": "scatter",
         "x": [
          0,
          0.1,
          0.3,
          0.5,
          0.6,
          0.7,
          0.8
         ],
         "xaxis": "x2",
         "y": [
          1.030915457268298,
          1.0363332032125234,
          1.032114679292167,
          1.0237324346711625,
          1.0179437977411014,
          1.0149145629498866,
          1.0537450580885916
         ],
         "yaxis": "y2"
        },
        {
         "error_y": {
          "array": [
           0.013637706170234276,
           0.009985014443771055,
           0.010254815727664814,
           0.007701934636111891,
           0.008008915121652237,
           0.007607219452406276,
           0.0010658488107758374
          ],
          "type": "data",
          "visible": true
         },
         "hoverinfo": "text",
         "hovertext": [
          "reg_val: 0.0<br>Mean Loss: 1.0217771186973108<br>Avg Learning Rate: 0.0024100000000000002",
          "reg_val: 0.1<br>Mean Loss: 1.0207612487660858<br>Avg Learning Rate: 0.00337",
          "reg_val: 0.3<br>Mean Loss: 1.0164953034677546<br>Avg Learning Rate: 0.0031",
          "reg_val: 0.5<br>Mean Loss: 1.0087041499810818<br>Avg Learning Rate: 0.0029800000000000004",
          "reg_val: 0.6<br>Mean Loss: 1.0073360284685573<br>Avg Learning Rate: 0.00235",
          "reg_val: 0.7<br>Mean Loss: 1.0052685697873434<br>Avg Learning Rate: 0.001",
          "reg_val: 0.8<br>Mean Loss: 1.0529009726398435<br>Avg Learning Rate: 0.07840000000000001"
         ],
         "mode": "lines+markers",
         "name": "3",
         "type": "scatter",
         "x": [
          0,
          0.1,
          0.3,
          0.5,
          0.6,
          0.7,
          0.8
         ],
         "xaxis": "x3",
         "y": [
          1.0217771186973108,
          1.0207612487660858,
          1.0164953034677546,
          1.0087041499810818,
          1.0073360284685573,
          1.0052685697873434,
          1.0529009726398435
         ],
         "yaxis": "y3"
        },
        {
         "error_y": {
          "array": [
           0.012007308407143877,
           0.011168051040026545,
           0.011000432823512343,
           0.009527595694401066,
           0.009211109081184868,
           0.009108902961064598,
           0.011159063617548976
          ],
          "type": "data",
          "visible": true
         },
         "hoverinfo": "text",
         "hovertext": [
          "reg_val: 0.0<br>Mean Loss: 1.0106708720906987<br>Avg Learning Rate: 0.0027099999999999997",
          "reg_val: 0.1<br>Mean Loss: 1.0137295159168573<br>Avg Learning Rate: 0.00226",
          "reg_val: 0.3<br>Mean Loss: 1.0062294532468308<br>Avg Learning Rate: 0.00268",
          "reg_val: 0.5<br>Mean Loss: 1.0016745612734839<br>Avg Learning Rate: 0.00187",
          "reg_val: 0.6<br>Mean Loss: 0.9973181224488593<br>Avg Learning Rate: 0.00169",
          "reg_val: 0.7<br>Mean Loss: 0.9992654351186959<br>Avg Learning Rate: 0.001",
          "reg_val: 0.8<br>Mean Loss: 1.0496331960349887<br>Avg Learning Rate: 0.0664"
         ],
         "mode": "lines+markers",
         "name": "4",
         "type": "scatter",
         "x": [
          0,
          0.1,
          0.3,
          0.5,
          0.6,
          0.7,
          0.8
         ],
         "xaxis": "x4",
         "y": [
          1.0106708720906987,
          1.0137295159168573,
          1.0062294532468308,
          1.0016745612734839,
          0.9973181224488593,
          0.9992654351186959,
          1.0496331960349887
         ],
         "yaxis": "y4"
        },
        {
         "error_y": {
          "array": [
           0.011738238817275636,
           0.010706236505599551,
           0.009167329823937552,
           0.009251204502000152,
           0.008596681263521297,
           0.007920539547095614,
           0.015296346994765755
          ],
          "type": "data",
          "visible": true
         },
         "hoverinfo": "text",
         "hovertext": [
          "reg_val: 0.0<br>Mean Loss: 1.0027414618116437<br>Avg Learning Rate: 0.00283",
          "reg_val: 0.1<br>Mean Loss: 1.005989105025411<br>Avg Learning Rate: 0.00226",
          "reg_val: 0.3<br>Mean Loss: 0.9996849847820414<br>Avg Learning Rate: 0.0041800000000000006",
          "reg_val: 0.5<br>Mean Loss: 0.9921805869965327<br>Avg Learning Rate: 0.00346",
          "reg_val: 0.6<br>Mean Loss: 0.9925932996974879<br>Avg Learning Rate: 0.00064",
          "reg_val: 0.7<br>Mean Loss: 0.9943310628463695<br>Avg Learning Rate: 0.001",
          "reg_val: 0.8<br>Mean Loss: 1.0460059212657797<br>Avg Learning Rate: 0.059500000000000004"
         ],
         "mode": "lines+markers",
         "name": "5",
         "type": "scatter",
         "x": [
          0,
          0.1,
          0.3,
          0.5,
          0.6,
          0.7,
          0.8
         ],
         "xaxis": "x5",
         "y": [
          1.0027414618116437,
          1.005989105025411,
          0.9996849847820414,
          0.9921805869965327,
          0.9925932996974879,
          0.9943310628463695,
          1.0460059212657797
         ],
         "yaxis": "y5"
        },
        {
         "error_y": {
          "array": [
           0.012030945816698271,
           0.0083217641337082,
           0.006666857634475654,
           0.006282150398378472,
           0.008021916144286908,
           0.007748966563259356,
           0.017859415647162237
          ],
          "type": "data",
          "visible": true
         },
         "hoverinfo": "text",
         "hovertext": [
          "reg_val: 0.0<br>Mean Loss: 0.996606044903462<br>Avg Learning Rate: 0.0019",
          "reg_val: 0.1<br>Mean Loss: 0.995982536557433<br>Avg Learning Rate: 0.0022",
          "reg_val: 0.3<br>Mean Loss: 0.9933622290045668<br>Avg Learning Rate: 0.00292",
          "reg_val: 0.5<br>Mean Loss: 0.9881720218565557<br>Avg Learning Rate: 0.0022",
          "reg_val: 0.6<br>Mean Loss: 0.9845677238522155<br>Avg Learning Rate: 0.00058",
          "reg_val: 0.7<br>Mean Loss: 0.9907551219453027<br>Avg Learning Rate: 0.00097",
          "reg_val: 0.8<br>Mean Loss: 1.0411648518853374<br>Avg Learning Rate: 0.052300000000000006"
         ],
         "mode": "lines+markers",
         "name": "6",
         "type": "scatter",
         "x": [
          0,
          0.1,
          0.3,
          0.5,
          0.6,
          0.7,
          0.8
         ],
         "xaxis": "x6",
         "y": [
          0.996606044903462,
          0.995982536557433,
          0.9933622290045668,
          0.9881720218565557,
          0.9845677238522155,
          0.9907551219453027,
          1.0411648518853374
         ],
         "yaxis": "y6"
        },
        {
         "error_y": {
          "array": [
           0.012984875249598309,
           0.011686417261348173,
           0.006892918130781606,
           0.010677321163416631,
           0.007577789960900719,
           0.005818651814754904,
           0.017123685957007608
          ],
          "type": "data",
          "visible": true
         },
         "hoverinfo": "text",
         "hovertext": [
          "reg_val: 0.0<br>Mean Loss: 0.9896433346199267<br>Avg Learning Rate: 0.0028899999999999998",
          "reg_val: 0.1<br>Mean Loss: 0.9926484278012148<br>Avg Learning Rate: 0.00334",
          "reg_val: 0.3<br>Mean Loss: 0.9910750015731498<br>Avg Learning Rate: 0.00313",
          "reg_val: 0.5<br>Mean Loss: 0.9815663782291082<br>Avg Learning Rate: 0.00415",
          "reg_val: 0.6<br>Mean Loss: 0.9816549302695634<br>Avg Learning Rate: 0.00046",
          "reg_val: 0.7<br>Mean Loss: 0.9842673261960347<br>Avg Learning Rate: 0.0004",
          "reg_val: 0.8<br>Mean Loss: 1.017587735694208<br>Avg Learning Rate: 0.011500000000000002"
         ],
         "mode": "lines+markers",
         "name": "7",
         "type": "scatter",
         "x": [
          0,
          0.1,
          0.3,
          0.5,
          0.6,
          0.7,
          0.8
         ],
         "xaxis": "x7",
         "y": [
          0.9896433346199267,
          0.9926484278012148,
          0.9910750015731498,
          0.9815663782291082,
          0.9816549302695634,
          0.9842673261960347,
          1.017587735694208
         ],
         "yaxis": "y7"
        },
        {
         "error_y": {
          "array": [
           0.012159929043588338,
           0.009146712090472839,
           0.009062455246217042,
           0.006274821221563753,
           0.006496810258422464,
           0.005260199110013027,
           0.007096187175132986
          ],
          "type": "data",
          "visible": true
         },
         "hoverinfo": "text",
         "hovertext": [
          "reg_val: 0.0<br>Mean Loss: 0.9839377063693422<br>Avg Learning Rate: 0.0025",
          "reg_val: 0.1<br>Mean Loss: 0.9870818259396079<br>Avg Learning Rate: 0.0032500000000000003",
          "reg_val: 0.3<br>Mean Loss: 0.9817454209575406<br>Avg Learning Rate: 0.00445",
          "reg_val: 0.5<br>Mean Loss: 0.9780534643115419<br>Avg Learning Rate: 0.0027700000000000003",
          "reg_val: 0.6<br>Mean Loss: 0.9758200842838782<br>Avg Learning Rate: 0.00076",
          "reg_val: 0.7<br>Mean Loss: 0.9791722940676141<br>Avg Learning Rate: 0.00031",
          "reg_val: 0.8<br>Mean Loss: 1.0077351392605602<br>Avg Learning Rate: 0.001"
         ],
         "mode": "lines+markers",
         "name": "8",
         "type": "scatter",
         "x": [
          0,
          0.1,
          0.3,
          0.5,
          0.6,
          0.7,
          0.8
         ],
         "xaxis": "x8",
         "y": [
          0.9839377063693422,
          0.9870818259396079,
          0.9817454209575406,
          0.9780534643115419,
          0.9758200842838782,
          0.9791722940676141,
          1.0077351392605602
         ],
         "yaxis": "y8"
        },
        {
         "error_y": {
          "array": [
           0.010086007059178835,
           0.01182210263601949,
           0.011748236299320623,
           0.009565150967132268,
           0.0058227263773637464,
           0.006515319545491811,
           0.013875086360917735
          ],
          "type": "data",
          "visible": true
         },
         "hoverinfo": "text",
         "hovertext": [
          "reg_val: 0.0<br>Mean Loss: 0.977407024510495<br>Avg Learning Rate: 0.0024490000000000002",
          "reg_val: 0.1<br>Mean Loss: 0.9791924738522731<br>Avg Learning Rate: 0.005107",
          "reg_val: 0.3<br>Mean Loss: 0.9740547706296433<br>Avg Learning Rate: 0.004390000000000001",
          "reg_val: 0.5<br>Mean Loss: 0.9714677679332304<br>Avg Learning Rate: 0.0024100000000000002",
          "reg_val: 0.6<br>Mean Loss: 0.9711998861331445<br>Avg Learning Rate: 0.00082",
          "reg_val: 0.7<br>Mean Loss: 0.9757883755675643<br>Avg Learning Rate: 0.00022",
          "reg_val: 0.8<br>Mean Loss: 1.0057034175633353<br>Avg Learning Rate: 0.0043"
         ],
         "mode": "lines+markers",
         "name": "9",
         "type": "scatter",
         "x": [
          0,
          0.1,
          0.3,
          0.5,
          0.6,
          0.7,
          0.8
         ],
         "xaxis": "x9",
         "y": [
          0.977407024510495,
          0.9791924738522731,
          0.9740547706296433,
          0.9714677679332304,
          0.9711998861331445,
          0.9757883755675643,
          1.0057034175633353
         ],
         "yaxis": "y9"
        },
        {
         "error_y": {
          "array": [
           0.014247579368626017,
           0.006859028148490763,
           0.010158547182871342,
           0.007716932238619903,
           0.006224917315335694,
           0.006873105841682134,
           0.008750939195015522
          ],
          "type": "data",
          "visible": true
         },
         "hoverinfo": "text",
         "hovertext": [
          "reg_val: 0.0<br>Mean Loss: 0.9690602672822547<br>Avg Learning Rate: 0.0033940000000000003",
          "reg_val: 0.1<br>Mean Loss: 0.975967156345194<br>Avg Learning Rate: 0.003781",
          "reg_val: 0.3<br>Mean Loss: 0.9755278332408889<br>Avg Learning Rate: 0.00424",
          "reg_val: 0.5<br>Mean Loss: 0.9700621282383478<br>Avg Learning Rate: 0.0057399999999999994",
          "reg_val: 0.6<br>Mean Loss: 0.9709109550688689<br>Avg Learning Rate: 0.00046",
          "reg_val: 0.7<br>Mean Loss: 0.9754686950863182<br>Avg Learning Rate: 0.00034",
          "reg_val: 0.8<br>Mean Loss: 1.0035546544826393<br>Avg Learning Rate: 0.001"
         ],
         "mode": "lines+markers",
         "name": "10",
         "type": "scatter",
         "x": [
          0,
          0.1,
          0.3,
          0.5,
          0.6,
          0.7,
          0.8
         ],
         "xaxis": "x10",
         "y": [
          0.9690602672822547,
          0.975967156345194,
          0.9755278332408889,
          0.9700621282383478,
          0.9709109550688689,
          0.9754686950863182,
          1.0035546544826393
         ],
         "yaxis": "y10"
        },
        {
         "error_y": {
          "array": [
           0.029064687260369045,
           0.009649448738971647,
           0.015007140917569283,
           0.009545793864922268,
           0.007111999752209969,
           0.008120650681145298,
           0.012695267669134043
          ],
          "type": "data",
          "visible": true
         },
         "hoverinfo": "text",
         "hovertext": [
          "reg_val: 0.0<br>Mean Loss: 0.9170003509624696<br>Avg Learning Rate: 0.003751",
          "reg_val: 0.1<br>Mean Loss: 0.9343859687254026<br>Avg Learning Rate: 0.005371",
          "reg_val: 0.3<br>Mean Loss: 0.9296834726612289<br>Avg Learning Rate: 0.007768",
          "reg_val: 0.5<br>Mean Loss: 0.941946142911911<br>Avg Learning Rate: 0.00469",
          "reg_val: 0.6<br>Mean Loss: 0.9473585418550482<br>Avg Learning Rate: 0.0005200000000000001",
          "reg_val: 0.7<br>Mean Loss: 0.953265086629174<br>Avg Learning Rate: 0.00073",
          "reg_val: 0.8<br>Mean Loss: 0.9948536474725385<br>Avg Learning Rate: 0.001"
         ],
         "mode": "lines+markers",
         "name": "20",
         "type": "scatter",
         "x": [
          0,
          0.1,
          0.3,
          0.5,
          0.6,
          0.7,
          0.8
         ],
         "xaxis": "x11",
         "y": [
          0.9170003509624696,
          0.9343859687254026,
          0.9296834726612289,
          0.941946142911911,
          0.9473585418550482,
          0.953265086629174,
          0.9948536474725385
         ],
         "yaxis": "y11"
        },
        {
         "error_y": {
          "array": [
           0.036510321441221114,
           0.02670296449692882,
           0.019529139256531727,
           0.012359747603244804,
           0.00954419946532601,
           0.009706785555401552,
           0.01082261727691625
          ],
          "type": "data",
          "visible": true
         },
         "hoverinfo": "text",
         "hovertext": [
          "reg_val: 0.0<br>Mean Loss: 0.8721958774508851<br>Avg Learning Rate: 0.0021969999999999997",
          "reg_val: 0.1<br>Mean Loss: 0.8914981815722082<br>Avg Learning Rate: 0.0055179999999999995",
          "reg_val: 0.3<br>Mean Loss: 0.8973930779989664<br>Avg Learning Rate: 0.0075699999999999995",
          "reg_val: 0.5<br>Mean Loss: 0.9136743942380467<br>Avg Learning Rate: 0.001",
          "reg_val: 0.6<br>Mean Loss: 0.9236140881781971<br>Avg Learning Rate: 0.0008500000000000001",
          "reg_val: 0.7<br>Mean Loss: 0.9317084210259574<br>Avg Learning Rate: 0.00097",
          "reg_val: 0.8<br>Mean Loss: 0.9961123347024381<br>Avg Learning Rate: 0.001"
         ],
         "mode": "lines+markers",
         "name": "30",
         "type": "scatter",
         "x": [
          0,
          0.1,
          0.3,
          0.5,
          0.6,
          0.7,
          0.8
         ],
         "xaxis": "x12",
         "y": [
          0.8721958774508851,
          0.8914981815722082,
          0.8973930779989664,
          0.9136743942380467,
          0.9236140881781971,
          0.9317084210259574,
          0.9961123347024381
         ],
         "yaxis": "y12"
        },
        {
         "error_y": {
          "array": [
           0.030852210326583508,
           0.023007147090781697,
           0.016420854565215144,
           0.013131387666784787,
           0.01110220823045108,
           0.012995282826815115,
           0.014501752039590619
          ],
          "type": "data",
          "visible": true
         },
         "hoverinfo": "text",
         "hovertext": [
          "reg_val: 0.0<br>Mean Loss: 0.8195057468754905<br>Avg Learning Rate: 0.00118",
          "reg_val: 0.1<br>Mean Loss: 0.8385124794848553<br>Avg Learning Rate: 0.001582",
          "reg_val: 0.3<br>Mean Loss: 0.8742439107719437<br>Avg Learning Rate: 0.00505",
          "reg_val: 0.5<br>Mean Loss: 0.8889248835576046<br>Avg Learning Rate: 0.001",
          "reg_val: 0.6<br>Mean Loss: 0.90238138274713<br>Avg Learning Rate: 0.001",
          "reg_val: 0.7<br>Mean Loss: 0.9186455791904813<br>Avg Learning Rate: 0.00097",
          "reg_val: 0.8<br>Mean Loss: 0.9989664976989036<br>Avg Learning Rate: 0.00097"
         ],
         "mode": "lines+markers",
         "name": "40",
         "type": "scatter",
         "x": [
          0,
          0.1,
          0.3,
          0.5,
          0.6,
          0.7,
          0.8
         ],
         "xaxis": "x13",
         "y": [
          0.8195057468754905,
          0.8385124794848553,
          0.8742439107719437,
          0.8889248835576046,
          0.90238138274713,
          0.9186455791904813,
          0.9989664976989036
         ],
         "yaxis": "y13"
        },
        {
         "error_y": {
          "array": [
           0.012914826394770042,
           0.01992847600563962,
           0.02466130194000916,
           0.01690234424855034,
           0.012433769721772483,
           0.009972953106313895,
           0.013560325888509788
          ],
          "type": "data",
          "visible": true
         },
         "hoverinfo": "text",
         "hovertext": [
          "reg_val: 0.0<br>Mean Loss: 0.7877338982763745<br>Avg Learning Rate: 0.000808",
          "reg_val: 0.1<br>Mean Loss: 0.7962310503829609<br>Avg Learning Rate: 5.8e-05",
          "reg_val: 0.3<br>Mean Loss: 0.8296020569481375<br>Avg Learning Rate: 0.0022",
          "reg_val: 0.5<br>Mean Loss: 0.8546920892996189<br>Avg Learning Rate: 0.001",
          "reg_val: 0.6<br>Mean Loss: 0.8758009837561356<br>Avg Learning Rate: 0.00094",
          "reg_val: 0.7<br>Mean Loss: 0.9031237423419952<br>Avg Learning Rate: 0.001",
          "reg_val: 0.8<br>Mean Loss: 0.9942927509159236<br>Avg Learning Rate: 0.001"
         ],
         "mode": "lines+markers",
         "name": "50",
         "type": "scatter",
         "x": [
          0,
          0.1,
          0.3,
          0.5,
          0.6,
          0.7,
          0.8
         ],
         "xaxis": "x14",
         "y": [
          0.7877338982763745,
          0.7962310503829609,
          0.8296020569481375,
          0.8546920892996189,
          0.8758009837561356,
          0.9031237423419952,
          0.9942927509159236
         ],
         "yaxis": "y14"
        },
        {
         "error_y": {
          "array": [
           0.009742146286732603,
           0.01012957976929219,
           0.019486124119278466,
           0.018157631679087675,
           0.01457585145022613,
           0.00908861822890507,
           0.014355373404396805
          ],
          "type": "data",
          "visible": true
         },
         "hoverinfo": "text",
         "hovertext": [
          "reg_val: 0.0<br>Mean Loss: 0.7729573987263105<br>Avg Learning Rate: 0.000196",
          "reg_val: 0.1<br>Mean Loss: 0.777501863602436<br>Avg Learning Rate: 0.00015700000000000002",
          "reg_val: 0.3<br>Mean Loss: 0.7977442470721868<br>Avg Learning Rate: 0.00124",
          "reg_val: 0.5<br>Mean Loss: 0.8227092728470311<br>Avg Learning Rate: 0.00097",
          "reg_val: 0.6<br>Mean Loss: 0.8412016419105199<br>Avg Learning Rate: 0.001",
          "reg_val: 0.7<br>Mean Loss: 0.8965860542280849<br>Avg Learning Rate: 0.00097",
          "reg_val: 0.8<br>Mean Loss: 0.9970383107146144<br>Avg Learning Rate: 0.001"
         ],
         "mode": "lines+markers",
         "name": "60",
         "type": "scatter",
         "x": [
          0,
          0.1,
          0.3,
          0.5,
          0.6,
          0.7,
          0.8
         ],
         "xaxis": "x15",
         "y": [
          0.7729573987263105,
          0.777501863602436,
          0.7977442470721868,
          0.8227092728470311,
          0.8412016419105199,
          0.8965860542280849,
          0.9970383107146144
         ],
         "yaxis": "y15"
        },
        {
         "error_y": {
          "array": [
           0.007543661699003275,
           0.007111035377388521,
           0.009786478683258505,
           0.015523304684219487,
           0.01284740893862104,
           0.01148972118299102,
           0.01346743649289906
          ],
          "type": "data",
          "visible": true
         },
         "hoverinfo": "text",
         "hovertext": [
          "reg_val: 0.0<br>Mean Loss: 0.7617744628743176<br>Avg Learning Rate: 0.000124",
          "reg_val: 0.1<br>Mean Loss: 0.7656801022492447<br>Avg Learning Rate: 0.000112",
          "reg_val: 0.3<br>Mean Loss: 0.7766837308159122<br>Avg Learning Rate: 0.000451",
          "reg_val: 0.5<br>Mean Loss: 0.7938060463506939<br>Avg Learning Rate: 0.001",
          "reg_val: 0.6<br>Mean Loss: 0.8060918015319031<br>Avg Learning Rate: 0.001",
          "reg_val: 0.7<br>Mean Loss: 0.8726407109916984<br>Avg Learning Rate: 0.001",
          "reg_val: 0.8<br>Mean Loss: 1.0003321502373848<br>Avg Learning Rate: 0.00097"
         ],
         "mode": "lines+markers",
         "name": "70",
         "type": "scatter",
         "x": [
          0,
          0.1,
          0.3,
          0.5,
          0.6,
          0.7,
          0.8
         ],
         "xaxis": "x16",
         "y": [
          0.7617744628743176,
          0.7656801022492447,
          0.7766837308159122,
          0.7938060463506939,
          0.8060918015319031,
          0.8726407109916984,
          1.0003321502373848
         ],
         "yaxis": "y16"
        },
        {
         "error_y": {
          "array": [
           0.005176567996692054,
           0.0054866793189362415,
           0.009301970658481451,
           0.011011127720730412,
           0.009922485876465654,
           0.016023132573262336,
           0.013221858442327988
          ],
          "type": "data",
          "visible": true
         },
         "hoverinfo": "text",
         "hovertext": [
          "reg_val: 0.0<br>Mean Loss: 0.7526520383048366<br>Avg Learning Rate: 0.00013000000000000002",
          "reg_val: 0.1<br>Mean Loss: 0.7557873964309693<br>Avg Learning Rate: 0.000196",
          "reg_val: 0.3<br>Mean Loss: 0.7633451811678997<br>Avg Learning Rate: 0.00064",
          "reg_val: 0.5<br>Mean Loss: 0.7738450792444733<br>Avg Learning Rate: 0.00097",
          "reg_val: 0.6<br>Mean Loss: 0.7830952550683702<br>Avg Learning Rate: 0.001",
          "reg_val: 0.7<br>Mean Loss: 0.863580457240472<br>Avg Learning Rate: 0.001",
          "reg_val: 0.8<br>Mean Loss: 1.005055231397802<br>Avg Learning Rate: 0.001"
         ],
         "mode": "lines+markers",
         "name": "80",
         "type": "scatter",
         "x": [
          0,
          0.1,
          0.3,
          0.5,
          0.6,
          0.7,
          0.8
         ],
         "xaxis": "x17",
         "y": [
          0.7526520383048366,
          0.7557873964309693,
          0.7633451811678997,
          0.7738450792444733,
          0.7830952550683702,
          0.863580457240472,
          1.005055231397802
         ],
         "yaxis": "y17"
        },
        {
         "error_y": {
          "array": [
           0.004746663398692629,
           0.005332402873652746,
           0.007700607927972101,
           0.01181424335253478,
           0.010415862788904983,
           0.013760557577717356,
           0.012336500920824292
          ],
          "type": "data",
          "visible": true
         },
         "hoverinfo": "text",
         "hovertext": [
          "reg_val: 0.0<br>Mean Loss: 0.7473454875863476<br>Avg Learning Rate: 0.00021700000000000002",
          "reg_val: 0.1<br>Mean Loss: 0.7478020696412949<br>Avg Learning Rate: 0.000358",
          "reg_val: 0.3<br>Mean Loss: 0.7520029835112683<br>Avg Learning Rate: 0.000571",
          "reg_val: 0.5<br>Mean Loss: 0.7622280529051116<br>Avg Learning Rate: 0.00097",
          "reg_val: 0.6<br>Mean Loss: 0.7717460972922189<br>Avg Learning Rate: 0.001",
          "reg_val: 0.7<br>Mean Loss: 0.831637964129964<br>Avg Learning Rate: 0.001",
          "reg_val: 0.8<br>Mean Loss: 1.0012504058224814<br>Avg Learning Rate: 0.00094"
         ],
         "mode": "lines+markers",
         "name": "90",
         "type": "scatter",
         "x": [
          0,
          0.1,
          0.3,
          0.5,
          0.6,
          0.7,
          0.8
         ],
         "xaxis": "x18",
         "y": [
          0.7473454875863476,
          0.7478020696412949,
          0.7520029835112683,
          0.7622280529051116,
          0.7717460972922189,
          0.831637964129964,
          1.0012504058224814
         ],
         "yaxis": "y18"
        },
        {
         "error_y": {
          "array": [
           0.003830509513518023,
           0.004991522326461007,
           0.0055259112032879105,
           0.00871774773227718,
           0.008149556074691682,
           0.014152743653368919,
           0.014510094587233607
          ],
          "type": "data",
          "visible": true
         },
         "hoverinfo": "text",
         "hovertext": [
          "reg_val: 0.0<br>Mean Loss: 0.7417836506645401<br>Avg Learning Rate: 0.00028900000000000003",
          "reg_val: 0.1<br>Mean Loss: 0.7415596347608608<br>Avg Learning Rate: 0.00038800000000000005",
          "reg_val: 0.3<br>Mean Loss: 0.7448505693441861<br>Avg Learning Rate: 0.00048699999999999997",
          "reg_val: 0.5<br>Mean Loss: 0.7484893152208039<br>Avg Learning Rate: 0.001",
          "reg_val: 0.6<br>Mean Loss: 0.756815115301124<br>Avg Learning Rate: 0.001",
          "reg_val: 0.7<br>Mean Loss: 0.8119664406363581<br>Avg Learning Rate: 0.001",
          "reg_val: 0.8<br>Mean Loss: 1.0021546888403046<br>Avg Learning Rate: 0.0008500000000000001"
         ],
         "mode": "lines+markers",
         "name": "100",
         "type": "scatter",
         "x": [
          0,
          0.1,
          0.3,
          0.5,
          0.6,
          0.7,
          0.8
         ],
         "xaxis": "x19",
         "y": [
          0.7417836506645401,
          0.7415596347608608,
          0.7448505693441861,
          0.7484893152208039,
          0.756815115301124,
          0.8119664406363581,
          1.0021546888403046
         ],
         "yaxis": "y19"
        }
       ],
       "layout": {
        "annotations": [
         {
          "font": {
           "size": 16
          },
          "showarrow": false,
          "text": "data_size_pct = 1",
          "x": 0.225,
          "xanchor": "center",
          "xref": "paper",
          "y": 1,
          "yanchor": "bottom",
          "yref": "paper"
         },
         {
          "font": {
           "size": 16
          },
          "showarrow": false,
          "text": "data_size_pct = 2",
          "x": 0.775,
          "xanchor": "center",
          "xref": "paper",
          "y": 1,
          "yanchor": "bottom",
          "yref": "paper"
         },
         {
          "font": {
           "size": 16
          },
          "showarrow": false,
          "text": "data_size_pct = 3",
          "x": 0.225,
          "xanchor": "center",
          "xref": "paper",
          "y": 0.8950000000000001,
          "yanchor": "bottom",
          "yref": "paper"
         },
         {
          "font": {
           "size": 16
          },
          "showarrow": false,
          "text": "data_size_pct = 4",
          "x": 0.775,
          "xanchor": "center",
          "xref": "paper",
          "y": 0.8950000000000001,
          "yanchor": "bottom",
          "yref": "paper"
         },
         {
          "font": {
           "size": 16
          },
          "showarrow": false,
          "text": "data_size_pct = 5",
          "x": 0.225,
          "xanchor": "center",
          "xref": "paper",
          "y": 0.7900000000000001,
          "yanchor": "bottom",
          "yref": "paper"
         },
         {
          "font": {
           "size": 16
          },
          "showarrow": false,
          "text": "data_size_pct = 6",
          "x": 0.775,
          "xanchor": "center",
          "xref": "paper",
          "y": 0.7900000000000001,
          "yanchor": "bottom",
          "yref": "paper"
         },
         {
          "font": {
           "size": 16
          },
          "showarrow": false,
          "text": "data_size_pct = 7",
          "x": 0.225,
          "xanchor": "center",
          "xref": "paper",
          "y": 0.6850000000000002,
          "yanchor": "bottom",
          "yref": "paper"
         },
         {
          "font": {
           "size": 16
          },
          "showarrow": false,
          "text": "data_size_pct = 8",
          "x": 0.775,
          "xanchor": "center",
          "xref": "paper",
          "y": 0.6850000000000002,
          "yanchor": "bottom",
          "yref": "paper"
         },
         {
          "font": {
           "size": 16
          },
          "showarrow": false,
          "text": "data_size_pct = 9",
          "x": 0.225,
          "xanchor": "center",
          "xref": "paper",
          "y": 0.5800000000000001,
          "yanchor": "bottom",
          "yref": "paper"
         },
         {
          "font": {
           "size": 16
          },
          "showarrow": false,
          "text": "data_size_pct = 10",
          "x": 0.775,
          "xanchor": "center",
          "xref": "paper",
          "y": 0.5800000000000001,
          "yanchor": "bottom",
          "yref": "paper"
         },
         {
          "font": {
           "size": 16
          },
          "showarrow": false,
          "text": "data_size_pct = 20",
          "x": 0.225,
          "xanchor": "center",
          "xref": "paper",
          "y": 0.47500000000000003,
          "yanchor": "bottom",
          "yref": "paper"
         },
         {
          "font": {
           "size": 16
          },
          "showarrow": false,
          "text": "data_size_pct = 30",
          "x": 0.775,
          "xanchor": "center",
          "xref": "paper",
          "y": 0.47500000000000003,
          "yanchor": "bottom",
          "yref": "paper"
         },
         {
          "font": {
           "size": 16
          },
          "showarrow": false,
          "text": "data_size_pct = 40",
          "x": 0.225,
          "xanchor": "center",
          "xref": "paper",
          "y": 0.37000000000000005,
          "yanchor": "bottom",
          "yref": "paper"
         },
         {
          "font": {
           "size": 16
          },
          "showarrow": false,
          "text": "data_size_pct = 50",
          "x": 0.775,
          "xanchor": "center",
          "xref": "paper",
          "y": 0.37000000000000005,
          "yanchor": "bottom",
          "yref": "paper"
         },
         {
          "font": {
           "size": 16
          },
          "showarrow": false,
          "text": "data_size_pct = 60",
          "x": 0.225,
          "xanchor": "center",
          "xref": "paper",
          "y": 0.265,
          "yanchor": "bottom",
          "yref": "paper"
         },
         {
          "font": {
           "size": 16
          },
          "showarrow": false,
          "text": "data_size_pct = 70",
          "x": 0.775,
          "xanchor": "center",
          "xref": "paper",
          "y": 0.265,
          "yanchor": "bottom",
          "yref": "paper"
         },
         {
          "font": {
           "size": 16
          },
          "showarrow": false,
          "text": "data_size_pct = 80",
          "x": 0.225,
          "xanchor": "center",
          "xref": "paper",
          "y": 0.16000000000000003,
          "yanchor": "bottom",
          "yref": "paper"
         },
         {
          "font": {
           "size": 16
          },
          "showarrow": false,
          "text": "data_size_pct = 90",
          "x": 0.775,
          "xanchor": "center",
          "xref": "paper",
          "y": 0.16000000000000003,
          "yanchor": "bottom",
          "yref": "paper"
         },
         {
          "font": {
           "size": 16
          },
          "showarrow": false,
          "text": "data_size_pct = 100",
          "x": 0.225,
          "xanchor": "center",
          "xref": "paper",
          "y": 0.05500000000000001,
          "yanchor": "bottom",
          "yref": "paper"
         }
        ],
        "height": 3200,
        "showlegend": false,
        "template": {
         "data": {
          "bar": [
           {
            "error_x": {
             "color": "#2a3f5f"
            },
            "error_y": {
             "color": "#2a3f5f"
            },
            "marker": {
             "line": {
              "color": "#E5ECF6",
              "width": 0.5
             },
             "pattern": {
              "fillmode": "overlay",
              "size": 10,
              "solidity": 0.2
             }
            },
            "type": "bar"
           }
          ],
          "barpolar": [
           {
            "marker": {
             "line": {
              "color": "#E5ECF6",
              "width": 0.5
             },
             "pattern": {
              "fillmode": "overlay",
              "size": 10,
              "solidity": 0.2
             }
            },
            "type": "barpolar"
           }
          ],
          "carpet": [
           {
            "aaxis": {
             "endlinecolor": "#2a3f5f",
             "gridcolor": "white",
             "linecolor": "white",
             "minorgridcolor": "white",
             "startlinecolor": "#2a3f5f"
            },
            "baxis": {
             "endlinecolor": "#2a3f5f",
             "gridcolor": "white",
             "linecolor": "white",
             "minorgridcolor": "white",
             "startlinecolor": "#2a3f5f"
            },
            "type": "carpet"
           }
          ],
          "choropleth": [
           {
            "colorbar": {
             "outlinewidth": 0,
             "ticks": ""
            },
            "type": "choropleth"
           }
          ],
          "contour": [
           {
            "colorbar": {
             "outlinewidth": 0,
             "ticks": ""
            },
            "colorscale": [
             [
              0,
              "#0d0887"
             ],
             [
              0.1111111111111111,
              "#46039f"
             ],
             [
              0.2222222222222222,
              "#7201a8"
             ],
             [
              0.3333333333333333,
              "#9c179e"
             ],
             [
              0.4444444444444444,
              "#bd3786"
             ],
             [
              0.5555555555555556,
              "#d8576b"
             ],
             [
              0.6666666666666666,
              "#ed7953"
             ],
             [
              0.7777777777777778,
              "#fb9f3a"
             ],
             [
              0.8888888888888888,
              "#fdca26"
             ],
             [
              1,
              "#f0f921"
             ]
            ],
            "type": "contour"
           }
          ],
          "contourcarpet": [
           {
            "colorbar": {
             "outlinewidth": 0,
             "ticks": ""
            },
            "type": "contourcarpet"
           }
          ],
          "heatmap": [
           {
            "colorbar": {
             "outlinewidth": 0,
             "ticks": ""
            },
            "colorscale": [
             [
              0,
              "#0d0887"
             ],
             [
              0.1111111111111111,
              "#46039f"
             ],
             [
              0.2222222222222222,
              "#7201a8"
             ],
             [
              0.3333333333333333,
              "#9c179e"
             ],
             [
              0.4444444444444444,
              "#bd3786"
             ],
             [
              0.5555555555555556,
              "#d8576b"
             ],
             [
              0.6666666666666666,
              "#ed7953"
             ],
             [
              0.7777777777777778,
              "#fb9f3a"
             ],
             [
              0.8888888888888888,
              "#fdca26"
             ],
             [
              1,
              "#f0f921"
             ]
            ],
            "type": "heatmap"
           }
          ],
          "heatmapgl": [
           {
            "colorbar": {
             "outlinewidth": 0,
             "ticks": ""
            },
            "colorscale": [
             [
              0,
              "#0d0887"
             ],
             [
              0.1111111111111111,
              "#46039f"
             ],
             [
              0.2222222222222222,
              "#7201a8"
             ],
             [
              0.3333333333333333,
              "#9c179e"
             ],
             [
              0.4444444444444444,
              "#bd3786"
             ],
             [
              0.5555555555555556,
              "#d8576b"
             ],
             [
              0.6666666666666666,
              "#ed7953"
             ],
             [
              0.7777777777777778,
              "#fb9f3a"
             ],
             [
              0.8888888888888888,
              "#fdca26"
             ],
             [
              1,
              "#f0f921"
             ]
            ],
            "type": "heatmapgl"
           }
          ],
          "histogram": [
           {
            "marker": {
             "pattern": {
              "fillmode": "overlay",
              "size": 10,
              "solidity": 0.2
             }
            },
            "type": "histogram"
           }
          ],
          "histogram2d": [
           {
            "colorbar": {
             "outlinewidth": 0,
             "ticks": ""
            },
            "colorscale": [
             [
              0,
              "#0d0887"
             ],
             [
              0.1111111111111111,
              "#46039f"
             ],
             [
              0.2222222222222222,
              "#7201a8"
             ],
             [
              0.3333333333333333,
              "#9c179e"
             ],
             [
              0.4444444444444444,
              "#bd3786"
             ],
             [
              0.5555555555555556,
              "#d8576b"
             ],
             [
              0.6666666666666666,
              "#ed7953"
             ],
             [
              0.7777777777777778,
              "#fb9f3a"
             ],
             [
              0.8888888888888888,
              "#fdca26"
             ],
             [
              1,
              "#f0f921"
             ]
            ],
            "type": "histogram2d"
           }
          ],
          "histogram2dcontour": [
           {
            "colorbar": {
             "outlinewidth": 0,
             "ticks": ""
            },
            "colorscale": [
             [
              0,
              "#0d0887"
             ],
             [
              0.1111111111111111,
              "#46039f"
             ],
             [
              0.2222222222222222,
              "#7201a8"
             ],
             [
              0.3333333333333333,
              "#9c179e"
             ],
             [
              0.4444444444444444,
              "#bd3786"
             ],
             [
              0.5555555555555556,
              "#d8576b"
             ],
             [
              0.6666666666666666,
              "#ed7953"
             ],
             [
              0.7777777777777778,
              "#fb9f3a"
             ],
             [
              0.8888888888888888,
              "#fdca26"
             ],
             [
              1,
              "#f0f921"
             ]
            ],
            "type": "histogram2dcontour"
           }
          ],
          "mesh3d": [
           {
            "colorbar": {
             "outlinewidth": 0,
             "ticks": ""
            },
            "type": "mesh3d"
           }
          ],
          "parcoords": [
           {
            "line": {
             "colorbar": {
              "outlinewidth": 0,
              "ticks": ""
             }
            },
            "type": "parcoords"
           }
          ],
          "pie": [
           {
            "automargin": true,
            "type": "pie"
           }
          ],
          "scatter": [
           {
            "fillpattern": {
             "fillmode": "overlay",
             "size": 10,
             "solidity": 0.2
            },
            "type": "scatter"
           }
          ],
          "scatter3d": [
           {
            "line": {
             "colorbar": {
              "outlinewidth": 0,
              "ticks": ""
             }
            },
            "marker": {
             "colorbar": {
              "outlinewidth": 0,
              "ticks": ""
             }
            },
            "type": "scatter3d"
           }
          ],
          "scattercarpet": [
           {
            "marker": {
             "colorbar": {
              "outlinewidth": 0,
              "ticks": ""
             }
            },
            "type": "scattercarpet"
           }
          ],
          "scattergeo": [
           {
            "marker": {
             "colorbar": {
              "outlinewidth": 0,
              "ticks": ""
             }
            },
            "type": "scattergeo"
           }
          ],
          "scattergl": [
           {
            "marker": {
             "colorbar": {
              "outlinewidth": 0,
              "ticks": ""
             }
            },
            "type": "scattergl"
           }
          ],
          "scattermapbox": [
           {
            "marker": {
             "colorbar": {
              "outlinewidth": 0,
              "ticks": ""
             }
            },
            "type": "scattermapbox"
           }
          ],
          "scatterpolar": [
           {
            "marker": {
             "colorbar": {
              "outlinewidth": 0,
              "ticks": ""
             }
            },
            "type": "scatterpolar"
           }
          ],
          "scatterpolargl": [
           {
            "marker": {
             "colorbar": {
              "outlinewidth": 0,
              "ticks": ""
             }
            },
            "type": "scatterpolargl"
           }
          ],
          "scatterternary": [
           {
            "marker": {
             "colorbar": {
              "outlinewidth": 0,
              "ticks": ""
             }
            },
            "type": "scatterternary"
           }
          ],
          "surface": [
           {
            "colorbar": {
             "outlinewidth": 0,
             "ticks": ""
            },
            "colorscale": [
             [
              0,
              "#0d0887"
             ],
             [
              0.1111111111111111,
              "#46039f"
             ],
             [
              0.2222222222222222,
              "#7201a8"
             ],
             [
              0.3333333333333333,
              "#9c179e"
             ],
             [
              0.4444444444444444,
              "#bd3786"
             ],
             [
              0.5555555555555556,
              "#d8576b"
             ],
             [
              0.6666666666666666,
              "#ed7953"
             ],
             [
              0.7777777777777778,
              "#fb9f3a"
             ],
             [
              0.8888888888888888,
              "#fdca26"
             ],
             [
              1,
              "#f0f921"
             ]
            ],
            "type": "surface"
           }
          ],
          "table": [
           {
            "cells": {
             "fill": {
              "color": "#EBF0F8"
             },
             "line": {
              "color": "white"
             }
            },
            "header": {
             "fill": {
              "color": "#C8D4E3"
             },
             "line": {
              "color": "white"
             }
            },
            "type": "table"
           }
          ]
         },
         "layout": {
          "annotationdefaults": {
           "arrowcolor": "#2a3f5f",
           "arrowhead": 0,
           "arrowwidth": 1
          },
          "autotypenumbers": "strict",
          "coloraxis": {
           "colorbar": {
            "outlinewidth": 0,
            "ticks": ""
           }
          },
          "colorscale": {
           "diverging": [
            [
             0,
             "#8e0152"
            ],
            [
             0.1,
             "#c51b7d"
            ],
            [
             0.2,
             "#de77ae"
            ],
            [
             0.3,
             "#f1b6da"
            ],
            [
             0.4,
             "#fde0ef"
            ],
            [
             0.5,
             "#f7f7f7"
            ],
            [
             0.6,
             "#e6f5d0"
            ],
            [
             0.7,
             "#b8e186"
            ],
            [
             0.8,
             "#7fbc41"
            ],
            [
             0.9,
             "#4d9221"
            ],
            [
             1,
             "#276419"
            ]
           ],
           "sequential": [
            [
             0,
             "#0d0887"
            ],
            [
             0.1111111111111111,
             "#46039f"
            ],
            [
             0.2222222222222222,
             "#7201a8"
            ],
            [
             0.3333333333333333,
             "#9c179e"
            ],
            [
             0.4444444444444444,
             "#bd3786"
            ],
            [
             0.5555555555555556,
             "#d8576b"
            ],
            [
             0.6666666666666666,
             "#ed7953"
            ],
            [
             0.7777777777777778,
             "#fb9f3a"
            ],
            [
             0.8888888888888888,
             "#fdca26"
            ],
            [
             1,
             "#f0f921"
            ]
           ],
           "sequentialminus": [
            [
             0,
             "#0d0887"
            ],
            [
             0.1111111111111111,
             "#46039f"
            ],
            [
             0.2222222222222222,
             "#7201a8"
            ],
            [
             0.3333333333333333,
             "#9c179e"
            ],
            [
             0.4444444444444444,
             "#bd3786"
            ],
            [
             0.5555555555555556,
             "#d8576b"
            ],
            [
             0.6666666666666666,
             "#ed7953"
            ],
            [
             0.7777777777777778,
             "#fb9f3a"
            ],
            [
             0.8888888888888888,
             "#fdca26"
            ],
            [
             1,
             "#f0f921"
            ]
           ]
          },
          "colorway": [
           "#636efa",
           "#EF553B",
           "#00cc96",
           "#ab63fa",
           "#FFA15A",
           "#19d3f3",
           "#FF6692",
           "#B6E880",
           "#FF97FF",
           "#FECB52"
          ],
          "font": {
           "color": "#2a3f5f"
          },
          "geo": {
           "bgcolor": "white",
           "lakecolor": "white",
           "landcolor": "#E5ECF6",
           "showlakes": true,
           "showland": true,
           "subunitcolor": "white"
          },
          "hoverlabel": {
           "align": "left"
          },
          "hovermode": "closest",
          "mapbox": {
           "style": "light"
          },
          "paper_bgcolor": "white",
          "plot_bgcolor": "#E5ECF6",
          "polar": {
           "angularaxis": {
            "gridcolor": "white",
            "linecolor": "white",
            "ticks": ""
           },
           "bgcolor": "#E5ECF6",
           "radialaxis": {
            "gridcolor": "white",
            "linecolor": "white",
            "ticks": ""
           }
          },
          "scene": {
           "xaxis": {
            "backgroundcolor": "#E5ECF6",
            "gridcolor": "white",
            "gridwidth": 2,
            "linecolor": "white",
            "showbackground": true,
            "ticks": "",
            "zerolinecolor": "white"
           },
           "yaxis": {
            "backgroundcolor": "#E5ECF6",
            "gridcolor": "white",
            "gridwidth": 2,
            "linecolor": "white",
            "showbackground": true,
            "ticks": "",
            "zerolinecolor": "white"
           },
           "zaxis": {
            "backgroundcolor": "#E5ECF6",
            "gridcolor": "white",
            "gridwidth": 2,
            "linecolor": "white",
            "showbackground": true,
            "ticks": "",
            "zerolinecolor": "white"
           }
          },
          "shapedefaults": {
           "line": {
            "color": "#2a3f5f"
           }
          },
          "ternary": {
           "aaxis": {
            "gridcolor": "white",
            "linecolor": "white",
            "ticks": ""
           },
           "baxis": {
            "gridcolor": "white",
            "linecolor": "white",
            "ticks": ""
           },
           "bgcolor": "#E5ECF6",
           "caxis": {
            "gridcolor": "white",
            "linecolor": "white",
            "ticks": ""
           }
          },
          "title": {
           "x": 0.05
          },
          "xaxis": {
           "automargin": true,
           "gridcolor": "white",
           "linecolor": "white",
           "ticks": "",
           "title": {
            "standoff": 15
           },
           "zerolinecolor": "white",
           "zerolinewidth": 2
          },
          "yaxis": {
           "automargin": true,
           "gridcolor": "white",
           "linecolor": "white",
           "ticks": "",
           "title": {
            "standoff": 15
           },
           "zerolinecolor": "white",
           "zerolinewidth": 2
          }
         }
        },
        "title": {
         "text": "Mean Loss vs reg_val grouped by data_size_pct"
        },
        "width": 1000,
        "xaxis": {
         "anchor": "y",
         "domain": [
          0,
          0.45
         ],
         "range": [
          -0.04000000000000001,
          0.8400000000000001
         ],
         "title": {
          "text": "reg_val"
         }
        },
        "xaxis10": {
         "anchor": "y10",
         "domain": [
          0.55,
          1
         ],
         "range": [
          -0.04000000000000001,
          0.8400000000000001
         ],
         "title": {
          "text": "reg_val"
         }
        },
        "xaxis11": {
         "anchor": "y11",
         "domain": [
          0,
          0.45
         ],
         "range": [
          -0.04000000000000001,
          0.8400000000000001
         ],
         "title": {
          "text": "reg_val"
         }
        },
        "xaxis12": {
         "anchor": "y12",
         "domain": [
          0.55,
          1
         ],
         "range": [
          -0.04000000000000001,
          0.8400000000000001
         ],
         "title": {
          "text": "reg_val"
         }
        },
        "xaxis13": {
         "anchor": "y13",
         "domain": [
          0,
          0.45
         ],
         "range": [
          -0.04000000000000001,
          0.8400000000000001
         ],
         "title": {
          "text": "reg_val"
         }
        },
        "xaxis14": {
         "anchor": "y14",
         "domain": [
          0.55,
          1
         ],
         "range": [
          -0.04000000000000001,
          0.8400000000000001
         ],
         "title": {
          "text": "reg_val"
         }
        },
        "xaxis15": {
         "anchor": "y15",
         "domain": [
          0,
          0.45
         ],
         "range": [
          -0.04000000000000001,
          0.8400000000000001
         ],
         "title": {
          "text": "reg_val"
         }
        },
        "xaxis16": {
         "anchor": "y16",
         "domain": [
          0.55,
          1
         ],
         "range": [
          -0.04000000000000001,
          0.8400000000000001
         ],
         "title": {
          "text": "reg_val"
         }
        },
        "xaxis17": {
         "anchor": "y17",
         "domain": [
          0,
          0.45
         ],
         "range": [
          -0.04000000000000001,
          0.8400000000000001
         ],
         "title": {
          "text": "reg_val"
         }
        },
        "xaxis18": {
         "anchor": "y18",
         "domain": [
          0.55,
          1
         ],
         "range": [
          -0.04000000000000001,
          0.8400000000000001
         ],
         "title": {
          "text": "reg_val"
         }
        },
        "xaxis19": {
         "anchor": "y19",
         "domain": [
          0,
          0.45
         ],
         "range": [
          -0.04000000000000001,
          0.8400000000000001
         ],
         "title": {
          "text": "reg_val"
         }
        },
        "xaxis2": {
         "anchor": "y2",
         "domain": [
          0.55,
          1
         ],
         "range": [
          -0.04000000000000001,
          0.8400000000000001
         ],
         "title": {
          "text": "reg_val"
         }
        },
        "xaxis20": {
         "anchor": "y20",
         "domain": [
          0.55,
          1
         ]
        },
        "xaxis3": {
         "anchor": "y3",
         "domain": [
          0,
          0.45
         ],
         "range": [
          -0.04000000000000001,
          0.8400000000000001
         ],
         "title": {
          "text": "reg_val"
         }
        },
        "xaxis4": {
         "anchor": "y4",
         "domain": [
          0.55,
          1
         ],
         "range": [
          -0.04000000000000001,
          0.8400000000000001
         ],
         "title": {
          "text": "reg_val"
         }
        },
        "xaxis5": {
         "anchor": "y5",
         "domain": [
          0,
          0.45
         ],
         "range": [
          -0.04000000000000001,
          0.8400000000000001
         ],
         "title": {
          "text": "reg_val"
         }
        },
        "xaxis6": {
         "anchor": "y6",
         "domain": [
          0.55,
          1
         ],
         "range": [
          -0.04000000000000001,
          0.8400000000000001
         ],
         "title": {
          "text": "reg_val"
         }
        },
        "xaxis7": {
         "anchor": "y7",
         "domain": [
          0,
          0.45
         ],
         "range": [
          -0.04000000000000001,
          0.8400000000000001
         ],
         "title": {
          "text": "reg_val"
         }
        },
        "xaxis8": {
         "anchor": "y8",
         "domain": [
          0.55,
          1
         ],
         "range": [
          -0.04000000000000001,
          0.8400000000000001
         ],
         "title": {
          "text": "reg_val"
         }
        },
        "xaxis9": {
         "anchor": "y9",
         "domain": [
          0,
          0.45
         ],
         "range": [
          -0.04000000000000001,
          0.8400000000000001
         ],
         "title": {
          "text": "reg_val"
         }
        },
        "yaxis": {
         "anchor": "x",
         "domain": [
          0.9450000000000001,
          1
         ],
         "range": [
          0.6944228618859729,
          1.1029415601350014
         ],
         "title": {
          "text": "Mean Loss"
         }
        },
        "yaxis10": {
         "anchor": "x10",
         "domain": [
          0.525,
          0.5800000000000001
         ],
         "range": [
          0.6944228618859729,
          1.1029415601350014
         ],
         "title": {
          "text": "Mean Loss"
         }
        },
        "yaxis11": {
         "anchor": "x11",
         "domain": [
          0.42000000000000004,
          0.47500000000000003
         ],
         "range": [
          0.6944228618859729,
          1.1029415601350014
         ],
         "title": {
          "text": "Mean Loss"
         }
        },
        "yaxis12": {
         "anchor": "x12",
         "domain": [
          0.42000000000000004,
          0.47500000000000003
         ],
         "range": [
          0.6944228618859729,
          1.1029415601350014
         ],
         "title": {
          "text": "Mean Loss"
         }
        },
        "yaxis13": {
         "anchor": "x13",
         "domain": [
          0.31500000000000006,
          0.37000000000000005
         ],
         "range": [
          0.6944228618859729,
          1.1029415601350014
         ],
         "title": {
          "text": "Mean Loss"
         }
        },
        "yaxis14": {
         "anchor": "x14",
         "domain": [
          0.31500000000000006,
          0.37000000000000005
         ],
         "range": [
          0.6944228618859729,
          1.1029415601350014
         ],
         "title": {
          "text": "Mean Loss"
         }
        },
        "yaxis15": {
         "anchor": "x15",
         "domain": [
          0.21000000000000002,
          0.265
         ],
         "range": [
          0.6944228618859729,
          1.1029415601350014
         ],
         "title": {
          "text": "Mean Loss"
         }
        },
        "yaxis16": {
         "anchor": "x16",
         "domain": [
          0.21000000000000002,
          0.265
         ],
         "range": [
          0.6944228618859729,
          1.1029415601350014
         ],
         "title": {
          "text": "Mean Loss"
         }
        },
        "yaxis17": {
         "anchor": "x17",
         "domain": [
          0.10500000000000001,
          0.16000000000000003
         ],
         "range": [
          0.6944228618859729,
          1.1029415601350014
         ],
         "title": {
          "text": "Mean Loss"
         }
        },
        "yaxis18": {
         "anchor": "x18",
         "domain": [
          0.10500000000000001,
          0.16000000000000003
         ],
         "range": [
          0.6944228618859729,
          1.1029415601350014
         ],
         "title": {
          "text": "Mean Loss"
         }
        },
        "yaxis19": {
         "anchor": "x19",
         "domain": [
          0,
          0.05500000000000001
         ],
         "range": [
          0.6944228618859729,
          1.1029415601350014
         ],
         "title": {
          "text": "Mean Loss"
         }
        },
        "yaxis2": {
         "anchor": "x2",
         "domain": [
          0.9450000000000001,
          1
         ],
         "range": [
          0.6944228618859729,
          1.1029415601350014
         ],
         "title": {
          "text": "Mean Loss"
         }
        },
        "yaxis20": {
         "anchor": "x20",
         "domain": [
          0,
          0.05500000000000001
         ]
        },
        "yaxis3": {
         "anchor": "x3",
         "domain": [
          0.8400000000000001,
          0.8950000000000001
         ],
         "range": [
          0.6944228618859729,
          1.1029415601350014
         ],
         "title": {
          "text": "Mean Loss"
         }
        },
        "yaxis4": {
         "anchor": "x4",
         "domain": [
          0.8400000000000001,
          0.8950000000000001
         ],
         "range": [
          0.6944228618859729,
          1.1029415601350014
         ],
         "title": {
          "text": "Mean Loss"
         }
        },
        "yaxis5": {
         "anchor": "x5",
         "domain": [
          0.7350000000000001,
          0.7900000000000001
         ],
         "range": [
          0.6944228618859729,
          1.1029415601350014
         ],
         "title": {
          "text": "Mean Loss"
         }
        },
        "yaxis6": {
         "anchor": "x6",
         "domain": [
          0.7350000000000001,
          0.7900000000000001
         ],
         "range": [
          0.6944228618859729,
          1.1029415601350014
         ],
         "title": {
          "text": "Mean Loss"
         }
        },
        "yaxis7": {
         "anchor": "x7",
         "domain": [
          0.6300000000000001,
          0.6850000000000002
         ],
         "range": [
          0.6944228618859729,
          1.1029415601350014
         ],
         "title": {
          "text": "Mean Loss"
         }
        },
        "yaxis8": {
         "anchor": "x8",
         "domain": [
          0.6300000000000001,
          0.6850000000000002
         ],
         "range": [
          0.6944228618859729,
          1.1029415601350014
         ],
         "title": {
          "text": "Mean Loss"
         }
        },
        "yaxis9": {
         "anchor": "x9",
         "domain": [
          0.525,
          0.5800000000000001
         ],
         "range": [
          0.6944228618859729,
          1.1029415601350014
         ],
         "title": {
          "text": "Mean Loss"
         }
        }
       }
      }
     },
     "metadata": {},
     "output_type": "display_data"
    }
   ],
   "source": [
    "plot_data_size_pct = plot_mean_loss(dataset, x_axis='reg_val', group_by='data_size_pct', log_x=log_scale)"
   ]
  },
  {
   "cell_type": "code",
   "execution_count": 19,
   "metadata": {},
   "outputs": [],
   "source": [
    "def save_plots_to_html(plot_list, file_name):\n",
    "    \"\"\"\n",
    "    Saves multiple Plotly plots into a single HTML file.\n",
    "\n",
    "    Parameters:\n",
    "    - plot_list: A list of variable names (strings) that refer to Plotly plot objects.\n",
    "    - file_name: The name of the HTML file to save the plots.\n",
    "    \"\"\"\n",
    "    # Initialize an empty list to store the HTML content of each plot\n",
    "    html_content = []\n",
    "\n",
    "    # Loop through the list of plot variables, render the plot and append its HTML content\n",
    "    for plot_var in plot_list:\n",
    "        plot = eval(plot_var)  # Evaluate the string to get the actual plot object\n",
    "        html_content.append(pio.to_html(plot, full_html=False))\n",
    "\n",
    "    # Concatenate all plots into a single HTML string\n",
    "    full_html = \"<html><head></head><body>\" + \"\".join(html_content) + \"</body></html>\"\n",
    "\n",
    "    # Save the HTML content to the file\n",
    "    with open(file_name, \"w\", encoding='utf-8') as f:\n",
    "        f.write(full_html)\n",
    "\n",
    "    print(f\"Plots saved to {file_name}\")\n"
   ]
  },
  {
   "cell_type": "code",
   "execution_count": 20,
   "metadata": {},
   "outputs": [
    {
     "name": "stdout",
     "output_type": "stream",
     "text": [
      "Plots saved to PROTEIN_dropout_plots.html\n"
     ]
    }
   ],
   "source": [
    "plot_list = ['plot_3d', 'plot_reg_val', 'plot_data_size_pct']\n",
    "html_filename = f'{dataset_name.upper()}_{reg_type}_plots.html'\n",
    "save_plots_to_html(plot_list, html_filename)"
   ]
  },
  {
   "cell_type": "code",
   "execution_count": null,
   "metadata": {},
   "outputs": [],
   "source": []
  }
 ],
 "metadata": {
  "kernelspec": {
   "display_name": "ml_lab_venv",
   "language": "python",
   "name": "python3"
  },
  "language_info": {
   "codemirror_mode": {
    "name": "ipython",
    "version": 3
   },
   "file_extension": ".py",
   "mimetype": "text/x-python",
   "name": "python",
   "nbconvert_exporter": "python",
   "pygments_lexer": "ipython3",
   "version": "3.11.3"
  }
 },
 "nbformat": 4,
 "nbformat_minor": 2
}
