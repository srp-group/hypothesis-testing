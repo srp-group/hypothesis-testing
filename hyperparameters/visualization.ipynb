{
 "cells": [
  {
   "cell_type": "code",
   "execution_count": 34,
   "metadata": {},
   "outputs": [],
   "source": [
    "import pandas as pd\n",
    "import numpy as np\n",
    "import matplotlib.pyplot as plt\n",
    "import plotly.express as px\n",
    "import plotly.graph_objects as go\n",
    "import plotly.io as pio\n",
    "from plotly.subplots import make_subplots\n",
    "import math\n",
    "from scipy.stats import norm"
   ]
  },
  {
   "cell_type": "code",
   "execution_count": 35,
   "metadata": {},
   "outputs": [
    {
     "data": {
      "text/html": [
       "<div>\n",
       "<style scoped>\n",
       "    .dataframe tbody tr th:only-of-type {\n",
       "        vertical-align: middle;\n",
       "    }\n",
       "\n",
       "    .dataframe tbody tr th {\n",
       "        vertical-align: top;\n",
       "    }\n",
       "\n",
       "    .dataframe thead th {\n",
       "        text-align: right;\n",
       "    }\n",
       "</style>\n",
       "<table border=\"1\" class=\"dataframe\">\n",
       "  <thead>\n",
       "    <tr style=\"text-align: right;\">\n",
       "      <th></th>\n",
       "      <th>dataset_name</th>\n",
       "      <th>reg_type</th>\n",
       "      <th>reg_val</th>\n",
       "      <th>loss</th>\n",
       "      <th>seed</th>\n",
       "      <th>data_size_pct</th>\n",
       "      <th>val_acc</th>\n",
       "      <th>lr</th>\n",
       "    </tr>\n",
       "  </thead>\n",
       "  <tbody>\n",
       "    <tr>\n",
       "      <th>0</th>\n",
       "      <td>splice</td>\n",
       "      <td>l2</td>\n",
       "      <td>0.0</td>\n",
       "      <td>0.688027</td>\n",
       "      <td>1</td>\n",
       "      <td>1</td>\n",
       "      <td>0.484809</td>\n",
       "      <td>0.0100</td>\n",
       "    </tr>\n",
       "    <tr>\n",
       "      <th>1</th>\n",
       "      <td>splice</td>\n",
       "      <td>l2</td>\n",
       "      <td>0.0</td>\n",
       "      <td>0.626770</td>\n",
       "      <td>1</td>\n",
       "      <td>2</td>\n",
       "      <td>0.574942</td>\n",
       "      <td>0.0100</td>\n",
       "    </tr>\n",
       "    <tr>\n",
       "      <th>2</th>\n",
       "      <td>splice</td>\n",
       "      <td>l2</td>\n",
       "      <td>0.0</td>\n",
       "      <td>0.626203</td>\n",
       "      <td>1</td>\n",
       "      <td>3</td>\n",
       "      <td>0.697049</td>\n",
       "      <td>0.0001</td>\n",
       "    </tr>\n",
       "    <tr>\n",
       "      <th>3</th>\n",
       "      <td>splice</td>\n",
       "      <td>l2</td>\n",
       "      <td>0.0</td>\n",
       "      <td>0.604189</td>\n",
       "      <td>1</td>\n",
       "      <td>4</td>\n",
       "      <td>0.744502</td>\n",
       "      <td>0.0010</td>\n",
       "    </tr>\n",
       "    <tr>\n",
       "      <th>4</th>\n",
       "      <td>splice</td>\n",
       "      <td>l2</td>\n",
       "      <td>0.0</td>\n",
       "      <td>0.499560</td>\n",
       "      <td>1</td>\n",
       "      <td>5</td>\n",
       "      <td>0.763744</td>\n",
       "      <td>0.0001</td>\n",
       "    </tr>\n",
       "  </tbody>\n",
       "</table>\n",
       "</div>"
      ],
      "text/plain": [
       "  dataset_name reg_type  reg_val      loss  seed  data_size_pct   val_acc  \\\n",
       "0       splice       l2      0.0  0.688027     1              1  0.484809   \n",
       "1       splice       l2      0.0  0.626770     1              2  0.574942   \n",
       "2       splice       l2      0.0  0.626203     1              3  0.697049   \n",
       "3       splice       l2      0.0  0.604189     1              4  0.744502   \n",
       "4       splice       l2      0.0  0.499560     1              5  0.763744   \n",
       "\n",
       "       lr  \n",
       "0  0.0100  \n",
       "1  0.0100  \n",
       "2  0.0001  \n",
       "3  0.0010  \n",
       "4  0.0001  "
      ]
     },
     "execution_count": 35,
     "metadata": {},
     "output_type": "execute_result"
    }
   ],
   "source": [
    "df = pd.read_csv(\"C:\\\\Users\\\\Amir Hossein\\\\Downloads\\\\cres\\\\splice_l2_results.csv\", header=0, index_col=None)\n",
    "dataset = df.loc[df.groupby([\"dataset_name\", \"reg_type\", \"reg_val\", \"seed\", \"data_size_pct\"])[\"loss\"].idxmin()].reset_index(drop=True)\n",
    "dataset.head()"
   ]
  },
  {
   "cell_type": "markdown",
   "metadata": {},
   "source": [
    "### visualization"
   ]
  },
  {
   "cell_type": "code",
   "execution_count": 36,
   "metadata": {},
   "outputs": [],
   "source": [
    "dataset_name = dataset['dataset_name'].unique().item()\n",
    "# print(dataset_name)\n",
    "\n",
    "if dataset['reg_type'].unique().item() == 'l2':\n",
    "    reg_type = 'l2'\n",
    "    log_scale = True\n",
    "    \n",
    "else:\n",
    "    reg_type = 'dropout'\n",
    "    log_scale = False"
   ]
  },
  {
   "cell_type": "code",
   "execution_count": 43,
   "metadata": {},
   "outputs": [],
   "source": [
    "def plot_3d_surface_with_avg(dataset, x_col, y_col, z_col, log_x=False, log_y=False, log_z=False):\n",
    "    # Group by x and y and compute the mean of the z column\n",
    "    df_grouped = dataset.groupby([x_col, y_col])[[z_col, \"lr\"]].mean().reset_index()\n",
    "\n",
    "    # Pivot the grouped data to get the correct format for the surface plot\n",
    "    df_pivot = df_grouped.pivot(index=y_col, columns=x_col, values=z_col)\n",
    "\n",
    "    # Create x, y, z values for the surface plot\n",
    "    x_vals = df_pivot.columns\n",
    "    y_vals = df_pivot.index\n",
    "    z_vals = df_pivot.values\n",
    "\n",
    "    # Create a 3D surface plot with opacity set to 0.6 and contours on the z-axis\n",
    "    surface = go.Surface(\n",
    "        z=z_vals, \n",
    "        x=x_vals, \n",
    "        y=y_vals, \n",
    "        opacity=0.9, \n",
    "        colorscale='Jet',\n",
    "        contours={\n",
    "            \"z\": {\n",
    "                \"show\": True,  # Enable contour lines on the z-axis\n",
    "                # \"project\": {\"z\": True},  # Project contour lines onto the z-plane\n",
    "                \"color\": \"black\",  # Color of the contour lines\n",
    "                \"width\": 2  # Thickness of the contour lines\n",
    "            }\n",
    "        }\n",
    "    )\n",
    "\n",
    "    # Add a 3D scatter plot with the same data points\n",
    "    scatter_data = go.Scatter3d(\n",
    "        x=df_grouped[x_col], \n",
    "        y=df_grouped[y_col], \n",
    "        z=df_grouped[z_col],\n",
    "        mode='markers',\n",
    "        marker=dict(size=5, color=df_grouped[z_col], colorscale='Jet', opacity=0.9),\n",
    "        hovertext=[\n",
    "            f\"{x_col}: {x}<br>{y_col}: {y}<br>{z_col}: {z}<br>Learning Rate: {lr}\"\n",
    "            for x, y, z, lr in zip(df_grouped[x_col], df_grouped[y_col], df_grouped[z_col], df_grouped[\"lr\"])\n",
    "        ],\n",
    "        hoverinfo=\"text\"\n",
    "    )\n",
    "\n",
    "    # Identify the row with the minimum z_col value\n",
    "    min_row = df_grouped.loc[df_grouped[z_col].idxmin()]\n",
    "\n",
    "    # Create a separate scatter trace for the minimum loss point with a black marker\n",
    "    min_scatter = go.Scatter3d(\n",
    "        x=[min_row[x_col]],\n",
    "        y=[min_row[y_col]],\n",
    "        z=[min_row[z_col]],\n",
    "        mode='markers',\n",
    "        marker=dict(size=8, color='red'),\n",
    "        hovertext=f\"Minimum {z_col}: {min_row[z_col]}<br>{x_col}: {min_row[x_col]}<br>{y_col}: {min_row[y_col]}<br>Learning Rate: {min_row['lr']}\",\n",
    "        hoverinfo=\"text\"\n",
    "        # name='Minimum Loss'\n",
    "    )\n",
    "\n",
    "    # Create the figure and add the surface, scatter plot, and min scatter plot\n",
    "    fig = go.Figure(data=[surface, scatter_data, min_scatter])\n",
    "\n",
    "    # Update axis types to logarithmic if requested\n",
    "    axis_settings = dict(\n",
    "        xaxis=dict(title=x_col, type='log' if log_x else 'linear'),\n",
    "        yaxis=dict(title=y_col, type='log' if log_y else 'linear'),\n",
    "        zaxis=dict(title=z_col, type='log' if log_z else 'linear')\n",
    "    )\n",
    "\n",
    "    # Update the layout for better visualization\n",
    "    fig.update_layout(\n",
    "        width=800,\n",
    "        height=600,\n",
    "        scene=dict(\n",
    "            aspectratio=dict(x=1.25, y=1, z=1),\n",
    "            xaxis=axis_settings['xaxis'],\n",
    "            yaxis=axis_settings['yaxis'],\n",
    "            zaxis=axis_settings['zaxis']\n",
    "        ),\n",
    "        margin=dict(l=0.5, r=0.5, b=50, t=50),\n",
    "        title=f'{dataset_name.upper()}. {reg_type.upper()}. {z_col} as a function of {x_col} and {y_col})' \n",
    "    )\n",
    "\n",
    "    # Show the plot\n",
    "    fig.show()\n",
    "    return fig\n",
    "\n"
   ]
  },
  {
   "cell_type": "code",
   "execution_count": 44,
   "metadata": {},
   "outputs": [
    {
     "data": {
      "application/vnd.plotly.v1+json": {
       "config": {
        "plotlyServerURL": "https://plot.ly"
       },
       "data": [
        {
         "colorscale": [
          [
           0,
           "rgb(0,0,131)"
          ],
          [
           0.2,
           "rgb(0,60,170)"
          ],
          [
           0.4,
           "rgb(5,255,255)"
          ],
          [
           0.6,
           "rgb(255,255,0)"
          ],
          [
           0.8,
           "rgb(250,0,0)"
          ],
          [
           1,
           "rgb(128,0,0)"
          ]
         ],
         "contours": {
          "z": {
           "color": "black",
           "show": true,
           "width": 2
          }
         },
         "opacity": 0.9,
         "type": "surface",
         "x": [
          1,
          2,
          3,
          4,
          5,
          6,
          7,
          8,
          9,
          10,
          20,
          30,
          40,
          50,
          60,
          70,
          80,
          90,
          100
         ],
         "y": [
          0,
          5e-7,
          0.000001,
          0.0000055,
          0.00001,
          0.000055,
          0.0001,
          0.00055,
          0.001,
          0.0055,
          0.01,
          0.055,
          0.1
         ],
         "z": [
          [
           0.6581666253010432,
           0.5933529893557231,
           0.5761397994558017,
           0.5346060084303219,
           0.5032687005897363,
           0.4929598865409692,
           0.47589851483702655,
           0.4607821782926718,
           0.46054519275824224,
           0.44953491879006224,
           0.39483428952594596,
           0.3768753640602032,
           0.36295416367550687,
           0.3461409385502338,
           0.32353477043410145,
           0.31006798315793277,
           0.2970875490456819,
           0.28076828154424827,
           0.27146354397137956
          ],
          [
           0.6542377854386966,
           0.5931385990977288,
           0.5710081625481447,
           0.5440779816110929,
           0.5114081205427646,
           0.49484785373012224,
           0.47850306406617166,
           0.4609370579073826,
           0.46227793211738266,
           0.44872433379292487,
           0.3939296383410692,
           0.37410440636177855,
           0.3624545518060525,
           0.34302108847846585,
           0.32624589287986355,
           0.31415635642906026,
           0.2919695634891589,
           0.27933164980262515,
           0.27053767847518123
          ],
          [
           0.6553212486207485,
           0.6012765245636305,
           0.5759483127295971,
           0.5401459895074368,
           0.5066953108708063,
           0.491565449933211,
           0.47882764081160223,
           0.46557365482052165,
           0.4563390112419923,
           0.45336366285880403,
           0.39568620880444844,
           0.37513332923253373,
           0.362532040476799,
           0.34571763043602305,
           0.319752679169178,
           0.3026123406117161,
           0.29057660923649864,
           0.275194427780807,
           0.27238740331182876
          ],
          [
           0.6560138613979022,
           0.5929482033848763,
           0.572860000183185,
           0.5479812412957351,
           0.5119637344777584,
           0.5020668937762578,
           0.47866598544021444,
           0.4689379658301671,
           0.45412735611200333,
           0.4488921896616617,
           0.39480086592336494,
           0.3758403965334097,
           0.36165618712703385,
           0.34316356721023716,
           0.31336063196261726,
           0.3045816220218936,
           0.2960222912331422,
           0.2771260326852401,
           0.2715418578063448
          ],
          [
           0.6519740112125874,
           0.5919789568086464,
           0.5794247765342394,
           0.5415326349933942,
           0.5050825086732705,
           0.49764983162283893,
           0.4764381967236598,
           0.4640666126211484,
           0.45906366343299543,
           0.44815312648812927,
           0.396020470286409,
           0.3746653924634059,
           0.3539781293024619,
           0.3393823012088735,
           0.3205225010837118,
           0.3017274181048075,
           0.2890753849223256,
           0.2774491782610615,
           0.27106745842844243
          ],
          [
           0.6501003796855609,
           0.5980324629445871,
           0.5727694563567638,
           0.5489964440961679,
           0.5025759569307168,
           0.5083393233021101,
           0.48471704110503194,
           0.4652848449349403,
           0.46675374316672485,
           0.4471662640074889,
           0.3960685905814171,
           0.37564582889278725,
           0.3586797937254111,
           0.33535327290495237,
           0.31206930480897427,
           0.3008006035412351,
           0.2877808578809102,
           0.2726725081540644,
           0.27134072436640655
          ],
          [
           0.6522047417362532,
           0.5909631069004535,
           0.5789720327158768,
           0.5503341896335283,
           0.5055506813029448,
           0.49738061582048737,
           0.4783628050982952,
           0.4714355979859829,
           0.45733347999552887,
           0.44610734413067493,
           0.39500916217764215,
           0.3726610822975635,
           0.35009281987945234,
           0.3381049711753924,
           0.3121661780898769,
           0.2977014700447519,
           0.2843022030343612,
           0.271554356465737,
           0.26623569989576934
          ],
          [
           0.6549923621118069,
           0.5916651115318139,
           0.5804419896006584,
           0.5507821649809678,
           0.5109780052800973,
           0.4973147771755854,
           0.4865232784549395,
           0.4669698222478231,
           0.4656204885741075,
           0.4529058486223221,
           0.3960737177977959,
           0.376337344845136,
           0.3665873764703671,
           0.34899570032954214,
           0.3272202268739541,
           0.3171267977977792,
           0.2928152192632357,
           0.28061467652519545,
           0.2690502793093522
          ],
          [
           0.6575504075487455,
           0.5972034854690234,
           0.5771447610855103,
           0.5640823223690192,
           0.5157178960740566,
           0.5056587937474251,
           0.49500284478068346,
           0.4690370026727517,
           0.47301637773712474,
           0.4525014854967594,
           0.39848356458048023,
           0.3785274245093266,
           0.3659661458432674,
           0.3536873939385016,
           0.3337749928918977,
           0.31928075933208067,
           0.2980069141834974,
           0.2829761440679431,
           0.2721613420173526
          ],
          [
           0.6714701493581136,
           0.612005858918031,
           0.600956768890222,
           0.6118499975899855,
           0.5553161309659481,
           0.5764315586288771,
           0.49306291510661443,
           0.48108858019113543,
           0.47754631881912546,
           0.4673196513454119,
           0.4094022982815901,
           0.3889691068977117,
           0.37344965457916257,
           0.3488370450834433,
           0.32924755778163667,
           0.32088526178151366,
           0.3028749667232235,
           0.2846084058533112,
           0.27162793272485336
          ],
          [
           0.6744793080290158,
           0.6401800714929898,
           0.6501476026078065,
           0.6518168269097805,
           0.6627806815505027,
           0.6872516894340515,
           0.5928964144488176,
           0.5819545864065488,
           0.5840384743114312,
           0.594488497277101,
           0.5648902184764545,
           0.5321315043916305,
           0.5376759743193785,
           0.5149487855782111,
           0.5248377774655819,
           0.4803744142502546,
           0.38297268375754356,
           0.36803871747106315,
           0.45807753733048834
          ],
          [
           0.6927858612934749,
           0.6926901299754779,
           0.6927574083209038,
           0.6925590170423189,
           0.692685031692187,
           0.6926926989356677,
           0.6927466990550359,
           0.6927371519804001,
           0.6926622685790063,
           0.690292689204216,
           0.6919463660319647,
           0.6831468717753887,
           0.6926896585027377,
           0.6917744207382202,
           0.6925910080472628,
           0.6891132952769597,
           0.6925667285919189,
           0.6923100544015566,
           0.6899328940113385
          ],
          [
           0.6926637401183446,
           0.6927340441942215,
           0.6928059950470924,
           0.6924329778552055,
           0.6926976324121158,
           0.6922258852918942,
           0.6924071122209231,
           0.6913414384921392,
           0.6926365282138189,
           0.6925472072760265,
           0.6922978413105011,
           0.6912273997068404,
           0.6918428323666255,
           0.6903826301296552,
           0.6926770457625389,
           0.6845456638932228,
           0.6923183742165565,
           0.6915860849618911,
           0.6914100556572278
          ]
         ]
        },
        {
         "hoverinfo": "text",
         "hovertext": [
          "data_size_pct: 1<br>reg_val: 0.0<br>loss: 0.6581666253010432<br>Learning Rate: 0.005257",
          "data_size_pct: 1<br>reg_val: 5e-07<br>loss: 0.6542377854386966<br>Learning Rate: 0.006127",
          "data_size_pct: 1<br>reg_val: 1e-06<br>loss: 0.6553212486207485<br>Learning Rate: 0.005527000000000001",
          "data_size_pct: 1<br>reg_val: 5.5e-06<br>loss: 0.6560138613979022<br>Learning Rate: 0.004657",
          "data_size_pct: 1<br>reg_val: 1e-05<br>loss: 0.6519740112125874<br>Learning Rate: 0.005347",
          "data_size_pct: 1<br>reg_val: 5.5e-05<br>loss: 0.6501003796855609<br>Learning Rate: 0.005257",
          "data_size_pct: 1<br>reg_val: 0.0001<br>loss: 0.6522047417362532<br>Learning Rate: 0.0049239999999999996",
          "data_size_pct: 1<br>reg_val: 0.00055<br>loss: 0.6549923621118069<br>Learning Rate: 0.007147",
          "data_size_pct: 1<br>reg_val: 0.001<br>loss: 0.6575504075487455<br>Learning Rate: 0.005584",
          "data_size_pct: 1<br>reg_val: 0.0055<br>loss: 0.6714701493581136<br>Learning Rate: 0.006721",
          "data_size_pct: 1<br>reg_val: 0.01<br>loss: 0.6744793080290158<br>Learning Rate: 0.004999000000000001",
          "data_size_pct: 1<br>reg_val: 0.055<br>loss: 0.6927858612934749<br>Learning Rate: 0.0005769999999999999",
          "data_size_pct: 1<br>reg_val: 0.1<br>loss: 0.6926637401183446<br>Learning Rate: 0.004045000000000001",
          "data_size_pct: 2<br>reg_val: 0.0<br>loss: 0.5933529893557231<br>Learning Rate: 0.00172",
          "data_size_pct: 2<br>reg_val: 5e-07<br>loss: 0.5931385990977288<br>Learning Rate: 0.00235",
          "data_size_pct: 2<br>reg_val: 1e-06<br>loss: 0.6012765245636305<br>Learning Rate: 0.0020800000000000003",
          "data_size_pct: 2<br>reg_val: 5.5e-06<br>loss: 0.5929482033848763<br>Learning Rate: 0.0025900000000000003",
          "data_size_pct: 2<br>reg_val: 1e-05<br>loss: 0.5919789568086464<br>Learning Rate: 0.00193",
          "data_size_pct: 2<br>reg_val: 5.5e-05<br>loss: 0.5980324629445871<br>Learning Rate: 0.0025900000000000003",
          "data_size_pct: 2<br>reg_val: 0.0001<br>loss: 0.5909631069004535<br>Learning Rate: 0.00232",
          "data_size_pct: 2<br>reg_val: 0.00055<br>loss: 0.5916651115318139<br>Learning Rate: 0.00268",
          "data_size_pct: 2<br>reg_val: 0.001<br>loss: 0.5972034854690234<br>Learning Rate: 0.006640000000000001",
          "data_size_pct: 2<br>reg_val: 0.0055<br>loss: 0.612005858918031<br>Learning Rate: 0.001987",
          "data_size_pct: 2<br>reg_val: 0.01<br>loss: 0.6401800714929898<br>Learning Rate: 0.000874",
          "data_size_pct: 2<br>reg_val: 0.055<br>loss: 0.6926901299754779<br>Learning Rate: 0.004342",
          "data_size_pct: 2<br>reg_val: 0.1<br>loss: 0.6927340441942215<br>Learning Rate: 0.002149",
          "data_size_pct: 3<br>reg_val: 0.0<br>loss: 0.5761397994558017<br>Learning Rate: 0.00328",
          "data_size_pct: 3<br>reg_val: 5e-07<br>loss: 0.5710081625481447<br>Learning Rate: 0.00364",
          "data_size_pct: 3<br>reg_val: 1e-06<br>loss: 0.5759483127295971<br>Learning Rate: 0.00331",
          "data_size_pct: 3<br>reg_val: 5.5e-06<br>loss: 0.572860000183185<br>Learning Rate: 0.00334",
          "data_size_pct: 3<br>reg_val: 1e-05<br>loss: 0.5794247765342394<br>Learning Rate: 0.003607",
          "data_size_pct: 3<br>reg_val: 5.5e-05<br>loss: 0.5727694563567638<br>Learning Rate: 0.00304",
          "data_size_pct: 3<br>reg_val: 0.0001<br>loss: 0.5789720327158768<br>Learning Rate: 0.0028",
          "data_size_pct: 3<br>reg_val: 0.00055<br>loss: 0.5804419896006584<br>Learning Rate: 0.002707",
          "data_size_pct: 3<br>reg_val: 0.001<br>loss: 0.5771447610855103<br>Learning Rate: 0.00292",
          "data_size_pct: 3<br>reg_val: 0.0055<br>loss: 0.600956768890222<br>Learning Rate: 0.002131",
          "data_size_pct: 3<br>reg_val: 0.01<br>loss: 0.6501476026078065<br>Learning Rate: 0.000397",
          "data_size_pct: 3<br>reg_val: 0.055<br>loss: 0.6927574083209038<br>Learning Rate: 0.001696",
          "data_size_pct: 3<br>reg_val: 0.1<br>loss: 0.6928059950470924<br>Learning Rate: 0.004966",
          "data_size_pct: 4<br>reg_val: 0.0<br>loss: 0.5346060084303219<br>Learning Rate: 0.00193",
          "data_size_pct: 4<br>reg_val: 5e-07<br>loss: 0.5440779816110929<br>Learning Rate: 0.00295",
          "data_size_pct: 4<br>reg_val: 1e-06<br>loss: 0.5401459895074368<br>Learning Rate: 0.0029800000000000004",
          "data_size_pct: 4<br>reg_val: 5.5e-06<br>loss: 0.5479812412957351<br>Learning Rate: 0.00244",
          "data_size_pct: 4<br>reg_val: 1e-05<br>loss: 0.5415326349933942<br>Learning Rate: 0.00136",
          "data_size_pct: 4<br>reg_val: 5.5e-05<br>loss: 0.5489964440961679<br>Learning Rate: 0.00118",
          "data_size_pct: 4<br>reg_val: 0.0001<br>loss: 0.5503341896335283<br>Learning Rate: 0.0016599999999999998",
          "data_size_pct: 4<br>reg_val: 0.00055<br>loss: 0.5507821649809678<br>Learning Rate: 0.001747",
          "data_size_pct: 4<br>reg_val: 0.001<br>loss: 0.5640823223690192<br>Learning Rate: 0.00184",
          "data_size_pct: 4<br>reg_val: 0.0055<br>loss: 0.6118499975899855<br>Learning Rate: 0.007102",
          "data_size_pct: 4<br>reg_val: 0.01<br>loss: 0.6518168269097805<br>Learning Rate: 0.00046300000000000003",
          "data_size_pct: 4<br>reg_val: 0.055<br>loss: 0.6925590170423189<br>Learning Rate: 0.004273",
          "data_size_pct: 4<br>reg_val: 0.1<br>loss: 0.6924329778552055<br>Learning Rate: 0.005338",
          "data_size_pct: 5<br>reg_val: 0.0<br>loss: 0.5032687005897363<br>Learning Rate: 0.00082",
          "data_size_pct: 5<br>reg_val: 5e-07<br>loss: 0.5114081205427646<br>Learning Rate: 0.00091",
          "data_size_pct: 5<br>reg_val: 1e-06<br>loss: 0.5066953108708063<br>Learning Rate: 0.0005800000000000001",
          "data_size_pct: 5<br>reg_val: 5.5e-06<br>loss: 0.5119637344777584<br>Learning Rate: 0.00088",
          "data_size_pct: 5<br>reg_val: 1e-05<br>loss: 0.5050825086732705<br>Learning Rate: 0.00028",
          "data_size_pct: 5<br>reg_val: 5.5e-05<br>loss: 0.5025759569307168<br>Learning Rate: 0.0008500000000000001",
          "data_size_pct: 5<br>reg_val: 0.0001<br>loss: 0.5055506813029448<br>Learning Rate: 0.00091",
          "data_size_pct: 5<br>reg_val: 0.00055<br>loss: 0.5109780052800973<br>Learning Rate: 0.00103",
          "data_size_pct: 5<br>reg_val: 0.001<br>loss: 0.5157178960740566<br>Learning Rate: 0.00103",
          "data_size_pct: 5<br>reg_val: 0.0055<br>loss: 0.5553161309659481<br>Learning Rate: 0.0037540000000000004",
          "data_size_pct: 5<br>reg_val: 0.01<br>loss: 0.6627806815505027<br>Learning Rate: 0.0007779999999999999",
          "data_size_pct: 5<br>reg_val: 0.055<br>loss: 0.692685031692187<br>Learning Rate: 0.003058",
          "data_size_pct: 5<br>reg_val: 0.1<br>loss: 0.6926976324121158<br>Learning Rate: 0.003682",
          "data_size_pct: 6<br>reg_val: 0.0<br>loss: 0.4929598865409692<br>Learning Rate: 0.0008500000000000001",
          "data_size_pct: 6<br>reg_val: 5e-07<br>loss: 0.49484785373012224<br>Learning Rate: 0.0008500000000000001",
          "data_size_pct: 6<br>reg_val: 1e-06<br>loss: 0.491565449933211<br>Learning Rate: 0.00097",
          "data_size_pct: 6<br>reg_val: 5.5e-06<br>loss: 0.5020668937762578<br>Learning Rate: 0.00103",
          "data_size_pct: 6<br>reg_val: 1e-05<br>loss: 0.49764983162283893<br>Learning Rate: 0.00025",
          "data_size_pct: 6<br>reg_val: 5.5e-05<br>loss: 0.5083393233021101<br>Learning Rate: 0.00103",
          "data_size_pct: 6<br>reg_val: 0.0001<br>loss: 0.49738061582048737<br>Learning Rate: 0.00088",
          "data_size_pct: 6<br>reg_val: 0.00055<br>loss: 0.4973147771755854<br>Learning Rate: 0.00136",
          "data_size_pct: 6<br>reg_val: 0.001<br>loss: 0.5056587937474251<br>Learning Rate: 0.00073",
          "data_size_pct: 6<br>reg_val: 0.0055<br>loss: 0.5764315586288771<br>Learning Rate: 0.000994",
          "data_size_pct: 6<br>reg_val: 0.01<br>loss: 0.6872516894340515<br>Learning Rate: 0.001654",
          "data_size_pct: 6<br>reg_val: 0.055<br>loss: 0.6926926989356677<br>Learning Rate: 0.0029620000000000002",
          "data_size_pct: 6<br>reg_val: 0.1<br>loss: 0.6922258852918942<br>Learning Rate: 0.006661",
          "data_size_pct: 7<br>reg_val: 0.0<br>loss: 0.47589851483702655<br>Learning Rate: 0.00112",
          "data_size_pct: 7<br>reg_val: 5e-07<br>loss: 0.47850306406617166<br>Learning Rate: 0.0005200000000000001",
          "data_size_pct: 7<br>reg_val: 1e-06<br>loss: 0.47882764081160223<br>Learning Rate: 0.0011200000000000001",
          "data_size_pct: 7<br>reg_val: 5.5e-06<br>loss: 0.47866598544021444<br>Learning Rate: 0.00046",
          "data_size_pct: 7<br>reg_val: 1e-05<br>loss: 0.4764381967236598<br>Learning Rate: 0.00193",
          "data_size_pct: 7<br>reg_val: 5.5e-05<br>loss: 0.48471704110503194<br>Learning Rate: 0.0015400000000000001",
          "data_size_pct: 7<br>reg_val: 0.0001<br>loss: 0.4783628050982952<br>Learning Rate: 0.0012400000000000002",
          "data_size_pct: 7<br>reg_val: 0.00055<br>loss: 0.4865232784549395<br>Learning Rate: 0.0013",
          "data_size_pct: 7<br>reg_val: 0.001<br>loss: 0.49500284478068346<br>Learning Rate: 0.00037",
          "data_size_pct: 7<br>reg_val: 0.0055<br>loss: 0.49306291510661443<br>Learning Rate: 0.00067",
          "data_size_pct: 7<br>reg_val: 0.01<br>loss: 0.5928964144488176<br>Learning Rate: 0.004858",
          "data_size_pct: 7<br>reg_val: 0.055<br>loss: 0.6927466990550359<br>Learning Rate: 0.002131",
          "data_size_pct: 7<br>reg_val: 0.1<br>loss: 0.6924071122209231<br>Learning Rate: 0.010741",
          "data_size_pct: 8<br>reg_val: 0.0<br>loss: 0.4607821782926718<br>Learning Rate: 0.00112",
          "data_size_pct: 8<br>reg_val: 5e-07<br>loss: 0.4609370579073826<br>Learning Rate: 0.00046",
          "data_size_pct: 8<br>reg_val: 1e-06<br>loss: 0.46557365482052165<br>Learning Rate: 0.0008500000000000001",
          "data_size_pct: 8<br>reg_val: 5.5e-06<br>loss: 0.4689379658301671<br>Learning Rate: 0.00058",
          "data_size_pct: 8<br>reg_val: 1e-05<br>loss: 0.4640666126211484<br>Learning Rate: 0.0012400000000000002",
          "data_size_pct: 8<br>reg_val: 5.5e-05<br>loss: 0.4652848449349403<br>Learning Rate: 0.00088",
          "data_size_pct: 8<br>reg_val: 0.0001<br>loss: 0.4714355979859829<br>Learning Rate: 0.00061",
          "data_size_pct: 8<br>reg_val: 0.00055<br>loss: 0.4669698222478231<br>Learning Rate: 0.00028000000000000003",
          "data_size_pct: 8<br>reg_val: 0.001<br>loss: 0.4690370026727517<br>Learning Rate: 0.00067",
          "data_size_pct: 8<br>reg_val: 0.0055<br>loss: 0.48108858019113543<br>Learning Rate: 0.00064",
          "data_size_pct: 8<br>reg_val: 0.01<br>loss: 0.5819545864065488<br>Learning Rate: 0.000175",
          "data_size_pct: 8<br>reg_val: 0.055<br>loss: 0.6927371519804001<br>Learning Rate: 0.002056",
          "data_size_pct: 8<br>reg_val: 0.1<br>loss: 0.6913414384921392<br>Learning Rate: 0.004825",
          "data_size_pct: 9<br>reg_val: 0.0<br>loss: 0.46054519275824224<br>Learning Rate: 0.00091",
          "data_size_pct: 9<br>reg_val: 5e-07<br>loss: 0.46227793211738266<br>Learning Rate: 0.0011500000000000002",
          "data_size_pct: 9<br>reg_val: 1e-06<br>loss: 0.4563390112419923<br>Learning Rate: 0.0008500000000000001",
          "data_size_pct: 9<br>reg_val: 5.5e-06<br>loss: 0.45412735611200333<br>Learning Rate: 0.0014500000000000001",
          "data_size_pct: 9<br>reg_val: 1e-05<br>loss: 0.45906366343299543<br>Learning Rate: 0.00064",
          "data_size_pct: 9<br>reg_val: 5.5e-05<br>loss: 0.46675374316672485<br>Learning Rate: 0.00148",
          "data_size_pct: 9<br>reg_val: 0.0001<br>loss: 0.45733347999552887<br>Learning Rate: 0.00148",
          "data_size_pct: 9<br>reg_val: 0.00055<br>loss: 0.4656204885741075<br>Learning Rate: 0.00154",
          "data_size_pct: 9<br>reg_val: 0.001<br>loss: 0.47301637773712474<br>Learning Rate: 0.0004",
          "data_size_pct: 9<br>reg_val: 0.0055<br>loss: 0.47754631881912546<br>Learning Rate: 0.0005800000000000001",
          "data_size_pct: 9<br>reg_val: 0.01<br>loss: 0.5840384743114312<br>Learning Rate: 0.0035680000000000004",
          "data_size_pct: 9<br>reg_val: 0.055<br>loss: 0.6926622685790063<br>Learning Rate: 0.004339",
          "data_size_pct: 9<br>reg_val: 0.1<br>loss: 0.6926365282138189<br>Learning Rate: 0.004375",
          "data_size_pct: 10<br>reg_val: 0.0<br>loss: 0.44953491879006224<br>Learning Rate: 0.00082",
          "data_size_pct: 10<br>reg_val: 5e-07<br>loss: 0.44872433379292487<br>Learning Rate: 0.00055",
          "data_size_pct: 10<br>reg_val: 1e-06<br>loss: 0.45336366285880403<br>Learning Rate: 0.0009400000000000001",
          "data_size_pct: 10<br>reg_val: 5.5e-06<br>loss: 0.4488921896616617<br>Learning Rate: 0.00082",
          "data_size_pct: 10<br>reg_val: 1e-05<br>loss: 0.44815312648812927<br>Learning Rate: 0.00118",
          "data_size_pct: 10<br>reg_val: 5.5e-05<br>loss: 0.4471662640074889<br>Learning Rate: 0.0014500000000000001",
          "data_size_pct: 10<br>reg_val: 0.0001<br>loss: 0.44610734413067493<br>Learning Rate: 0.0009099999999999999",
          "data_size_pct: 10<br>reg_val: 0.00055<br>loss: 0.4529058486223221<br>Learning Rate: 0.0005800000000000001",
          "data_size_pct: 10<br>reg_val: 0.001<br>loss: 0.4525014854967594<br>Learning Rate: 0.00022",
          "data_size_pct: 10<br>reg_val: 0.0055<br>loss: 0.4673196513454119<br>Learning Rate: 0.00055",
          "data_size_pct: 10<br>reg_val: 0.01<br>loss: 0.594488497277101<br>Learning Rate: 0.004018",
          "data_size_pct: 10<br>reg_val: 0.055<br>loss: 0.690292689204216<br>Learning Rate: 0.004432000000000001",
          "data_size_pct: 10<br>reg_val: 0.1<br>loss: 0.6925472072760265<br>Learning Rate: 0.009055",
          "data_size_pct: 20<br>reg_val: 0.0<br>loss: 0.39483428952594596<br>Learning Rate: 0.000355",
          "data_size_pct: 20<br>reg_val: 5e-07<br>loss: 0.3939296383410692<br>Learning Rate: 4.6e-05",
          "data_size_pct: 20<br>reg_val: 1e-06<br>loss: 0.39568620880444844<br>Learning Rate: 0.00036700000000000003",
          "data_size_pct: 20<br>reg_val: 5.5e-06<br>loss: 0.39480086592336494<br>Learning Rate: 0.00049",
          "data_size_pct: 20<br>reg_val: 1e-05<br>loss: 0.396020470286409<br>Learning Rate: 1.3000000000000001e-05",
          "data_size_pct: 20<br>reg_val: 5.5e-05<br>loss: 0.3960685905814171<br>Learning Rate: 8.5e-05",
          "data_size_pct: 20<br>reg_val: 0.0001<br>loss: 0.39500916217764215<br>Learning Rate: 1.8999999999999998e-05",
          "data_size_pct: 20<br>reg_val: 0.00055<br>loss: 0.3960737177977959<br>Learning Rate: 5.5e-05",
          "data_size_pct: 20<br>reg_val: 0.001<br>loss: 0.39848356458048023<br>Learning Rate: 8.8e-05",
          "data_size_pct: 20<br>reg_val: 0.0055<br>loss: 0.4094022982815901<br>Learning Rate: 0.00025",
          "data_size_pct: 20<br>reg_val: 0.01<br>loss: 0.5648902184764545<br>Learning Rate: 0.00043",
          "data_size_pct: 20<br>reg_val: 0.055<br>loss: 0.6919463660319647<br>Learning Rate: 0.012874",
          "data_size_pct: 20<br>reg_val: 0.1<br>loss: 0.6922978413105011<br>Learning Rate: 0.008269",
          "data_size_pct: 30<br>reg_val: 0.0<br>loss: 0.3768753640602032<br>Learning Rate: 0.001015",
          "data_size_pct: 30<br>reg_val: 5e-07<br>loss: 0.37410440636177855<br>Learning Rate: 0.00148",
          "data_size_pct: 30<br>reg_val: 1e-06<br>loss: 0.37513332923253373<br>Learning Rate: 0.001414",
          "data_size_pct: 30<br>reg_val: 5.5e-06<br>loss: 0.3758403965334097<br>Learning Rate: 0.001414",
          "data_size_pct: 30<br>reg_val: 1e-05<br>loss: 0.3746653924634059<br>Learning Rate: 0.001783",
          "data_size_pct: 30<br>reg_val: 5.5e-05<br>loss: 0.37564582889278725<br>Learning Rate: 0.001075",
          "data_size_pct: 30<br>reg_val: 0.0001<br>loss: 0.3726610822975635<br>Learning Rate: 0.0021520000000000003",
          "data_size_pct: 30<br>reg_val: 0.00055<br>loss: 0.376337344845136<br>Learning Rate: 0.001183",
          "data_size_pct: 30<br>reg_val: 0.001<br>loss: 0.3785274245093266<br>Learning Rate: 0.000154",
          "data_size_pct: 30<br>reg_val: 0.0055<br>loss: 0.3889691068977117<br>Learning Rate: 0.000205",
          "data_size_pct: 30<br>reg_val: 0.01<br>loss: 0.5321315043916305<br>Learning Rate: 7.3e-05",
          "data_size_pct: 30<br>reg_val: 0.055<br>loss: 0.6831468717753887<br>Learning Rate: 0.018322",
          "data_size_pct: 30<br>reg_val: 0.1<br>loss: 0.6912273997068404<br>Learning Rate: 0.025684",
          "data_size_pct: 40<br>reg_val: 0.0<br>loss: 0.36295416367550687<br>Learning Rate: 0.0026470000000000005",
          "data_size_pct: 40<br>reg_val: 5e-07<br>loss: 0.3624545518060525<br>Learning Rate: 0.003418",
          "data_size_pct: 40<br>reg_val: 1e-06<br>loss: 0.362532040476799<br>Learning Rate: 0.003049",
          "data_size_pct: 40<br>reg_val: 5.5e-06<br>loss: 0.36165618712703385<br>Learning Rate: 0.003844",
          "data_size_pct: 40<br>reg_val: 1e-05<br>loss: 0.3539781293024619<br>Learning Rate: 0.004752999999999999",
          "data_size_pct: 40<br>reg_val: 5.5e-05<br>loss: 0.3586797937254111<br>Learning Rate: 0.0047740000000000005",
          "data_size_pct: 40<br>reg_val: 0.0001<br>loss: 0.35009281987945234<br>Learning Rate: 0.004876",
          "data_size_pct: 40<br>reg_val: 0.00055<br>loss: 0.3665873764703671<br>Learning Rate: 0.002149",
          "data_size_pct: 40<br>reg_val: 0.001<br>loss: 0.3659661458432674<br>Learning Rate: 0.001018",
          "data_size_pct: 40<br>reg_val: 0.0055<br>loss: 0.37344965457916257<br>Learning Rate: 0.00023500000000000002",
          "data_size_pct: 40<br>reg_val: 0.01<br>loss: 0.5376759743193785<br>Learning Rate: 6.1e-05",
          "data_size_pct: 40<br>reg_val: 0.055<br>loss: 0.6926896585027377<br>Learning Rate: 0.011896",
          "data_size_pct: 40<br>reg_val: 0.1<br>loss: 0.6918428323666255<br>Learning Rate: 0.009115000000000002",
          "data_size_pct: 50<br>reg_val: 0.0<br>loss: 0.3461409385502338<br>Learning Rate: 0.003709",
          "data_size_pct: 50<br>reg_val: 5e-07<br>loss: 0.34302108847846585<br>Learning Rate: 0.006217",
          "data_size_pct: 50<br>reg_val: 1e-06<br>loss: 0.34571763043602305<br>Learning Rate: 0.005788000000000001",
          "data_size_pct: 50<br>reg_val: 5.5e-06<br>loss: 0.34316356721023716<br>Learning Rate: 0.005572",
          "data_size_pct: 50<br>reg_val: 1e-05<br>loss: 0.3393823012088735<br>Learning Rate: 0.006268",
          "data_size_pct: 50<br>reg_val: 5.5e-05<br>loss: 0.33535327290495237<br>Learning Rate: 0.005938",
          "data_size_pct: 50<br>reg_val: 0.0001<br>loss: 0.3381049711753924<br>Learning Rate: 0.005908",
          "data_size_pct: 50<br>reg_val: 0.00055<br>loss: 0.34899570032954214<br>Learning Rate: 0.0024790000000000003",
          "data_size_pct: 50<br>reg_val: 0.001<br>loss: 0.3536873939385016<br>Learning Rate: 0.000481",
          "data_size_pct: 50<br>reg_val: 0.0055<br>loss: 0.3488370450834433<br>Learning Rate: 0.0005350000000000001",
          "data_size_pct: 50<br>reg_val: 0.01<br>loss: 0.5149487855782111<br>Learning Rate: 5.2e-05",
          "data_size_pct: 50<br>reg_val: 0.055<br>loss: 0.6917744207382202<br>Learning Rate: 0.012556000000000001",
          "data_size_pct: 50<br>reg_val: 0.1<br>loss: 0.6903826301296552<br>Learning Rate: 0.012265",
          "data_size_pct: 60<br>reg_val: 0.0<br>loss: 0.32353477043410145<br>Learning Rate: 0.005710000000000001",
          "data_size_pct: 60<br>reg_val: 5e-07<br>loss: 0.32624589287986355<br>Learning Rate: 0.0062050000000000004",
          "data_size_pct: 60<br>reg_val: 1e-06<br>loss: 0.319752679169178<br>Learning Rate: 0.006907",
          "data_size_pct: 60<br>reg_val: 5.5e-06<br>loss: 0.31336063196261726<br>Learning Rate: 0.0075699999999999995",
          "data_size_pct: 60<br>reg_val: 1e-05<br>loss: 0.3205225010837118<br>Learning Rate: 0.00661",
          "data_size_pct: 60<br>reg_val: 5.5e-05<br>loss: 0.31206930480897427<br>Learning Rate: 0.00814",
          "data_size_pct: 60<br>reg_val: 0.0001<br>loss: 0.3121661780898769<br>Learning Rate: 0.007867",
          "data_size_pct: 60<br>reg_val: 0.00055<br>loss: 0.3272202268739541<br>Learning Rate: 0.003508",
          "data_size_pct: 60<br>reg_val: 0.001<br>loss: 0.3337749928918977<br>Learning Rate: 0.0013750000000000001",
          "data_size_pct: 60<br>reg_val: 0.0055<br>loss: 0.32924755778163667<br>Learning Rate: 0.0005470000000000001",
          "data_size_pct: 60<br>reg_val: 0.01<br>loss: 0.5248377774655819<br>Learning Rate: 2.8e-05",
          "data_size_pct: 60<br>reg_val: 0.055<br>loss: 0.6925910080472628<br>Learning Rate: 0.019318000000000002",
          "data_size_pct: 60<br>reg_val: 0.1<br>loss: 0.6926770457625389<br>Learning Rate: 0.011998000000000002",
          "data_size_pct: 70<br>reg_val: 0.0<br>loss: 0.31006798315793277<br>Learning Rate: 0.006070000000000001",
          "data_size_pct: 70<br>reg_val: 5e-07<br>loss: 0.31415635642906026<br>Learning Rate: 0.006667",
          "data_size_pct: 70<br>reg_val: 1e-06<br>loss: 0.3026123406117161<br>Learning Rate: 0.0088",
          "data_size_pct: 70<br>reg_val: 5.5e-06<br>loss: 0.3045816220218936<br>Learning Rate: 0.007837",
          "data_size_pct: 70<br>reg_val: 1e-05<br>loss: 0.3017274181048075<br>Learning Rate: 0.00817",
          "data_size_pct: 70<br>reg_val: 5.5e-05<br>loss: 0.3008006035412351<br>Learning Rate: 0.0088",
          "data_size_pct: 70<br>reg_val: 0.0001<br>loss: 0.2977014700447519<br>Learning Rate: 0.007567",
          "data_size_pct: 70<br>reg_val: 0.00055<br>loss: 0.3171267977977792<br>Learning Rate: 0.0017800000000000001",
          "data_size_pct: 70<br>reg_val: 0.001<br>loss: 0.31928075933208067<br>Learning Rate: 0.00148",
          "data_size_pct: 70<br>reg_val: 0.0055<br>loss: 0.32088526178151366<br>Learning Rate: 0.00041200000000000004",
          "data_size_pct: 70<br>reg_val: 0.01<br>loss: 0.4803744142502546<br>Learning Rate: 4.9e-05",
          "data_size_pct: 70<br>reg_val: 0.055<br>loss: 0.6891132952769597<br>Learning Rate: 0.025468",
          "data_size_pct: 70<br>reg_val: 0.1<br>loss: 0.6845456638932228<br>Learning Rate: 0.028132",
          "data_size_pct: 80<br>reg_val: 0.0<br>loss: 0.2970875490456819<br>Learning Rate: 0.006367",
          "data_size_pct: 80<br>reg_val: 5e-07<br>loss: 0.2919695634891589<br>Learning Rate: 0.006034",
          "data_size_pct: 80<br>reg_val: 1e-06<br>loss: 0.29057660923649864<br>Learning Rate: 0.008167",
          "data_size_pct: 80<br>reg_val: 5.5e-06<br>loss: 0.2960222912331422<br>Learning Rate: 0.007209999999999999",
          "data_size_pct: 80<br>reg_val: 1e-05<br>loss: 0.2890753849223256<br>Learning Rate: 0.0076",
          "data_size_pct: 80<br>reg_val: 5.5e-05<br>loss: 0.2877808578809102<br>Learning Rate: 0.00748",
          "data_size_pct: 80<br>reg_val: 0.0001<br>loss: 0.2843022030343612<br>Learning Rate: 0.0079",
          "data_size_pct: 80<br>reg_val: 0.00055<br>loss: 0.2928152192632357<br>Learning Rate: 0.001807",
          "data_size_pct: 80<br>reg_val: 0.001<br>loss: 0.2980069141834974<br>Learning Rate: 0.001114",
          "data_size_pct: 80<br>reg_val: 0.0055<br>loss: 0.3028749667232235<br>Learning Rate: 0.00035800000000000003",
          "data_size_pct: 80<br>reg_val: 0.01<br>loss: 0.38297268375754356<br>Learning Rate: 4.600000000000001e-05",
          "data_size_pct: 80<br>reg_val: 0.055<br>loss: 0.6925667285919189<br>Learning Rate: 0.011938",
          "data_size_pct: 80<br>reg_val: 0.1<br>loss: 0.6923183742165565<br>Learning Rate: 0.015298",
          "data_size_pct: 90<br>reg_val: 0.0<br>loss: 0.28076828154424827<br>Learning Rate: 0.00577",
          "data_size_pct: 90<br>reg_val: 5e-07<br>loss: 0.27933164980262515<br>Learning Rate: 0.0060999999999999995",
          "data_size_pct: 90<br>reg_val: 1e-06<br>loss: 0.275194427780807<br>Learning Rate: 0.006634",
          "data_size_pct: 90<br>reg_val: 5.5e-06<br>loss: 0.2771260326852401<br>Learning Rate: 0.00847",
          "data_size_pct: 90<br>reg_val: 1e-05<br>loss: 0.2774491782610615<br>Learning Rate: 0.0075699999999999995",
          "data_size_pct: 90<br>reg_val: 5.5e-05<br>loss: 0.2726725081540644<br>Learning Rate: 0.0079",
          "data_size_pct: 90<br>reg_val: 0.0001<br>loss: 0.271554356465737<br>Learning Rate: 0.0075699999999999995",
          "data_size_pct: 90<br>reg_val: 0.00055<br>loss: 0.28061467652519545<br>Learning Rate: 0.0027370000000000003",
          "data_size_pct: 90<br>reg_val: 0.001<br>loss: 0.2829761440679431<br>Learning Rate: 0.000964",
          "data_size_pct: 90<br>reg_val: 0.0055<br>loss: 0.2846084058533112<br>Learning Rate: 0.00031600000000000004",
          "data_size_pct: 90<br>reg_val: 0.01<br>loss: 0.36803871747106315<br>Learning Rate: 4.3e-05",
          "data_size_pct: 90<br>reg_val: 0.055<br>loss: 0.6923100544015566<br>Learning Rate: 0.015097000000000001",
          "data_size_pct: 90<br>reg_val: 0.1<br>loss: 0.6915860849618911<br>Learning Rate: 0.019798",
          "data_size_pct: 100<br>reg_val: 0.0<br>loss: 0.27146354397137956<br>Learning Rate: 0.00724",
          "data_size_pct: 100<br>reg_val: 5e-07<br>loss: 0.27053767847518123<br>Learning Rate: 0.007537",
          "data_size_pct: 100<br>reg_val: 1e-06<br>loss: 0.27238740331182876<br>Learning Rate: 0.00634",
          "data_size_pct: 100<br>reg_val: 5.5e-06<br>loss: 0.2715418578063448<br>Learning Rate: 0.006337",
          "data_size_pct: 100<br>reg_val: 1e-05<br>loss: 0.27106745842844243<br>Learning Rate: 0.0076",
          "data_size_pct: 100<br>reg_val: 5.5e-05<br>loss: 0.27134072436640655<br>Learning Rate: 0.00661",
          "data_size_pct: 100<br>reg_val: 0.0001<br>loss: 0.26623569989576934<br>Learning Rate: 0.006334",
          "data_size_pct: 100<br>reg_val: 0.00055<br>loss: 0.2690502793093522<br>Learning Rate: 0.003007",
          "data_size_pct: 100<br>reg_val: 0.001<br>loss: 0.2721613420173526<br>Learning Rate: 0.001144",
          "data_size_pct: 100<br>reg_val: 0.0055<br>loss: 0.27162793272485336<br>Learning Rate: 0.00028300000000000005",
          "data_size_pct: 100<br>reg_val: 0.01<br>loss: 0.45807753733048834<br>Learning Rate: 4e-05",
          "data_size_pct: 100<br>reg_val: 0.055<br>loss: 0.6899328940113385<br>Learning Rate: 0.021862",
          "data_size_pct: 100<br>reg_val: 0.1<br>loss: 0.6914100556572278<br>Learning Rate: 0.017155"
         ],
         "marker": {
          "color": [
           0.6581666253010432,
           0.6542377854386966,
           0.6553212486207485,
           0.6560138613979022,
           0.6519740112125874,
           0.6501003796855609,
           0.6522047417362532,
           0.6549923621118069,
           0.6575504075487455,
           0.6714701493581136,
           0.6744793080290158,
           0.6927858612934749,
           0.6926637401183446,
           0.5933529893557231,
           0.5931385990977288,
           0.6012765245636305,
           0.5929482033848763,
           0.5919789568086464,
           0.5980324629445871,
           0.5909631069004535,
           0.5916651115318139,
           0.5972034854690234,
           0.612005858918031,
           0.6401800714929898,
           0.6926901299754779,
           0.6927340441942215,
           0.5761397994558017,
           0.5710081625481447,
           0.5759483127295971,
           0.572860000183185,
           0.5794247765342394,
           0.5727694563567638,
           0.5789720327158768,
           0.5804419896006584,
           0.5771447610855103,
           0.600956768890222,
           0.6501476026078065,
           0.6927574083209038,
           0.6928059950470924,
           0.5346060084303219,
           0.5440779816110929,
           0.5401459895074368,
           0.5479812412957351,
           0.5415326349933942,
           0.5489964440961679,
           0.5503341896335283,
           0.5507821649809678,
           0.5640823223690192,
           0.6118499975899855,
           0.6518168269097805,
           0.6925590170423189,
           0.6924329778552055,
           0.5032687005897363,
           0.5114081205427646,
           0.5066953108708063,
           0.5119637344777584,
           0.5050825086732705,
           0.5025759569307168,
           0.5055506813029448,
           0.5109780052800973,
           0.5157178960740566,
           0.5553161309659481,
           0.6627806815505027,
           0.692685031692187,
           0.6926976324121158,
           0.4929598865409692,
           0.49484785373012224,
           0.491565449933211,
           0.5020668937762578,
           0.49764983162283893,
           0.5083393233021101,
           0.49738061582048737,
           0.4973147771755854,
           0.5056587937474251,
           0.5764315586288771,
           0.6872516894340515,
           0.6926926989356677,
           0.6922258852918942,
           0.47589851483702655,
           0.47850306406617166,
           0.47882764081160223,
           0.47866598544021444,
           0.4764381967236598,
           0.48471704110503194,
           0.4783628050982952,
           0.4865232784549395,
           0.49500284478068346,
           0.49306291510661443,
           0.5928964144488176,
           0.6927466990550359,
           0.6924071122209231,
           0.4607821782926718,
           0.4609370579073826,
           0.46557365482052165,
           0.4689379658301671,
           0.4640666126211484,
           0.4652848449349403,
           0.4714355979859829,
           0.4669698222478231,
           0.4690370026727517,
           0.48108858019113543,
           0.5819545864065488,
           0.6927371519804001,
           0.6913414384921392,
           0.46054519275824224,
           0.46227793211738266,
           0.4563390112419923,
           0.45412735611200333,
           0.45906366343299543,
           0.46675374316672485,
           0.45733347999552887,
           0.4656204885741075,
           0.47301637773712474,
           0.47754631881912546,
           0.5840384743114312,
           0.6926622685790063,
           0.6926365282138189,
           0.44953491879006224,
           0.44872433379292487,
           0.45336366285880403,
           0.4488921896616617,
           0.44815312648812927,
           0.4471662640074889,
           0.44610734413067493,
           0.4529058486223221,
           0.4525014854967594,
           0.4673196513454119,
           0.594488497277101,
           0.690292689204216,
           0.6925472072760265,
           0.39483428952594596,
           0.3939296383410692,
           0.39568620880444844,
           0.39480086592336494,
           0.396020470286409,
           0.3960685905814171,
           0.39500916217764215,
           0.3960737177977959,
           0.39848356458048023,
           0.4094022982815901,
           0.5648902184764545,
           0.6919463660319647,
           0.6922978413105011,
           0.3768753640602032,
           0.37410440636177855,
           0.37513332923253373,
           0.3758403965334097,
           0.3746653924634059,
           0.37564582889278725,
           0.3726610822975635,
           0.376337344845136,
           0.3785274245093266,
           0.3889691068977117,
           0.5321315043916305,
           0.6831468717753887,
           0.6912273997068404,
           0.36295416367550687,
           0.3624545518060525,
           0.362532040476799,
           0.36165618712703385,
           0.3539781293024619,
           0.3586797937254111,
           0.35009281987945234,
           0.3665873764703671,
           0.3659661458432674,
           0.37344965457916257,
           0.5376759743193785,
           0.6926896585027377,
           0.6918428323666255,
           0.3461409385502338,
           0.34302108847846585,
           0.34571763043602305,
           0.34316356721023716,
           0.3393823012088735,
           0.33535327290495237,
           0.3381049711753924,
           0.34899570032954214,
           0.3536873939385016,
           0.3488370450834433,
           0.5149487855782111,
           0.6917744207382202,
           0.6903826301296552,
           0.32353477043410145,
           0.32624589287986355,
           0.319752679169178,
           0.31336063196261726,
           0.3205225010837118,
           0.31206930480897427,
           0.3121661780898769,
           0.3272202268739541,
           0.3337749928918977,
           0.32924755778163667,
           0.5248377774655819,
           0.6925910080472628,
           0.6926770457625389,
           0.31006798315793277,
           0.31415635642906026,
           0.3026123406117161,
           0.3045816220218936,
           0.3017274181048075,
           0.3008006035412351,
           0.2977014700447519,
           0.3171267977977792,
           0.31928075933208067,
           0.32088526178151366,
           0.4803744142502546,
           0.6891132952769597,
           0.6845456638932228,
           0.2970875490456819,
           0.2919695634891589,
           0.29057660923649864,
           0.2960222912331422,
           0.2890753849223256,
           0.2877808578809102,
           0.2843022030343612,
           0.2928152192632357,
           0.2980069141834974,
           0.3028749667232235,
           0.38297268375754356,
           0.6925667285919189,
           0.6923183742165565,
           0.28076828154424827,
           0.27933164980262515,
           0.275194427780807,
           0.2771260326852401,
           0.2774491782610615,
           0.2726725081540644,
           0.271554356465737,
           0.28061467652519545,
           0.2829761440679431,
           0.2846084058533112,
           0.36803871747106315,
           0.6923100544015566,
           0.6915860849618911,
           0.27146354397137956,
           0.27053767847518123,
           0.27238740331182876,
           0.2715418578063448,
           0.27106745842844243,
           0.27134072436640655,
           0.26623569989576934,
           0.2690502793093522,
           0.2721613420173526,
           0.27162793272485336,
           0.45807753733048834,
           0.6899328940113385,
           0.6914100556572278
          ],
          "colorscale": [
           [
            0,
            "rgb(0,0,131)"
           ],
           [
            0.2,
            "rgb(0,60,170)"
           ],
           [
            0.4,
            "rgb(5,255,255)"
           ],
           [
            0.6,
            "rgb(255,255,0)"
           ],
           [
            0.8,
            "rgb(250,0,0)"
           ],
           [
            1,
            "rgb(128,0,0)"
           ]
          ],
          "opacity": 0.9,
          "size": 5
         },
         "mode": "markers",
         "type": "scatter3d",
         "x": [
          1,
          1,
          1,
          1,
          1,
          1,
          1,
          1,
          1,
          1,
          1,
          1,
          1,
          2,
          2,
          2,
          2,
          2,
          2,
          2,
          2,
          2,
          2,
          2,
          2,
          2,
          3,
          3,
          3,
          3,
          3,
          3,
          3,
          3,
          3,
          3,
          3,
          3,
          3,
          4,
          4,
          4,
          4,
          4,
          4,
          4,
          4,
          4,
          4,
          4,
          4,
          4,
          5,
          5,
          5,
          5,
          5,
          5,
          5,
          5,
          5,
          5,
          5,
          5,
          5,
          6,
          6,
          6,
          6,
          6,
          6,
          6,
          6,
          6,
          6,
          6,
          6,
          6,
          7,
          7,
          7,
          7,
          7,
          7,
          7,
          7,
          7,
          7,
          7,
          7,
          7,
          8,
          8,
          8,
          8,
          8,
          8,
          8,
          8,
          8,
          8,
          8,
          8,
          8,
          9,
          9,
          9,
          9,
          9,
          9,
          9,
          9,
          9,
          9,
          9,
          9,
          9,
          10,
          10,
          10,
          10,
          10,
          10,
          10,
          10,
          10,
          10,
          10,
          10,
          10,
          20,
          20,
          20,
          20,
          20,
          20,
          20,
          20,
          20,
          20,
          20,
          20,
          20,
          30,
          30,
          30,
          30,
          30,
          30,
          30,
          30,
          30,
          30,
          30,
          30,
          30,
          40,
          40,
          40,
          40,
          40,
          40,
          40,
          40,
          40,
          40,
          40,
          40,
          40,
          50,
          50,
          50,
          50,
          50,
          50,
          50,
          50,
          50,
          50,
          50,
          50,
          50,
          60,
          60,
          60,
          60,
          60,
          60,
          60,
          60,
          60,
          60,
          60,
          60,
          60,
          70,
          70,
          70,
          70,
          70,
          70,
          70,
          70,
          70,
          70,
          70,
          70,
          70,
          80,
          80,
          80,
          80,
          80,
          80,
          80,
          80,
          80,
          80,
          80,
          80,
          80,
          90,
          90,
          90,
          90,
          90,
          90,
          90,
          90,
          90,
          90,
          90,
          90,
          90,
          100,
          100,
          100,
          100,
          100,
          100,
          100,
          100,
          100,
          100,
          100,
          100,
          100
         ],
         "y": [
          0,
          5e-7,
          0.000001,
          0.0000055,
          0.00001,
          0.000055,
          0.0001,
          0.00055,
          0.001,
          0.0055,
          0.01,
          0.055,
          0.1,
          0,
          5e-7,
          0.000001,
          0.0000055,
          0.00001,
          0.000055,
          0.0001,
          0.00055,
          0.001,
          0.0055,
          0.01,
          0.055,
          0.1,
          0,
          5e-7,
          0.000001,
          0.0000055,
          0.00001,
          0.000055,
          0.0001,
          0.00055,
          0.001,
          0.0055,
          0.01,
          0.055,
          0.1,
          0,
          5e-7,
          0.000001,
          0.0000055,
          0.00001,
          0.000055,
          0.0001,
          0.00055,
          0.001,
          0.0055,
          0.01,
          0.055,
          0.1,
          0,
          5e-7,
          0.000001,
          0.0000055,
          0.00001,
          0.000055,
          0.0001,
          0.00055,
          0.001,
          0.0055,
          0.01,
          0.055,
          0.1,
          0,
          5e-7,
          0.000001,
          0.0000055,
          0.00001,
          0.000055,
          0.0001,
          0.00055,
          0.001,
          0.0055,
          0.01,
          0.055,
          0.1,
          0,
          5e-7,
          0.000001,
          0.0000055,
          0.00001,
          0.000055,
          0.0001,
          0.00055,
          0.001,
          0.0055,
          0.01,
          0.055,
          0.1,
          0,
          5e-7,
          0.000001,
          0.0000055,
          0.00001,
          0.000055,
          0.0001,
          0.00055,
          0.001,
          0.0055,
          0.01,
          0.055,
          0.1,
          0,
          5e-7,
          0.000001,
          0.0000055,
          0.00001,
          0.000055,
          0.0001,
          0.00055,
          0.001,
          0.0055,
          0.01,
          0.055,
          0.1,
          0,
          5e-7,
          0.000001,
          0.0000055,
          0.00001,
          0.000055,
          0.0001,
          0.00055,
          0.001,
          0.0055,
          0.01,
          0.055,
          0.1,
          0,
          5e-7,
          0.000001,
          0.0000055,
          0.00001,
          0.000055,
          0.0001,
          0.00055,
          0.001,
          0.0055,
          0.01,
          0.055,
          0.1,
          0,
          5e-7,
          0.000001,
          0.0000055,
          0.00001,
          0.000055,
          0.0001,
          0.00055,
          0.001,
          0.0055,
          0.01,
          0.055,
          0.1,
          0,
          5e-7,
          0.000001,
          0.0000055,
          0.00001,
          0.000055,
          0.0001,
          0.00055,
          0.001,
          0.0055,
          0.01,
          0.055,
          0.1,
          0,
          5e-7,
          0.000001,
          0.0000055,
          0.00001,
          0.000055,
          0.0001,
          0.00055,
          0.001,
          0.0055,
          0.01,
          0.055,
          0.1,
          0,
          5e-7,
          0.000001,
          0.0000055,
          0.00001,
          0.000055,
          0.0001,
          0.00055,
          0.001,
          0.0055,
          0.01,
          0.055,
          0.1,
          0,
          5e-7,
          0.000001,
          0.0000055,
          0.00001,
          0.000055,
          0.0001,
          0.00055,
          0.001,
          0.0055,
          0.01,
          0.055,
          0.1,
          0,
          5e-7,
          0.000001,
          0.0000055,
          0.00001,
          0.000055,
          0.0001,
          0.00055,
          0.001,
          0.0055,
          0.01,
          0.055,
          0.1,
          0,
          5e-7,
          0.000001,
          0.0000055,
          0.00001,
          0.000055,
          0.0001,
          0.00055,
          0.001,
          0.0055,
          0.01,
          0.055,
          0.1,
          0,
          5e-7,
          0.000001,
          0.0000055,
          0.00001,
          0.000055,
          0.0001,
          0.00055,
          0.001,
          0.0055,
          0.01,
          0.055,
          0.1
         ],
         "z": [
          0.6581666253010432,
          0.6542377854386966,
          0.6553212486207485,
          0.6560138613979022,
          0.6519740112125874,
          0.6501003796855609,
          0.6522047417362532,
          0.6549923621118069,
          0.6575504075487455,
          0.6714701493581136,
          0.6744793080290158,
          0.6927858612934749,
          0.6926637401183446,
          0.5933529893557231,
          0.5931385990977288,
          0.6012765245636305,
          0.5929482033848763,
          0.5919789568086464,
          0.5980324629445871,
          0.5909631069004535,
          0.5916651115318139,
          0.5972034854690234,
          0.612005858918031,
          0.6401800714929898,
          0.6926901299754779,
          0.6927340441942215,
          0.5761397994558017,
          0.5710081625481447,
          0.5759483127295971,
          0.572860000183185,
          0.5794247765342394,
          0.5727694563567638,
          0.5789720327158768,
          0.5804419896006584,
          0.5771447610855103,
          0.600956768890222,
          0.6501476026078065,
          0.6927574083209038,
          0.6928059950470924,
          0.5346060084303219,
          0.5440779816110929,
          0.5401459895074368,
          0.5479812412957351,
          0.5415326349933942,
          0.5489964440961679,
          0.5503341896335283,
          0.5507821649809678,
          0.5640823223690192,
          0.6118499975899855,
          0.6518168269097805,
          0.6925590170423189,
          0.6924329778552055,
          0.5032687005897363,
          0.5114081205427646,
          0.5066953108708063,
          0.5119637344777584,
          0.5050825086732705,
          0.5025759569307168,
          0.5055506813029448,
          0.5109780052800973,
          0.5157178960740566,
          0.5553161309659481,
          0.6627806815505027,
          0.692685031692187,
          0.6926976324121158,
          0.4929598865409692,
          0.49484785373012224,
          0.491565449933211,
          0.5020668937762578,
          0.49764983162283893,
          0.5083393233021101,
          0.49738061582048737,
          0.4973147771755854,
          0.5056587937474251,
          0.5764315586288771,
          0.6872516894340515,
          0.6926926989356677,
          0.6922258852918942,
          0.47589851483702655,
          0.47850306406617166,
          0.47882764081160223,
          0.47866598544021444,
          0.4764381967236598,
          0.48471704110503194,
          0.4783628050982952,
          0.4865232784549395,
          0.49500284478068346,
          0.49306291510661443,
          0.5928964144488176,
          0.6927466990550359,
          0.6924071122209231,
          0.4607821782926718,
          0.4609370579073826,
          0.46557365482052165,
          0.4689379658301671,
          0.4640666126211484,
          0.4652848449349403,
          0.4714355979859829,
          0.4669698222478231,
          0.4690370026727517,
          0.48108858019113543,
          0.5819545864065488,
          0.6927371519804001,
          0.6913414384921392,
          0.46054519275824224,
          0.46227793211738266,
          0.4563390112419923,
          0.45412735611200333,
          0.45906366343299543,
          0.46675374316672485,
          0.45733347999552887,
          0.4656204885741075,
          0.47301637773712474,
          0.47754631881912546,
          0.5840384743114312,
          0.6926622685790063,
          0.6926365282138189,
          0.44953491879006224,
          0.44872433379292487,
          0.45336366285880403,
          0.4488921896616617,
          0.44815312648812927,
          0.4471662640074889,
          0.44610734413067493,
          0.4529058486223221,
          0.4525014854967594,
          0.4673196513454119,
          0.594488497277101,
          0.690292689204216,
          0.6925472072760265,
          0.39483428952594596,
          0.3939296383410692,
          0.39568620880444844,
          0.39480086592336494,
          0.396020470286409,
          0.3960685905814171,
          0.39500916217764215,
          0.3960737177977959,
          0.39848356458048023,
          0.4094022982815901,
          0.5648902184764545,
          0.6919463660319647,
          0.6922978413105011,
          0.3768753640602032,
          0.37410440636177855,
          0.37513332923253373,
          0.3758403965334097,
          0.3746653924634059,
          0.37564582889278725,
          0.3726610822975635,
          0.376337344845136,
          0.3785274245093266,
          0.3889691068977117,
          0.5321315043916305,
          0.6831468717753887,
          0.6912273997068404,
          0.36295416367550687,
          0.3624545518060525,
          0.362532040476799,
          0.36165618712703385,
          0.3539781293024619,
          0.3586797937254111,
          0.35009281987945234,
          0.3665873764703671,
          0.3659661458432674,
          0.37344965457916257,
          0.5376759743193785,
          0.6926896585027377,
          0.6918428323666255,
          0.3461409385502338,
          0.34302108847846585,
          0.34571763043602305,
          0.34316356721023716,
          0.3393823012088735,
          0.33535327290495237,
          0.3381049711753924,
          0.34899570032954214,
          0.3536873939385016,
          0.3488370450834433,
          0.5149487855782111,
          0.6917744207382202,
          0.6903826301296552,
          0.32353477043410145,
          0.32624589287986355,
          0.319752679169178,
          0.31336063196261726,
          0.3205225010837118,
          0.31206930480897427,
          0.3121661780898769,
          0.3272202268739541,
          0.3337749928918977,
          0.32924755778163667,
          0.5248377774655819,
          0.6925910080472628,
          0.6926770457625389,
          0.31006798315793277,
          0.31415635642906026,
          0.3026123406117161,
          0.3045816220218936,
          0.3017274181048075,
          0.3008006035412351,
          0.2977014700447519,
          0.3171267977977792,
          0.31928075933208067,
          0.32088526178151366,
          0.4803744142502546,
          0.6891132952769597,
          0.6845456638932228,
          0.2970875490456819,
          0.2919695634891589,
          0.29057660923649864,
          0.2960222912331422,
          0.2890753849223256,
          0.2877808578809102,
          0.2843022030343612,
          0.2928152192632357,
          0.2980069141834974,
          0.3028749667232235,
          0.38297268375754356,
          0.6925667285919189,
          0.6923183742165565,
          0.28076828154424827,
          0.27933164980262515,
          0.275194427780807,
          0.2771260326852401,
          0.2774491782610615,
          0.2726725081540644,
          0.271554356465737,
          0.28061467652519545,
          0.2829761440679431,
          0.2846084058533112,
          0.36803871747106315,
          0.6923100544015566,
          0.6915860849618911,
          0.27146354397137956,
          0.27053767847518123,
          0.27238740331182876,
          0.2715418578063448,
          0.27106745842844243,
          0.27134072436640655,
          0.26623569989576934,
          0.2690502793093522,
          0.2721613420173526,
          0.27162793272485336,
          0.45807753733048834,
          0.6899328940113385,
          0.6914100556572278
         ]
        },
        {
         "hoverinfo": "text",
         "hovertext": "Minimum loss: 0.26623569989576934<br>data_size_pct: 100.0<br>reg_val: 0.0001<br>Learning Rate: 0.006334",
         "marker": {
          "color": "red",
          "size": 8
         },
         "mode": "markers",
         "type": "scatter3d",
         "x": [
          100
         ],
         "y": [
          0.0001
         ],
         "z": [
          0.26623569989576934
         ]
        }
       ],
       "layout": {
        "height": 600,
        "margin": {
         "b": 50,
         "l": 0.5,
         "r": 0.5,
         "t": 50
        },
        "scene": {
         "aspectratio": {
          "x": 1.25,
          "y": 1,
          "z": 1
         },
         "xaxis": {
          "title": {
           "text": "data_size_pct"
          },
          "type": "linear"
         },
         "yaxis": {
          "title": {
           "text": "reg_val"
          },
          "type": "log"
         },
         "zaxis": {
          "title": {
           "text": "loss"
          },
          "type": "linear"
         }
        },
        "template": {
         "data": {
          "bar": [
           {
            "error_x": {
             "color": "#2a3f5f"
            },
            "error_y": {
             "color": "#2a3f5f"
            },
            "marker": {
             "line": {
              "color": "#E5ECF6",
              "width": 0.5
             },
             "pattern": {
              "fillmode": "overlay",
              "size": 10,
              "solidity": 0.2
             }
            },
            "type": "bar"
           }
          ],
          "barpolar": [
           {
            "marker": {
             "line": {
              "color": "#E5ECF6",
              "width": 0.5
             },
             "pattern": {
              "fillmode": "overlay",
              "size": 10,
              "solidity": 0.2
             }
            },
            "type": "barpolar"
           }
          ],
          "carpet": [
           {
            "aaxis": {
             "endlinecolor": "#2a3f5f",
             "gridcolor": "white",
             "linecolor": "white",
             "minorgridcolor": "white",
             "startlinecolor": "#2a3f5f"
            },
            "baxis": {
             "endlinecolor": "#2a3f5f",
             "gridcolor": "white",
             "linecolor": "white",
             "minorgridcolor": "white",
             "startlinecolor": "#2a3f5f"
            },
            "type": "carpet"
           }
          ],
          "choropleth": [
           {
            "colorbar": {
             "outlinewidth": 0,
             "ticks": ""
            },
            "type": "choropleth"
           }
          ],
          "contour": [
           {
            "colorbar": {
             "outlinewidth": 0,
             "ticks": ""
            },
            "colorscale": [
             [
              0,
              "#0d0887"
             ],
             [
              0.1111111111111111,
              "#46039f"
             ],
             [
              0.2222222222222222,
              "#7201a8"
             ],
             [
              0.3333333333333333,
              "#9c179e"
             ],
             [
              0.4444444444444444,
              "#bd3786"
             ],
             [
              0.5555555555555556,
              "#d8576b"
             ],
             [
              0.6666666666666666,
              "#ed7953"
             ],
             [
              0.7777777777777778,
              "#fb9f3a"
             ],
             [
              0.8888888888888888,
              "#fdca26"
             ],
             [
              1,
              "#f0f921"
             ]
            ],
            "type": "contour"
           }
          ],
          "contourcarpet": [
           {
            "colorbar": {
             "outlinewidth": 0,
             "ticks": ""
            },
            "type": "contourcarpet"
           }
          ],
          "heatmap": [
           {
            "colorbar": {
             "outlinewidth": 0,
             "ticks": ""
            },
            "colorscale": [
             [
              0,
              "#0d0887"
             ],
             [
              0.1111111111111111,
              "#46039f"
             ],
             [
              0.2222222222222222,
              "#7201a8"
             ],
             [
              0.3333333333333333,
              "#9c179e"
             ],
             [
              0.4444444444444444,
              "#bd3786"
             ],
             [
              0.5555555555555556,
              "#d8576b"
             ],
             [
              0.6666666666666666,
              "#ed7953"
             ],
             [
              0.7777777777777778,
              "#fb9f3a"
             ],
             [
              0.8888888888888888,
              "#fdca26"
             ],
             [
              1,
              "#f0f921"
             ]
            ],
            "type": "heatmap"
           }
          ],
          "heatmapgl": [
           {
            "colorbar": {
             "outlinewidth": 0,
             "ticks": ""
            },
            "colorscale": [
             [
              0,
              "#0d0887"
             ],
             [
              0.1111111111111111,
              "#46039f"
             ],
             [
              0.2222222222222222,
              "#7201a8"
             ],
             [
              0.3333333333333333,
              "#9c179e"
             ],
             [
              0.4444444444444444,
              "#bd3786"
             ],
             [
              0.5555555555555556,
              "#d8576b"
             ],
             [
              0.6666666666666666,
              "#ed7953"
             ],
             [
              0.7777777777777778,
              "#fb9f3a"
             ],
             [
              0.8888888888888888,
              "#fdca26"
             ],
             [
              1,
              "#f0f921"
             ]
            ],
            "type": "heatmapgl"
           }
          ],
          "histogram": [
           {
            "marker": {
             "pattern": {
              "fillmode": "overlay",
              "size": 10,
              "solidity": 0.2
             }
            },
            "type": "histogram"
           }
          ],
          "histogram2d": [
           {
            "colorbar": {
             "outlinewidth": 0,
             "ticks": ""
            },
            "colorscale": [
             [
              0,
              "#0d0887"
             ],
             [
              0.1111111111111111,
              "#46039f"
             ],
             [
              0.2222222222222222,
              "#7201a8"
             ],
             [
              0.3333333333333333,
              "#9c179e"
             ],
             [
              0.4444444444444444,
              "#bd3786"
             ],
             [
              0.5555555555555556,
              "#d8576b"
             ],
             [
              0.6666666666666666,
              "#ed7953"
             ],
             [
              0.7777777777777778,
              "#fb9f3a"
             ],
             [
              0.8888888888888888,
              "#fdca26"
             ],
             [
              1,
              "#f0f921"
             ]
            ],
            "type": "histogram2d"
           }
          ],
          "histogram2dcontour": [
           {
            "colorbar": {
             "outlinewidth": 0,
             "ticks": ""
            },
            "colorscale": [
             [
              0,
              "#0d0887"
             ],
             [
              0.1111111111111111,
              "#46039f"
             ],
             [
              0.2222222222222222,
              "#7201a8"
             ],
             [
              0.3333333333333333,
              "#9c179e"
             ],
             [
              0.4444444444444444,
              "#bd3786"
             ],
             [
              0.5555555555555556,
              "#d8576b"
             ],
             [
              0.6666666666666666,
              "#ed7953"
             ],
             [
              0.7777777777777778,
              "#fb9f3a"
             ],
             [
              0.8888888888888888,
              "#fdca26"
             ],
             [
              1,
              "#f0f921"
             ]
            ],
            "type": "histogram2dcontour"
           }
          ],
          "mesh3d": [
           {
            "colorbar": {
             "outlinewidth": 0,
             "ticks": ""
            },
            "type": "mesh3d"
           }
          ],
          "parcoords": [
           {
            "line": {
             "colorbar": {
              "outlinewidth": 0,
              "ticks": ""
             }
            },
            "type": "parcoords"
           }
          ],
          "pie": [
           {
            "automargin": true,
            "type": "pie"
           }
          ],
          "scatter": [
           {
            "fillpattern": {
             "fillmode": "overlay",
             "size": 10,
             "solidity": 0.2
            },
            "type": "scatter"
           }
          ],
          "scatter3d": [
           {
            "line": {
             "colorbar": {
              "outlinewidth": 0,
              "ticks": ""
             }
            },
            "marker": {
             "colorbar": {
              "outlinewidth": 0,
              "ticks": ""
             }
            },
            "type": "scatter3d"
           }
          ],
          "scattercarpet": [
           {
            "marker": {
             "colorbar": {
              "outlinewidth": 0,
              "ticks": ""
             }
            },
            "type": "scattercarpet"
           }
          ],
          "scattergeo": [
           {
            "marker": {
             "colorbar": {
              "outlinewidth": 0,
              "ticks": ""
             }
            },
            "type": "scattergeo"
           }
          ],
          "scattergl": [
           {
            "marker": {
             "colorbar": {
              "outlinewidth": 0,
              "ticks": ""
             }
            },
            "type": "scattergl"
           }
          ],
          "scattermapbox": [
           {
            "marker": {
             "colorbar": {
              "outlinewidth": 0,
              "ticks": ""
             }
            },
            "type": "scattermapbox"
           }
          ],
          "scatterpolar": [
           {
            "marker": {
             "colorbar": {
              "outlinewidth": 0,
              "ticks": ""
             }
            },
            "type": "scatterpolar"
           }
          ],
          "scatterpolargl": [
           {
            "marker": {
             "colorbar": {
              "outlinewidth": 0,
              "ticks": ""
             }
            },
            "type": "scatterpolargl"
           }
          ],
          "scatterternary": [
           {
            "marker": {
             "colorbar": {
              "outlinewidth": 0,
              "ticks": ""
             }
            },
            "type": "scatterternary"
           }
          ],
          "surface": [
           {
            "colorbar": {
             "outlinewidth": 0,
             "ticks": ""
            },
            "colorscale": [
             [
              0,
              "#0d0887"
             ],
             [
              0.1111111111111111,
              "#46039f"
             ],
             [
              0.2222222222222222,
              "#7201a8"
             ],
             [
              0.3333333333333333,
              "#9c179e"
             ],
             [
              0.4444444444444444,
              "#bd3786"
             ],
             [
              0.5555555555555556,
              "#d8576b"
             ],
             [
              0.6666666666666666,
              "#ed7953"
             ],
             [
              0.7777777777777778,
              "#fb9f3a"
             ],
             [
              0.8888888888888888,
              "#fdca26"
             ],
             [
              1,
              "#f0f921"
             ]
            ],
            "type": "surface"
           }
          ],
          "table": [
           {
            "cells": {
             "fill": {
              "color": "#EBF0F8"
             },
             "line": {
              "color": "white"
             }
            },
            "header": {
             "fill": {
              "color": "#C8D4E3"
             },
             "line": {
              "color": "white"
             }
            },
            "type": "table"
           }
          ]
         },
         "layout": {
          "annotationdefaults": {
           "arrowcolor": "#2a3f5f",
           "arrowhead": 0,
           "arrowwidth": 1
          },
          "autotypenumbers": "strict",
          "coloraxis": {
           "colorbar": {
            "outlinewidth": 0,
            "ticks": ""
           }
          },
          "colorscale": {
           "diverging": [
            [
             0,
             "#8e0152"
            ],
            [
             0.1,
             "#c51b7d"
            ],
            [
             0.2,
             "#de77ae"
            ],
            [
             0.3,
             "#f1b6da"
            ],
            [
             0.4,
             "#fde0ef"
            ],
            [
             0.5,
             "#f7f7f7"
            ],
            [
             0.6,
             "#e6f5d0"
            ],
            [
             0.7,
             "#b8e186"
            ],
            [
             0.8,
             "#7fbc41"
            ],
            [
             0.9,
             "#4d9221"
            ],
            [
             1,
             "#276419"
            ]
           ],
           "sequential": [
            [
             0,
             "#0d0887"
            ],
            [
             0.1111111111111111,
             "#46039f"
            ],
            [
             0.2222222222222222,
             "#7201a8"
            ],
            [
             0.3333333333333333,
             "#9c179e"
            ],
            [
             0.4444444444444444,
             "#bd3786"
            ],
            [
             0.5555555555555556,
             "#d8576b"
            ],
            [
             0.6666666666666666,
             "#ed7953"
            ],
            [
             0.7777777777777778,
             "#fb9f3a"
            ],
            [
             0.8888888888888888,
             "#fdca26"
            ],
            [
             1,
             "#f0f921"
            ]
           ],
           "sequentialminus": [
            [
             0,
             "#0d0887"
            ],
            [
             0.1111111111111111,
             "#46039f"
            ],
            [
             0.2222222222222222,
             "#7201a8"
            ],
            [
             0.3333333333333333,
             "#9c179e"
            ],
            [
             0.4444444444444444,
             "#bd3786"
            ],
            [
             0.5555555555555556,
             "#d8576b"
            ],
            [
             0.6666666666666666,
             "#ed7953"
            ],
            [
             0.7777777777777778,
             "#fb9f3a"
            ],
            [
             0.8888888888888888,
             "#fdca26"
            ],
            [
             1,
             "#f0f921"
            ]
           ]
          },
          "colorway": [
           "#636efa",
           "#EF553B",
           "#00cc96",
           "#ab63fa",
           "#FFA15A",
           "#19d3f3",
           "#FF6692",
           "#B6E880",
           "#FF97FF",
           "#FECB52"
          ],
          "font": {
           "color": "#2a3f5f"
          },
          "geo": {
           "bgcolor": "white",
           "lakecolor": "white",
           "landcolor": "#E5ECF6",
           "showlakes": true,
           "showland": true,
           "subunitcolor": "white"
          },
          "hoverlabel": {
           "align": "left"
          },
          "hovermode": "closest",
          "mapbox": {
           "style": "light"
          },
          "paper_bgcolor": "white",
          "plot_bgcolor": "#E5ECF6",
          "polar": {
           "angularaxis": {
            "gridcolor": "white",
            "linecolor": "white",
            "ticks": ""
           },
           "bgcolor": "#E5ECF6",
           "radialaxis": {
            "gridcolor": "white",
            "linecolor": "white",
            "ticks": ""
           }
          },
          "scene": {
           "xaxis": {
            "backgroundcolor": "#E5ECF6",
            "gridcolor": "white",
            "gridwidth": 2,
            "linecolor": "white",
            "showbackground": true,
            "ticks": "",
            "zerolinecolor": "white"
           },
           "yaxis": {
            "backgroundcolor": "#E5ECF6",
            "gridcolor": "white",
            "gridwidth": 2,
            "linecolor": "white",
            "showbackground": true,
            "ticks": "",
            "zerolinecolor": "white"
           },
           "zaxis": {
            "backgroundcolor": "#E5ECF6",
            "gridcolor": "white",
            "gridwidth": 2,
            "linecolor": "white",
            "showbackground": true,
            "ticks": "",
            "zerolinecolor": "white"
           }
          },
          "shapedefaults": {
           "line": {
            "color": "#2a3f5f"
           }
          },
          "ternary": {
           "aaxis": {
            "gridcolor": "white",
            "linecolor": "white",
            "ticks": ""
           },
           "baxis": {
            "gridcolor": "white",
            "linecolor": "white",
            "ticks": ""
           },
           "bgcolor": "#E5ECF6",
           "caxis": {
            "gridcolor": "white",
            "linecolor": "white",
            "ticks": ""
           }
          },
          "title": {
           "x": 0.05
          },
          "xaxis": {
           "automargin": true,
           "gridcolor": "white",
           "linecolor": "white",
           "ticks": "",
           "title": {
            "standoff": 15
           },
           "zerolinecolor": "white",
           "zerolinewidth": 2
          },
          "yaxis": {
           "automargin": true,
           "gridcolor": "white",
           "linecolor": "white",
           "ticks": "",
           "title": {
            "standoff": 15
           },
           "zerolinecolor": "white",
           "zerolinewidth": 2
          }
         }
        },
        "title": {
         "text": "SPLICE. L2. loss as a function of data_size_pct and reg_val)"
        },
        "width": 800
       }
      }
     },
     "metadata": {},
     "output_type": "display_data"
    }
   ],
   "source": [
    "plot_3d = plot_3d_surface_with_avg(dataset, 'data_size_pct', 'reg_val', 'loss', log_x=False, log_y=log_scale, log_z=False)"
   ]
  },
  {
   "cell_type": "code",
   "execution_count": 47,
   "metadata": {},
   "outputs": [],
   "source": [
    "def plot_mean_loss(df, x_axis='data_size_pct', group_by='reg_val', log_x=False):\n",
    "    \"\"\"\n",
    "    Plots the mean loss as a function of x_axis for each unique group_by value using Plotly subplots.\n",
    "    Each marker in the scatter plot is accompanied by an error bar representing the spread of the data.\n",
    "\n",
    "    Parameters:\n",
    "    - df: pandas DataFrame containing the data.\n",
    "    - x_axis: column name to use for the x-axis ('data_size_pct' or 'reg_val').\n",
    "    - group_by: column name to group the data by ('reg_val' or 'data_size_pct').\n",
    "    - log_x: boolean indicating whether to use a log scale for the x-axis.\n",
    "\n",
    "    Returns:\n",
    "    - Plotly Figure object.\n",
    "    \"\"\"\n",
    "\n",
    "    # Validate inputs\n",
    "    if x_axis not in df.columns:\n",
    "        raise ValueError(f\"x_axis '{x_axis}' not found in DataFrame columns.\")\n",
    "    if group_by not in df.columns:\n",
    "        raise ValueError(f\"group_by '{group_by}' not found in DataFrame columns.\")\n",
    "    if x_axis == group_by:\n",
    "        raise ValueError(\"x_axis and group_by must be different columns.\")\n",
    "\n",
    "    # Make a copy of the DataFrame to avoid modifying the original data\n",
    "    df_plot = df.copy()\n",
    "\n",
    "    # Option 2: Adjust x_axis to be positive by shifting if log_x is True\n",
    "    shift_value = 0  # Initialize shift value\n",
    "    if log_x:\n",
    "        min_x = df_plot[x_axis].min()\n",
    "        if min_x <= 0:\n",
    "            shift_value = abs(min_x) + 1e-6  # Small constant to ensure positivity\n",
    "            df_plot[x_axis] = df_plot[x_axis] + shift_value\n",
    "            print(f\"Shifted '{x_axis}' by {shift_value} to make all values positive for log scale.\")\n",
    "\n",
    "    # Compute mean and standard deviation of loss grouped by 'group_by' and 'x_axis'\n",
    "    grouped = df_plot.groupby([group_by, x_axis])[['loss', 'lr']].agg({'loss': ['mean', 'std'], 'lr': 'mean'}).reset_index()\n",
    "    grouped.columns = [group_by, x_axis, 'loss_mean', 'loss_std', 'lr_mean']\n",
    "\n",
    "\n",
    "    # Get unique groups\n",
    "    unique_groups = sorted(grouped[group_by].unique())\n",
    "\n",
    "    # Determine number of subplots (n rows x 2 columns)\n",
    "    n = len(unique_groups)\n",
    "    cols = 2\n",
    "    rows = math.ceil(n / cols)\n",
    "\n",
    "    # Create subplot titles\n",
    "    subplot_titles = [f\"{group_by} = {g}\" for g in unique_groups]\n",
    "\n",
    "    # Create subplots\n",
    "    fig = make_subplots(rows=rows, cols=cols, subplot_titles=subplot_titles)\n",
    "\n",
    "    # Determine global x and y ranges\n",
    "    x_min = grouped[x_axis].min()\n",
    "    x_max = grouped[x_axis].max()\n",
    "    y_min = grouped['loss_mean'].min()\n",
    "    y_max = grouped['loss_mean'].max()\n",
    "\n",
    "    # Add padding (5% of the range on each side for x, 15% for y)\n",
    "    x_padding = (x_max - x_min) * 0.05 if x_max != x_min else 1\n",
    "    y_padding = (y_max - y_min) * 0.15 if y_max != y_min else 1\n",
    "\n",
    "    # Calculate final ranges\n",
    "    if log_x:\n",
    "        # For log scales, padding should be multiplicative\n",
    "        x_range = [x_min / 1.1, x_max * 1.1]\n",
    "    else:\n",
    "        x_range = [x_min - x_padding, x_max + x_padding]\n",
    "    y_range = [y_min - y_padding, y_max + y_padding]\n",
    "\n",
    "    for i, group in enumerate(unique_groups):\n",
    "        row = i // cols + 1\n",
    "        col = i % cols + 1\n",
    "        df_group = grouped[grouped[group_by] == group].sort_values(by=x_axis)\n",
    "        fig.add_trace(\n",
    "            go.Scatter(\n",
    "                x=df_group[x_axis],\n",
    "                y=df_group['loss_mean'],\n",
    "                mode='lines+markers',\n",
    "                name=str(group),\n",
    "                error_y=dict(\n",
    "                    type='data',\n",
    "                    array=df_group['loss_std'],\n",
    "                    visible=True\n",
    "                ),\n",
    "                hovertext=[\n",
    "                    f\"{x_axis}: {x}<br>Mean Loss: {loss}<br>Avg Learning Rate: {lr}\"\n",
    "                    for x, loss, lr in zip(df_group[x_axis], df_group['loss_mean'], df_group['lr_mean'])\n",
    "                ],\n",
    "                hoverinfo=\"text\"\n",
    "            ),\n",
    "            row=row,\n",
    "            col=col\n",
    "        )\n",
    "\n",
    "\n",
    "        # Set x-axis to log if needed, ensuring x_range values are positive for log scale\n",
    "        if log_x:\n",
    "            if x_range[0] > 0 and x_range[1] > 0:\n",
    "                fig.update_xaxes(\n",
    "                    type='log',\n",
    "                    range=[math.log10(x_range[0]), math.log10(x_range[1])],\n",
    "                    row=row,\n",
    "                    col=col\n",
    "                )\n",
    "            else:\n",
    "                raise ValueError(\"Cannot apply log scale to non-positive x_range values after shifting.\")\n",
    "        else:\n",
    "            fig.update_xaxes(range=x_range, row=row, col=col)\n",
    "\n",
    "        # Set y-axis range\n",
    "        fig.update_yaxes(range=y_range, row=row, col=col)\n",
    "\n",
    "        # Set axis titles\n",
    "        fig.update_yaxes(title_text=\"Mean Loss\", row=row, col=col)\n",
    "        # Adjust x-axis title if shifted\n",
    "        if log_x and shift_value != 0:\n",
    "            fig.update_xaxes(title_text=f\"{x_axis} + {shift_value:.2e}\", row=row, col=col)\n",
    "        else:\n",
    "            fig.update_xaxes(title_text=x_axis, row=row, col=col)\n",
    "\n",
    "    # If there are empty subplots, remove their annotations\n",
    "    total_subplots = rows * cols\n",
    "    existing_annotations = len(fig.layout.annotations)\n",
    "    if n < total_subplots:\n",
    "        for i in range(n, total_subplots):\n",
    "            if i < existing_annotations:\n",
    "                fig.layout.annotations[i].text = ''\n",
    "\n",
    "    fig.update_layout(\n",
    "        height=320*rows, \n",
    "        width=1000, \n",
    "        title_text=f\"Mean Loss vs {x_axis} grouped by {group_by}\",\n",
    "        showlegend=False\n",
    "    )\n",
    "    fig.show()\n",
    "    return fig\n"
   ]
  },
  {
   "cell_type": "code",
   "execution_count": 48,
   "metadata": {},
   "outputs": [
    {
     "data": {
      "application/vnd.plotly.v1+json": {
       "config": {
        "plotlyServerURL": "https://plot.ly"
       },
       "data": [
        {
         "error_y": {
          "array": [
           0.026385768739754904,
           0.04428813439621693,
           0.05514488945157585,
           0.052705867546303596,
           0.033510951836059615,
           0.0431373748407053,
           0.03442899097781602,
           0.031841910812695,
           0.02992779509148427,
           0.022909738347825333,
           0.011238702448841448,
           0.01027863834187326,
           0.013663310085810714,
           0.021273292282897878,
           0.019380749873838185,
           0.019612003959990364,
           0.018746270349220898,
           0.013984156846468993,
           0.013988239395406698
          ],
          "type": "data",
          "visible": true
         },
         "hoverinfo": "text",
         "hovertext": [
          "data_size_pct: 1<br>Mean Loss: 0.6581666253010432<br>Avg Learning Rate: 0.005257",
          "data_size_pct: 2<br>Mean Loss: 0.5933529893557231<br>Avg Learning Rate: 0.00172",
          "data_size_pct: 3<br>Mean Loss: 0.5761397994558017<br>Avg Learning Rate: 0.00328",
          "data_size_pct: 4<br>Mean Loss: 0.5346060084303219<br>Avg Learning Rate: 0.00193",
          "data_size_pct: 5<br>Mean Loss: 0.5032687005897363<br>Avg Learning Rate: 0.00082",
          "data_size_pct: 6<br>Mean Loss: 0.4929598865409692<br>Avg Learning Rate: 0.0008500000000000001",
          "data_size_pct: 7<br>Mean Loss: 0.47589851483702655<br>Avg Learning Rate: 0.00112",
          "data_size_pct: 8<br>Mean Loss: 0.4607821782926718<br>Avg Learning Rate: 0.00112",
          "data_size_pct: 9<br>Mean Loss: 0.46054519275824224<br>Avg Learning Rate: 0.00091",
          "data_size_pct: 10<br>Mean Loss: 0.44953491879006224<br>Avg Learning Rate: 0.00082",
          "data_size_pct: 20<br>Mean Loss: 0.39483428952594596<br>Avg Learning Rate: 0.000355",
          "data_size_pct: 30<br>Mean Loss: 0.3768753640602032<br>Avg Learning Rate: 0.001015",
          "data_size_pct: 40<br>Mean Loss: 0.36295416367550687<br>Avg Learning Rate: 0.0026470000000000005",
          "data_size_pct: 50<br>Mean Loss: 0.3461409385502338<br>Avg Learning Rate: 0.003709",
          "data_size_pct: 60<br>Mean Loss: 0.32353477043410145<br>Avg Learning Rate: 0.005710000000000001",
          "data_size_pct: 70<br>Mean Loss: 0.31006798315793277<br>Avg Learning Rate: 0.006070000000000001",
          "data_size_pct: 80<br>Mean Loss: 0.2970875490456819<br>Avg Learning Rate: 0.006367",
          "data_size_pct: 90<br>Mean Loss: 0.28076828154424827<br>Avg Learning Rate: 0.00577",
          "data_size_pct: 100<br>Mean Loss: 0.27146354397137956<br>Avg Learning Rate: 0.00724"
         ],
         "mode": "lines+markers",
         "name": "0.0",
         "type": "scatter",
         "x": [
          1,
          2,
          3,
          4,
          5,
          6,
          7,
          8,
          9,
          10,
          20,
          30,
          40,
          50,
          60,
          70,
          80,
          90,
          100
         ],
         "xaxis": "x",
         "y": [
          0.6581666253010432,
          0.5933529893557231,
          0.5761397994558017,
          0.5346060084303219,
          0.5032687005897363,
          0.4929598865409692,
          0.47589851483702655,
          0.4607821782926718,
          0.46054519275824224,
          0.44953491879006224,
          0.39483428952594596,
          0.3768753640602032,
          0.36295416367550687,
          0.3461409385502338,
          0.32353477043410145,
          0.31006798315793277,
          0.2970875490456819,
          0.28076828154424827,
          0.27146354397137956
         ],
         "yaxis": "y"
        },
        {
         "error_y": {
          "array": [
           0.03339699151904729,
           0.041341407570940125,
           0.055026913010931065,
           0.051581874122926925,
           0.04575569826011999,
           0.043832487166664214,
           0.032097277807806704,
           0.03318638949112868,
           0.038157533698623354,
           0.02409644639198424,
           0.015125287519511171,
           0.014480254733447662,
           0.02003314010061675,
           0.020242164114210377,
           0.025449654865135483,
           0.021975234359646524,
           0.022142127482911028,
           0.019271127463547446,
           0.011553336780711637
          ],
          "type": "data",
          "visible": true
         },
         "hoverinfo": "text",
         "hovertext": [
          "data_size_pct: 1<br>Mean Loss: 0.6542377854386966<br>Avg Learning Rate: 0.006127",
          "data_size_pct: 2<br>Mean Loss: 0.5931385990977288<br>Avg Learning Rate: 0.00235",
          "data_size_pct: 3<br>Mean Loss: 0.5710081625481447<br>Avg Learning Rate: 0.00364",
          "data_size_pct: 4<br>Mean Loss: 0.5440779816110929<br>Avg Learning Rate: 0.00295",
          "data_size_pct: 5<br>Mean Loss: 0.5114081205427646<br>Avg Learning Rate: 0.00091",
          "data_size_pct: 6<br>Mean Loss: 0.49484785373012224<br>Avg Learning Rate: 0.0008500000000000001",
          "data_size_pct: 7<br>Mean Loss: 0.47850306406617166<br>Avg Learning Rate: 0.0005200000000000001",
          "data_size_pct: 8<br>Mean Loss: 0.4609370579073826<br>Avg Learning Rate: 0.00046",
          "data_size_pct: 9<br>Mean Loss: 0.46227793211738266<br>Avg Learning Rate: 0.0011500000000000002",
          "data_size_pct: 10<br>Mean Loss: 0.44872433379292487<br>Avg Learning Rate: 0.00055",
          "data_size_pct: 20<br>Mean Loss: 0.3939296383410692<br>Avg Learning Rate: 4.6e-05",
          "data_size_pct: 30<br>Mean Loss: 0.37410440636177855<br>Avg Learning Rate: 0.00148",
          "data_size_pct: 40<br>Mean Loss: 0.3624545518060525<br>Avg Learning Rate: 0.003418",
          "data_size_pct: 50<br>Mean Loss: 0.34302108847846585<br>Avg Learning Rate: 0.006217",
          "data_size_pct: 60<br>Mean Loss: 0.32624589287986355<br>Avg Learning Rate: 0.0062050000000000004",
          "data_size_pct: 70<br>Mean Loss: 0.31415635642906026<br>Avg Learning Rate: 0.006667",
          "data_size_pct: 80<br>Mean Loss: 0.2919695634891589<br>Avg Learning Rate: 0.006034",
          "data_size_pct: 90<br>Mean Loss: 0.27933164980262515<br>Avg Learning Rate: 0.0060999999999999995",
          "data_size_pct: 100<br>Mean Loss: 0.27053767847518123<br>Avg Learning Rate: 0.007537"
         ],
         "mode": "lines+markers",
         "name": "5e-07",
         "type": "scatter",
         "x": [
          1,
          2,
          3,
          4,
          5,
          6,
          7,
          8,
          9,
          10,
          20,
          30,
          40,
          50,
          60,
          70,
          80,
          90,
          100
         ],
         "xaxis": "x2",
         "y": [
          0.6542377854386966,
          0.5931385990977288,
          0.5710081625481447,
          0.5440779816110929,
          0.5114081205427646,
          0.49484785373012224,
          0.47850306406617166,
          0.4609370579073826,
          0.46227793211738266,
          0.44872433379292487,
          0.3939296383410692,
          0.37410440636177855,
          0.3624545518060525,
          0.34302108847846585,
          0.32624589287986355,
          0.31415635642906026,
          0.2919695634891589,
          0.27933164980262515,
          0.27053767847518123
         ],
         "yaxis": "y2"
        },
        {
         "error_y": {
          "array": [
           0.03691277077180597,
           0.03982592031134514,
           0.05480315392199104,
           0.05425910697609979,
           0.03913979542729143,
           0.042506784961961086,
           0.039667062094541704,
           0.03469972500166391,
           0.03342038916284329,
           0.033074836618448136,
           0.013225796588720565,
           0.01132643756400562,
           0.0236240129785349,
           0.023285407274992977,
           0.025005888171547003,
           0.0167896126348788,
           0.018284501538023086,
           0.014990811075848742,
           0.011710164447681465
          ],
          "type": "data",
          "visible": true
         },
         "hoverinfo": "text",
         "hovertext": [
          "data_size_pct: 1<br>Mean Loss: 0.6553212486207485<br>Avg Learning Rate: 0.005527000000000001",
          "data_size_pct: 2<br>Mean Loss: 0.6012765245636305<br>Avg Learning Rate: 0.0020800000000000003",
          "data_size_pct: 3<br>Mean Loss: 0.5759483127295971<br>Avg Learning Rate: 0.00331",
          "data_size_pct: 4<br>Mean Loss: 0.5401459895074368<br>Avg Learning Rate: 0.0029800000000000004",
          "data_size_pct: 5<br>Mean Loss: 0.5066953108708063<br>Avg Learning Rate: 0.0005800000000000001",
          "data_size_pct: 6<br>Mean Loss: 0.491565449933211<br>Avg Learning Rate: 0.00097",
          "data_size_pct: 7<br>Mean Loss: 0.47882764081160223<br>Avg Learning Rate: 0.0011200000000000001",
          "data_size_pct: 8<br>Mean Loss: 0.46557365482052165<br>Avg Learning Rate: 0.0008500000000000001",
          "data_size_pct: 9<br>Mean Loss: 0.4563390112419923<br>Avg Learning Rate: 0.0008500000000000001",
          "data_size_pct: 10<br>Mean Loss: 0.45336366285880403<br>Avg Learning Rate: 0.0009400000000000001",
          "data_size_pct: 20<br>Mean Loss: 0.39568620880444844<br>Avg Learning Rate: 0.00036700000000000003",
          "data_size_pct: 30<br>Mean Loss: 0.37513332923253373<br>Avg Learning Rate: 0.001414",
          "data_size_pct: 40<br>Mean Loss: 0.362532040476799<br>Avg Learning Rate: 0.003049",
          "data_size_pct: 50<br>Mean Loss: 0.34571763043602305<br>Avg Learning Rate: 0.005788000000000001",
          "data_size_pct: 60<br>Mean Loss: 0.319752679169178<br>Avg Learning Rate: 0.006907",
          "data_size_pct: 70<br>Mean Loss: 0.3026123406117161<br>Avg Learning Rate: 0.0088",
          "data_size_pct: 80<br>Mean Loss: 0.29057660923649864<br>Avg Learning Rate: 0.008167",
          "data_size_pct: 90<br>Mean Loss: 0.275194427780807<br>Avg Learning Rate: 0.006634",
          "data_size_pct: 100<br>Mean Loss: 0.27238740331182876<br>Avg Learning Rate: 0.00634"
         ],
         "mode": "lines+markers",
         "name": "1e-06",
         "type": "scatter",
         "x": [
          1,
          2,
          3,
          4,
          5,
          6,
          7,
          8,
          9,
          10,
          20,
          30,
          40,
          50,
          60,
          70,
          80,
          90,
          100
         ],
         "xaxis": "x3",
         "y": [
          0.6553212486207485,
          0.6012765245636305,
          0.5759483127295971,
          0.5401459895074368,
          0.5066953108708063,
          0.491565449933211,
          0.47882764081160223,
          0.46557365482052165,
          0.4563390112419923,
          0.45336366285880403,
          0.39568620880444844,
          0.37513332923253373,
          0.362532040476799,
          0.34571763043602305,
          0.319752679169178,
          0.3026123406117161,
          0.29057660923649864,
          0.275194427780807,
          0.27238740331182876
         ],
         "yaxis": "y3"
        },
        {
         "error_y": {
          "array": [
           0.0288846133460586,
           0.03780142153244555,
           0.05194406382502024,
           0.059816858949462086,
           0.049582728451823745,
           0.0488150643358973,
           0.03784233741148497,
           0.041297361473322865,
           0.027226852317167,
           0.021157602373527314,
           0.013482620587382624,
           0.01364876602584219,
           0.01720699162893315,
           0.02137148034631596,
           0.022719662286408076,
           0.020509205732159634,
           0.018152645341419773,
           0.01649717499719496,
           0.015512086671457998
          ],
          "type": "data",
          "visible": true
         },
         "hoverinfo": "text",
         "hovertext": [
          "data_size_pct: 1<br>Mean Loss: 0.6560138613979022<br>Avg Learning Rate: 0.004657",
          "data_size_pct: 2<br>Mean Loss: 0.5929482033848763<br>Avg Learning Rate: 0.0025900000000000003",
          "data_size_pct: 3<br>Mean Loss: 0.572860000183185<br>Avg Learning Rate: 0.00334",
          "data_size_pct: 4<br>Mean Loss: 0.5479812412957351<br>Avg Learning Rate: 0.00244",
          "data_size_pct: 5<br>Mean Loss: 0.5119637344777584<br>Avg Learning Rate: 0.00088",
          "data_size_pct: 6<br>Mean Loss: 0.5020668937762578<br>Avg Learning Rate: 0.00103",
          "data_size_pct: 7<br>Mean Loss: 0.47866598544021444<br>Avg Learning Rate: 0.00046",
          "data_size_pct: 8<br>Mean Loss: 0.4689379658301671<br>Avg Learning Rate: 0.00058",
          "data_size_pct: 9<br>Mean Loss: 0.45412735611200333<br>Avg Learning Rate: 0.0014500000000000001",
          "data_size_pct: 10<br>Mean Loss: 0.4488921896616617<br>Avg Learning Rate: 0.00082",
          "data_size_pct: 20<br>Mean Loss: 0.39480086592336494<br>Avg Learning Rate: 0.00049",
          "data_size_pct: 30<br>Mean Loss: 0.3758403965334097<br>Avg Learning Rate: 0.001414",
          "data_size_pct: 40<br>Mean Loss: 0.36165618712703385<br>Avg Learning Rate: 0.003844",
          "data_size_pct: 50<br>Mean Loss: 0.34316356721023716<br>Avg Learning Rate: 0.005572",
          "data_size_pct: 60<br>Mean Loss: 0.31336063196261726<br>Avg Learning Rate: 0.0075699999999999995",
          "data_size_pct: 70<br>Mean Loss: 0.3045816220218936<br>Avg Learning Rate: 0.007837",
          "data_size_pct: 80<br>Mean Loss: 0.2960222912331422<br>Avg Learning Rate: 0.007209999999999999",
          "data_size_pct: 90<br>Mean Loss: 0.2771260326852401<br>Avg Learning Rate: 0.00847",
          "data_size_pct: 100<br>Mean Loss: 0.2715418578063448<br>Avg Learning Rate: 0.006337"
         ],
         "mode": "lines+markers",
         "name": "5.5e-06",
         "type": "scatter",
         "x": [
          1,
          2,
          3,
          4,
          5,
          6,
          7,
          8,
          9,
          10,
          20,
          30,
          40,
          50,
          60,
          70,
          80,
          90,
          100
         ],
         "xaxis": "x4",
         "y": [
          0.6560138613979022,
          0.5929482033848763,
          0.572860000183185,
          0.5479812412957351,
          0.5119637344777584,
          0.5020668937762578,
          0.47866598544021444,
          0.4689379658301671,
          0.45412735611200333,
          0.4488921896616617,
          0.39480086592336494,
          0.3758403965334097,
          0.36165618712703385,
          0.34316356721023716,
          0.31336063196261726,
          0.3045816220218936,
          0.2960222912331422,
          0.2771260326852401,
          0.2715418578063448
         ],
         "yaxis": "y4"
        },
        {
         "error_y": {
          "array": [
           0.03381395514720298,
           0.041778254893329016,
           0.056868472053834496,
           0.053054263203333014,
           0.04211197903396399,
           0.050000805669297425,
           0.03311961660454196,
           0.03523600969795526,
           0.026158069981620666,
           0.023474946990133028,
           0.013957198354354638,
           0.015985910714720015,
           0.023859628710811598,
           0.024500032993884115,
           0.023295055362675465,
           0.019175872727872557,
           0.014553035750988779,
           0.01288840683406459,
           0.01272645777412732
          ],
          "type": "data",
          "visible": true
         },
         "hoverinfo": "text",
         "hovertext": [
          "data_size_pct: 1<br>Mean Loss: 0.6519740112125874<br>Avg Learning Rate: 0.005347",
          "data_size_pct: 2<br>Mean Loss: 0.5919789568086464<br>Avg Learning Rate: 0.00193",
          "data_size_pct: 3<br>Mean Loss: 0.5794247765342394<br>Avg Learning Rate: 0.003607",
          "data_size_pct: 4<br>Mean Loss: 0.5415326349933942<br>Avg Learning Rate: 0.00136",
          "data_size_pct: 5<br>Mean Loss: 0.5050825086732705<br>Avg Learning Rate: 0.00028",
          "data_size_pct: 6<br>Mean Loss: 0.49764983162283893<br>Avg Learning Rate: 0.00025",
          "data_size_pct: 7<br>Mean Loss: 0.4764381967236598<br>Avg Learning Rate: 0.00193",
          "data_size_pct: 8<br>Mean Loss: 0.4640666126211484<br>Avg Learning Rate: 0.0012400000000000002",
          "data_size_pct: 9<br>Mean Loss: 0.45906366343299543<br>Avg Learning Rate: 0.00064",
          "data_size_pct: 10<br>Mean Loss: 0.44815312648812927<br>Avg Learning Rate: 0.00118",
          "data_size_pct: 20<br>Mean Loss: 0.396020470286409<br>Avg Learning Rate: 1.3000000000000001e-05",
          "data_size_pct: 30<br>Mean Loss: 0.3746653924634059<br>Avg Learning Rate: 0.001783",
          "data_size_pct: 40<br>Mean Loss: 0.3539781293024619<br>Avg Learning Rate: 0.004752999999999999",
          "data_size_pct: 50<br>Mean Loss: 0.3393823012088735<br>Avg Learning Rate: 0.006268",
          "data_size_pct: 60<br>Mean Loss: 0.3205225010837118<br>Avg Learning Rate: 0.00661",
          "data_size_pct: 70<br>Mean Loss: 0.3017274181048075<br>Avg Learning Rate: 0.00817",
          "data_size_pct: 80<br>Mean Loss: 0.2890753849223256<br>Avg Learning Rate: 0.0076",
          "data_size_pct: 90<br>Mean Loss: 0.2774491782610615<br>Avg Learning Rate: 0.0075699999999999995",
          "data_size_pct: 100<br>Mean Loss: 0.27106745842844243<br>Avg Learning Rate: 0.0076"
         ],
         "mode": "lines+markers",
         "name": "1e-05",
         "type": "scatter",
         "x": [
          1,
          2,
          3,
          4,
          5,
          6,
          7,
          8,
          9,
          10,
          20,
          30,
          40,
          50,
          60,
          70,
          80,
          90,
          100
         ],
         "xaxis": "x5",
         "y": [
          0.6519740112125874,
          0.5919789568086464,
          0.5794247765342394,
          0.5415326349933942,
          0.5050825086732705,
          0.49764983162283893,
          0.4764381967236598,
          0.4640666126211484,
          0.45906366343299543,
          0.44815312648812927,
          0.396020470286409,
          0.3746653924634059,
          0.3539781293024619,
          0.3393823012088735,
          0.3205225010837118,
          0.3017274181048075,
          0.2890753849223256,
          0.2774491782610615,
          0.27106745842844243
         ],
         "yaxis": "y5"
        },
        {
         "error_y": {
          "array": [
           0.0318911100644496,
           0.045614283371480185,
           0.05998410891100966,
           0.05660982380091716,
           0.04235646303415628,
           0.06044406256930931,
           0.03551283198751742,
           0.04066083586666711,
           0.04199876681579561,
           0.022146176072245803,
           0.011338412334561575,
           0.01232157285557715,
           0.02133860285038724,
           0.02315011600931385,
           0.019665778863224438,
           0.01763382184823411,
           0.022525311369927213,
           0.011677742156957716,
           0.012648452272798958
          ],
          "type": "data",
          "visible": true
         },
         "hoverinfo": "text",
         "hovertext": [
          "data_size_pct: 1<br>Mean Loss: 0.6501003796855609<br>Avg Learning Rate: 0.005257",
          "data_size_pct: 2<br>Mean Loss: 0.5980324629445871<br>Avg Learning Rate: 0.0025900000000000003",
          "data_size_pct: 3<br>Mean Loss: 0.5727694563567638<br>Avg Learning Rate: 0.00304",
          "data_size_pct: 4<br>Mean Loss: 0.5489964440961679<br>Avg Learning Rate: 0.00118",
          "data_size_pct: 5<br>Mean Loss: 0.5025759569307168<br>Avg Learning Rate: 0.0008500000000000001",
          "data_size_pct: 6<br>Mean Loss: 0.5083393233021101<br>Avg Learning Rate: 0.00103",
          "data_size_pct: 7<br>Mean Loss: 0.48471704110503194<br>Avg Learning Rate: 0.0015400000000000001",
          "data_size_pct: 8<br>Mean Loss: 0.4652848449349403<br>Avg Learning Rate: 0.00088",
          "data_size_pct: 9<br>Mean Loss: 0.46675374316672485<br>Avg Learning Rate: 0.00148",
          "data_size_pct: 10<br>Mean Loss: 0.4471662640074889<br>Avg Learning Rate: 0.0014500000000000001",
          "data_size_pct: 20<br>Mean Loss: 0.3960685905814171<br>Avg Learning Rate: 8.5e-05",
          "data_size_pct: 30<br>Mean Loss: 0.37564582889278725<br>Avg Learning Rate: 0.001075",
          "data_size_pct: 40<br>Mean Loss: 0.3586797937254111<br>Avg Learning Rate: 0.0047740000000000005",
          "data_size_pct: 50<br>Mean Loss: 0.33535327290495237<br>Avg Learning Rate: 0.005938",
          "data_size_pct: 60<br>Mean Loss: 0.31206930480897427<br>Avg Learning Rate: 0.00814",
          "data_size_pct: 70<br>Mean Loss: 0.3008006035412351<br>Avg Learning Rate: 0.0088",
          "data_size_pct: 80<br>Mean Loss: 0.2877808578809102<br>Avg Learning Rate: 0.00748",
          "data_size_pct: 90<br>Mean Loss: 0.2726725081540644<br>Avg Learning Rate: 0.0079",
          "data_size_pct: 100<br>Mean Loss: 0.27134072436640655<br>Avg Learning Rate: 0.00661"
         ],
         "mode": "lines+markers",
         "name": "5.5e-05",
         "type": "scatter",
         "x": [
          1,
          2,
          3,
          4,
          5,
          6,
          7,
          8,
          9,
          10,
          20,
          30,
          40,
          50,
          60,
          70,
          80,
          90,
          100
         ],
         "xaxis": "x6",
         "y": [
          0.6501003796855609,
          0.5980324629445871,
          0.5727694563567638,
          0.5489964440961679,
          0.5025759569307168,
          0.5083393233021101,
          0.48471704110503194,
          0.4652848449349403,
          0.46675374316672485,
          0.4471662640074889,
          0.3960685905814171,
          0.37564582889278725,
          0.3586797937254111,
          0.33535327290495237,
          0.31206930480897427,
          0.3008006035412351,
          0.2877808578809102,
          0.2726725081540644,
          0.27134072436640655
         ],
         "yaxis": "y6"
        },
        {
         "error_y": {
          "array": [
           0.039054591460549785,
           0.0501742894193226,
           0.05813755116832196,
           0.0584926288804455,
           0.04037751894875809,
           0.05210114158658692,
           0.03858296309150801,
           0.042299997253635396,
           0.032822040468935935,
           0.022799536137874044,
           0.013461817455273447,
           0.014420071825073278,
           0.02646435087424022,
           0.02175625154366289,
           0.021139821575760324,
           0.017022690273758648,
           0.01707300315933274,
           0.012254843042793678,
           0.009372897860073462
          ],
          "type": "data",
          "visible": true
         },
         "hoverinfo": "text",
         "hovertext": [
          "data_size_pct: 1<br>Mean Loss: 0.6522047417362532<br>Avg Learning Rate: 0.0049239999999999996",
          "data_size_pct: 2<br>Mean Loss: 0.5909631069004535<br>Avg Learning Rate: 0.00232",
          "data_size_pct: 3<br>Mean Loss: 0.5789720327158768<br>Avg Learning Rate: 0.0028",
          "data_size_pct: 4<br>Mean Loss: 0.5503341896335283<br>Avg Learning Rate: 0.0016599999999999998",
          "data_size_pct: 5<br>Mean Loss: 0.5055506813029448<br>Avg Learning Rate: 0.00091",
          "data_size_pct: 6<br>Mean Loss: 0.49738061582048737<br>Avg Learning Rate: 0.00088",
          "data_size_pct: 7<br>Mean Loss: 0.4783628050982952<br>Avg Learning Rate: 0.0012400000000000002",
          "data_size_pct: 8<br>Mean Loss: 0.4714355979859829<br>Avg Learning Rate: 0.00061",
          "data_size_pct: 9<br>Mean Loss: 0.45733347999552887<br>Avg Learning Rate: 0.00148",
          "data_size_pct: 10<br>Mean Loss: 0.44610734413067493<br>Avg Learning Rate: 0.0009099999999999999",
          "data_size_pct: 20<br>Mean Loss: 0.39500916217764215<br>Avg Learning Rate: 1.8999999999999998e-05",
          "data_size_pct: 30<br>Mean Loss: 0.3726610822975635<br>Avg Learning Rate: 0.0021520000000000003",
          "data_size_pct: 40<br>Mean Loss: 0.35009281987945234<br>Avg Learning Rate: 0.004876",
          "data_size_pct: 50<br>Mean Loss: 0.3381049711753924<br>Avg Learning Rate: 0.005908",
          "data_size_pct: 60<br>Mean Loss: 0.3121661780898769<br>Avg Learning Rate: 0.007867",
          "data_size_pct: 70<br>Mean Loss: 0.2977014700447519<br>Avg Learning Rate: 0.007567",
          "data_size_pct: 80<br>Mean Loss: 0.2843022030343612<br>Avg Learning Rate: 0.0079",
          "data_size_pct: 90<br>Mean Loss: 0.271554356465737<br>Avg Learning Rate: 0.0075699999999999995",
          "data_size_pct: 100<br>Mean Loss: 0.26623569989576934<br>Avg Learning Rate: 0.006334"
         ],
         "mode": "lines+markers",
         "name": "0.0001",
         "type": "scatter",
         "x": [
          1,
          2,
          3,
          4,
          5,
          6,
          7,
          8,
          9,
          10,
          20,
          30,
          40,
          50,
          60,
          70,
          80,
          90,
          100
         ],
         "xaxis": "x7",
         "y": [
          0.6522047417362532,
          0.5909631069004535,
          0.5789720327158768,
          0.5503341896335283,
          0.5055506813029448,
          0.49738061582048737,
          0.4783628050982952,
          0.4714355979859829,
          0.45733347999552887,
          0.44610734413067493,
          0.39500916217764215,
          0.3726610822975635,
          0.35009281987945234,
          0.3381049711753924,
          0.3121661780898769,
          0.2977014700447519,
          0.2843022030343612,
          0.271554356465737,
          0.26623569989576934
         ],
         "yaxis": "y7"
        },
        {
         "error_y": {
          "array": [
           0.03037494332928278,
           0.04464444378859551,
           0.06264889759117706,
           0.06114716848929453,
           0.04012190504429618,
           0.04723140411678252,
           0.04572782975298747,
           0.03421062483216291,
           0.03277207072842447,
           0.023148524228697277,
           0.014355276697806538,
           0.014597001122883846,
           0.016290408949707978,
           0.027699042740872735,
           0.023442437364910397,
           0.021465251514490934,
           0.021911355854785007,
           0.015138302596011375,
           0.01438870882454269
          ],
          "type": "data",
          "visible": true
         },
         "hoverinfo": "text",
         "hovertext": [
          "data_size_pct: 1<br>Mean Loss: 0.6549923621118069<br>Avg Learning Rate: 0.007147",
          "data_size_pct: 2<br>Mean Loss: 0.5916651115318139<br>Avg Learning Rate: 0.00268",
          "data_size_pct: 3<br>Mean Loss: 0.5804419896006584<br>Avg Learning Rate: 0.002707",
          "data_size_pct: 4<br>Mean Loss: 0.5507821649809678<br>Avg Learning Rate: 0.001747",
          "data_size_pct: 5<br>Mean Loss: 0.5109780052800973<br>Avg Learning Rate: 0.00103",
          "data_size_pct: 6<br>Mean Loss: 0.4973147771755854<br>Avg Learning Rate: 0.00136",
          "data_size_pct: 7<br>Mean Loss: 0.4865232784549395<br>Avg Learning Rate: 0.0013",
          "data_size_pct: 8<br>Mean Loss: 0.4669698222478231<br>Avg Learning Rate: 0.00028000000000000003",
          "data_size_pct: 9<br>Mean Loss: 0.4656204885741075<br>Avg Learning Rate: 0.00154",
          "data_size_pct: 10<br>Mean Loss: 0.4529058486223221<br>Avg Learning Rate: 0.0005800000000000001",
          "data_size_pct: 20<br>Mean Loss: 0.3960737177977959<br>Avg Learning Rate: 5.5e-05",
          "data_size_pct: 30<br>Mean Loss: 0.376337344845136<br>Avg Learning Rate: 0.001183",
          "data_size_pct: 40<br>Mean Loss: 0.3665873764703671<br>Avg Learning Rate: 0.002149",
          "data_size_pct: 50<br>Mean Loss: 0.34899570032954214<br>Avg Learning Rate: 0.0024790000000000003",
          "data_size_pct: 60<br>Mean Loss: 0.3272202268739541<br>Avg Learning Rate: 0.003508",
          "data_size_pct: 70<br>Mean Loss: 0.3171267977977792<br>Avg Learning Rate: 0.0017800000000000001",
          "data_size_pct: 80<br>Mean Loss: 0.2928152192632357<br>Avg Learning Rate: 0.001807",
          "data_size_pct: 90<br>Mean Loss: 0.28061467652519545<br>Avg Learning Rate: 0.0027370000000000003",
          "data_size_pct: 100<br>Mean Loss: 0.2690502793093522<br>Avg Learning Rate: 0.003007"
         ],
         "mode": "lines+markers",
         "name": "0.00055",
         "type": "scatter",
         "x": [
          1,
          2,
          3,
          4,
          5,
          6,
          7,
          8,
          9,
          10,
          20,
          30,
          40,
          50,
          60,
          70,
          80,
          90,
          100
         ],
         "xaxis": "x8",
         "y": [
          0.6549923621118069,
          0.5916651115318139,
          0.5804419896006584,
          0.5507821649809678,
          0.5109780052800973,
          0.4973147771755854,
          0.4865232784549395,
          0.4669698222478231,
          0.4656204885741075,
          0.4529058486223221,
          0.3960737177977959,
          0.376337344845136,
          0.3665873764703671,
          0.34899570032954214,
          0.3272202268739541,
          0.3171267977977792,
          0.2928152192632357,
          0.28061467652519545,
          0.2690502793093522
         ],
         "yaxis": "y8"
        },
        {
         "error_y": {
          "array": [
           0.02858747266123198,
           0.04817151645662033,
           0.05862138172541455,
           0.05825468978009217,
           0.03971295138387236,
           0.053202274598137075,
           0.05338310762756423,
           0.03991630242396573,
           0.05111110572494445,
           0.03334709405903937,
           0.013337555775167494,
           0.01019449503478114,
           0.017376163854484074,
           0.0171861482934498,
           0.021959313278195367,
           0.0192102157136577,
           0.01728144807905964,
           0.01728732465419002,
           0.013542817593746984
          ],
          "type": "data",
          "visible": true
         },
         "hoverinfo": "text",
         "hovertext": [
          "data_size_pct: 1<br>Mean Loss: 0.6575504075487455<br>Avg Learning Rate: 0.005584",
          "data_size_pct: 2<br>Mean Loss: 0.5972034854690234<br>Avg Learning Rate: 0.006640000000000001",
          "data_size_pct: 3<br>Mean Loss: 0.5771447610855103<br>Avg Learning Rate: 0.00292",
          "data_size_pct: 4<br>Mean Loss: 0.5640823223690192<br>Avg Learning Rate: 0.00184",
          "data_size_pct: 5<br>Mean Loss: 0.5157178960740566<br>Avg Learning Rate: 0.00103",
          "data_size_pct: 6<br>Mean Loss: 0.5056587937474251<br>Avg Learning Rate: 0.00073",
          "data_size_pct: 7<br>Mean Loss: 0.49500284478068346<br>Avg Learning Rate: 0.00037",
          "data_size_pct: 8<br>Mean Loss: 0.4690370026727517<br>Avg Learning Rate: 0.00067",
          "data_size_pct: 9<br>Mean Loss: 0.47301637773712474<br>Avg Learning Rate: 0.0004",
          "data_size_pct: 10<br>Mean Loss: 0.4525014854967594<br>Avg Learning Rate: 0.00022",
          "data_size_pct: 20<br>Mean Loss: 0.39848356458048023<br>Avg Learning Rate: 8.8e-05",
          "data_size_pct: 30<br>Mean Loss: 0.3785274245093266<br>Avg Learning Rate: 0.000154",
          "data_size_pct: 40<br>Mean Loss: 0.3659661458432674<br>Avg Learning Rate: 0.001018",
          "data_size_pct: 50<br>Mean Loss: 0.3536873939385016<br>Avg Learning Rate: 0.000481",
          "data_size_pct: 60<br>Mean Loss: 0.3337749928918977<br>Avg Learning Rate: 0.0013750000000000001",
          "data_size_pct: 70<br>Mean Loss: 0.31928075933208067<br>Avg Learning Rate: 0.00148",
          "data_size_pct: 80<br>Mean Loss: 0.2980069141834974<br>Avg Learning Rate: 0.001114",
          "data_size_pct: 90<br>Mean Loss: 0.2829761440679431<br>Avg Learning Rate: 0.000964",
          "data_size_pct: 100<br>Mean Loss: 0.2721613420173526<br>Avg Learning Rate: 0.001144"
         ],
         "mode": "lines+markers",
         "name": "0.001",
         "type": "scatter",
         "x": [
          1,
          2,
          3,
          4,
          5,
          6,
          7,
          8,
          9,
          10,
          20,
          30,
          40,
          50,
          60,
          70,
          80,
          90,
          100
         ],
         "xaxis": "x9",
         "y": [
          0.6575504075487455,
          0.5972034854690234,
          0.5771447610855103,
          0.5640823223690192,
          0.5157178960740566,
          0.5056587937474251,
          0.49500284478068346,
          0.4690370026727517,
          0.47301637773712474,
          0.4525014854967594,
          0.39848356458048023,
          0.3785274245093266,
          0.3659661458432674,
          0.3536873939385016,
          0.3337749928918977,
          0.31928075933208067,
          0.2980069141834974,
          0.2829761440679431,
          0.2721613420173526
         ],
         "yaxis": "y9"
        },
        {
         "error_y": {
          "array": [
           0.025769929272088255,
           0.048645628575462,
           0.07116355026644171,
           0.07546941387611755,
           0.08294711760098684,
           0.08767732012934255,
           0.040088636028368034,
           0.04260764215364907,
           0.05790828922190319,
           0.04902116025614776,
           0.01340864037541564,
           0.012375379859758773,
           0.01381151935363868,
           0.024020977394233062,
           0.020280681992879728,
           0.020327530799696316,
           0.02221225742791607,
           0.014481010723902555,
           0.012962161483307692
          ],
          "type": "data",
          "visible": true
         },
         "hoverinfo": "text",
         "hovertext": [
          "data_size_pct: 1<br>Mean Loss: 0.6714701493581136<br>Avg Learning Rate: 0.006721",
          "data_size_pct: 2<br>Mean Loss: 0.612005858918031<br>Avg Learning Rate: 0.001987",
          "data_size_pct: 3<br>Mean Loss: 0.600956768890222<br>Avg Learning Rate: 0.002131",
          "data_size_pct: 4<br>Mean Loss: 0.6118499975899855<br>Avg Learning Rate: 0.007102",
          "data_size_pct: 5<br>Mean Loss: 0.5553161309659481<br>Avg Learning Rate: 0.0037540000000000004",
          "data_size_pct: 6<br>Mean Loss: 0.5764315586288771<br>Avg Learning Rate: 0.000994",
          "data_size_pct: 7<br>Mean Loss: 0.49306291510661443<br>Avg Learning Rate: 0.00067",
          "data_size_pct: 8<br>Mean Loss: 0.48108858019113543<br>Avg Learning Rate: 0.00064",
          "data_size_pct: 9<br>Mean Loss: 0.47754631881912546<br>Avg Learning Rate: 0.0005800000000000001",
          "data_size_pct: 10<br>Mean Loss: 0.4673196513454119<br>Avg Learning Rate: 0.00055",
          "data_size_pct: 20<br>Mean Loss: 0.4094022982815901<br>Avg Learning Rate: 0.00025",
          "data_size_pct: 30<br>Mean Loss: 0.3889691068977117<br>Avg Learning Rate: 0.000205",
          "data_size_pct: 40<br>Mean Loss: 0.37344965457916257<br>Avg Learning Rate: 0.00023500000000000002",
          "data_size_pct: 50<br>Mean Loss: 0.3488370450834433<br>Avg Learning Rate: 0.0005350000000000001",
          "data_size_pct: 60<br>Mean Loss: 0.32924755778163667<br>Avg Learning Rate: 0.0005470000000000001",
          "data_size_pct: 70<br>Mean Loss: 0.32088526178151366<br>Avg Learning Rate: 0.00041200000000000004",
          "data_size_pct: 80<br>Mean Loss: 0.3028749667232235<br>Avg Learning Rate: 0.00035800000000000003",
          "data_size_pct: 90<br>Mean Loss: 0.2846084058533112<br>Avg Learning Rate: 0.00031600000000000004",
          "data_size_pct: 100<br>Mean Loss: 0.27162793272485336<br>Avg Learning Rate: 0.00028300000000000005"
         ],
         "mode": "lines+markers",
         "name": "0.0055",
         "type": "scatter",
         "x": [
          1,
          2,
          3,
          4,
          5,
          6,
          7,
          8,
          9,
          10,
          20,
          30,
          40,
          50,
          60,
          70,
          80,
          90,
          100
         ],
         "xaxis": "x10",
         "y": [
          0.6714701493581136,
          0.612005858918031,
          0.600956768890222,
          0.6118499975899855,
          0.5553161309659481,
          0.5764315586288771,
          0.49306291510661443,
          0.48108858019113543,
          0.47754631881912546,
          0.4673196513454119,
          0.4094022982815901,
          0.3889691068977117,
          0.37344965457916257,
          0.3488370450834433,
          0.32924755778163667,
          0.32088526178151366,
          0.3028749667232235,
          0.2846084058533112,
          0.27162793272485336
         ],
         "yaxis": "y10"
        },
        {
         "error_y": {
          "array": [
           0.029719747104810092,
           0.055572219337270315,
           0.06967540452798225,
           0.0693887763905315,
           0.06484637572316647,
           0.020566709305159952,
           0.10344464883459666,
           0.11894659396914407,
           0.11999360653197556,
           0.12077883711848916,
           0.13929024771470197,
           0.15155130311306717,
           0.15366314863989064,
           0.15438177712981263,
           0.15694636067270817,
           0.1693949321272699,
           0.12410247252029737,
           0.13128005128395018,
           0.17596739018460625
          ],
          "type": "data",
          "visible": true
         },
         "hoverinfo": "text",
         "hovertext": [
          "data_size_pct: 1<br>Mean Loss: 0.6744793080290158<br>Avg Learning Rate: 0.004999000000000001",
          "data_size_pct: 2<br>Mean Loss: 0.6401800714929898<br>Avg Learning Rate: 0.000874",
          "data_size_pct: 3<br>Mean Loss: 0.6501476026078065<br>Avg Learning Rate: 0.000397",
          "data_size_pct: 4<br>Mean Loss: 0.6518168269097805<br>Avg Learning Rate: 0.00046300000000000003",
          "data_size_pct: 5<br>Mean Loss: 0.6627806815505027<br>Avg Learning Rate: 0.0007779999999999999",
          "data_size_pct: 6<br>Mean Loss: 0.6872516894340515<br>Avg Learning Rate: 0.001654",
          "data_size_pct: 7<br>Mean Loss: 0.5928964144488176<br>Avg Learning Rate: 0.004858",
          "data_size_pct: 8<br>Mean Loss: 0.5819545864065488<br>Avg Learning Rate: 0.000175",
          "data_size_pct: 9<br>Mean Loss: 0.5840384743114312<br>Avg Learning Rate: 0.0035680000000000004",
          "data_size_pct: 10<br>Mean Loss: 0.594488497277101<br>Avg Learning Rate: 0.004018",
          "data_size_pct: 20<br>Mean Loss: 0.5648902184764545<br>Avg Learning Rate: 0.00043",
          "data_size_pct: 30<br>Mean Loss: 0.5321315043916305<br>Avg Learning Rate: 7.3e-05",
          "data_size_pct: 40<br>Mean Loss: 0.5376759743193785<br>Avg Learning Rate: 6.1e-05",
          "data_size_pct: 50<br>Mean Loss: 0.5149487855782111<br>Avg Learning Rate: 5.2e-05",
          "data_size_pct: 60<br>Mean Loss: 0.5248377774655819<br>Avg Learning Rate: 2.8e-05",
          "data_size_pct: 70<br>Mean Loss: 0.4803744142502546<br>Avg Learning Rate: 4.9e-05",
          "data_size_pct: 80<br>Mean Loss: 0.38297268375754356<br>Avg Learning Rate: 4.600000000000001e-05",
          "data_size_pct: 90<br>Mean Loss: 0.36803871747106315<br>Avg Learning Rate: 4.3e-05",
          "data_size_pct: 100<br>Mean Loss: 0.45807753733048834<br>Avg Learning Rate: 4e-05"
         ],
         "mode": "lines+markers",
         "name": "0.01",
         "type": "scatter",
         "x": [
          1,
          2,
          3,
          4,
          5,
          6,
          7,
          8,
          9,
          10,
          20,
          30,
          40,
          50,
          60,
          70,
          80,
          90,
          100
         ],
         "xaxis": "x11",
         "y": [
          0.6744793080290158,
          0.6401800714929898,
          0.6501476026078065,
          0.6518168269097805,
          0.6627806815505027,
          0.6872516894340515,
          0.5928964144488176,
          0.5819545864065488,
          0.5840384743114312,
          0.594488497277101,
          0.5648902184764545,
          0.5321315043916305,
          0.5376759743193785,
          0.5149487855782111,
          0.5248377774655819,
          0.4803744142502546,
          0.38297268375754356,
          0.36803871747106315,
          0.45807753733048834
         ],
         "yaxis": "y11"
        },
        {
         "error_y": {
          "array": [
           0.0004593057946236876,
           0.0006423243145501499,
           0.00017636550768569215,
           0.0007596842326371138,
           0.00010269101847427652,
           0.00009159288274107711,
           0.00020665705170206807,
           0.00024595190199150086,
           0.000056169873978309656,
           0.01298561566725466,
           0.003959784289912702,
           0.05195189599637453,
           0.00018045642531516095,
           0.004203663372343937,
           0.000456681516226223,
           0.019164155276941135,
           0.0004479803925727051,
           0.0016029507257300497,
           0.010694963644032633
          ],
          "type": "data",
          "visible": true
         },
         "hoverinfo": "text",
         "hovertext": [
          "data_size_pct: 1<br>Mean Loss: 0.6927858612934749<br>Avg Learning Rate: 0.0005769999999999999",
          "data_size_pct: 2<br>Mean Loss: 0.6926901299754779<br>Avg Learning Rate: 0.004342",
          "data_size_pct: 3<br>Mean Loss: 0.6927574083209038<br>Avg Learning Rate: 0.001696",
          "data_size_pct: 4<br>Mean Loss: 0.6925590170423189<br>Avg Learning Rate: 0.004273",
          "data_size_pct: 5<br>Mean Loss: 0.692685031692187<br>Avg Learning Rate: 0.003058",
          "data_size_pct: 6<br>Mean Loss: 0.6926926989356677<br>Avg Learning Rate: 0.0029620000000000002",
          "data_size_pct: 7<br>Mean Loss: 0.6927466990550359<br>Avg Learning Rate: 0.002131",
          "data_size_pct: 8<br>Mean Loss: 0.6927371519804001<br>Avg Learning Rate: 0.002056",
          "data_size_pct: 9<br>Mean Loss: 0.6926622685790063<br>Avg Learning Rate: 0.004339",
          "data_size_pct: 10<br>Mean Loss: 0.690292689204216<br>Avg Learning Rate: 0.004432000000000001",
          "data_size_pct: 20<br>Mean Loss: 0.6919463660319647<br>Avg Learning Rate: 0.012874",
          "data_size_pct: 30<br>Mean Loss: 0.6831468717753887<br>Avg Learning Rate: 0.018322",
          "data_size_pct: 40<br>Mean Loss: 0.6926896585027377<br>Avg Learning Rate: 0.011896",
          "data_size_pct: 50<br>Mean Loss: 0.6917744207382202<br>Avg Learning Rate: 0.012556000000000001",
          "data_size_pct: 60<br>Mean Loss: 0.6925910080472628<br>Avg Learning Rate: 0.019318000000000002",
          "data_size_pct: 70<br>Mean Loss: 0.6891132952769597<br>Avg Learning Rate: 0.025468",
          "data_size_pct: 80<br>Mean Loss: 0.6925667285919189<br>Avg Learning Rate: 0.011938",
          "data_size_pct: 90<br>Mean Loss: 0.6923100544015566<br>Avg Learning Rate: 0.015097000000000001",
          "data_size_pct: 100<br>Mean Loss: 0.6899328940113385<br>Avg Learning Rate: 0.021862"
         ],
         "mode": "lines+markers",
         "name": "0.055",
         "type": "scatter",
         "x": [
          1,
          2,
          3,
          4,
          5,
          6,
          7,
          8,
          9,
          10,
          20,
          30,
          40,
          50,
          60,
          70,
          80,
          90,
          100
         ],
         "xaxis": "x12",
         "y": [
          0.6927858612934749,
          0.6926901299754779,
          0.6927574083209038,
          0.6925590170423189,
          0.692685031692187,
          0.6926926989356677,
          0.6927466990550359,
          0.6927371519804001,
          0.6926622685790063,
          0.690292689204216,
          0.6919463660319647,
          0.6831468717753887,
          0.6926896585027377,
          0.6917744207382202,
          0.6925910080472628,
          0.6891132952769597,
          0.6925667285919189,
          0.6923100544015566,
          0.6899328940113385
         ],
         "yaxis": "y12"
        },
        {
         "error_y": {
          "array": [
           0.00019448679111666204,
           0.00013627192139832424,
           0.0004329939273870073,
           0.0017621314081519915,
           0.00006545857825368888,
           0.0025320448881374995,
           0.0016006347619422737,
           0.007318572207656014,
           0.0005267527674010778,
           0.0006935643243273747,
           0.0015513995432773512,
           0.004514936021200821,
           0.004590725510194713,
           0.008327126433768707,
           0.000022494441736520624,
           0.04421976553070431,
           0.0017649896167061976,
           0.00386420621020059,
           0.005117264679574079
          ],
          "type": "data",
          "visible": true
         },
         "hoverinfo": "text",
         "hovertext": [
          "data_size_pct: 1<br>Mean Loss: 0.6926637401183446<br>Avg Learning Rate: 0.004045000000000001",
          "data_size_pct: 2<br>Mean Loss: 0.6927340441942215<br>Avg Learning Rate: 0.002149",
          "data_size_pct: 3<br>Mean Loss: 0.6928059950470924<br>Avg Learning Rate: 0.004966",
          "data_size_pct: 4<br>Mean Loss: 0.6924329778552055<br>Avg Learning Rate: 0.005338",
          "data_size_pct: 5<br>Mean Loss: 0.6926976324121158<br>Avg Learning Rate: 0.003682",
          "data_size_pct: 6<br>Mean Loss: 0.6922258852918942<br>Avg Learning Rate: 0.006661",
          "data_size_pct: 7<br>Mean Loss: 0.6924071122209231<br>Avg Learning Rate: 0.010741",
          "data_size_pct: 8<br>Mean Loss: 0.6913414384921392<br>Avg Learning Rate: 0.004825",
          "data_size_pct: 9<br>Mean Loss: 0.6926365282138189<br>Avg Learning Rate: 0.004375",
          "data_size_pct: 10<br>Mean Loss: 0.6925472072760265<br>Avg Learning Rate: 0.009055",
          "data_size_pct: 20<br>Mean Loss: 0.6922978413105011<br>Avg Learning Rate: 0.008269",
          "data_size_pct: 30<br>Mean Loss: 0.6912273997068404<br>Avg Learning Rate: 0.025684",
          "data_size_pct: 40<br>Mean Loss: 0.6918428323666255<br>Avg Learning Rate: 0.009115000000000002",
          "data_size_pct: 50<br>Mean Loss: 0.6903826301296552<br>Avg Learning Rate: 0.012265",
          "data_size_pct: 60<br>Mean Loss: 0.6926770457625389<br>Avg Learning Rate: 0.011998000000000002",
          "data_size_pct: 70<br>Mean Loss: 0.6845456638932228<br>Avg Learning Rate: 0.028132",
          "data_size_pct: 80<br>Mean Loss: 0.6923183742165565<br>Avg Learning Rate: 0.015298",
          "data_size_pct: 90<br>Mean Loss: 0.6915860849618911<br>Avg Learning Rate: 0.019798",
          "data_size_pct: 100<br>Mean Loss: 0.6914100556572278<br>Avg Learning Rate: 0.017155"
         ],
         "mode": "lines+markers",
         "name": "0.1",
         "type": "scatter",
         "x": [
          1,
          2,
          3,
          4,
          5,
          6,
          7,
          8,
          9,
          10,
          20,
          30,
          40,
          50,
          60,
          70,
          80,
          90,
          100
         ],
         "xaxis": "x13",
         "y": [
          0.6926637401183446,
          0.6927340441942215,
          0.6928059950470924,
          0.6924329778552055,
          0.6926976324121158,
          0.6922258852918942,
          0.6924071122209231,
          0.6913414384921392,
          0.6926365282138189,
          0.6925472072760265,
          0.6922978413105011,
          0.6912273997068404,
          0.6918428323666255,
          0.6903826301296552,
          0.6926770457625389,
          0.6845456638932228,
          0.6923183742165565,
          0.6915860849618911,
          0.6914100556572278
         ],
         "yaxis": "y13"
        }
       ],
       "layout": {
        "annotations": [
         {
          "font": {
           "size": 16
          },
          "showarrow": false,
          "text": "reg_val = 0.0",
          "x": 0.225,
          "xanchor": "center",
          "xref": "paper",
          "y": 0.9999999999999999,
          "yanchor": "bottom",
          "yref": "paper"
         },
         {
          "font": {
           "size": 16
          },
          "showarrow": false,
          "text": "reg_val = 5e-07",
          "x": 0.775,
          "xanchor": "center",
          "xref": "paper",
          "y": 0.9999999999999999,
          "yanchor": "bottom",
          "yref": "paper"
         },
         {
          "font": {
           "size": 16
          },
          "showarrow": false,
          "text": "reg_val = 1e-06",
          "x": 0.225,
          "xanchor": "center",
          "xref": "paper",
          "y": 0.8469387755102039,
          "yanchor": "bottom",
          "yref": "paper"
         },
         {
          "font": {
           "size": 16
          },
          "showarrow": false,
          "text": "reg_val = 5.5e-06",
          "x": 0.775,
          "xanchor": "center",
          "xref": "paper",
          "y": 0.8469387755102039,
          "yanchor": "bottom",
          "yref": "paper"
         },
         {
          "font": {
           "size": 16
          },
          "showarrow": false,
          "text": "reg_val = 1e-05",
          "x": 0.225,
          "xanchor": "center",
          "xref": "paper",
          "y": 0.6938775510204082,
          "yanchor": "bottom",
          "yref": "paper"
         },
         {
          "font": {
           "size": 16
          },
          "showarrow": false,
          "text": "reg_val = 5.5e-05",
          "x": 0.775,
          "xanchor": "center",
          "xref": "paper",
          "y": 0.6938775510204082,
          "yanchor": "bottom",
          "yref": "paper"
         },
         {
          "font": {
           "size": 16
          },
          "showarrow": false,
          "text": "reg_val = 0.0001",
          "x": 0.225,
          "xanchor": "center",
          "xref": "paper",
          "y": 0.5408163265306122,
          "yanchor": "bottom",
          "yref": "paper"
         },
         {
          "font": {
           "size": 16
          },
          "showarrow": false,
          "text": "reg_val = 0.00055",
          "x": 0.775,
          "xanchor": "center",
          "xref": "paper",
          "y": 0.5408163265306122,
          "yanchor": "bottom",
          "yref": "paper"
         },
         {
          "font": {
           "size": 16
          },
          "showarrow": false,
          "text": "reg_val = 0.001",
          "x": 0.225,
          "xanchor": "center",
          "xref": "paper",
          "y": 0.3877551020408163,
          "yanchor": "bottom",
          "yref": "paper"
         },
         {
          "font": {
           "size": 16
          },
          "showarrow": false,
          "text": "reg_val = 0.0055",
          "x": 0.775,
          "xanchor": "center",
          "xref": "paper",
          "y": 0.3877551020408163,
          "yanchor": "bottom",
          "yref": "paper"
         },
         {
          "font": {
           "size": 16
          },
          "showarrow": false,
          "text": "reg_val = 0.01",
          "x": 0.225,
          "xanchor": "center",
          "xref": "paper",
          "y": 0.2346938775510204,
          "yanchor": "bottom",
          "yref": "paper"
         },
         {
          "font": {
           "size": 16
          },
          "showarrow": false,
          "text": "reg_val = 0.055",
          "x": 0.775,
          "xanchor": "center",
          "xref": "paper",
          "y": 0.2346938775510204,
          "yanchor": "bottom",
          "yref": "paper"
         },
         {
          "font": {
           "size": 16
          },
          "showarrow": false,
          "text": "reg_val = 0.1",
          "x": 0.225,
          "xanchor": "center",
          "xref": "paper",
          "y": 0.08163265306122448,
          "yanchor": "bottom",
          "yref": "paper"
         }
        ],
        "height": 2240,
        "showlegend": false,
        "template": {
         "data": {
          "bar": [
           {
            "error_x": {
             "color": "#2a3f5f"
            },
            "error_y": {
             "color": "#2a3f5f"
            },
            "marker": {
             "line": {
              "color": "#E5ECF6",
              "width": 0.5
             },
             "pattern": {
              "fillmode": "overlay",
              "size": 10,
              "solidity": 0.2
             }
            },
            "type": "bar"
           }
          ],
          "barpolar": [
           {
            "marker": {
             "line": {
              "color": "#E5ECF6",
              "width": 0.5
             },
             "pattern": {
              "fillmode": "overlay",
              "size": 10,
              "solidity": 0.2
             }
            },
            "type": "barpolar"
           }
          ],
          "carpet": [
           {
            "aaxis": {
             "endlinecolor": "#2a3f5f",
             "gridcolor": "white",
             "linecolor": "white",
             "minorgridcolor": "white",
             "startlinecolor": "#2a3f5f"
            },
            "baxis": {
             "endlinecolor": "#2a3f5f",
             "gridcolor": "white",
             "linecolor": "white",
             "minorgridcolor": "white",
             "startlinecolor": "#2a3f5f"
            },
            "type": "carpet"
           }
          ],
          "choropleth": [
           {
            "colorbar": {
             "outlinewidth": 0,
             "ticks": ""
            },
            "type": "choropleth"
           }
          ],
          "contour": [
           {
            "colorbar": {
             "outlinewidth": 0,
             "ticks": ""
            },
            "colorscale": [
             [
              0,
              "#0d0887"
             ],
             [
              0.1111111111111111,
              "#46039f"
             ],
             [
              0.2222222222222222,
              "#7201a8"
             ],
             [
              0.3333333333333333,
              "#9c179e"
             ],
             [
              0.4444444444444444,
              "#bd3786"
             ],
             [
              0.5555555555555556,
              "#d8576b"
             ],
             [
              0.6666666666666666,
              "#ed7953"
             ],
             [
              0.7777777777777778,
              "#fb9f3a"
             ],
             [
              0.8888888888888888,
              "#fdca26"
             ],
             [
              1,
              "#f0f921"
             ]
            ],
            "type": "contour"
           }
          ],
          "contourcarpet": [
           {
            "colorbar": {
             "outlinewidth": 0,
             "ticks": ""
            },
            "type": "contourcarpet"
           }
          ],
          "heatmap": [
           {
            "colorbar": {
             "outlinewidth": 0,
             "ticks": ""
            },
            "colorscale": [
             [
              0,
              "#0d0887"
             ],
             [
              0.1111111111111111,
              "#46039f"
             ],
             [
              0.2222222222222222,
              "#7201a8"
             ],
             [
              0.3333333333333333,
              "#9c179e"
             ],
             [
              0.4444444444444444,
              "#bd3786"
             ],
             [
              0.5555555555555556,
              "#d8576b"
             ],
             [
              0.6666666666666666,
              "#ed7953"
             ],
             [
              0.7777777777777778,
              "#fb9f3a"
             ],
             [
              0.8888888888888888,
              "#fdca26"
             ],
             [
              1,
              "#f0f921"
             ]
            ],
            "type": "heatmap"
           }
          ],
          "heatmapgl": [
           {
            "colorbar": {
             "outlinewidth": 0,
             "ticks": ""
            },
            "colorscale": [
             [
              0,
              "#0d0887"
             ],
             [
              0.1111111111111111,
              "#46039f"
             ],
             [
              0.2222222222222222,
              "#7201a8"
             ],
             [
              0.3333333333333333,
              "#9c179e"
             ],
             [
              0.4444444444444444,
              "#bd3786"
             ],
             [
              0.5555555555555556,
              "#d8576b"
             ],
             [
              0.6666666666666666,
              "#ed7953"
             ],
             [
              0.7777777777777778,
              "#fb9f3a"
             ],
             [
              0.8888888888888888,
              "#fdca26"
             ],
             [
              1,
              "#f0f921"
             ]
            ],
            "type": "heatmapgl"
           }
          ],
          "histogram": [
           {
            "marker": {
             "pattern": {
              "fillmode": "overlay",
              "size": 10,
              "solidity": 0.2
             }
            },
            "type": "histogram"
           }
          ],
          "histogram2d": [
           {
            "colorbar": {
             "outlinewidth": 0,
             "ticks": ""
            },
            "colorscale": [
             [
              0,
              "#0d0887"
             ],
             [
              0.1111111111111111,
              "#46039f"
             ],
             [
              0.2222222222222222,
              "#7201a8"
             ],
             [
              0.3333333333333333,
              "#9c179e"
             ],
             [
              0.4444444444444444,
              "#bd3786"
             ],
             [
              0.5555555555555556,
              "#d8576b"
             ],
             [
              0.6666666666666666,
              "#ed7953"
             ],
             [
              0.7777777777777778,
              "#fb9f3a"
             ],
             [
              0.8888888888888888,
              "#fdca26"
             ],
             [
              1,
              "#f0f921"
             ]
            ],
            "type": "histogram2d"
           }
          ],
          "histogram2dcontour": [
           {
            "colorbar": {
             "outlinewidth": 0,
             "ticks": ""
            },
            "colorscale": [
             [
              0,
              "#0d0887"
             ],
             [
              0.1111111111111111,
              "#46039f"
             ],
             [
              0.2222222222222222,
              "#7201a8"
             ],
             [
              0.3333333333333333,
              "#9c179e"
             ],
             [
              0.4444444444444444,
              "#bd3786"
             ],
             [
              0.5555555555555556,
              "#d8576b"
             ],
             [
              0.6666666666666666,
              "#ed7953"
             ],
             [
              0.7777777777777778,
              "#fb9f3a"
             ],
             [
              0.8888888888888888,
              "#fdca26"
             ],
             [
              1,
              "#f0f921"
             ]
            ],
            "type": "histogram2dcontour"
           }
          ],
          "mesh3d": [
           {
            "colorbar": {
             "outlinewidth": 0,
             "ticks": ""
            },
            "type": "mesh3d"
           }
          ],
          "parcoords": [
           {
            "line": {
             "colorbar": {
              "outlinewidth": 0,
              "ticks": ""
             }
            },
            "type": "parcoords"
           }
          ],
          "pie": [
           {
            "automargin": true,
            "type": "pie"
           }
          ],
          "scatter": [
           {
            "fillpattern": {
             "fillmode": "overlay",
             "size": 10,
             "solidity": 0.2
            },
            "type": "scatter"
           }
          ],
          "scatter3d": [
           {
            "line": {
             "colorbar": {
              "outlinewidth": 0,
              "ticks": ""
             }
            },
            "marker": {
             "colorbar": {
              "outlinewidth": 0,
              "ticks": ""
             }
            },
            "type": "scatter3d"
           }
          ],
          "scattercarpet": [
           {
            "marker": {
             "colorbar": {
              "outlinewidth": 0,
              "ticks": ""
             }
            },
            "type": "scattercarpet"
           }
          ],
          "scattergeo": [
           {
            "marker": {
             "colorbar": {
              "outlinewidth": 0,
              "ticks": ""
             }
            },
            "type": "scattergeo"
           }
          ],
          "scattergl": [
           {
            "marker": {
             "colorbar": {
              "outlinewidth": 0,
              "ticks": ""
             }
            },
            "type": "scattergl"
           }
          ],
          "scattermapbox": [
           {
            "marker": {
             "colorbar": {
              "outlinewidth": 0,
              "ticks": ""
             }
            },
            "type": "scattermapbox"
           }
          ],
          "scatterpolar": [
           {
            "marker": {
             "colorbar": {
              "outlinewidth": 0,
              "ticks": ""
             }
            },
            "type": "scatterpolar"
           }
          ],
          "scatterpolargl": [
           {
            "marker": {
             "colorbar": {
              "outlinewidth": 0,
              "ticks": ""
             }
            },
            "type": "scatterpolargl"
           }
          ],
          "scatterternary": [
           {
            "marker": {
             "colorbar": {
              "outlinewidth": 0,
              "ticks": ""
             }
            },
            "type": "scatterternary"
           }
          ],
          "surface": [
           {
            "colorbar": {
             "outlinewidth": 0,
             "ticks": ""
            },
            "colorscale": [
             [
              0,
              "#0d0887"
             ],
             [
              0.1111111111111111,
              "#46039f"
             ],
             [
              0.2222222222222222,
              "#7201a8"
             ],
             [
              0.3333333333333333,
              "#9c179e"
             ],
             [
              0.4444444444444444,
              "#bd3786"
             ],
             [
              0.5555555555555556,
              "#d8576b"
             ],
             [
              0.6666666666666666,
              "#ed7953"
             ],
             [
              0.7777777777777778,
              "#fb9f3a"
             ],
             [
              0.8888888888888888,
              "#fdca26"
             ],
             [
              1,
              "#f0f921"
             ]
            ],
            "type": "surface"
           }
          ],
          "table": [
           {
            "cells": {
             "fill": {
              "color": "#EBF0F8"
             },
             "line": {
              "color": "white"
             }
            },
            "header": {
             "fill": {
              "color": "#C8D4E3"
             },
             "line": {
              "color": "white"
             }
            },
            "type": "table"
           }
          ]
         },
         "layout": {
          "annotationdefaults": {
           "arrowcolor": "#2a3f5f",
           "arrowhead": 0,
           "arrowwidth": 1
          },
          "autotypenumbers": "strict",
          "coloraxis": {
           "colorbar": {
            "outlinewidth": 0,
            "ticks": ""
           }
          },
          "colorscale": {
           "diverging": [
            [
             0,
             "#8e0152"
            ],
            [
             0.1,
             "#c51b7d"
            ],
            [
             0.2,
             "#de77ae"
            ],
            [
             0.3,
             "#f1b6da"
            ],
            [
             0.4,
             "#fde0ef"
            ],
            [
             0.5,
             "#f7f7f7"
            ],
            [
             0.6,
             "#e6f5d0"
            ],
            [
             0.7,
             "#b8e186"
            ],
            [
             0.8,
             "#7fbc41"
            ],
            [
             0.9,
             "#4d9221"
            ],
            [
             1,
             "#276419"
            ]
           ],
           "sequential": [
            [
             0,
             "#0d0887"
            ],
            [
             0.1111111111111111,
             "#46039f"
            ],
            [
             0.2222222222222222,
             "#7201a8"
            ],
            [
             0.3333333333333333,
             "#9c179e"
            ],
            [
             0.4444444444444444,
             "#bd3786"
            ],
            [
             0.5555555555555556,
             "#d8576b"
            ],
            [
             0.6666666666666666,
             "#ed7953"
            ],
            [
             0.7777777777777778,
             "#fb9f3a"
            ],
            [
             0.8888888888888888,
             "#fdca26"
            ],
            [
             1,
             "#f0f921"
            ]
           ],
           "sequentialminus": [
            [
             0,
             "#0d0887"
            ],
            [
             0.1111111111111111,
             "#46039f"
            ],
            [
             0.2222222222222222,
             "#7201a8"
            ],
            [
             0.3333333333333333,
             "#9c179e"
            ],
            [
             0.4444444444444444,
             "#bd3786"
            ],
            [
             0.5555555555555556,
             "#d8576b"
            ],
            [
             0.6666666666666666,
             "#ed7953"
            ],
            [
             0.7777777777777778,
             "#fb9f3a"
            ],
            [
             0.8888888888888888,
             "#fdca26"
            ],
            [
             1,
             "#f0f921"
            ]
           ]
          },
          "colorway": [
           "#636efa",
           "#EF553B",
           "#00cc96",
           "#ab63fa",
           "#FFA15A",
           "#19d3f3",
           "#FF6692",
           "#B6E880",
           "#FF97FF",
           "#FECB52"
          ],
          "font": {
           "color": "#2a3f5f"
          },
          "geo": {
           "bgcolor": "white",
           "lakecolor": "white",
           "landcolor": "#E5ECF6",
           "showlakes": true,
           "showland": true,
           "subunitcolor": "white"
          },
          "hoverlabel": {
           "align": "left"
          },
          "hovermode": "closest",
          "mapbox": {
           "style": "light"
          },
          "paper_bgcolor": "white",
          "plot_bgcolor": "#E5ECF6",
          "polar": {
           "angularaxis": {
            "gridcolor": "white",
            "linecolor": "white",
            "ticks": ""
           },
           "bgcolor": "#E5ECF6",
           "radialaxis": {
            "gridcolor": "white",
            "linecolor": "white",
            "ticks": ""
           }
          },
          "scene": {
           "xaxis": {
            "backgroundcolor": "#E5ECF6",
            "gridcolor": "white",
            "gridwidth": 2,
            "linecolor": "white",
            "showbackground": true,
            "ticks": "",
            "zerolinecolor": "white"
           },
           "yaxis": {
            "backgroundcolor": "#E5ECF6",
            "gridcolor": "white",
            "gridwidth": 2,
            "linecolor": "white",
            "showbackground": true,
            "ticks": "",
            "zerolinecolor": "white"
           },
           "zaxis": {
            "backgroundcolor": "#E5ECF6",
            "gridcolor": "white",
            "gridwidth": 2,
            "linecolor": "white",
            "showbackground": true,
            "ticks": "",
            "zerolinecolor": "white"
           }
          },
          "shapedefaults": {
           "line": {
            "color": "#2a3f5f"
           }
          },
          "ternary": {
           "aaxis": {
            "gridcolor": "white",
            "linecolor": "white",
            "ticks": ""
           },
           "baxis": {
            "gridcolor": "white",
            "linecolor": "white",
            "ticks": ""
           },
           "bgcolor": "#E5ECF6",
           "caxis": {
            "gridcolor": "white",
            "linecolor": "white",
            "ticks": ""
           }
          },
          "title": {
           "x": 0.05
          },
          "xaxis": {
           "automargin": true,
           "gridcolor": "white",
           "linecolor": "white",
           "ticks": "",
           "title": {
            "standoff": 15
           },
           "zerolinecolor": "white",
           "zerolinewidth": 2
          },
          "yaxis": {
           "automargin": true,
           "gridcolor": "white",
           "linecolor": "white",
           "ticks": "",
           "title": {
            "standoff": 15
           },
           "zerolinecolor": "white",
           "zerolinewidth": 2
          }
         }
        },
        "title": {
         "text": "Mean Loss vs data_size_pct grouped by reg_val"
        },
        "width": 1000,
        "xaxis": {
         "anchor": "y",
         "domain": [
          0,
          0.45
         ],
         "range": [
          -3.95,
          104.95
         ],
         "title": {
          "text": "data_size_pct"
         }
        },
        "xaxis10": {
         "anchor": "y10",
         "domain": [
          0.55,
          1
         ],
         "range": [
          -3.95,
          104.95
         ],
         "title": {
          "text": "data_size_pct"
         }
        },
        "xaxis11": {
         "anchor": "y11",
         "domain": [
          0,
          0.45
         ],
         "range": [
          -3.95,
          104.95
         ],
         "title": {
          "text": "data_size_pct"
         }
        },
        "xaxis12": {
         "anchor": "y12",
         "domain": [
          0.55,
          1
         ],
         "range": [
          -3.95,
          104.95
         ],
         "title": {
          "text": "data_size_pct"
         }
        },
        "xaxis13": {
         "anchor": "y13",
         "domain": [
          0,
          0.45
         ],
         "range": [
          -3.95,
          104.95
         ],
         "title": {
          "text": "data_size_pct"
         }
        },
        "xaxis14": {
         "anchor": "y14",
         "domain": [
          0.55,
          1
         ]
        },
        "xaxis2": {
         "anchor": "y2",
         "domain": [
          0.55,
          1
         ],
         "range": [
          -3.95,
          104.95
         ],
         "title": {
          "text": "data_size_pct"
         }
        },
        "xaxis3": {
         "anchor": "y3",
         "domain": [
          0,
          0.45
         ],
         "range": [
          -3.95,
          104.95
         ],
         "title": {
          "text": "data_size_pct"
         }
        },
        "xaxis4": {
         "anchor": "y4",
         "domain": [
          0.55,
          1
         ],
         "range": [
          -3.95,
          104.95
         ],
         "title": {
          "text": "data_size_pct"
         }
        },
        "xaxis5": {
         "anchor": "y5",
         "domain": [
          0,
          0.45
         ],
         "range": [
          -3.95,
          104.95
         ],
         "title": {
          "text": "data_size_pct"
         }
        },
        "xaxis6": {
         "anchor": "y6",
         "domain": [
          0.55,
          1
         ],
         "range": [
          -3.95,
          104.95
         ],
         "title": {
          "text": "data_size_pct"
         }
        },
        "xaxis7": {
         "anchor": "y7",
         "domain": [
          0,
          0.45
         ],
         "range": [
          -3.95,
          104.95
         ],
         "title": {
          "text": "data_size_pct"
         }
        },
        "xaxis8": {
         "anchor": "y8",
         "domain": [
          0.55,
          1
         ],
         "range": [
          -3.95,
          104.95
         ],
         "title": {
          "text": "data_size_pct"
         }
        },
        "xaxis9": {
         "anchor": "y9",
         "domain": [
          0,
          0.45
         ],
         "range": [
          -3.95,
          104.95
         ],
         "title": {
          "text": "data_size_pct"
         }
        },
        "yaxis": {
         "anchor": "x",
         "domain": [
          0.9183673469387754,
          0.9999999999999999
         ],
         "range": [
          0.2022501556230709,
          0.7567915393197908
         ],
         "title": {
          "text": "Mean Loss"
         }
        },
        "yaxis10": {
         "anchor": "x10",
         "domain": [
          0.30612244897959184,
          0.3877551020408163
         ],
         "range": [
          0.2022501556230709,
          0.7567915393197908
         ],
         "title": {
          "text": "Mean Loss"
         }
        },
        "yaxis11": {
         "anchor": "x11",
         "domain": [
          0.15306122448979592,
          0.2346938775510204
         ],
         "range": [
          0.2022501556230709,
          0.7567915393197908
         ],
         "title": {
          "text": "Mean Loss"
         }
        },
        "yaxis12": {
         "anchor": "x12",
         "domain": [
          0.15306122448979592,
          0.2346938775510204
         ],
         "range": [
          0.2022501556230709,
          0.7567915393197908
         ],
         "title": {
          "text": "Mean Loss"
         }
        },
        "yaxis13": {
         "anchor": "x13",
         "domain": [
          0,
          0.08163265306122448
         ],
         "range": [
          0.2022501556230709,
          0.7567915393197908
         ],
         "title": {
          "text": "Mean Loss"
         }
        },
        "yaxis14": {
         "anchor": "x14",
         "domain": [
          0,
          0.08163265306122448
         ]
        },
        "yaxis2": {
         "anchor": "x2",
         "domain": [
          0.9183673469387754,
          0.9999999999999999
         ],
         "range": [
          0.2022501556230709,
          0.7567915393197908
         ],
         "title": {
          "text": "Mean Loss"
         }
        },
        "yaxis3": {
         "anchor": "x3",
         "domain": [
          0.7653061224489794,
          0.8469387755102039
         ],
         "range": [
          0.2022501556230709,
          0.7567915393197908
         ],
         "title": {
          "text": "Mean Loss"
         }
        },
        "yaxis4": {
         "anchor": "x4",
         "domain": [
          0.7653061224489794,
          0.8469387755102039
         ],
         "range": [
          0.2022501556230709,
          0.7567915393197908
         ],
         "title": {
          "text": "Mean Loss"
         }
        },
        "yaxis5": {
         "anchor": "x5",
         "domain": [
          0.6122448979591837,
          0.6938775510204082
         ],
         "range": [
          0.2022501556230709,
          0.7567915393197908
         ],
         "title": {
          "text": "Mean Loss"
         }
        },
        "yaxis6": {
         "anchor": "x6",
         "domain": [
          0.6122448979591837,
          0.6938775510204082
         ],
         "range": [
          0.2022501556230709,
          0.7567915393197908
         ],
         "title": {
          "text": "Mean Loss"
         }
        },
        "yaxis7": {
         "anchor": "x7",
         "domain": [
          0.4591836734693877,
          0.5408163265306122
         ],
         "range": [
          0.2022501556230709,
          0.7567915393197908
         ],
         "title": {
          "text": "Mean Loss"
         }
        },
        "yaxis8": {
         "anchor": "x8",
         "domain": [
          0.4591836734693877,
          0.5408163265306122
         ],
         "range": [
          0.2022501556230709,
          0.7567915393197908
         ],
         "title": {
          "text": "Mean Loss"
         }
        },
        "yaxis9": {
         "anchor": "x9",
         "domain": [
          0.30612244897959184,
          0.3877551020408163
         ],
         "range": [
          0.2022501556230709,
          0.7567915393197908
         ],
         "title": {
          "text": "Mean Loss"
         }
        }
       }
      }
     },
     "metadata": {},
     "output_type": "display_data"
    }
   ],
   "source": [
    "plot_reg_val = plot_mean_loss(dataset, x_axis='data_size_pct', group_by='reg_val', log_x=False)"
   ]
  },
  {
   "cell_type": "code",
   "execution_count": 49,
   "metadata": {},
   "outputs": [
    {
     "name": "stdout",
     "output_type": "stream",
     "text": [
      "Shifted 'reg_val' by 1e-06 to make all values positive for log scale.\n"
     ]
    },
    {
     "data": {
      "application/vnd.plotly.v1+json": {
       "config": {
        "plotlyServerURL": "https://plot.ly"
       },
       "data": [
        {
         "error_y": {
          "array": [
           0.026385768739754904,
           0.03339699151904729,
           0.03691277077180597,
           0.0288846133460586,
           0.03381395514720298,
           0.0318911100644496,
           0.039054591460549785,
           0.03037494332928278,
           0.02858747266123198,
           0.025769929272088255,
           0.029719747104810092,
           0.0004593057946236876,
           0.00019448679111666204
          ],
          "type": "data",
          "visible": true
         },
         "hoverinfo": "text",
         "hovertext": [
          "reg_val: 1e-06<br>Mean Loss: 0.6581666253010432<br>Avg Learning Rate: 0.005257",
          "reg_val: 1.5e-06<br>Mean Loss: 0.6542377854386966<br>Avg Learning Rate: 0.006127",
          "reg_val: 2e-06<br>Mean Loss: 0.6553212486207485<br>Avg Learning Rate: 0.005527000000000001",
          "reg_val: 6.5e-06<br>Mean Loss: 0.6560138613979022<br>Avg Learning Rate: 0.004657",
          "reg_val: 1.1000000000000001e-05<br>Mean Loss: 0.6519740112125874<br>Avg Learning Rate: 0.005347",
          "reg_val: 5.6e-05<br>Mean Loss: 0.6501003796855609<br>Avg Learning Rate: 0.005257",
          "reg_val: 0.000101<br>Mean Loss: 0.6522047417362532<br>Avg Learning Rate: 0.0049239999999999996",
          "reg_val: 0.0005510000000000001<br>Mean Loss: 0.6549923621118069<br>Avg Learning Rate: 0.007147",
          "reg_val: 0.001001<br>Mean Loss: 0.6575504075487455<br>Avg Learning Rate: 0.005584",
          "reg_val: 0.005501<br>Mean Loss: 0.6714701493581136<br>Avg Learning Rate: 0.006721",
          "reg_val: 0.010001<br>Mean Loss: 0.6744793080290158<br>Avg Learning Rate: 0.004999000000000001",
          "reg_val: 0.055001<br>Mean Loss: 0.6927858612934749<br>Avg Learning Rate: 0.0005769999999999999",
          "reg_val: 0.100001<br>Mean Loss: 0.6926637401183446<br>Avg Learning Rate: 0.004045000000000001"
         ],
         "mode": "lines+markers",
         "name": "1",
         "type": "scatter",
         "x": [
          0.000001,
          0.0000015,
          0.000002,
          0.0000065,
          0.000011000000000000001,
          0.000056,
          0.000101,
          0.0005510000000000001,
          0.001001,
          0.005501,
          0.010001,
          0.055001,
          0.100001
         ],
         "xaxis": "x",
         "y": [
          0.6581666253010432,
          0.6542377854386966,
          0.6553212486207485,
          0.6560138613979022,
          0.6519740112125874,
          0.6501003796855609,
          0.6522047417362532,
          0.6549923621118069,
          0.6575504075487455,
          0.6714701493581136,
          0.6744793080290158,
          0.6927858612934749,
          0.6926637401183446
         ],
         "yaxis": "y"
        },
        {
         "error_y": {
          "array": [
           0.04428813439621693,
           0.041341407570940125,
           0.03982592031134514,
           0.03780142153244555,
           0.041778254893329016,
           0.045614283371480185,
           0.0501742894193226,
           0.04464444378859551,
           0.04817151645662033,
           0.048645628575462,
           0.055572219337270315,
           0.0006423243145501499,
           0.00013627192139832424
          ],
          "type": "data",
          "visible": true
         },
         "hoverinfo": "text",
         "hovertext": [
          "reg_val: 1e-06<br>Mean Loss: 0.5933529893557231<br>Avg Learning Rate: 0.00172",
          "reg_val: 1.5e-06<br>Mean Loss: 0.5931385990977288<br>Avg Learning Rate: 0.00235",
          "reg_val: 2e-06<br>Mean Loss: 0.6012765245636305<br>Avg Learning Rate: 0.0020800000000000003",
          "reg_val: 6.5e-06<br>Mean Loss: 0.5929482033848763<br>Avg Learning Rate: 0.0025900000000000003",
          "reg_val: 1.1000000000000001e-05<br>Mean Loss: 0.5919789568086464<br>Avg Learning Rate: 0.00193",
          "reg_val: 5.6e-05<br>Mean Loss: 0.5980324629445871<br>Avg Learning Rate: 0.0025900000000000003",
          "reg_val: 0.000101<br>Mean Loss: 0.5909631069004535<br>Avg Learning Rate: 0.00232",
          "reg_val: 0.0005510000000000001<br>Mean Loss: 0.5916651115318139<br>Avg Learning Rate: 0.00268",
          "reg_val: 0.001001<br>Mean Loss: 0.5972034854690234<br>Avg Learning Rate: 0.006640000000000001",
          "reg_val: 0.005501<br>Mean Loss: 0.612005858918031<br>Avg Learning Rate: 0.001987",
          "reg_val: 0.010001<br>Mean Loss: 0.6401800714929898<br>Avg Learning Rate: 0.000874",
          "reg_val: 0.055001<br>Mean Loss: 0.6926901299754779<br>Avg Learning Rate: 0.004342",
          "reg_val: 0.100001<br>Mean Loss: 0.6927340441942215<br>Avg Learning Rate: 0.002149"
         ],
         "mode": "lines+markers",
         "name": "2",
         "type": "scatter",
         "x": [
          0.000001,
          0.0000015,
          0.000002,
          0.0000065,
          0.000011000000000000001,
          0.000056,
          0.000101,
          0.0005510000000000001,
          0.001001,
          0.005501,
          0.010001,
          0.055001,
          0.100001
         ],
         "xaxis": "x2",
         "y": [
          0.5933529893557231,
          0.5931385990977288,
          0.6012765245636305,
          0.5929482033848763,
          0.5919789568086464,
          0.5980324629445871,
          0.5909631069004535,
          0.5916651115318139,
          0.5972034854690234,
          0.612005858918031,
          0.6401800714929898,
          0.6926901299754779,
          0.6927340441942215
         ],
         "yaxis": "y2"
        },
        {
         "error_y": {
          "array": [
           0.05514488945157585,
           0.055026913010931065,
           0.05480315392199104,
           0.05194406382502024,
           0.056868472053834496,
           0.05998410891100966,
           0.05813755116832196,
           0.06264889759117706,
           0.05862138172541455,
           0.07116355026644171,
           0.06967540452798225,
           0.00017636550768569215,
           0.0004329939273870073
          ],
          "type": "data",
          "visible": true
         },
         "hoverinfo": "text",
         "hovertext": [
          "reg_val: 1e-06<br>Mean Loss: 0.5761397994558017<br>Avg Learning Rate: 0.00328",
          "reg_val: 1.5e-06<br>Mean Loss: 0.5710081625481447<br>Avg Learning Rate: 0.00364",
          "reg_val: 2e-06<br>Mean Loss: 0.5759483127295971<br>Avg Learning Rate: 0.00331",
          "reg_val: 6.5e-06<br>Mean Loss: 0.572860000183185<br>Avg Learning Rate: 0.00334",
          "reg_val: 1.1000000000000001e-05<br>Mean Loss: 0.5794247765342394<br>Avg Learning Rate: 0.003607",
          "reg_val: 5.6e-05<br>Mean Loss: 0.5727694563567638<br>Avg Learning Rate: 0.00304",
          "reg_val: 0.000101<br>Mean Loss: 0.5789720327158768<br>Avg Learning Rate: 0.0028",
          "reg_val: 0.0005510000000000001<br>Mean Loss: 0.5804419896006584<br>Avg Learning Rate: 0.002707",
          "reg_val: 0.001001<br>Mean Loss: 0.5771447610855103<br>Avg Learning Rate: 0.00292",
          "reg_val: 0.005501<br>Mean Loss: 0.600956768890222<br>Avg Learning Rate: 0.002131",
          "reg_val: 0.010001<br>Mean Loss: 0.6501476026078065<br>Avg Learning Rate: 0.000397",
          "reg_val: 0.055001<br>Mean Loss: 0.6927574083209038<br>Avg Learning Rate: 0.001696",
          "reg_val: 0.100001<br>Mean Loss: 0.6928059950470924<br>Avg Learning Rate: 0.004966"
         ],
         "mode": "lines+markers",
         "name": "3",
         "type": "scatter",
         "x": [
          0.000001,
          0.0000015,
          0.000002,
          0.0000065,
          0.000011000000000000001,
          0.000056,
          0.000101,
          0.0005510000000000001,
          0.001001,
          0.005501,
          0.010001,
          0.055001,
          0.100001
         ],
         "xaxis": "x3",
         "y": [
          0.5761397994558017,
          0.5710081625481447,
          0.5759483127295971,
          0.572860000183185,
          0.5794247765342394,
          0.5727694563567638,
          0.5789720327158768,
          0.5804419896006584,
          0.5771447610855103,
          0.600956768890222,
          0.6501476026078065,
          0.6927574083209038,
          0.6928059950470924
         ],
         "yaxis": "y3"
        },
        {
         "error_y": {
          "array": [
           0.052705867546303596,
           0.051581874122926925,
           0.05425910697609979,
           0.059816858949462086,
           0.053054263203333014,
           0.05660982380091716,
           0.0584926288804455,
           0.06114716848929453,
           0.05825468978009217,
           0.07546941387611755,
           0.0693887763905315,
           0.0007596842326371138,
           0.0017621314081519915
          ],
          "type": "data",
          "visible": true
         },
         "hoverinfo": "text",
         "hovertext": [
          "reg_val: 1e-06<br>Mean Loss: 0.5346060084303219<br>Avg Learning Rate: 0.00193",
          "reg_val: 1.5e-06<br>Mean Loss: 0.5440779816110929<br>Avg Learning Rate: 0.00295",
          "reg_val: 2e-06<br>Mean Loss: 0.5401459895074368<br>Avg Learning Rate: 0.0029800000000000004",
          "reg_val: 6.5e-06<br>Mean Loss: 0.5479812412957351<br>Avg Learning Rate: 0.00244",
          "reg_val: 1.1000000000000001e-05<br>Mean Loss: 0.5415326349933942<br>Avg Learning Rate: 0.00136",
          "reg_val: 5.6e-05<br>Mean Loss: 0.5489964440961679<br>Avg Learning Rate: 0.00118",
          "reg_val: 0.000101<br>Mean Loss: 0.5503341896335283<br>Avg Learning Rate: 0.0016599999999999998",
          "reg_val: 0.0005510000000000001<br>Mean Loss: 0.5507821649809678<br>Avg Learning Rate: 0.001747",
          "reg_val: 0.001001<br>Mean Loss: 0.5640823223690192<br>Avg Learning Rate: 0.00184",
          "reg_val: 0.005501<br>Mean Loss: 0.6118499975899855<br>Avg Learning Rate: 0.007102",
          "reg_val: 0.010001<br>Mean Loss: 0.6518168269097805<br>Avg Learning Rate: 0.00046300000000000003",
          "reg_val: 0.055001<br>Mean Loss: 0.6925590170423189<br>Avg Learning Rate: 0.004273",
          "reg_val: 0.100001<br>Mean Loss: 0.6924329778552055<br>Avg Learning Rate: 0.005338"
         ],
         "mode": "lines+markers",
         "name": "4",
         "type": "scatter",
         "x": [
          0.000001,
          0.0000015,
          0.000002,
          0.0000065,
          0.000011000000000000001,
          0.000056,
          0.000101,
          0.0005510000000000001,
          0.001001,
          0.005501,
          0.010001,
          0.055001,
          0.100001
         ],
         "xaxis": "x4",
         "y": [
          0.5346060084303219,
          0.5440779816110929,
          0.5401459895074368,
          0.5479812412957351,
          0.5415326349933942,
          0.5489964440961679,
          0.5503341896335283,
          0.5507821649809678,
          0.5640823223690192,
          0.6118499975899855,
          0.6518168269097805,
          0.6925590170423189,
          0.6924329778552055
         ],
         "yaxis": "y4"
        },
        {
         "error_y": {
          "array": [
           0.033510951836059615,
           0.04575569826011999,
           0.03913979542729143,
           0.049582728451823745,
           0.04211197903396399,
           0.04235646303415628,
           0.04037751894875809,
           0.04012190504429618,
           0.03971295138387236,
           0.08294711760098684,
           0.06484637572316647,
           0.00010269101847427652,
           0.00006545857825368888
          ],
          "type": "data",
          "visible": true
         },
         "hoverinfo": "text",
         "hovertext": [
          "reg_val: 1e-06<br>Mean Loss: 0.5032687005897363<br>Avg Learning Rate: 0.00082",
          "reg_val: 1.5e-06<br>Mean Loss: 0.5114081205427646<br>Avg Learning Rate: 0.00091",
          "reg_val: 2e-06<br>Mean Loss: 0.5066953108708063<br>Avg Learning Rate: 0.0005800000000000001",
          "reg_val: 6.5e-06<br>Mean Loss: 0.5119637344777584<br>Avg Learning Rate: 0.00088",
          "reg_val: 1.1000000000000001e-05<br>Mean Loss: 0.5050825086732705<br>Avg Learning Rate: 0.00028",
          "reg_val: 5.6e-05<br>Mean Loss: 0.5025759569307168<br>Avg Learning Rate: 0.0008500000000000001",
          "reg_val: 0.000101<br>Mean Loss: 0.5055506813029448<br>Avg Learning Rate: 0.00091",
          "reg_val: 0.0005510000000000001<br>Mean Loss: 0.5109780052800973<br>Avg Learning Rate: 0.00103",
          "reg_val: 0.001001<br>Mean Loss: 0.5157178960740566<br>Avg Learning Rate: 0.00103",
          "reg_val: 0.005501<br>Mean Loss: 0.5553161309659481<br>Avg Learning Rate: 0.0037540000000000004",
          "reg_val: 0.010001<br>Mean Loss: 0.6627806815505027<br>Avg Learning Rate: 0.0007779999999999999",
          "reg_val: 0.055001<br>Mean Loss: 0.692685031692187<br>Avg Learning Rate: 0.003058",
          "reg_val: 0.100001<br>Mean Loss: 0.6926976324121158<br>Avg Learning Rate: 0.003682"
         ],
         "mode": "lines+markers",
         "name": "5",
         "type": "scatter",
         "x": [
          0.000001,
          0.0000015,
          0.000002,
          0.0000065,
          0.000011000000000000001,
          0.000056,
          0.000101,
          0.0005510000000000001,
          0.001001,
          0.005501,
          0.010001,
          0.055001,
          0.100001
         ],
         "xaxis": "x5",
         "y": [
          0.5032687005897363,
          0.5114081205427646,
          0.5066953108708063,
          0.5119637344777584,
          0.5050825086732705,
          0.5025759569307168,
          0.5055506813029448,
          0.5109780052800973,
          0.5157178960740566,
          0.5553161309659481,
          0.6627806815505027,
          0.692685031692187,
          0.6926976324121158
         ],
         "yaxis": "y5"
        },
        {
         "error_y": {
          "array": [
           0.0431373748407053,
           0.043832487166664214,
           0.042506784961961086,
           0.0488150643358973,
           0.050000805669297425,
           0.06044406256930931,
           0.05210114158658692,
           0.04723140411678252,
           0.053202274598137075,
           0.08767732012934255,
           0.020566709305159952,
           0.00009159288274107711,
           0.0025320448881374995
          ],
          "type": "data",
          "visible": true
         },
         "hoverinfo": "text",
         "hovertext": [
          "reg_val: 1e-06<br>Mean Loss: 0.4929598865409692<br>Avg Learning Rate: 0.0008500000000000001",
          "reg_val: 1.5e-06<br>Mean Loss: 0.49484785373012224<br>Avg Learning Rate: 0.0008500000000000001",
          "reg_val: 2e-06<br>Mean Loss: 0.491565449933211<br>Avg Learning Rate: 0.00097",
          "reg_val: 6.5e-06<br>Mean Loss: 0.5020668937762578<br>Avg Learning Rate: 0.00103",
          "reg_val: 1.1000000000000001e-05<br>Mean Loss: 0.49764983162283893<br>Avg Learning Rate: 0.00025",
          "reg_val: 5.6e-05<br>Mean Loss: 0.5083393233021101<br>Avg Learning Rate: 0.00103",
          "reg_val: 0.000101<br>Mean Loss: 0.49738061582048737<br>Avg Learning Rate: 0.00088",
          "reg_val: 0.0005510000000000001<br>Mean Loss: 0.4973147771755854<br>Avg Learning Rate: 0.00136",
          "reg_val: 0.001001<br>Mean Loss: 0.5056587937474251<br>Avg Learning Rate: 0.00073",
          "reg_val: 0.005501<br>Mean Loss: 0.5764315586288771<br>Avg Learning Rate: 0.000994",
          "reg_val: 0.010001<br>Mean Loss: 0.6872516894340515<br>Avg Learning Rate: 0.001654",
          "reg_val: 0.055001<br>Mean Loss: 0.6926926989356677<br>Avg Learning Rate: 0.0029620000000000002",
          "reg_val: 0.100001<br>Mean Loss: 0.6922258852918942<br>Avg Learning Rate: 0.006661"
         ],
         "mode": "lines+markers",
         "name": "6",
         "type": "scatter",
         "x": [
          0.000001,
          0.0000015,
          0.000002,
          0.0000065,
          0.000011000000000000001,
          0.000056,
          0.000101,
          0.0005510000000000001,
          0.001001,
          0.005501,
          0.010001,
          0.055001,
          0.100001
         ],
         "xaxis": "x6",
         "y": [
          0.4929598865409692,
          0.49484785373012224,
          0.491565449933211,
          0.5020668937762578,
          0.49764983162283893,
          0.5083393233021101,
          0.49738061582048737,
          0.4973147771755854,
          0.5056587937474251,
          0.5764315586288771,
          0.6872516894340515,
          0.6926926989356677,
          0.6922258852918942
         ],
         "yaxis": "y6"
        },
        {
         "error_y": {
          "array": [
           0.03442899097781602,
           0.032097277807806704,
           0.039667062094541704,
           0.03784233741148497,
           0.03311961660454196,
           0.03551283198751742,
           0.03858296309150801,
           0.04572782975298747,
           0.05338310762756423,
           0.040088636028368034,
           0.10344464883459666,
           0.00020665705170206807,
           0.0016006347619422737
          ],
          "type": "data",
          "visible": true
         },
         "hoverinfo": "text",
         "hovertext": [
          "reg_val: 1e-06<br>Mean Loss: 0.47589851483702655<br>Avg Learning Rate: 0.00112",
          "reg_val: 1.5e-06<br>Mean Loss: 0.47850306406617166<br>Avg Learning Rate: 0.0005200000000000001",
          "reg_val: 2e-06<br>Mean Loss: 0.47882764081160223<br>Avg Learning Rate: 0.0011200000000000001",
          "reg_val: 6.5e-06<br>Mean Loss: 0.47866598544021444<br>Avg Learning Rate: 0.00046",
          "reg_val: 1.1000000000000001e-05<br>Mean Loss: 0.4764381967236598<br>Avg Learning Rate: 0.00193",
          "reg_val: 5.6e-05<br>Mean Loss: 0.48471704110503194<br>Avg Learning Rate: 0.0015400000000000001",
          "reg_val: 0.000101<br>Mean Loss: 0.4783628050982952<br>Avg Learning Rate: 0.0012400000000000002",
          "reg_val: 0.0005510000000000001<br>Mean Loss: 0.4865232784549395<br>Avg Learning Rate: 0.0013",
          "reg_val: 0.001001<br>Mean Loss: 0.49500284478068346<br>Avg Learning Rate: 0.00037",
          "reg_val: 0.005501<br>Mean Loss: 0.49306291510661443<br>Avg Learning Rate: 0.00067",
          "reg_val: 0.010001<br>Mean Loss: 0.5928964144488176<br>Avg Learning Rate: 0.004858",
          "reg_val: 0.055001<br>Mean Loss: 0.6927466990550359<br>Avg Learning Rate: 0.002131",
          "reg_val: 0.100001<br>Mean Loss: 0.6924071122209231<br>Avg Learning Rate: 0.010741"
         ],
         "mode": "lines+markers",
         "name": "7",
         "type": "scatter",
         "x": [
          0.000001,
          0.0000015,
          0.000002,
          0.0000065,
          0.000011000000000000001,
          0.000056,
          0.000101,
          0.0005510000000000001,
          0.001001,
          0.005501,
          0.010001,
          0.055001,
          0.100001
         ],
         "xaxis": "x7",
         "y": [
          0.47589851483702655,
          0.47850306406617166,
          0.47882764081160223,
          0.47866598544021444,
          0.4764381967236598,
          0.48471704110503194,
          0.4783628050982952,
          0.4865232784549395,
          0.49500284478068346,
          0.49306291510661443,
          0.5928964144488176,
          0.6927466990550359,
          0.6924071122209231
         ],
         "yaxis": "y7"
        },
        {
         "error_y": {
          "array": [
           0.031841910812695,
           0.03318638949112868,
           0.03469972500166391,
           0.041297361473322865,
           0.03523600969795526,
           0.04066083586666711,
           0.042299997253635396,
           0.03421062483216291,
           0.03991630242396573,
           0.04260764215364907,
           0.11894659396914407,
           0.00024595190199150086,
           0.007318572207656014
          ],
          "type": "data",
          "visible": true
         },
         "hoverinfo": "text",
         "hovertext": [
          "reg_val: 1e-06<br>Mean Loss: 0.4607821782926718<br>Avg Learning Rate: 0.00112",
          "reg_val: 1.5e-06<br>Mean Loss: 0.4609370579073826<br>Avg Learning Rate: 0.00046",
          "reg_val: 2e-06<br>Mean Loss: 0.46557365482052165<br>Avg Learning Rate: 0.0008500000000000001",
          "reg_val: 6.5e-06<br>Mean Loss: 0.4689379658301671<br>Avg Learning Rate: 0.00058",
          "reg_val: 1.1000000000000001e-05<br>Mean Loss: 0.4640666126211484<br>Avg Learning Rate: 0.0012400000000000002",
          "reg_val: 5.6e-05<br>Mean Loss: 0.4652848449349403<br>Avg Learning Rate: 0.00088",
          "reg_val: 0.000101<br>Mean Loss: 0.4714355979859829<br>Avg Learning Rate: 0.00061",
          "reg_val: 0.0005510000000000001<br>Mean Loss: 0.4669698222478231<br>Avg Learning Rate: 0.00028000000000000003",
          "reg_val: 0.001001<br>Mean Loss: 0.4690370026727517<br>Avg Learning Rate: 0.00067",
          "reg_val: 0.005501<br>Mean Loss: 0.48108858019113543<br>Avg Learning Rate: 0.00064",
          "reg_val: 0.010001<br>Mean Loss: 0.5819545864065488<br>Avg Learning Rate: 0.000175",
          "reg_val: 0.055001<br>Mean Loss: 0.6927371519804001<br>Avg Learning Rate: 0.002056",
          "reg_val: 0.100001<br>Mean Loss: 0.6913414384921392<br>Avg Learning Rate: 0.004825"
         ],
         "mode": "lines+markers",
         "name": "8",
         "type": "scatter",
         "x": [
          0.000001,
          0.0000015,
          0.000002,
          0.0000065,
          0.000011000000000000001,
          0.000056,
          0.000101,
          0.0005510000000000001,
          0.001001,
          0.005501,
          0.010001,
          0.055001,
          0.100001
         ],
         "xaxis": "x8",
         "y": [
          0.4607821782926718,
          0.4609370579073826,
          0.46557365482052165,
          0.4689379658301671,
          0.4640666126211484,
          0.4652848449349403,
          0.4714355979859829,
          0.4669698222478231,
          0.4690370026727517,
          0.48108858019113543,
          0.5819545864065488,
          0.6927371519804001,
          0.6913414384921392
         ],
         "yaxis": "y8"
        },
        {
         "error_y": {
          "array": [
           0.02992779509148427,
           0.038157533698623354,
           0.03342038916284329,
           0.027226852317167,
           0.026158069981620666,
           0.04199876681579561,
           0.032822040468935935,
           0.03277207072842447,
           0.05111110572494445,
           0.05790828922190319,
           0.11999360653197556,
           0.000056169873978309656,
           0.0005267527674010778
          ],
          "type": "data",
          "visible": true
         },
         "hoverinfo": "text",
         "hovertext": [
          "reg_val: 1e-06<br>Mean Loss: 0.46054519275824224<br>Avg Learning Rate: 0.00091",
          "reg_val: 1.5e-06<br>Mean Loss: 0.46227793211738266<br>Avg Learning Rate: 0.0011500000000000002",
          "reg_val: 2e-06<br>Mean Loss: 0.4563390112419923<br>Avg Learning Rate: 0.0008500000000000001",
          "reg_val: 6.5e-06<br>Mean Loss: 0.45412735611200333<br>Avg Learning Rate: 0.0014500000000000001",
          "reg_val: 1.1000000000000001e-05<br>Mean Loss: 0.45906366343299543<br>Avg Learning Rate: 0.00064",
          "reg_val: 5.6e-05<br>Mean Loss: 0.46675374316672485<br>Avg Learning Rate: 0.00148",
          "reg_val: 0.000101<br>Mean Loss: 0.45733347999552887<br>Avg Learning Rate: 0.00148",
          "reg_val: 0.0005510000000000001<br>Mean Loss: 0.4656204885741075<br>Avg Learning Rate: 0.00154",
          "reg_val: 0.001001<br>Mean Loss: 0.47301637773712474<br>Avg Learning Rate: 0.0004",
          "reg_val: 0.005501<br>Mean Loss: 0.47754631881912546<br>Avg Learning Rate: 0.0005800000000000001",
          "reg_val: 0.010001<br>Mean Loss: 0.5840384743114312<br>Avg Learning Rate: 0.0035680000000000004",
          "reg_val: 0.055001<br>Mean Loss: 0.6926622685790063<br>Avg Learning Rate: 0.004339",
          "reg_val: 0.100001<br>Mean Loss: 0.6926365282138189<br>Avg Learning Rate: 0.004375"
         ],
         "mode": "lines+markers",
         "name": "9",
         "type": "scatter",
         "x": [
          0.000001,
          0.0000015,
          0.000002,
          0.0000065,
          0.000011000000000000001,
          0.000056,
          0.000101,
          0.0005510000000000001,
          0.001001,
          0.005501,
          0.010001,
          0.055001,
          0.100001
         ],
         "xaxis": "x9",
         "y": [
          0.46054519275824224,
          0.46227793211738266,
          0.4563390112419923,
          0.45412735611200333,
          0.45906366343299543,
          0.46675374316672485,
          0.45733347999552887,
          0.4656204885741075,
          0.47301637773712474,
          0.47754631881912546,
          0.5840384743114312,
          0.6926622685790063,
          0.6926365282138189
         ],
         "yaxis": "y9"
        },
        {
         "error_y": {
          "array": [
           0.022909738347825333,
           0.02409644639198424,
           0.033074836618448136,
           0.021157602373527314,
           0.023474946990133028,
           0.022146176072245803,
           0.022799536137874044,
           0.023148524228697277,
           0.03334709405903937,
           0.04902116025614776,
           0.12077883711848916,
           0.01298561566725466,
           0.0006935643243273747
          ],
          "type": "data",
          "visible": true
         },
         "hoverinfo": "text",
         "hovertext": [
          "reg_val: 1e-06<br>Mean Loss: 0.44953491879006224<br>Avg Learning Rate: 0.00082",
          "reg_val: 1.5e-06<br>Mean Loss: 0.44872433379292487<br>Avg Learning Rate: 0.00055",
          "reg_val: 2e-06<br>Mean Loss: 0.45336366285880403<br>Avg Learning Rate: 0.0009400000000000001",
          "reg_val: 6.5e-06<br>Mean Loss: 0.4488921896616617<br>Avg Learning Rate: 0.00082",
          "reg_val: 1.1000000000000001e-05<br>Mean Loss: 0.44815312648812927<br>Avg Learning Rate: 0.00118",
          "reg_val: 5.6e-05<br>Mean Loss: 0.4471662640074889<br>Avg Learning Rate: 0.0014500000000000001",
          "reg_val: 0.000101<br>Mean Loss: 0.44610734413067493<br>Avg Learning Rate: 0.0009099999999999999",
          "reg_val: 0.0005510000000000001<br>Mean Loss: 0.4529058486223221<br>Avg Learning Rate: 0.0005800000000000001",
          "reg_val: 0.001001<br>Mean Loss: 0.4525014854967594<br>Avg Learning Rate: 0.00022",
          "reg_val: 0.005501<br>Mean Loss: 0.4673196513454119<br>Avg Learning Rate: 0.00055",
          "reg_val: 0.010001<br>Mean Loss: 0.594488497277101<br>Avg Learning Rate: 0.004018",
          "reg_val: 0.055001<br>Mean Loss: 0.690292689204216<br>Avg Learning Rate: 0.004432000000000001",
          "reg_val: 0.100001<br>Mean Loss: 0.6925472072760265<br>Avg Learning Rate: 0.009055"
         ],
         "mode": "lines+markers",
         "name": "10",
         "type": "scatter",
         "x": [
          0.000001,
          0.0000015,
          0.000002,
          0.0000065,
          0.000011000000000000001,
          0.000056,
          0.000101,
          0.0005510000000000001,
          0.001001,
          0.005501,
          0.010001,
          0.055001,
          0.100001
         ],
         "xaxis": "x10",
         "y": [
          0.44953491879006224,
          0.44872433379292487,
          0.45336366285880403,
          0.4488921896616617,
          0.44815312648812927,
          0.4471662640074889,
          0.44610734413067493,
          0.4529058486223221,
          0.4525014854967594,
          0.4673196513454119,
          0.594488497277101,
          0.690292689204216,
          0.6925472072760265
         ],
         "yaxis": "y10"
        },
        {
         "error_y": {
          "array": [
           0.011238702448841448,
           0.015125287519511171,
           0.013225796588720565,
           0.013482620587382624,
           0.013957198354354638,
           0.011338412334561575,
           0.013461817455273447,
           0.014355276697806538,
           0.013337555775167494,
           0.01340864037541564,
           0.13929024771470197,
           0.003959784289912702,
           0.0015513995432773512
          ],
          "type": "data",
          "visible": true
         },
         "hoverinfo": "text",
         "hovertext": [
          "reg_val: 1e-06<br>Mean Loss: 0.39483428952594596<br>Avg Learning Rate: 0.000355",
          "reg_val: 1.5e-06<br>Mean Loss: 0.3939296383410692<br>Avg Learning Rate: 4.6e-05",
          "reg_val: 2e-06<br>Mean Loss: 0.39568620880444844<br>Avg Learning Rate: 0.00036700000000000003",
          "reg_val: 6.5e-06<br>Mean Loss: 0.39480086592336494<br>Avg Learning Rate: 0.00049",
          "reg_val: 1.1000000000000001e-05<br>Mean Loss: 0.396020470286409<br>Avg Learning Rate: 1.3000000000000001e-05",
          "reg_val: 5.6e-05<br>Mean Loss: 0.3960685905814171<br>Avg Learning Rate: 8.5e-05",
          "reg_val: 0.000101<br>Mean Loss: 0.39500916217764215<br>Avg Learning Rate: 1.8999999999999998e-05",
          "reg_val: 0.0005510000000000001<br>Mean Loss: 0.3960737177977959<br>Avg Learning Rate: 5.5e-05",
          "reg_val: 0.001001<br>Mean Loss: 0.39848356458048023<br>Avg Learning Rate: 8.8e-05",
          "reg_val: 0.005501<br>Mean Loss: 0.4094022982815901<br>Avg Learning Rate: 0.00025",
          "reg_val: 0.010001<br>Mean Loss: 0.5648902184764545<br>Avg Learning Rate: 0.00043",
          "reg_val: 0.055001<br>Mean Loss: 0.6919463660319647<br>Avg Learning Rate: 0.012874",
          "reg_val: 0.100001<br>Mean Loss: 0.6922978413105011<br>Avg Learning Rate: 0.008269"
         ],
         "mode": "lines+markers",
         "name": "20",
         "type": "scatter",
         "x": [
          0.000001,
          0.0000015,
          0.000002,
          0.0000065,
          0.000011000000000000001,
          0.000056,
          0.000101,
          0.0005510000000000001,
          0.001001,
          0.005501,
          0.010001,
          0.055001,
          0.100001
         ],
         "xaxis": "x11",
         "y": [
          0.39483428952594596,
          0.3939296383410692,
          0.39568620880444844,
          0.39480086592336494,
          0.396020470286409,
          0.3960685905814171,
          0.39500916217764215,
          0.3960737177977959,
          0.39848356458048023,
          0.4094022982815901,
          0.5648902184764545,
          0.6919463660319647,
          0.6922978413105011
         ],
         "yaxis": "y11"
        },
        {
         "error_y": {
          "array": [
           0.01027863834187326,
           0.014480254733447662,
           0.01132643756400562,
           0.01364876602584219,
           0.015985910714720015,
           0.01232157285557715,
           0.014420071825073278,
           0.014597001122883846,
           0.01019449503478114,
           0.012375379859758773,
           0.15155130311306717,
           0.05195189599637453,
           0.004514936021200821
          ],
          "type": "data",
          "visible": true
         },
         "hoverinfo": "text",
         "hovertext": [
          "reg_val: 1e-06<br>Mean Loss: 0.3768753640602032<br>Avg Learning Rate: 0.001015",
          "reg_val: 1.5e-06<br>Mean Loss: 0.37410440636177855<br>Avg Learning Rate: 0.00148",
          "reg_val: 2e-06<br>Mean Loss: 0.37513332923253373<br>Avg Learning Rate: 0.001414",
          "reg_val: 6.5e-06<br>Mean Loss: 0.3758403965334097<br>Avg Learning Rate: 0.001414",
          "reg_val: 1.1000000000000001e-05<br>Mean Loss: 0.3746653924634059<br>Avg Learning Rate: 0.001783",
          "reg_val: 5.6e-05<br>Mean Loss: 0.37564582889278725<br>Avg Learning Rate: 0.001075",
          "reg_val: 0.000101<br>Mean Loss: 0.3726610822975635<br>Avg Learning Rate: 0.0021520000000000003",
          "reg_val: 0.0005510000000000001<br>Mean Loss: 0.376337344845136<br>Avg Learning Rate: 0.001183",
          "reg_val: 0.001001<br>Mean Loss: 0.3785274245093266<br>Avg Learning Rate: 0.000154",
          "reg_val: 0.005501<br>Mean Loss: 0.3889691068977117<br>Avg Learning Rate: 0.000205",
          "reg_val: 0.010001<br>Mean Loss: 0.5321315043916305<br>Avg Learning Rate: 7.3e-05",
          "reg_val: 0.055001<br>Mean Loss: 0.6831468717753887<br>Avg Learning Rate: 0.018322",
          "reg_val: 0.100001<br>Mean Loss: 0.6912273997068404<br>Avg Learning Rate: 0.025684"
         ],
         "mode": "lines+markers",
         "name": "30",
         "type": "scatter",
         "x": [
          0.000001,
          0.0000015,
          0.000002,
          0.0000065,
          0.000011000000000000001,
          0.000056,
          0.000101,
          0.0005510000000000001,
          0.001001,
          0.005501,
          0.010001,
          0.055001,
          0.100001
         ],
         "xaxis": "x12",
         "y": [
          0.3768753640602032,
          0.37410440636177855,
          0.37513332923253373,
          0.3758403965334097,
          0.3746653924634059,
          0.37564582889278725,
          0.3726610822975635,
          0.376337344845136,
          0.3785274245093266,
          0.3889691068977117,
          0.5321315043916305,
          0.6831468717753887,
          0.6912273997068404
         ],
         "yaxis": "y12"
        },
        {
         "error_y": {
          "array": [
           0.013663310085810714,
           0.02003314010061675,
           0.0236240129785349,
           0.01720699162893315,
           0.023859628710811598,
           0.02133860285038724,
           0.02646435087424022,
           0.016290408949707978,
           0.017376163854484074,
           0.01381151935363868,
           0.15366314863989064,
           0.00018045642531516095,
           0.004590725510194713
          ],
          "type": "data",
          "visible": true
         },
         "hoverinfo": "text",
         "hovertext": [
          "reg_val: 1e-06<br>Mean Loss: 0.36295416367550687<br>Avg Learning Rate: 0.0026470000000000005",
          "reg_val: 1.5e-06<br>Mean Loss: 0.3624545518060525<br>Avg Learning Rate: 0.003418",
          "reg_val: 2e-06<br>Mean Loss: 0.362532040476799<br>Avg Learning Rate: 0.003049",
          "reg_val: 6.5e-06<br>Mean Loss: 0.36165618712703385<br>Avg Learning Rate: 0.003844",
          "reg_val: 1.1000000000000001e-05<br>Mean Loss: 0.3539781293024619<br>Avg Learning Rate: 0.004752999999999999",
          "reg_val: 5.6e-05<br>Mean Loss: 0.3586797937254111<br>Avg Learning Rate: 0.0047740000000000005",
          "reg_val: 0.000101<br>Mean Loss: 0.35009281987945234<br>Avg Learning Rate: 0.004876",
          "reg_val: 0.0005510000000000001<br>Mean Loss: 0.3665873764703671<br>Avg Learning Rate: 0.002149",
          "reg_val: 0.001001<br>Mean Loss: 0.3659661458432674<br>Avg Learning Rate: 0.001018",
          "reg_val: 0.005501<br>Mean Loss: 0.37344965457916257<br>Avg Learning Rate: 0.00023500000000000002",
          "reg_val: 0.010001<br>Mean Loss: 0.5376759743193785<br>Avg Learning Rate: 6.1e-05",
          "reg_val: 0.055001<br>Mean Loss: 0.6926896585027377<br>Avg Learning Rate: 0.011896",
          "reg_val: 0.100001<br>Mean Loss: 0.6918428323666255<br>Avg Learning Rate: 0.009115000000000002"
         ],
         "mode": "lines+markers",
         "name": "40",
         "type": "scatter",
         "x": [
          0.000001,
          0.0000015,
          0.000002,
          0.0000065,
          0.000011000000000000001,
          0.000056,
          0.000101,
          0.0005510000000000001,
          0.001001,
          0.005501,
          0.010001,
          0.055001,
          0.100001
         ],
         "xaxis": "x13",
         "y": [
          0.36295416367550687,
          0.3624545518060525,
          0.362532040476799,
          0.36165618712703385,
          0.3539781293024619,
          0.3586797937254111,
          0.35009281987945234,
          0.3665873764703671,
          0.3659661458432674,
          0.37344965457916257,
          0.5376759743193785,
          0.6926896585027377,
          0.6918428323666255
         ],
         "yaxis": "y13"
        },
        {
         "error_y": {
          "array": [
           0.021273292282897878,
           0.020242164114210377,
           0.023285407274992977,
           0.02137148034631596,
           0.024500032993884115,
           0.02315011600931385,
           0.02175625154366289,
           0.027699042740872735,
           0.0171861482934498,
           0.024020977394233062,
           0.15438177712981263,
           0.004203663372343937,
           0.008327126433768707
          ],
          "type": "data",
          "visible": true
         },
         "hoverinfo": "text",
         "hovertext": [
          "reg_val: 1e-06<br>Mean Loss: 0.3461409385502338<br>Avg Learning Rate: 0.003709",
          "reg_val: 1.5e-06<br>Mean Loss: 0.34302108847846585<br>Avg Learning Rate: 0.006217",
          "reg_val: 2e-06<br>Mean Loss: 0.34571763043602305<br>Avg Learning Rate: 0.005788000000000001",
          "reg_val: 6.5e-06<br>Mean Loss: 0.34316356721023716<br>Avg Learning Rate: 0.005572",
          "reg_val: 1.1000000000000001e-05<br>Mean Loss: 0.3393823012088735<br>Avg Learning Rate: 0.006268",
          "reg_val: 5.6e-05<br>Mean Loss: 0.33535327290495237<br>Avg Learning Rate: 0.005938",
          "reg_val: 0.000101<br>Mean Loss: 0.3381049711753924<br>Avg Learning Rate: 0.005908",
          "reg_val: 0.0005510000000000001<br>Mean Loss: 0.34899570032954214<br>Avg Learning Rate: 0.0024790000000000003",
          "reg_val: 0.001001<br>Mean Loss: 0.3536873939385016<br>Avg Learning Rate: 0.000481",
          "reg_val: 0.005501<br>Mean Loss: 0.3488370450834433<br>Avg Learning Rate: 0.0005350000000000001",
          "reg_val: 0.010001<br>Mean Loss: 0.5149487855782111<br>Avg Learning Rate: 5.2e-05",
          "reg_val: 0.055001<br>Mean Loss: 0.6917744207382202<br>Avg Learning Rate: 0.012556000000000001",
          "reg_val: 0.100001<br>Mean Loss: 0.6903826301296552<br>Avg Learning Rate: 0.012265"
         ],
         "mode": "lines+markers",
         "name": "50",
         "type": "scatter",
         "x": [
          0.000001,
          0.0000015,
          0.000002,
          0.0000065,
          0.000011000000000000001,
          0.000056,
          0.000101,
          0.0005510000000000001,
          0.001001,
          0.005501,
          0.010001,
          0.055001,
          0.100001
         ],
         "xaxis": "x14",
         "y": [
          0.3461409385502338,
          0.34302108847846585,
          0.34571763043602305,
          0.34316356721023716,
          0.3393823012088735,
          0.33535327290495237,
          0.3381049711753924,
          0.34899570032954214,
          0.3536873939385016,
          0.3488370450834433,
          0.5149487855782111,
          0.6917744207382202,
          0.6903826301296552
         ],
         "yaxis": "y14"
        },
        {
         "error_y": {
          "array": [
           0.019380749873838185,
           0.025449654865135483,
           0.025005888171547003,
           0.022719662286408076,
           0.023295055362675465,
           0.019665778863224438,
           0.021139821575760324,
           0.023442437364910397,
           0.021959313278195367,
           0.020280681992879728,
           0.15694636067270817,
           0.000456681516226223,
           0.000022494441736520624
          ],
          "type": "data",
          "visible": true
         },
         "hoverinfo": "text",
         "hovertext": [
          "reg_val: 1e-06<br>Mean Loss: 0.32353477043410145<br>Avg Learning Rate: 0.005710000000000001",
          "reg_val: 1.5e-06<br>Mean Loss: 0.32624589287986355<br>Avg Learning Rate: 0.0062050000000000004",
          "reg_val: 2e-06<br>Mean Loss: 0.319752679169178<br>Avg Learning Rate: 0.006907",
          "reg_val: 6.5e-06<br>Mean Loss: 0.31336063196261726<br>Avg Learning Rate: 0.0075699999999999995",
          "reg_val: 1.1000000000000001e-05<br>Mean Loss: 0.3205225010837118<br>Avg Learning Rate: 0.00661",
          "reg_val: 5.6e-05<br>Mean Loss: 0.31206930480897427<br>Avg Learning Rate: 0.00814",
          "reg_val: 0.000101<br>Mean Loss: 0.3121661780898769<br>Avg Learning Rate: 0.007867",
          "reg_val: 0.0005510000000000001<br>Mean Loss: 0.3272202268739541<br>Avg Learning Rate: 0.003508",
          "reg_val: 0.001001<br>Mean Loss: 0.3337749928918977<br>Avg Learning Rate: 0.0013750000000000001",
          "reg_val: 0.005501<br>Mean Loss: 0.32924755778163667<br>Avg Learning Rate: 0.0005470000000000001",
          "reg_val: 0.010001<br>Mean Loss: 0.5248377774655819<br>Avg Learning Rate: 2.8e-05",
          "reg_val: 0.055001<br>Mean Loss: 0.6925910080472628<br>Avg Learning Rate: 0.019318000000000002",
          "reg_val: 0.100001<br>Mean Loss: 0.6926770457625389<br>Avg Learning Rate: 0.011998000000000002"
         ],
         "mode": "lines+markers",
         "name": "60",
         "type": "scatter",
         "x": [
          0.000001,
          0.0000015,
          0.000002,
          0.0000065,
          0.000011000000000000001,
          0.000056,
          0.000101,
          0.0005510000000000001,
          0.001001,
          0.005501,
          0.010001,
          0.055001,
          0.100001
         ],
         "xaxis": "x15",
         "y": [
          0.32353477043410145,
          0.32624589287986355,
          0.319752679169178,
          0.31336063196261726,
          0.3205225010837118,
          0.31206930480897427,
          0.3121661780898769,
          0.3272202268739541,
          0.3337749928918977,
          0.32924755778163667,
          0.5248377774655819,
          0.6925910080472628,
          0.6926770457625389
         ],
         "yaxis": "y15"
        },
        {
         "error_y": {
          "array": [
           0.019612003959990364,
           0.021975234359646524,
           0.0167896126348788,
           0.020509205732159634,
           0.019175872727872557,
           0.01763382184823411,
           0.017022690273758648,
           0.021465251514490934,
           0.0192102157136577,
           0.020327530799696316,
           0.1693949321272699,
           0.019164155276941135,
           0.04421976553070431
          ],
          "type": "data",
          "visible": true
         },
         "hoverinfo": "text",
         "hovertext": [
          "reg_val: 1e-06<br>Mean Loss: 0.31006798315793277<br>Avg Learning Rate: 0.006070000000000001",
          "reg_val: 1.5e-06<br>Mean Loss: 0.31415635642906026<br>Avg Learning Rate: 0.006667",
          "reg_val: 2e-06<br>Mean Loss: 0.3026123406117161<br>Avg Learning Rate: 0.0088",
          "reg_val: 6.5e-06<br>Mean Loss: 0.3045816220218936<br>Avg Learning Rate: 0.007837",
          "reg_val: 1.1000000000000001e-05<br>Mean Loss: 0.3017274181048075<br>Avg Learning Rate: 0.00817",
          "reg_val: 5.6e-05<br>Mean Loss: 0.3008006035412351<br>Avg Learning Rate: 0.0088",
          "reg_val: 0.000101<br>Mean Loss: 0.2977014700447519<br>Avg Learning Rate: 0.007567",
          "reg_val: 0.0005510000000000001<br>Mean Loss: 0.3171267977977792<br>Avg Learning Rate: 0.0017800000000000001",
          "reg_val: 0.001001<br>Mean Loss: 0.31928075933208067<br>Avg Learning Rate: 0.00148",
          "reg_val: 0.005501<br>Mean Loss: 0.32088526178151366<br>Avg Learning Rate: 0.00041200000000000004",
          "reg_val: 0.010001<br>Mean Loss: 0.4803744142502546<br>Avg Learning Rate: 4.9e-05",
          "reg_val: 0.055001<br>Mean Loss: 0.6891132952769597<br>Avg Learning Rate: 0.025468",
          "reg_val: 0.100001<br>Mean Loss: 0.6845456638932228<br>Avg Learning Rate: 0.028132"
         ],
         "mode": "lines+markers",
         "name": "70",
         "type": "scatter",
         "x": [
          0.000001,
          0.0000015,
          0.000002,
          0.0000065,
          0.000011000000000000001,
          0.000056,
          0.000101,
          0.0005510000000000001,
          0.001001,
          0.005501,
          0.010001,
          0.055001,
          0.100001
         ],
         "xaxis": "x16",
         "y": [
          0.31006798315793277,
          0.31415635642906026,
          0.3026123406117161,
          0.3045816220218936,
          0.3017274181048075,
          0.3008006035412351,
          0.2977014700447519,
          0.3171267977977792,
          0.31928075933208067,
          0.32088526178151366,
          0.4803744142502546,
          0.6891132952769597,
          0.6845456638932228
         ],
         "yaxis": "y16"
        },
        {
         "error_y": {
          "array": [
           0.018746270349220898,
           0.022142127482911028,
           0.018284501538023086,
           0.018152645341419773,
           0.014553035750988779,
           0.022525311369927213,
           0.01707300315933274,
           0.021911355854785007,
           0.01728144807905964,
           0.02221225742791607,
           0.12410247252029737,
           0.0004479803925727051,
           0.0017649896167061976
          ],
          "type": "data",
          "visible": true
         },
         "hoverinfo": "text",
         "hovertext": [
          "reg_val: 1e-06<br>Mean Loss: 0.2970875490456819<br>Avg Learning Rate: 0.006367",
          "reg_val: 1.5e-06<br>Mean Loss: 0.2919695634891589<br>Avg Learning Rate: 0.006034",
          "reg_val: 2e-06<br>Mean Loss: 0.29057660923649864<br>Avg Learning Rate: 0.008167",
          "reg_val: 6.5e-06<br>Mean Loss: 0.2960222912331422<br>Avg Learning Rate: 0.007209999999999999",
          "reg_val: 1.1000000000000001e-05<br>Mean Loss: 0.2890753849223256<br>Avg Learning Rate: 0.0076",
          "reg_val: 5.6e-05<br>Mean Loss: 0.2877808578809102<br>Avg Learning Rate: 0.00748",
          "reg_val: 0.000101<br>Mean Loss: 0.2843022030343612<br>Avg Learning Rate: 0.0079",
          "reg_val: 0.0005510000000000001<br>Mean Loss: 0.2928152192632357<br>Avg Learning Rate: 0.001807",
          "reg_val: 0.001001<br>Mean Loss: 0.2980069141834974<br>Avg Learning Rate: 0.001114",
          "reg_val: 0.005501<br>Mean Loss: 0.3028749667232235<br>Avg Learning Rate: 0.00035800000000000003",
          "reg_val: 0.010001<br>Mean Loss: 0.38297268375754356<br>Avg Learning Rate: 4.600000000000001e-05",
          "reg_val: 0.055001<br>Mean Loss: 0.6925667285919189<br>Avg Learning Rate: 0.011938",
          "reg_val: 0.100001<br>Mean Loss: 0.6923183742165565<br>Avg Learning Rate: 0.015298"
         ],
         "mode": "lines+markers",
         "name": "80",
         "type": "scatter",
         "x": [
          0.000001,
          0.0000015,
          0.000002,
          0.0000065,
          0.000011000000000000001,
          0.000056,
          0.000101,
          0.0005510000000000001,
          0.001001,
          0.005501,
          0.010001,
          0.055001,
          0.100001
         ],
         "xaxis": "x17",
         "y": [
          0.2970875490456819,
          0.2919695634891589,
          0.29057660923649864,
          0.2960222912331422,
          0.2890753849223256,
          0.2877808578809102,
          0.2843022030343612,
          0.2928152192632357,
          0.2980069141834974,
          0.3028749667232235,
          0.38297268375754356,
          0.6925667285919189,
          0.6923183742165565
         ],
         "yaxis": "y17"
        },
        {
         "error_y": {
          "array": [
           0.013984156846468993,
           0.019271127463547446,
           0.014990811075848742,
           0.01649717499719496,
           0.01288840683406459,
           0.011677742156957716,
           0.012254843042793678,
           0.015138302596011375,
           0.01728732465419002,
           0.014481010723902555,
           0.13128005128395018,
           0.0016029507257300497,
           0.00386420621020059
          ],
          "type": "data",
          "visible": true
         },
         "hoverinfo": "text",
         "hovertext": [
          "reg_val: 1e-06<br>Mean Loss: 0.28076828154424827<br>Avg Learning Rate: 0.00577",
          "reg_val: 1.5e-06<br>Mean Loss: 0.27933164980262515<br>Avg Learning Rate: 0.0060999999999999995",
          "reg_val: 2e-06<br>Mean Loss: 0.275194427780807<br>Avg Learning Rate: 0.006634",
          "reg_val: 6.5e-06<br>Mean Loss: 0.2771260326852401<br>Avg Learning Rate: 0.00847",
          "reg_val: 1.1000000000000001e-05<br>Mean Loss: 0.2774491782610615<br>Avg Learning Rate: 0.0075699999999999995",
          "reg_val: 5.6e-05<br>Mean Loss: 0.2726725081540644<br>Avg Learning Rate: 0.0079",
          "reg_val: 0.000101<br>Mean Loss: 0.271554356465737<br>Avg Learning Rate: 0.0075699999999999995",
          "reg_val: 0.0005510000000000001<br>Mean Loss: 0.28061467652519545<br>Avg Learning Rate: 0.0027370000000000003",
          "reg_val: 0.001001<br>Mean Loss: 0.2829761440679431<br>Avg Learning Rate: 0.000964",
          "reg_val: 0.005501<br>Mean Loss: 0.2846084058533112<br>Avg Learning Rate: 0.00031600000000000004",
          "reg_val: 0.010001<br>Mean Loss: 0.36803871747106315<br>Avg Learning Rate: 4.3e-05",
          "reg_val: 0.055001<br>Mean Loss: 0.6923100544015566<br>Avg Learning Rate: 0.015097000000000001",
          "reg_val: 0.100001<br>Mean Loss: 0.6915860849618911<br>Avg Learning Rate: 0.019798"
         ],
         "mode": "lines+markers",
         "name": "90",
         "type": "scatter",
         "x": [
          0.000001,
          0.0000015,
          0.000002,
          0.0000065,
          0.000011000000000000001,
          0.000056,
          0.000101,
          0.0005510000000000001,
          0.001001,
          0.005501,
          0.010001,
          0.055001,
          0.100001
         ],
         "xaxis": "x18",
         "y": [
          0.28076828154424827,
          0.27933164980262515,
          0.275194427780807,
          0.2771260326852401,
          0.2774491782610615,
          0.2726725081540644,
          0.271554356465737,
          0.28061467652519545,
          0.2829761440679431,
          0.2846084058533112,
          0.36803871747106315,
          0.6923100544015566,
          0.6915860849618911
         ],
         "yaxis": "y18"
        },
        {
         "error_y": {
          "array": [
           0.013988239395406698,
           0.011553336780711637,
           0.011710164447681465,
           0.015512086671457998,
           0.01272645777412732,
           0.012648452272798958,
           0.009372897860073462,
           0.01438870882454269,
           0.013542817593746984,
           0.012962161483307692,
           0.17596739018460625,
           0.010694963644032633,
           0.005117264679574079
          ],
          "type": "data",
          "visible": true
         },
         "hoverinfo": "text",
         "hovertext": [
          "reg_val: 1e-06<br>Mean Loss: 0.27146354397137956<br>Avg Learning Rate: 0.00724",
          "reg_val: 1.5e-06<br>Mean Loss: 0.27053767847518123<br>Avg Learning Rate: 0.007537",
          "reg_val: 2e-06<br>Mean Loss: 0.27238740331182876<br>Avg Learning Rate: 0.00634",
          "reg_val: 6.5e-06<br>Mean Loss: 0.2715418578063448<br>Avg Learning Rate: 0.006337",
          "reg_val: 1.1000000000000001e-05<br>Mean Loss: 0.27106745842844243<br>Avg Learning Rate: 0.0076",
          "reg_val: 5.6e-05<br>Mean Loss: 0.27134072436640655<br>Avg Learning Rate: 0.00661",
          "reg_val: 0.000101<br>Mean Loss: 0.26623569989576934<br>Avg Learning Rate: 0.006334",
          "reg_val: 0.0005510000000000001<br>Mean Loss: 0.2690502793093522<br>Avg Learning Rate: 0.003007",
          "reg_val: 0.001001<br>Mean Loss: 0.2721613420173526<br>Avg Learning Rate: 0.001144",
          "reg_val: 0.005501<br>Mean Loss: 0.27162793272485336<br>Avg Learning Rate: 0.00028300000000000005",
          "reg_val: 0.010001<br>Mean Loss: 0.45807753733048834<br>Avg Learning Rate: 4e-05",
          "reg_val: 0.055001<br>Mean Loss: 0.6899328940113385<br>Avg Learning Rate: 0.021862",
          "reg_val: 0.100001<br>Mean Loss: 0.6914100556572278<br>Avg Learning Rate: 0.017155"
         ],
         "mode": "lines+markers",
         "name": "100",
         "type": "scatter",
         "x": [
          0.000001,
          0.0000015,
          0.000002,
          0.0000065,
          0.000011000000000000001,
          0.000056,
          0.000101,
          0.0005510000000000001,
          0.001001,
          0.005501,
          0.010001,
          0.055001,
          0.100001
         ],
         "xaxis": "x19",
         "y": [
          0.27146354397137956,
          0.27053767847518123,
          0.27238740331182876,
          0.2715418578063448,
          0.27106745842844243,
          0.27134072436640655,
          0.26623569989576934,
          0.2690502793093522,
          0.2721613420173526,
          0.27162793272485336,
          0.45807753733048834,
          0.6899328940113385,
          0.6914100556572278
         ],
         "yaxis": "y19"
        }
       ],
       "layout": {
        "annotations": [
         {
          "font": {
           "size": 16
          },
          "showarrow": false,
          "text": "data_size_pct = 1",
          "x": 0.225,
          "xanchor": "center",
          "xref": "paper",
          "y": 1,
          "yanchor": "bottom",
          "yref": "paper"
         },
         {
          "font": {
           "size": 16
          },
          "showarrow": false,
          "text": "data_size_pct = 2",
          "x": 0.775,
          "xanchor": "center",
          "xref": "paper",
          "y": 1,
          "yanchor": "bottom",
          "yref": "paper"
         },
         {
          "font": {
           "size": 16
          },
          "showarrow": false,
          "text": "data_size_pct = 3",
          "x": 0.225,
          "xanchor": "center",
          "xref": "paper",
          "y": 0.8950000000000001,
          "yanchor": "bottom",
          "yref": "paper"
         },
         {
          "font": {
           "size": 16
          },
          "showarrow": false,
          "text": "data_size_pct = 4",
          "x": 0.775,
          "xanchor": "center",
          "xref": "paper",
          "y": 0.8950000000000001,
          "yanchor": "bottom",
          "yref": "paper"
         },
         {
          "font": {
           "size": 16
          },
          "showarrow": false,
          "text": "data_size_pct = 5",
          "x": 0.225,
          "xanchor": "center",
          "xref": "paper",
          "y": 0.7900000000000001,
          "yanchor": "bottom",
          "yref": "paper"
         },
         {
          "font": {
           "size": 16
          },
          "showarrow": false,
          "text": "data_size_pct = 6",
          "x": 0.775,
          "xanchor": "center",
          "xref": "paper",
          "y": 0.7900000000000001,
          "yanchor": "bottom",
          "yref": "paper"
         },
         {
          "font": {
           "size": 16
          },
          "showarrow": false,
          "text": "data_size_pct = 7",
          "x": 0.225,
          "xanchor": "center",
          "xref": "paper",
          "y": 0.6850000000000002,
          "yanchor": "bottom",
          "yref": "paper"
         },
         {
          "font": {
           "size": 16
          },
          "showarrow": false,
          "text": "data_size_pct = 8",
          "x": 0.775,
          "xanchor": "center",
          "xref": "paper",
          "y": 0.6850000000000002,
          "yanchor": "bottom",
          "yref": "paper"
         },
         {
          "font": {
           "size": 16
          },
          "showarrow": false,
          "text": "data_size_pct = 9",
          "x": 0.225,
          "xanchor": "center",
          "xref": "paper",
          "y": 0.5800000000000001,
          "yanchor": "bottom",
          "yref": "paper"
         },
         {
          "font": {
           "size": 16
          },
          "showarrow": false,
          "text": "data_size_pct = 10",
          "x": 0.775,
          "xanchor": "center",
          "xref": "paper",
          "y": 0.5800000000000001,
          "yanchor": "bottom",
          "yref": "paper"
         },
         {
          "font": {
           "size": 16
          },
          "showarrow": false,
          "text": "data_size_pct = 20",
          "x": 0.225,
          "xanchor": "center",
          "xref": "paper",
          "y": 0.47500000000000003,
          "yanchor": "bottom",
          "yref": "paper"
         },
         {
          "font": {
           "size": 16
          },
          "showarrow": false,
          "text": "data_size_pct = 30",
          "x": 0.775,
          "xanchor": "center",
          "xref": "paper",
          "y": 0.47500000000000003,
          "yanchor": "bottom",
          "yref": "paper"
         },
         {
          "font": {
           "size": 16
          },
          "showarrow": false,
          "text": "data_size_pct = 40",
          "x": 0.225,
          "xanchor": "center",
          "xref": "paper",
          "y": 0.37000000000000005,
          "yanchor": "bottom",
          "yref": "paper"
         },
         {
          "font": {
           "size": 16
          },
          "showarrow": false,
          "text": "data_size_pct = 50",
          "x": 0.775,
          "xanchor": "center",
          "xref": "paper",
          "y": 0.37000000000000005,
          "yanchor": "bottom",
          "yref": "paper"
         },
         {
          "font": {
           "size": 16
          },
          "showarrow": false,
          "text": "data_size_pct = 60",
          "x": 0.225,
          "xanchor": "center",
          "xref": "paper",
          "y": 0.265,
          "yanchor": "bottom",
          "yref": "paper"
         },
         {
          "font": {
           "size": 16
          },
          "showarrow": false,
          "text": "data_size_pct = 70",
          "x": 0.775,
          "xanchor": "center",
          "xref": "paper",
          "y": 0.265,
          "yanchor": "bottom",
          "yref": "paper"
         },
         {
          "font": {
           "size": 16
          },
          "showarrow": false,
          "text": "data_size_pct = 80",
          "x": 0.225,
          "xanchor": "center",
          "xref": "paper",
          "y": 0.16000000000000003,
          "yanchor": "bottom",
          "yref": "paper"
         },
         {
          "font": {
           "size": 16
          },
          "showarrow": false,
          "text": "data_size_pct = 90",
          "x": 0.775,
          "xanchor": "center",
          "xref": "paper",
          "y": 0.16000000000000003,
          "yanchor": "bottom",
          "yref": "paper"
         },
         {
          "font": {
           "size": 16
          },
          "showarrow": false,
          "text": "data_size_pct = 100",
          "x": 0.225,
          "xanchor": "center",
          "xref": "paper",
          "y": 0.05500000000000001,
          "yanchor": "bottom",
          "yref": "paper"
         }
        ],
        "height": 3200,
        "showlegend": false,
        "template": {
         "data": {
          "bar": [
           {
            "error_x": {
             "color": "#2a3f5f"
            },
            "error_y": {
             "color": "#2a3f5f"
            },
            "marker": {
             "line": {
              "color": "#E5ECF6",
              "width": 0.5
             },
             "pattern": {
              "fillmode": "overlay",
              "size": 10,
              "solidity": 0.2
             }
            },
            "type": "bar"
           }
          ],
          "barpolar": [
           {
            "marker": {
             "line": {
              "color": "#E5ECF6",
              "width": 0.5
             },
             "pattern": {
              "fillmode": "overlay",
              "size": 10,
              "solidity": 0.2
             }
            },
            "type": "barpolar"
           }
          ],
          "carpet": [
           {
            "aaxis": {
             "endlinecolor": "#2a3f5f",
             "gridcolor": "white",
             "linecolor": "white",
             "minorgridcolor": "white",
             "startlinecolor": "#2a3f5f"
            },
            "baxis": {
             "endlinecolor": "#2a3f5f",
             "gridcolor": "white",
             "linecolor": "white",
             "minorgridcolor": "white",
             "startlinecolor": "#2a3f5f"
            },
            "type": "carpet"
           }
          ],
          "choropleth": [
           {
            "colorbar": {
             "outlinewidth": 0,
             "ticks": ""
            },
            "type": "choropleth"
           }
          ],
          "contour": [
           {
            "colorbar": {
             "outlinewidth": 0,
             "ticks": ""
            },
            "colorscale": [
             [
              0,
              "#0d0887"
             ],
             [
              0.1111111111111111,
              "#46039f"
             ],
             [
              0.2222222222222222,
              "#7201a8"
             ],
             [
              0.3333333333333333,
              "#9c179e"
             ],
             [
              0.4444444444444444,
              "#bd3786"
             ],
             [
              0.5555555555555556,
              "#d8576b"
             ],
             [
              0.6666666666666666,
              "#ed7953"
             ],
             [
              0.7777777777777778,
              "#fb9f3a"
             ],
             [
              0.8888888888888888,
              "#fdca26"
             ],
             [
              1,
              "#f0f921"
             ]
            ],
            "type": "contour"
           }
          ],
          "contourcarpet": [
           {
            "colorbar": {
             "outlinewidth": 0,
             "ticks": ""
            },
            "type": "contourcarpet"
           }
          ],
          "heatmap": [
           {
            "colorbar": {
             "outlinewidth": 0,
             "ticks": ""
            },
            "colorscale": [
             [
              0,
              "#0d0887"
             ],
             [
              0.1111111111111111,
              "#46039f"
             ],
             [
              0.2222222222222222,
              "#7201a8"
             ],
             [
              0.3333333333333333,
              "#9c179e"
             ],
             [
              0.4444444444444444,
              "#bd3786"
             ],
             [
              0.5555555555555556,
              "#d8576b"
             ],
             [
              0.6666666666666666,
              "#ed7953"
             ],
             [
              0.7777777777777778,
              "#fb9f3a"
             ],
             [
              0.8888888888888888,
              "#fdca26"
             ],
             [
              1,
              "#f0f921"
             ]
            ],
            "type": "heatmap"
           }
          ],
          "heatmapgl": [
           {
            "colorbar": {
             "outlinewidth": 0,
             "ticks": ""
            },
            "colorscale": [
             [
              0,
              "#0d0887"
             ],
             [
              0.1111111111111111,
              "#46039f"
             ],
             [
              0.2222222222222222,
              "#7201a8"
             ],
             [
              0.3333333333333333,
              "#9c179e"
             ],
             [
              0.4444444444444444,
              "#bd3786"
             ],
             [
              0.5555555555555556,
              "#d8576b"
             ],
             [
              0.6666666666666666,
              "#ed7953"
             ],
             [
              0.7777777777777778,
              "#fb9f3a"
             ],
             [
              0.8888888888888888,
              "#fdca26"
             ],
             [
              1,
              "#f0f921"
             ]
            ],
            "type": "heatmapgl"
           }
          ],
          "histogram": [
           {
            "marker": {
             "pattern": {
              "fillmode": "overlay",
              "size": 10,
              "solidity": 0.2
             }
            },
            "type": "histogram"
           }
          ],
          "histogram2d": [
           {
            "colorbar": {
             "outlinewidth": 0,
             "ticks": ""
            },
            "colorscale": [
             [
              0,
              "#0d0887"
             ],
             [
              0.1111111111111111,
              "#46039f"
             ],
             [
              0.2222222222222222,
              "#7201a8"
             ],
             [
              0.3333333333333333,
              "#9c179e"
             ],
             [
              0.4444444444444444,
              "#bd3786"
             ],
             [
              0.5555555555555556,
              "#d8576b"
             ],
             [
              0.6666666666666666,
              "#ed7953"
             ],
             [
              0.7777777777777778,
              "#fb9f3a"
             ],
             [
              0.8888888888888888,
              "#fdca26"
             ],
             [
              1,
              "#f0f921"
             ]
            ],
            "type": "histogram2d"
           }
          ],
          "histogram2dcontour": [
           {
            "colorbar": {
             "outlinewidth": 0,
             "ticks": ""
            },
            "colorscale": [
             [
              0,
              "#0d0887"
             ],
             [
              0.1111111111111111,
              "#46039f"
             ],
             [
              0.2222222222222222,
              "#7201a8"
             ],
             [
              0.3333333333333333,
              "#9c179e"
             ],
             [
              0.4444444444444444,
              "#bd3786"
             ],
             [
              0.5555555555555556,
              "#d8576b"
             ],
             [
              0.6666666666666666,
              "#ed7953"
             ],
             [
              0.7777777777777778,
              "#fb9f3a"
             ],
             [
              0.8888888888888888,
              "#fdca26"
             ],
             [
              1,
              "#f0f921"
             ]
            ],
            "type": "histogram2dcontour"
           }
          ],
          "mesh3d": [
           {
            "colorbar": {
             "outlinewidth": 0,
             "ticks": ""
            },
            "type": "mesh3d"
           }
          ],
          "parcoords": [
           {
            "line": {
             "colorbar": {
              "outlinewidth": 0,
              "ticks": ""
             }
            },
            "type": "parcoords"
           }
          ],
          "pie": [
           {
            "automargin": true,
            "type": "pie"
           }
          ],
          "scatter": [
           {
            "fillpattern": {
             "fillmode": "overlay",
             "size": 10,
             "solidity": 0.2
            },
            "type": "scatter"
           }
          ],
          "scatter3d": [
           {
            "line": {
             "colorbar": {
              "outlinewidth": 0,
              "ticks": ""
             }
            },
            "marker": {
             "colorbar": {
              "outlinewidth": 0,
              "ticks": ""
             }
            },
            "type": "scatter3d"
           }
          ],
          "scattercarpet": [
           {
            "marker": {
             "colorbar": {
              "outlinewidth": 0,
              "ticks": ""
             }
            },
            "type": "scattercarpet"
           }
          ],
          "scattergeo": [
           {
            "marker": {
             "colorbar": {
              "outlinewidth": 0,
              "ticks": ""
             }
            },
            "type": "scattergeo"
           }
          ],
          "scattergl": [
           {
            "marker": {
             "colorbar": {
              "outlinewidth": 0,
              "ticks": ""
             }
            },
            "type": "scattergl"
           }
          ],
          "scattermapbox": [
           {
            "marker": {
             "colorbar": {
              "outlinewidth": 0,
              "ticks": ""
             }
            },
            "type": "scattermapbox"
           }
          ],
          "scatterpolar": [
           {
            "marker": {
             "colorbar": {
              "outlinewidth": 0,
              "ticks": ""
             }
            },
            "type": "scatterpolar"
           }
          ],
          "scatterpolargl": [
           {
            "marker": {
             "colorbar": {
              "outlinewidth": 0,
              "ticks": ""
             }
            },
            "type": "scatterpolargl"
           }
          ],
          "scatterternary": [
           {
            "marker": {
             "colorbar": {
              "outlinewidth": 0,
              "ticks": ""
             }
            },
            "type": "scatterternary"
           }
          ],
          "surface": [
           {
            "colorbar": {
             "outlinewidth": 0,
             "ticks": ""
            },
            "colorscale": [
             [
              0,
              "#0d0887"
             ],
             [
              0.1111111111111111,
              "#46039f"
             ],
             [
              0.2222222222222222,
              "#7201a8"
             ],
             [
              0.3333333333333333,
              "#9c179e"
             ],
             [
              0.4444444444444444,
              "#bd3786"
             ],
             [
              0.5555555555555556,
              "#d8576b"
             ],
             [
              0.6666666666666666,
              "#ed7953"
             ],
             [
              0.7777777777777778,
              "#fb9f3a"
             ],
             [
              0.8888888888888888,
              "#fdca26"
             ],
             [
              1,
              "#f0f921"
             ]
            ],
            "type": "surface"
           }
          ],
          "table": [
           {
            "cells": {
             "fill": {
              "color": "#EBF0F8"
             },
             "line": {
              "color": "white"
             }
            },
            "header": {
             "fill": {
              "color": "#C8D4E3"
             },
             "line": {
              "color": "white"
             }
            },
            "type": "table"
           }
          ]
         },
         "layout": {
          "annotationdefaults": {
           "arrowcolor": "#2a3f5f",
           "arrowhead": 0,
           "arrowwidth": 1
          },
          "autotypenumbers": "strict",
          "coloraxis": {
           "colorbar": {
            "outlinewidth": 0,
            "ticks": ""
           }
          },
          "colorscale": {
           "diverging": [
            [
             0,
             "#8e0152"
            ],
            [
             0.1,
             "#c51b7d"
            ],
            [
             0.2,
             "#de77ae"
            ],
            [
             0.3,
             "#f1b6da"
            ],
            [
             0.4,
             "#fde0ef"
            ],
            [
             0.5,
             "#f7f7f7"
            ],
            [
             0.6,
             "#e6f5d0"
            ],
            [
             0.7,
             "#b8e186"
            ],
            [
             0.8,
             "#7fbc41"
            ],
            [
             0.9,
             "#4d9221"
            ],
            [
             1,
             "#276419"
            ]
           ],
           "sequential": [
            [
             0,
             "#0d0887"
            ],
            [
             0.1111111111111111,
             "#46039f"
            ],
            [
             0.2222222222222222,
             "#7201a8"
            ],
            [
             0.3333333333333333,
             "#9c179e"
            ],
            [
             0.4444444444444444,
             "#bd3786"
            ],
            [
             0.5555555555555556,
             "#d8576b"
            ],
            [
             0.6666666666666666,
             "#ed7953"
            ],
            [
             0.7777777777777778,
             "#fb9f3a"
            ],
            [
             0.8888888888888888,
             "#fdca26"
            ],
            [
             1,
             "#f0f921"
            ]
           ],
           "sequentialminus": [
            [
             0,
             "#0d0887"
            ],
            [
             0.1111111111111111,
             "#46039f"
            ],
            [
             0.2222222222222222,
             "#7201a8"
            ],
            [
             0.3333333333333333,
             "#9c179e"
            ],
            [
             0.4444444444444444,
             "#bd3786"
            ],
            [
             0.5555555555555556,
             "#d8576b"
            ],
            [
             0.6666666666666666,
             "#ed7953"
            ],
            [
             0.7777777777777778,
             "#fb9f3a"
            ],
            [
             0.8888888888888888,
             "#fdca26"
            ],
            [
             1,
             "#f0f921"
            ]
           ]
          },
          "colorway": [
           "#636efa",
           "#EF553B",
           "#00cc96",
           "#ab63fa",
           "#FFA15A",
           "#19d3f3",
           "#FF6692",
           "#B6E880",
           "#FF97FF",
           "#FECB52"
          ],
          "font": {
           "color": "#2a3f5f"
          },
          "geo": {
           "bgcolor": "white",
           "lakecolor": "white",
           "landcolor": "#E5ECF6",
           "showlakes": true,
           "showland": true,
           "subunitcolor": "white"
          },
          "hoverlabel": {
           "align": "left"
          },
          "hovermode": "closest",
          "mapbox": {
           "style": "light"
          },
          "paper_bgcolor": "white",
          "plot_bgcolor": "#E5ECF6",
          "polar": {
           "angularaxis": {
            "gridcolor": "white",
            "linecolor": "white",
            "ticks": ""
           },
           "bgcolor": "#E5ECF6",
           "radialaxis": {
            "gridcolor": "white",
            "linecolor": "white",
            "ticks": ""
           }
          },
          "scene": {
           "xaxis": {
            "backgroundcolor": "#E5ECF6",
            "gridcolor": "white",
            "gridwidth": 2,
            "linecolor": "white",
            "showbackground": true,
            "ticks": "",
            "zerolinecolor": "white"
           },
           "yaxis": {
            "backgroundcolor": "#E5ECF6",
            "gridcolor": "white",
            "gridwidth": 2,
            "linecolor": "white",
            "showbackground": true,
            "ticks": "",
            "zerolinecolor": "white"
           },
           "zaxis": {
            "backgroundcolor": "#E5ECF6",
            "gridcolor": "white",
            "gridwidth": 2,
            "linecolor": "white",
            "showbackground": true,
            "ticks": "",
            "zerolinecolor": "white"
           }
          },
          "shapedefaults": {
           "line": {
            "color": "#2a3f5f"
           }
          },
          "ternary": {
           "aaxis": {
            "gridcolor": "white",
            "linecolor": "white",
            "ticks": ""
           },
           "baxis": {
            "gridcolor": "white",
            "linecolor": "white",
            "ticks": ""
           },
           "bgcolor": "#E5ECF6",
           "caxis": {
            "gridcolor": "white",
            "linecolor": "white",
            "ticks": ""
           }
          },
          "title": {
           "x": 0.05
          },
          "xaxis": {
           "automargin": true,
           "gridcolor": "white",
           "linecolor": "white",
           "ticks": "",
           "title": {
            "standoff": 15
           },
           "zerolinecolor": "white",
           "zerolinewidth": 2
          },
          "yaxis": {
           "automargin": true,
           "gridcolor": "white",
           "linecolor": "white",
           "ticks": "",
           "title": {
            "standoff": 15
           },
           "zerolinecolor": "white",
           "zerolinewidth": 2
          }
         }
        },
        "title": {
         "text": "Mean Loss vs reg_val grouped by data_size_pct"
        },
        "width": 1000,
        "xaxis": {
         "anchor": "y",
         "domain": [
          0,
          0.45
         ],
         "range": [
          -6.041392685158225,
          -0.9586029719186704
         ],
         "title": {
          "text": "reg_val + 1.00e-06"
         },
         "type": "log"
        },
        "xaxis10": {
         "anchor": "y10",
         "domain": [
          0.55,
          1
         ],
         "range": [
          -6.041392685158225,
          -0.9586029719186704
         ],
         "title": {
          "text": "reg_val + 1.00e-06"
         },
         "type": "log"
        },
        "xaxis11": {
         "anchor": "y11",
         "domain": [
          0,
          0.45
         ],
         "range": [
          -6.041392685158225,
          -0.9586029719186704
         ],
         "title": {
          "text": "reg_val + 1.00e-06"
         },
         "type": "log"
        },
        "xaxis12": {
         "anchor": "y12",
         "domain": [
          0.55,
          1
         ],
         "range": [
          -6.041392685158225,
          -0.9586029719186704
         ],
         "title": {
          "text": "reg_val + 1.00e-06"
         },
         "type": "log"
        },
        "xaxis13": {
         "anchor": "y13",
         "domain": [
          0,
          0.45
         ],
         "range": [
          -6.041392685158225,
          -0.9586029719186704
         ],
         "title": {
          "text": "reg_val + 1.00e-06"
         },
         "type": "log"
        },
        "xaxis14": {
         "anchor": "y14",
         "domain": [
          0.55,
          1
         ],
         "range": [
          -6.041392685158225,
          -0.9586029719186704
         ],
         "title": {
          "text": "reg_val + 1.00e-06"
         },
         "type": "log"
        },
        "xaxis15": {
         "anchor": "y15",
         "domain": [
          0,
          0.45
         ],
         "range": [
          -6.041392685158225,
          -0.9586029719186704
         ],
         "title": {
          "text": "reg_val + 1.00e-06"
         },
         "type": "log"
        },
        "xaxis16": {
         "anchor": "y16",
         "domain": [
          0.55,
          1
         ],
         "range": [
          -6.041392685158225,
          -0.9586029719186704
         ],
         "title": {
          "text": "reg_val + 1.00e-06"
         },
         "type": "log"
        },
        "xaxis17": {
         "anchor": "y17",
         "domain": [
          0,
          0.45
         ],
         "range": [
          -6.041392685158225,
          -0.9586029719186704
         ],
         "title": {
          "text": "reg_val + 1.00e-06"
         },
         "type": "log"
        },
        "xaxis18": {
         "anchor": "y18",
         "domain": [
          0.55,
          1
         ],
         "range": [
          -6.041392685158225,
          -0.9586029719186704
         ],
         "title": {
          "text": "reg_val + 1.00e-06"
         },
         "type": "log"
        },
        "xaxis19": {
         "anchor": "y19",
         "domain": [
          0,
          0.45
         ],
         "range": [
          -6.041392685158225,
          -0.9586029719186704
         ],
         "title": {
          "text": "reg_val + 1.00e-06"
         },
         "type": "log"
        },
        "xaxis2": {
         "anchor": "y2",
         "domain": [
          0.55,
          1
         ],
         "range": [
          -6.041392685158225,
          -0.9586029719186704
         ],
         "title": {
          "text": "reg_val + 1.00e-06"
         },
         "type": "log"
        },
        "xaxis20": {
         "anchor": "y20",
         "domain": [
          0.55,
          1
         ]
        },
        "xaxis3": {
         "anchor": "y3",
         "domain": [
          0,
          0.45
         ],
         "range": [
          -6.041392685158225,
          -0.9586029719186704
         ],
         "title": {
          "text": "reg_val + 1.00e-06"
         },
         "type": "log"
        },
        "xaxis4": {
         "anchor": "y4",
         "domain": [
          0.55,
          1
         ],
         "range": [
          -6.041392685158225,
          -0.9586029719186704
         ],
         "title": {
          "text": "reg_val + 1.00e-06"
         },
         "type": "log"
        },
        "xaxis5": {
         "anchor": "y5",
         "domain": [
          0,
          0.45
         ],
         "range": [
          -6.041392685158225,
          -0.9586029719186704
         ],
         "title": {
          "text": "reg_val + 1.00e-06"
         },
         "type": "log"
        },
        "xaxis6": {
         "anchor": "y6",
         "domain": [
          0.55,
          1
         ],
         "range": [
          -6.041392685158225,
          -0.9586029719186704
         ],
         "title": {
          "text": "reg_val + 1.00e-06"
         },
         "type": "log"
        },
        "xaxis7": {
         "anchor": "y7",
         "domain": [
          0,
          0.45
         ],
         "range": [
          -6.041392685158225,
          -0.9586029719186704
         ],
         "title": {
          "text": "reg_val + 1.00e-06"
         },
         "type": "log"
        },
        "xaxis8": {
         "anchor": "y8",
         "domain": [
          0.55,
          1
         ],
         "range": [
          -6.041392685158225,
          -0.9586029719186704
         ],
         "title": {
          "text": "reg_val + 1.00e-06"
         },
         "type": "log"
        },
        "xaxis9": {
         "anchor": "y9",
         "domain": [
          0,
          0.45
         ],
         "range": [
          -6.041392685158225,
          -0.9586029719186704
         ],
         "title": {
          "text": "reg_val + 1.00e-06"
         },
         "type": "log"
        },
        "yaxis": {
         "anchor": "x",
         "domain": [
          0.9450000000000001,
          1
         ],
         "range": [
          0.2022501556230709,
          0.7567915393197908
         ],
         "title": {
          "text": "Mean Loss"
         }
        },
        "yaxis10": {
         "anchor": "x10",
         "domain": [
          0.525,
          0.5800000000000001
         ],
         "range": [
          0.2022501556230709,
          0.7567915393197908
         ],
         "title": {
          "text": "Mean Loss"
         }
        },
        "yaxis11": {
         "anchor": "x11",
         "domain": [
          0.42000000000000004,
          0.47500000000000003
         ],
         "range": [
          0.2022501556230709,
          0.7567915393197908
         ],
         "title": {
          "text": "Mean Loss"
         }
        },
        "yaxis12": {
         "anchor": "x12",
         "domain": [
          0.42000000000000004,
          0.47500000000000003
         ],
         "range": [
          0.2022501556230709,
          0.7567915393197908
         ],
         "title": {
          "text": "Mean Loss"
         }
        },
        "yaxis13": {
         "anchor": "x13",
         "domain": [
          0.31500000000000006,
          0.37000000000000005
         ],
         "range": [
          0.2022501556230709,
          0.7567915393197908
         ],
         "title": {
          "text": "Mean Loss"
         }
        },
        "yaxis14": {
         "anchor": "x14",
         "domain": [
          0.31500000000000006,
          0.37000000000000005
         ],
         "range": [
          0.2022501556230709,
          0.7567915393197908
         ],
         "title": {
          "text": "Mean Loss"
         }
        },
        "yaxis15": {
         "anchor": "x15",
         "domain": [
          0.21000000000000002,
          0.265
         ],
         "range": [
          0.2022501556230709,
          0.7567915393197908
         ],
         "title": {
          "text": "Mean Loss"
         }
        },
        "yaxis16": {
         "anchor": "x16",
         "domain": [
          0.21000000000000002,
          0.265
         ],
         "range": [
          0.2022501556230709,
          0.7567915393197908
         ],
         "title": {
          "text": "Mean Loss"
         }
        },
        "yaxis17": {
         "anchor": "x17",
         "domain": [
          0.10500000000000001,
          0.16000000000000003
         ],
         "range": [
          0.2022501556230709,
          0.7567915393197908
         ],
         "title": {
          "text": "Mean Loss"
         }
        },
        "yaxis18": {
         "anchor": "x18",
         "domain": [
          0.10500000000000001,
          0.16000000000000003
         ],
         "range": [
          0.2022501556230709,
          0.7567915393197908
         ],
         "title": {
          "text": "Mean Loss"
         }
        },
        "yaxis19": {
         "anchor": "x19",
         "domain": [
          0,
          0.05500000000000001
         ],
         "range": [
          0.2022501556230709,
          0.7567915393197908
         ],
         "title": {
          "text": "Mean Loss"
         }
        },
        "yaxis2": {
         "anchor": "x2",
         "domain": [
          0.9450000000000001,
          1
         ],
         "range": [
          0.2022501556230709,
          0.7567915393197908
         ],
         "title": {
          "text": "Mean Loss"
         }
        },
        "yaxis20": {
         "anchor": "x20",
         "domain": [
          0,
          0.05500000000000001
         ]
        },
        "yaxis3": {
         "anchor": "x3",
         "domain": [
          0.8400000000000001,
          0.8950000000000001
         ],
         "range": [
          0.2022501556230709,
          0.7567915393197908
         ],
         "title": {
          "text": "Mean Loss"
         }
        },
        "yaxis4": {
         "anchor": "x4",
         "domain": [
          0.8400000000000001,
          0.8950000000000001
         ],
         "range": [
          0.2022501556230709,
          0.7567915393197908
         ],
         "title": {
          "text": "Mean Loss"
         }
        },
        "yaxis5": {
         "anchor": "x5",
         "domain": [
          0.7350000000000001,
          0.7900000000000001
         ],
         "range": [
          0.2022501556230709,
          0.7567915393197908
         ],
         "title": {
          "text": "Mean Loss"
         }
        },
        "yaxis6": {
         "anchor": "x6",
         "domain": [
          0.7350000000000001,
          0.7900000000000001
         ],
         "range": [
          0.2022501556230709,
          0.7567915393197908
         ],
         "title": {
          "text": "Mean Loss"
         }
        },
        "yaxis7": {
         "anchor": "x7",
         "domain": [
          0.6300000000000001,
          0.6850000000000002
         ],
         "range": [
          0.2022501556230709,
          0.7567915393197908
         ],
         "title": {
          "text": "Mean Loss"
         }
        },
        "yaxis8": {
         "anchor": "x8",
         "domain": [
          0.6300000000000001,
          0.6850000000000002
         ],
         "range": [
          0.2022501556230709,
          0.7567915393197908
         ],
         "title": {
          "text": "Mean Loss"
         }
        },
        "yaxis9": {
         "anchor": "x9",
         "domain": [
          0.525,
          0.5800000000000001
         ],
         "range": [
          0.2022501556230709,
          0.7567915393197908
         ],
         "title": {
          "text": "Mean Loss"
         }
        }
       }
      }
     },
     "metadata": {},
     "output_type": "display_data"
    }
   ],
   "source": [
    "plot_data_size_pct = plot_mean_loss(dataset, x_axis='reg_val', group_by='data_size_pct', log_x=log_scale)"
   ]
  },
  {
   "cell_type": "code",
   "execution_count": 50,
   "metadata": {},
   "outputs": [],
   "source": [
    "def save_plots_to_html(plot_list, file_name):\n",
    "    \"\"\"\n",
    "    Saves multiple Plotly plots into a single HTML file.\n",
    "\n",
    "    Parameters:\n",
    "    - plot_list: A list of variable names (strings) that refer to Plotly plot objects.\n",
    "    - file_name: The name of the HTML file to save the plots.\n",
    "    \"\"\"\n",
    "    # Initialize an empty list to store the HTML content of each plot\n",
    "    html_content = []\n",
    "\n",
    "    # Loop through the list of plot variables, render the plot and append its HTML content\n",
    "    for plot_var in plot_list:\n",
    "        plot = eval(plot_var)  # Evaluate the string to get the actual plot object\n",
    "        html_content.append(pio.to_html(plot, full_html=False))\n",
    "\n",
    "    # Concatenate all plots into a single HTML string\n",
    "    full_html = \"<html><head></head><body>\" + \"\".join(html_content) + \"</body></html>\"\n",
    "\n",
    "    # Save the HTML content to the file\n",
    "    with open(file_name, \"w\", encoding='utf-8') as f:\n",
    "        f.write(full_html)\n",
    "\n",
    "    print(f\"Plots saved to {file_name}\")\n"
   ]
  },
  {
   "cell_type": "code",
   "execution_count": 51,
   "metadata": {},
   "outputs": [
    {
     "name": "stdout",
     "output_type": "stream",
     "text": [
      "Plots saved to SPLICE_l2_plots.html\n"
     ]
    }
   ],
   "source": [
    "plot_list = ['plot_3d', 'plot_reg_val', 'plot_data_size_pct']\n",
    "html_filename = f'{dataset_name.upper()}_{reg_type}_plots.html'\n",
    "save_plots_to_html(plot_list, html_filename)"
   ]
  },
  {
   "cell_type": "code",
   "execution_count": null,
   "metadata": {},
   "outputs": [],
   "source": []
  }
 ],
 "metadata": {
  "kernelspec": {
   "display_name": "ml_lab_venv",
   "language": "python",
   "name": "python3"
  },
  "language_info": {
   "codemirror_mode": {
    "name": "ipython",
    "version": 3
   },
   "file_extension": ".py",
   "mimetype": "text/x-python",
   "name": "python",
   "nbconvert_exporter": "python",
   "pygments_lexer": "ipython3",
   "version": "3.11.3"
  }
 },
 "nbformat": 4,
 "nbformat_minor": 2
}
