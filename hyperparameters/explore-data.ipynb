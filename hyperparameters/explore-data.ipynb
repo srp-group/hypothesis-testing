{
 "cells": [
  {
   "cell_type": "code",
   "execution_count": 1,
   "metadata": {},
   "outputs": [],
   "source": [
    "from torch.utils.data import Dataset\n",
    "import numpy as np\n",
    "from configparser import SectionProxy\n",
    "import os\n",
    "import pandas as pd\n",
    "from sklearn.preprocessing import MinMaxScaler, OneHotEncoder"
   ]
  },
  {
   "cell_type": "code",
   "execution_count": 10,
   "metadata": {},
   "outputs": [],
   "source": [
    "class TwoMoonsDataset(Dataset):\n",
    "    def __init__(self) -> None:\n",
    "        super().__init__()\n",
    "        current_file_path = os.path.abspath('')\n",
    "        data_path = os.path.join(os.path.dirname(current_file_path), \"data/twomoons/TwoMoonsDF.xlsx\")\n",
    "        data_path = os.path.normpath(data_path)\n",
    "        df = pd.read_excel(data_path)\n",
    "        df_Y = df['Label']\n",
    "        df_X = df.drop('Label', axis=1)\n",
    "        self.x = df_X.values.astype(np.float32)\n",
    "        self.x = MinMaxScaler().fit_transform(self.x)\n",
    "        self.y = df_Y.values.astype(np.int32).reshape(-1, 1)\n",
    "        self.y = OneHotEncoder(sparse_output=False).fit_transform(self.y)\n",
    "\n",
    "    def __len__(self) -> int:\n",
    "        return self.x.shape[0]\n",
    "\n",
    "    def __getitem__(self, idx: int) -> tuple:\n",
    "        return self.x[idx], self.y[idx]"
   ]
  },
  {
   "cell_type": "code",
   "execution_count": 13,
   "metadata": {},
   "outputs": [
    {
     "data": {
      "text/plain": [
       "(0.0, 1.0, 0.500691, 0.2170238)"
      ]
     },
     "execution_count": 13,
     "metadata": {},
     "output_type": "execute_result"
    }
   ],
   "source": [
    "dataset = TwoMoonsDataset()\n",
    "x = dataset.x\n",
    "y = dataset.y\n",
    "x.min(), x.max(), x.mean(), x.std()"
   ]
  },
  {
   "cell_type": "code",
   "execution_count": 7,
   "metadata": {},
   "outputs": [
    {
     "name": "stdout",
     "output_type": "stream",
     "text": [
      "<class 'int'>\n",
      "<class 'int'>\n",
      "<class 'int'>\n"
     ]
    }
   ],
   "source": [
    "import numpy as np\n",
    "for r_s in np.random.randint(0, 100, 3):\n",
    "    print(type(r_s.))"
   ]
  },
  {
   "cell_type": "code",
   "execution_count": null,
   "metadata": {},
   "outputs": [],
   "source": []
  }
 ],
 "metadata": {
  "kernelspec": {
   "display_name": "ml_lab_venv",
   "language": "python",
   "name": "python3"
  },
  "language_info": {
   "codemirror_mode": {
    "name": "ipython",
    "version": 3
   },
   "file_extension": ".py",
   "mimetype": "text/x-python",
   "name": "python",
   "nbconvert_exporter": "python",
   "pygments_lexer": "ipython3",
   "version": "3.11.3"
  }
 },
 "nbformat": 4,
 "nbformat_minor": 2
}
