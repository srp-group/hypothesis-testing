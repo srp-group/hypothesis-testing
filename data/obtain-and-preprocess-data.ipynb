{
 "cells": [
  {
   "cell_type": "code",
   "execution_count": 4,
   "metadata": {},
   "outputs": [],
   "source": [
    "import requests\n",
    "from sklearn.datasets import load_svmlight_file\n",
    "import os\n",
    "import pandas as pd\n",
    "from sklearn.preprocessing import OneHotEncoder, MinMaxScaler\n",
    "import numpy as np\n",
    "import bz2"
   ]
  },
  {
   "cell_type": "markdown",
   "metadata": {},
   "source": [
    "### DNA"
   ]
  },
  {
   "cell_type": "code",
   "execution_count": 6,
   "metadata": {},
   "outputs": [],
   "source": [
    "urls_dict = {\"train\":\"https://www.csie.ntu.edu.tw/~cjlin/libsvmtools/datasets/multiclass/dna.scale.tr\",\n",
    "                \"val\":\"https://www.csie.ntu.edu.tw/~cjlin/libsvmtools/datasets/multiclass/dna.scale.val\",\n",
    "                \"test\":\"https://www.csie.ntu.edu.tw/~cjlin/libsvmtools/datasets/multiclass/dna.scale.t\"}\n",
    "x_total = np.array([]).reshape(0, 180)\n",
    "y_total = np.array([]).reshape(0, 3)\n",
    "for split_name, url in urls_dict.items():\n",
    "    file_path = f\"dna/dna_{split_name}_raw\"\n",
    "    x, y  = load_svmlight_file(file_path, n_features=180)\n",
    "    x = np.asarray(x.todense(), dtype=np.float32)\n",
    "    y = y.reshape(-1, 1).astype(np.float32)\n",
    "    # pre-process the labels\n",
    "    encoder = OneHotEncoder(sparse_output=False)\n",
    "    y = encoder.fit_transform(y)\n",
    "    x_total = np.vstack((x_total, x))\n",
    "    y_total = np.vstack((y_total, y))"
   ]
  },
  {
   "cell_type": "code",
   "execution_count": 7,
   "metadata": {},
   "outputs": [
    {
     "name": "stdout",
     "output_type": "stream",
     "text": [
      "(3186, 180)\n",
      "(3186, 3)\n"
     ]
    }
   ],
   "source": [
    "print(x_total.shape)\n",
    "print(y_total.shape)"
   ]
  },
  {
   "cell_type": "code",
   "execution_count": 9,
   "metadata": {},
   "outputs": [],
   "source": [
    "np.savez(\"dna/dna.npz\", x=x_total, y=y_total)"
   ]
  },
  {
   "cell_type": "code",
   "execution_count": 10,
   "metadata": {},
   "outputs": [],
   "source": [
    "with np.load(\"dna/dna.npz\", allow_pickle=True) as file:\n",
    "    x = file[\"x\"].astype(np.float32)\n",
    "    y = file[\"y\"].astype(np.float32)"
   ]
  },
  {
   "cell_type": "code",
   "execution_count": 11,
   "metadata": {},
   "outputs": [
    {
     "name": "stdout",
     "output_type": "stream",
     "text": [
      "(3186, 180)\n",
      "(3186, 3)\n"
     ]
    }
   ],
   "source": [
    "print(x.shape)\n",
    "print(y.shape)"
   ]
  },
  {
   "cell_type": "markdown",
   "metadata": {},
   "source": [
    "### Splice"
   ]
  },
  {
   "cell_type": "code",
   "execution_count": 2,
   "metadata": {},
   "outputs": [],
   "source": [
    "urls_dict = {\"train\":\"https://www.csie.ntu.edu.tw/~cjlin/libsvmtools/datasets/binary/splice\",\n",
    "            \"test\": \"https://www.csie.ntu.edu.tw/~cjlin/libsvmtools/datasets/binary/splice.t\"}\n",
    "\n",
    "x_total = np.array([]).reshape(0, 60)\n",
    "y_total = np.array([]).reshape(0, 2)\n",
    "for split_name, url in urls_dict.items():\n",
    "    file_path = f\"splice/splice_{split_name}_raw\"\n",
    "    with open(file_path, 'w') as f:\n",
    "        r = requests.get(url)\n",
    "        f.writelines(r.content.decode(\"utf-8\"))\n",
    "    x, y  = load_svmlight_file(file_path, n_features=60)\n",
    "    x = np.asarray(x.todense(), dtype=np.float32)\n",
    "    y = y.reshape(-1, 1).astype(np.float32)\n",
    "    # pre-process the labels\n",
    "    encoder = OneHotEncoder(sparse_output=False)\n",
    "    y = encoder.fit_transform(y)\n",
    "    # pre-process the features\n",
    "    scaler = MinMaxScaler()\n",
    "    x = scaler.fit_transform(x)\n",
    "    x_total = np.vstack((x_total, x))\n",
    "    y_total = np.vstack((y_total, y))"
   ]
  },
  {
   "cell_type": "code",
   "execution_count": 3,
   "metadata": {},
   "outputs": [
    {
     "name": "stdout",
     "output_type": "stream",
     "text": [
      "(3175, 60)\n",
      "(3175, 2)\n"
     ]
    }
   ],
   "source": [
    "print(x_total.shape)\n",
    "print(y_total.shape)"
   ]
  },
  {
   "cell_type": "code",
   "execution_count": 4,
   "metadata": {},
   "outputs": [],
   "source": [
    "np.savez(\"splice/splice.npz\", x=x_total, y=y_total)"
   ]
  },
  {
   "cell_type": "markdown",
   "metadata": {},
   "source": [
    "### Protein"
   ]
  },
  {
   "cell_type": "code",
   "execution_count": 15,
   "metadata": {},
   "outputs": [],
   "source": [
    "urls_dict = {\"t\":\"https://www.csie.ntu.edu.tw/~cjlin/libsvmtools/datasets/multiclass/protein.tr.bz2\",\n",
    "            \"tr\": \"https://www.csie.ntu.edu.tw/~cjlin/libsvmtools/datasets/multiclass/protein.t.bz2\",\n",
    "            \"val\": \"https://www.csie.ntu.edu.tw/~cjlin/libsvmtools/datasets/multiclass/protein.val.bz2\"}\n",
    "\n",
    "x_total = np.array([]).reshape(0, 357)\n",
    "y_total = np.array([]).reshape(0, 3)\n",
    "for split_name, url in urls_dict.items():\n",
    "    file_path = f\"protein/protein.{split_name}\"\n",
    "    x, y  = load_svmlight_file(file_path, n_features=357)\n",
    "    x = np.asarray(x.todense(), dtype=np.float32)\n",
    "    y = y.reshape(-1, 1).astype(np.float32)\n",
    "    # pre-process the labels\n",
    "    encoder = OneHotEncoder(sparse_output=False)\n",
    "    y = encoder.fit_transform(y)\n",
    "    # pre-process the features\n",
    "    scaler = MinMaxScaler()\n",
    "    x = scaler.fit_transform(x)\n",
    "    x_total = np.vstack((x_total, x))\n",
    "    y_total = np.vstack((y_total, y))"
   ]
  },
  {
   "cell_type": "code",
   "execution_count": 16,
   "metadata": {},
   "outputs": [
    {
     "name": "stdout",
     "output_type": "stream",
     "text": [
      "(24387, 357)\n",
      "(24387, 3)\n"
     ]
    }
   ],
   "source": [
    "print(x_total.shape)\n",
    "print(y_total.shape)"
   ]
  },
  {
   "cell_type": "code",
   "execution_count": 17,
   "metadata": {},
   "outputs": [],
   "source": [
    "np.savez(\"protein/protein.npz\", x=x_total, y=y_total)"
   ]
  },
  {
   "cell_type": "markdown",
   "metadata": {},
   "source": [
    "### Electicity dataset"
   ]
  },
  {
   "cell_type": "code",
   "execution_count": 19,
   "metadata": {},
   "outputs": [],
   "source": [
    "df = pd.read_csv(\"electricalFault/detect_dataset.csv\", header=0, index_col=None)\n",
    "df.drop(columns=['Unnamed: 7', 'Unnamed: 8'], inplace=True)\n",
    "df.rename(columns={'Output (S)': 'target'}, inplace=True)\n",
    "scaler = MinMaxScaler()\n",
    "df[df.columns.difference(['target'])] = scaler.fit_transform(df[df.columns.difference(['target'])])\n",
    "np.savez(\"electricalFault/detect.npz\", x=df[df.columns.difference(['target'])].values, y=df['target'].values)"
   ]
  },
  {
   "cell_type": "markdown",
   "metadata": {},
   "source": []
  },
  {
   "cell_type": "markdown",
   "metadata": {},
   "source": [
    "### pokerdataset"
   ]
  },
  {
   "cell_type": "code",
   "execution_count": 21,
   "metadata": {},
   "outputs": [],
   "source": [
    "df = pd.read_csv(\"pokerdataset/poker-hand-training.csv\", header=0, index_col=None)\n",
    "df.rename(columns={\n",
    "    'Poker Hand': 'target'\n",
    "}, inplace=True)\n",
    "np.savez(\"pokerdataset/poker.npz\", x=df[df.columns.difference(['target'])].values, y=df['target'].values)"
   ]
  },
  {
   "cell_type": "code",
   "execution_count": null,
   "metadata": {},
   "outputs": [],
   "source": []
  }
 ],
 "metadata": {
  "kernelspec": {
   "display_name": "ml_lab_venv",
   "language": "python",
   "name": "python3"
  },
  "language_info": {
   "codemirror_mode": {
    "name": "ipython",
    "version": 3
   },
   "file_extension": ".py",
   "mimetype": "text/x-python",
   "name": "python",
   "nbconvert_exporter": "python",
   "pygments_lexer": "ipython3",
   "version": "3.11.3"
  }
 },
 "nbformat": 4,
 "nbformat_minor": 2
}
